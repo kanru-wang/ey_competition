{
 "cells": [
  {
   "cell_type": "code",
   "execution_count": 260,
   "metadata": {
    "collapsed": true
   },
   "outputs": [],
   "source": [
    "import pandas as pd\n",
    "import numpy as np\n",
    "#import copy\n",
    "\n",
    "import specifics\n",
    "import data\n",
    "\n",
    "from time import time\n",
    "#import xgboost\n",
    "from sklearn import metrics\n",
    "from sklearn.model_selection import train_test_split\n",
    "from sklearn.model_selection import RandomizedSearchCV\n",
    "#from sklearn.metrics import accuracy_score\n",
    "from sklearn.metrics import mean_squared_error\n",
    "import matplotlib.pylab as plt\n",
    "from xgboost.sklearn import XGBRegressor\n",
    "from sklearn.ensemble import RandomForestRegressor\n",
    "#from sklearn.pipeline import Pipeline\n",
    "#from sklearn.preprocessing import StandardScaler\n",
    "import scipy.stats as st # For parameter generation"
   ]
  },
  {
   "cell_type": "code",
   "execution_count": 261,
   "metadata": {},
   "outputs": [
    {
     "name": "stdout",
     "output_type": "stream",
     "text": [
      "The autoreload extension is already loaded. To reload it, use:\n",
      "  %reload_ext autoreload\n"
     ]
    }
   ],
   "source": [
    "%load_ext autoreload\n",
    "%autoreload 2"
   ]
  },
  {
   "cell_type": "code",
   "execution_count": 262,
   "metadata": {
    "collapsed": true
   },
   "outputs": [],
   "source": [
    "train_feature_dataset = pd.DataFrame.from_csv('dataset/train.csv')\n",
    "train_outcome_dataset = pd.DataFrame.from_csv('dataset/status_group.csv')\n",
    "test_feature_dataset = pd.DataFrame.from_csv('dataset/test.csv')"
   ]
  },
  {
   "cell_type": "code",
   "execution_count": 263,
   "metadata": {},
   "outputs": [
    {
     "data": {
      "text/plain": [
       "(1010, 416)"
      ]
     },
     "execution_count": 263,
     "metadata": {},
     "output_type": "execute_result"
    }
   ],
   "source": [
    "train_feature_dataset.shape"
   ]
  },
  {
   "cell_type": "code",
   "execution_count": 364,
   "metadata": {
    "scrolled": true
   },
   "outputs": [
    {
     "name": "stdout",
     "output_type": "stream",
     "text": [
      "<class 'pandas.core.frame.DataFrame'>\n",
      "Int64Index: 1010 entries, 1 to 1252\n",
      "Columns: 417 entries, LOCATION to train_test_tag\n",
      "dtypes: float64(400), int64(14), object(3)\n",
      "memory usage: 3.2+ MB\n"
     ]
    }
   ],
   "source": [
    "train_feature_dataset.info()"
   ]
  },
  {
   "cell_type": "code",
   "execution_count": 365,
   "metadata": {
    "scrolled": false
   },
   "outputs": [
    {
     "data": {
      "text/html": [
       "<div>\n",
       "<style>\n",
       "    .dataframe thead tr:only-child th {\n",
       "        text-align: right;\n",
       "    }\n",
       "\n",
       "    .dataframe thead th {\n",
       "        text-align: left;\n",
       "    }\n",
       "\n",
       "    .dataframe tbody tr th {\n",
       "        vertical-align: top;\n",
       "    }\n",
       "</style>\n",
       "<table border=\"1\" class=\"dataframe\">\n",
       "  <thead>\n",
       "    <tr style=\"text-align: right;\">\n",
       "      <th></th>\n",
       "      <th>LOCATION</th>\n",
       "      <th>TIME</th>\n",
       "      <th>GENDER</th>\n",
       "      <th>Population (% of total)</th>\n",
       "      <th>EDU_TERTIARY_PC_WKGPOP</th>\n",
       "      <th>GDP_USD_CAP</th>\n",
       "      <th>GOV_SPEND_EDU</th>\n",
       "      <th>%_Sanitation_Access</th>\n",
       "      <th>Access to Clean Fuels and Technologies for cooking (% of total population) 2.1_ACCESS.CFT.TOT</th>\n",
       "      <th>Energy intensity level of primary energy (MJ/2011 USD PPP) 6.1_PRIMARY.ENERGY.INTENSITY</th>\n",
       "      <th>Renewable electricity output (GWh) 4.1.2_REN.ELECTRICITY.OUTPUT</th>\n",
       "      <th>Renewable electricity share of total electricity output (%) 4.1_SHARE.RE.IN.ELECTRICITY</th>\n",
       "      <th>Renewable energy consumption (TJ) 3.1_RE.CONSUMPTION</th>\n",
       "      <th>Renewable energy share of TFEC (%) 2.1_SHARE.TOTAL.RE.IN.TFEC</th>\n",
       "      <th>Total electricity output (GWh) 4.1.1_TOTAL.ELECTRICITY.OUTPUT</th>\n",
       "      <th>Total final energy consumption (TFEC) (TJ) 1.1_TOTAL.FINAL.ENERGY.CONSUM</th>\n",
       "      <th>Population ages 25-29 (as % of specified gender population)</th>\n",
       "      <th>Population ages 30-34 (as % of specified gender population)</th>\n",
       "      <th>Population ages 40-44 (as % of specified gender population)</th>\n",
       "      <th>Population ages 45-49 (as % of specified gender population)</th>\n",
       "    </tr>\n",
       "    <tr>\n",
       "      <th>id</th>\n",
       "      <th></th>\n",
       "      <th></th>\n",
       "      <th></th>\n",
       "      <th></th>\n",
       "      <th></th>\n",
       "      <th></th>\n",
       "      <th></th>\n",
       "      <th></th>\n",
       "      <th></th>\n",
       "      <th></th>\n",
       "      <th></th>\n",
       "      <th></th>\n",
       "      <th></th>\n",
       "      <th></th>\n",
       "      <th></th>\n",
       "      <th></th>\n",
       "      <th></th>\n",
       "      <th></th>\n",
       "      <th></th>\n",
       "      <th></th>\n",
       "    </tr>\n",
       "  </thead>\n",
       "  <tbody>\n",
       "    <tr>\n",
       "      <th>1</th>\n",
       "      <td>AUS</td>\n",
       "      <td>1993</td>\n",
       "      <td>MEN</td>\n",
       "      <td>49.780616</td>\n",
       "      <td>23.508869</td>\n",
       "      <td>19929.78137</td>\n",
       "      <td>5.50922</td>\n",
       "      <td>100.0</td>\n",
       "      <td>100.0</td>\n",
       "      <td>7.502966</td>\n",
       "      <td>17220.0</td>\n",
       "      <td>10.55</td>\n",
       "      <td>197804.8632</td>\n",
       "      <td>8.616992</td>\n",
       "      <td>163236.0</td>\n",
       "      <td>2295520.952</td>\n",
       "      <td>7.977674</td>\n",
       "      <td>8.245478</td>\n",
       "      <td>7.496966</td>\n",
       "      <td>6.676347</td>\n",
       "    </tr>\n",
       "    <tr>\n",
       "      <th>2</th>\n",
       "      <td>AUS</td>\n",
       "      <td>1993</td>\n",
       "      <td>WOMEN</td>\n",
       "      <td>50.219384</td>\n",
       "      <td>21.418512</td>\n",
       "      <td>19929.78137</td>\n",
       "      <td>5.50922</td>\n",
       "      <td>100.0</td>\n",
       "      <td>100.0</td>\n",
       "      <td>7.502966</td>\n",
       "      <td>17220.0</td>\n",
       "      <td>10.55</td>\n",
       "      <td>197804.8632</td>\n",
       "      <td>8.616992</td>\n",
       "      <td>163236.0</td>\n",
       "      <td>2295520.952</td>\n",
       "      <td>7.855364</td>\n",
       "      <td>8.166469</td>\n",
       "      <td>7.363331</td>\n",
       "      <td>6.375044</td>\n",
       "    </tr>\n",
       "    <tr>\n",
       "      <th>3</th>\n",
       "      <td>AUS</td>\n",
       "      <td>1994</td>\n",
       "      <td>MEN</td>\n",
       "      <td>49.762137</td>\n",
       "      <td>24.407070</td>\n",
       "      <td>21134.14664</td>\n",
       "      <td>5.24752</td>\n",
       "      <td>100.0</td>\n",
       "      <td>100.0</td>\n",
       "      <td>7.206736</td>\n",
       "      <td>17042.0</td>\n",
       "      <td>10.19</td>\n",
       "      <td>193855.2090</td>\n",
       "      <td>8.259947</td>\n",
       "      <td>167169.0</td>\n",
       "      <td>2346930.376</td>\n",
       "      <td>7.815958</td>\n",
       "      <td>8.206122</td>\n",
       "      <td>7.440257</td>\n",
       "      <td>6.916593</td>\n",
       "    </tr>\n",
       "    <tr>\n",
       "      <th>4</th>\n",
       "      <td>AUS</td>\n",
       "      <td>1994</td>\n",
       "      <td>WOMEN</td>\n",
       "      <td>50.237863</td>\n",
       "      <td>21.740088</td>\n",
       "      <td>21134.14664</td>\n",
       "      <td>5.24752</td>\n",
       "      <td>100.0</td>\n",
       "      <td>100.0</td>\n",
       "      <td>7.206736</td>\n",
       "      <td>17042.0</td>\n",
       "      <td>10.19</td>\n",
       "      <td>193855.2090</td>\n",
       "      <td>8.259947</td>\n",
       "      <td>167169.0</td>\n",
       "      <td>2346930.376</td>\n",
       "      <td>7.702864</td>\n",
       "      <td>8.134269</td>\n",
       "      <td>7.352638</td>\n",
       "      <td>6.627319</td>\n",
       "    </tr>\n",
       "    <tr>\n",
       "      <th>5</th>\n",
       "      <td>AUS</td>\n",
       "      <td>1995</td>\n",
       "      <td>MEN</td>\n",
       "      <td>49.758261</td>\n",
       "      <td>25.825409</td>\n",
       "      <td>22098.57288</td>\n",
       "      <td>5.12905</td>\n",
       "      <td>100.0</td>\n",
       "      <td>100.0</td>\n",
       "      <td>7.076343</td>\n",
       "      <td>16631.0</td>\n",
       "      <td>9.62</td>\n",
       "      <td>199700.4005</td>\n",
       "      <td>8.217806</td>\n",
       "      <td>172805.0</td>\n",
       "      <td>2430093.957</td>\n",
       "      <td>7.709084</td>\n",
       "      <td>8.131212</td>\n",
       "      <td>7.430364</td>\n",
       "      <td>7.073719</td>\n",
       "    </tr>\n",
       "  </tbody>\n",
       "</table>\n",
       "</div>"
      ],
      "text/plain": [
       "   LOCATION  TIME GENDER  Population (% of total)  EDU_TERTIARY_PC_WKGPOP  \\\n",
       "id                                                                          \n",
       "1       AUS  1993    MEN                49.780616               23.508869   \n",
       "2       AUS  1993  WOMEN                50.219384               21.418512   \n",
       "3       AUS  1994    MEN                49.762137               24.407070   \n",
       "4       AUS  1994  WOMEN                50.237863               21.740088   \n",
       "5       AUS  1995    MEN                49.758261               25.825409   \n",
       "\n",
       "    GDP_USD_CAP  GOV_SPEND_EDU  %_Sanitation_Access  \\\n",
       "id                                                    \n",
       "1   19929.78137        5.50922                100.0   \n",
       "2   19929.78137        5.50922                100.0   \n",
       "3   21134.14664        5.24752                100.0   \n",
       "4   21134.14664        5.24752                100.0   \n",
       "5   22098.57288        5.12905                100.0   \n",
       "\n",
       "    Access to Clean Fuels and Technologies for cooking (% of total population) 2.1_ACCESS.CFT.TOT  \\\n",
       "id                                                                                                  \n",
       "1                                               100.0                                               \n",
       "2                                               100.0                                               \n",
       "3                                               100.0                                               \n",
       "4                                               100.0                                               \n",
       "5                                               100.0                                               \n",
       "\n",
       "    Energy intensity level of primary energy (MJ/2011 USD PPP) 6.1_PRIMARY.ENERGY.INTENSITY  \\\n",
       "id                                                                                            \n",
       "1                                            7.502966                                         \n",
       "2                                            7.502966                                         \n",
       "3                                            7.206736                                         \n",
       "4                                            7.206736                                         \n",
       "5                                            7.076343                                         \n",
       "\n",
       "    Renewable electricity output (GWh) 4.1.2_REN.ELECTRICITY.OUTPUT  \\\n",
       "id                                                                    \n",
       "1                                             17220.0                 \n",
       "2                                             17220.0                 \n",
       "3                                             17042.0                 \n",
       "4                                             17042.0                 \n",
       "5                                             16631.0                 \n",
       "\n",
       "    Renewable electricity share of total electricity output (%) 4.1_SHARE.RE.IN.ELECTRICITY  \\\n",
       "id                                                                                            \n",
       "1                                               10.55                                         \n",
       "2                                               10.55                                         \n",
       "3                                               10.19                                         \n",
       "4                                               10.19                                         \n",
       "5                                                9.62                                         \n",
       "\n",
       "    Renewable energy consumption (TJ) 3.1_RE.CONSUMPTION  \\\n",
       "id                                                         \n",
       "1                                         197804.8632      \n",
       "2                                         197804.8632      \n",
       "3                                         193855.2090      \n",
       "4                                         193855.2090      \n",
       "5                                         199700.4005      \n",
       "\n",
       "    Renewable energy share of TFEC (%) 2.1_SHARE.TOTAL.RE.IN.TFEC  \\\n",
       "id                                                                  \n",
       "1                                            8.616992               \n",
       "2                                            8.616992               \n",
       "3                                            8.259947               \n",
       "4                                            8.259947               \n",
       "5                                            8.217806               \n",
       "\n",
       "    Total electricity output (GWh) 4.1.1_TOTAL.ELECTRICITY.OUTPUT  \\\n",
       "id                                                                  \n",
       "1                                            163236.0               \n",
       "2                                            163236.0               \n",
       "3                                            167169.0               \n",
       "4                                            167169.0               \n",
       "5                                            172805.0               \n",
       "\n",
       "    Total final energy consumption (TFEC) (TJ) 1.1_TOTAL.FINAL.ENERGY.CONSUM  \\\n",
       "id                                                                             \n",
       "1                                         2295520.952                          \n",
       "2                                         2295520.952                          \n",
       "3                                         2346930.376                          \n",
       "4                                         2346930.376                          \n",
       "5                                         2430093.957                          \n",
       "\n",
       "    Population ages 25-29 (as % of specified gender population)  \\\n",
       "id                                                                \n",
       "1                                            7.977674             \n",
       "2                                            7.855364             \n",
       "3                                            7.815958             \n",
       "4                                            7.702864             \n",
       "5                                            7.709084             \n",
       "\n",
       "    Population ages 30-34 (as % of specified gender population)  \\\n",
       "id                                                                \n",
       "1                                            8.245478             \n",
       "2                                            8.166469             \n",
       "3                                            8.206122             \n",
       "4                                            8.134269             \n",
       "5                                            8.131212             \n",
       "\n",
       "    Population ages 40-44 (as % of specified gender population)  \\\n",
       "id                                                                \n",
       "1                                            7.496966             \n",
       "2                                            7.363331             \n",
       "3                                            7.440257             \n",
       "4                                            7.352638             \n",
       "5                                            7.430364             \n",
       "\n",
       "    Population ages 45-49 (as % of specified gender population)  \n",
       "id                                                               \n",
       "1                                            6.676347            \n",
       "2                                            6.375044            \n",
       "3                                            6.916593            \n",
       "4                                            6.627319            \n",
       "5                                            7.073719            "
      ]
     },
     "execution_count": 365,
     "metadata": {},
     "output_type": "execute_result"
    }
   ],
   "source": [
    "train_feature_dataset.head(5).iloc[:,0:20]"
   ]
  },
  {
   "cell_type": "code",
   "execution_count": 366,
   "metadata": {
    "scrolled": false
   },
   "outputs": [
    {
     "data": {
      "text/html": [
       "<div>\n",
       "<style>\n",
       "    .dataframe thead tr:only-child th {\n",
       "        text-align: right;\n",
       "    }\n",
       "\n",
       "    .dataframe thead th {\n",
       "        text-align: left;\n",
       "    }\n",
       "\n",
       "    .dataframe tbody tr th {\n",
       "        vertical-align: top;\n",
       "    }\n",
       "</style>\n",
       "<table border=\"1\" class=\"dataframe\">\n",
       "  <thead>\n",
       "    <tr style=\"text-align: right;\">\n",
       "      <th></th>\n",
       "      <th>Population ages 50-54 (as % of specified gender population)</th>\n",
       "      <th>Population ages 60-64 (as % of specified gender population)</th>\n",
       "      <th>TER_Enrolment_rate</th>\n",
       "      <th>GNI per capita Atlas method (current US$)</th>\n",
       "      <th>CO2 emissions (metric tons per capita)</th>\n",
       "      <th>CO2 intensity (kg per kg of oil equivalent energy use)</th>\n",
       "      <th>Electricity production from oil, gas and coal sources (% of total)</th>\n",
       "      <th>Population, total</th>\n",
       "      <th>Population growth (annual %)</th>\n",
       "      <th>Population density (people per sq. km of land area)</th>\n",
       "      <th>Fertility rate, total (births per woman)</th>\n",
       "      <th>Adolescent fertility rate (births per 1,000 women ages 15-19)</th>\n",
       "      <th>Contraceptive prevalence, any methods (% of women ages 15-49)</th>\n",
       "      <th>Births attended by skilled health staff (% of total)</th>\n",
       "      <th>Immunization, measles (% of children ages 12-23 months)</th>\n",
       "      <th>Prevalence of HIV, total (% of population ages 15-49)</th>\n",
       "      <th>Terrestrial and marine protected areas (% of total territorial area)</th>\n",
       "      <th>Annual freshwater withdrawals, total (% of internal resources)</th>\n",
       "      <th>Urban population growth (annual %)</th>\n",
       "      <th>Energy use (kg of oil equivalent per capita)</th>\n",
       "    </tr>\n",
       "    <tr>\n",
       "      <th>id</th>\n",
       "      <th></th>\n",
       "      <th></th>\n",
       "      <th></th>\n",
       "      <th></th>\n",
       "      <th></th>\n",
       "      <th></th>\n",
       "      <th></th>\n",
       "      <th></th>\n",
       "      <th></th>\n",
       "      <th></th>\n",
       "      <th></th>\n",
       "      <th></th>\n",
       "      <th></th>\n",
       "      <th></th>\n",
       "      <th></th>\n",
       "      <th></th>\n",
       "      <th></th>\n",
       "      <th></th>\n",
       "      <th></th>\n",
       "      <th></th>\n",
       "    </tr>\n",
       "  </thead>\n",
       "  <tbody>\n",
       "    <tr>\n",
       "      <th>1</th>\n",
       "      <td>5.125739</td>\n",
       "      <td>4.022097</td>\n",
       "      <td>65.428513</td>\n",
       "      <td>18930</td>\n",
       "      <td>15.701452</td>\n",
       "      <td>3.050285</td>\n",
       "      <td>89.450856</td>\n",
       "      <td>17667000</td>\n",
       "      <td>0.978337</td>\n",
       "      <td>2.299702</td>\n",
       "      <td>1.859</td>\n",
       "      <td>20.5906</td>\n",
       "      <td>NaN</td>\n",
       "      <td>99.3</td>\n",
       "      <td>86</td>\n",
       "      <td>0.1</td>\n",
       "      <td>NaN</td>\n",
       "      <td>NaN</td>\n",
       "      <td>1.190809</td>\n",
       "      <td>5147.536650</td>\n",
       "    </tr>\n",
       "    <tr>\n",
       "      <th>2</th>\n",
       "      <td>4.874607</td>\n",
       "      <td>4.009922</td>\n",
       "      <td>64.678619</td>\n",
       "      <td>18930</td>\n",
       "      <td>15.701452</td>\n",
       "      <td>3.050285</td>\n",
       "      <td>89.450856</td>\n",
       "      <td>17667000</td>\n",
       "      <td>0.978337</td>\n",
       "      <td>2.299702</td>\n",
       "      <td>1.859</td>\n",
       "      <td>20.5906</td>\n",
       "      <td>NaN</td>\n",
       "      <td>99.3</td>\n",
       "      <td>86</td>\n",
       "      <td>0.1</td>\n",
       "      <td>NaN</td>\n",
       "      <td>NaN</td>\n",
       "      <td>1.190809</td>\n",
       "      <td>5147.536650</td>\n",
       "    </tr>\n",
       "    <tr>\n",
       "      <th>3</th>\n",
       "      <td>5.260645</td>\n",
       "      <td>3.955058</td>\n",
       "      <td>66.160980</td>\n",
       "      <td>18890</td>\n",
       "      <td>15.576586</td>\n",
       "      <td>3.060360</td>\n",
       "      <td>89.805526</td>\n",
       "      <td>17855000</td>\n",
       "      <td>1.058509</td>\n",
       "      <td>2.324174</td>\n",
       "      <td>1.842</td>\n",
       "      <td>20.3062</td>\n",
       "      <td>NaN</td>\n",
       "      <td>99.4</td>\n",
       "      <td>86</td>\n",
       "      <td>0.1</td>\n",
       "      <td>NaN</td>\n",
       "      <td>NaN</td>\n",
       "      <td>1.268205</td>\n",
       "      <td>5089.788967</td>\n",
       "    </tr>\n",
       "    <tr>\n",
       "      <th>4</th>\n",
       "      <td>5.003437</td>\n",
       "      <td>3.941137</td>\n",
       "      <td>66.824181</td>\n",
       "      <td>18890</td>\n",
       "      <td>15.576586</td>\n",
       "      <td>3.060360</td>\n",
       "      <td>89.805526</td>\n",
       "      <td>17855000</td>\n",
       "      <td>1.058509</td>\n",
       "      <td>2.324174</td>\n",
       "      <td>1.842</td>\n",
       "      <td>20.3062</td>\n",
       "      <td>NaN</td>\n",
       "      <td>99.4</td>\n",
       "      <td>86</td>\n",
       "      <td>0.1</td>\n",
       "      <td>NaN</td>\n",
       "      <td>NaN</td>\n",
       "      <td>1.268205</td>\n",
       "      <td>5089.788967</td>\n",
       "    </tr>\n",
       "    <tr>\n",
       "      <th>5</th>\n",
       "      <td>5.448858</td>\n",
       "      <td>3.926157</td>\n",
       "      <td>68.701340</td>\n",
       "      <td>19320</td>\n",
       "      <td>15.596519</td>\n",
       "      <td>3.040717</td>\n",
       "      <td>90.375857</td>\n",
       "      <td>18072000</td>\n",
       "      <td>1.208020</td>\n",
       "      <td>2.352420</td>\n",
       "      <td>1.822</td>\n",
       "      <td>20.0218</td>\n",
       "      <td>66.7</td>\n",
       "      <td>99.3</td>\n",
       "      <td>87</td>\n",
       "      <td>0.1</td>\n",
       "      <td>NaN</td>\n",
       "      <td>NaN</td>\n",
       "      <td>1.414956</td>\n",
       "      <td>5129.223661</td>\n",
       "    </tr>\n",
       "  </tbody>\n",
       "</table>\n",
       "</div>"
      ],
      "text/plain": [
       "    Population ages 50-54 (as % of specified gender population)  \\\n",
       "id                                                                \n",
       "1                                            5.125739             \n",
       "2                                            4.874607             \n",
       "3                                            5.260645             \n",
       "4                                            5.003437             \n",
       "5                                            5.448858             \n",
       "\n",
       "    Population ages 60-64 (as % of specified gender population)  \\\n",
       "id                                                                \n",
       "1                                            4.022097             \n",
       "2                                            4.009922             \n",
       "3                                            3.955058             \n",
       "4                                            3.941137             \n",
       "5                                            3.926157             \n",
       "\n",
       "    TER_Enrolment_rate  GNI per capita Atlas method (current US$)  \\\n",
       "id                                                                  \n",
       "1            65.428513                                      18930   \n",
       "2            64.678619                                      18930   \n",
       "3            66.160980                                      18890   \n",
       "4            66.824181                                      18890   \n",
       "5            68.701340                                      19320   \n",
       "\n",
       "    CO2 emissions (metric tons per capita)  \\\n",
       "id                                           \n",
       "1                                15.701452   \n",
       "2                                15.701452   \n",
       "3                                15.576586   \n",
       "4                                15.576586   \n",
       "5                                15.596519   \n",
       "\n",
       "    CO2 intensity (kg per kg of oil equivalent energy use)  \\\n",
       "id                                                           \n",
       "1                                            3.050285        \n",
       "2                                            3.050285        \n",
       "3                                            3.060360        \n",
       "4                                            3.060360        \n",
       "5                                            3.040717        \n",
       "\n",
       "    Electricity production from oil, gas and coal sources (% of total)  \\\n",
       "id                                                                       \n",
       "1                                           89.450856                    \n",
       "2                                           89.450856                    \n",
       "3                                           89.805526                    \n",
       "4                                           89.805526                    \n",
       "5                                           90.375857                    \n",
       "\n",
       "    Population, total  Population growth (annual %)  \\\n",
       "id                                                    \n",
       "1            17667000                      0.978337   \n",
       "2            17667000                      0.978337   \n",
       "3            17855000                      1.058509   \n",
       "4            17855000                      1.058509   \n",
       "5            18072000                      1.208020   \n",
       "\n",
       "    Population density (people per sq. km of land area)  \\\n",
       "id                                                        \n",
       "1                                            2.299702     \n",
       "2                                            2.299702     \n",
       "3                                            2.324174     \n",
       "4                                            2.324174     \n",
       "5                                            2.352420     \n",
       "\n",
       "    Fertility rate, total (births per woman)  \\\n",
       "id                                             \n",
       "1                                      1.859   \n",
       "2                                      1.859   \n",
       "3                                      1.842   \n",
       "4                                      1.842   \n",
       "5                                      1.822   \n",
       "\n",
       "    Adolescent fertility rate (births per 1,000 women ages 15-19)  \\\n",
       "id                                                                  \n",
       "1                                             20.5906               \n",
       "2                                             20.5906               \n",
       "3                                             20.3062               \n",
       "4                                             20.3062               \n",
       "5                                             20.0218               \n",
       "\n",
       "    Contraceptive prevalence, any methods (% of women ages 15-49)  \\\n",
       "id                                                                  \n",
       "1                                                 NaN               \n",
       "2                                                 NaN               \n",
       "3                                                 NaN               \n",
       "4                                                 NaN               \n",
       "5                                                66.7               \n",
       "\n",
       "    Births attended by skilled health staff (% of total)  \\\n",
       "id                                                         \n",
       "1                                                99.3      \n",
       "2                                                99.3      \n",
       "3                                                99.4      \n",
       "4                                                99.4      \n",
       "5                                                99.3      \n",
       "\n",
       "    Immunization, measles (% of children ages 12-23 months)  \\\n",
       "id                                                            \n",
       "1                                                  86         \n",
       "2                                                  86         \n",
       "3                                                  86         \n",
       "4                                                  86         \n",
       "5                                                  87         \n",
       "\n",
       "    Prevalence of HIV, total (% of population ages 15-49)  \\\n",
       "id                                                          \n",
       "1                                                 0.1       \n",
       "2                                                 0.1       \n",
       "3                                                 0.1       \n",
       "4                                                 0.1       \n",
       "5                                                 0.1       \n",
       "\n",
       "    Terrestrial and marine protected areas (% of total territorial area)  \\\n",
       "id                                                                         \n",
       "1                                                 NaN                      \n",
       "2                                                 NaN                      \n",
       "3                                                 NaN                      \n",
       "4                                                 NaN                      \n",
       "5                                                 NaN                      \n",
       "\n",
       "    Annual freshwater withdrawals, total (% of internal resources)  \\\n",
       "id                                                                   \n",
       "1                                                 NaN                \n",
       "2                                                 NaN                \n",
       "3                                                 NaN                \n",
       "4                                                 NaN                \n",
       "5                                                 NaN                \n",
       "\n",
       "    Urban population growth (annual %)  \\\n",
       "id                                       \n",
       "1                             1.190809   \n",
       "2                             1.190809   \n",
       "3                             1.268205   \n",
       "4                             1.268205   \n",
       "5                             1.414956   \n",
       "\n",
       "    Energy use (kg of oil equivalent per capita)  \n",
       "id                                                \n",
       "1                                    5147.536650  \n",
       "2                                    5147.536650  \n",
       "3                                    5089.788967  \n",
       "4                                    5089.788967  \n",
       "5                                    5129.223661  "
      ]
     },
     "execution_count": 366,
     "metadata": {},
     "output_type": "execute_result"
    }
   ],
   "source": [
    "train_feature_dataset.head(5).iloc[:,20:40]"
   ]
  },
  {
   "cell_type": "code",
   "execution_count": 367,
   "metadata": {
    "collapsed": true
   },
   "outputs": [],
   "source": [
    "data = specifics.build_data(train_feature_df = train_feature_dataset, \n",
    "                            train_outcome_df = train_outcome_dataset, \n",
    "                            test_feature_df = test_feature_dataset)"
   ]
  },
  {
   "cell_type": "code",
   "execution_count": 368,
   "metadata": {},
   "outputs": [
    {
     "data": {
      "text/plain": [
       "(1010, 415)"
      ]
     },
     "execution_count": 368,
     "metadata": {},
     "output_type": "execute_result"
    }
   ],
   "source": [
    "data.train_feature_df.shape"
   ]
  },
  {
   "cell_type": "code",
   "execution_count": 369,
   "metadata": {},
   "outputs": [
    {
     "data": {
      "text/plain": [
       "(242, 415)"
      ]
     },
     "execution_count": 369,
     "metadata": {},
     "output_type": "execute_result"
    }
   ],
   "source": [
    "data.test_feature_df.shape"
   ]
  },
  {
   "cell_type": "code",
   "execution_count": 370,
   "metadata": {
    "scrolled": true
   },
   "outputs": [
    {
     "data": {
      "text/plain": [
       "['TIME',\n",
       " 'Population (% of total)',\n",
       " 'EDU_TERTIARY_PC_WKGPOP',\n",
       " 'GDP_USD_CAP',\n",
       " 'GOV_SPEND_EDU',\n",
       " '%_Sanitation_Access',\n",
       " 'Access to Clean Fuels and Technologies for cooking (% of total population) 2.1_ACCESS.CFT.TOT',\n",
       " 'Energy intensity level of primary energy (MJ/2011 USD PPP) 6.1_PRIMARY.ENERGY.INTENSITY',\n",
       " 'Renewable electricity output (GWh) 4.1.2_REN.ELECTRICITY.OUTPUT',\n",
       " 'Renewable electricity share of total electricity output (%) 4.1_SHARE.RE.IN.ELECTRICITY',\n",
       " 'Renewable energy consumption (TJ) 3.1_RE.CONSUMPTION',\n",
       " 'Renewable energy share of TFEC (%) 2.1_SHARE.TOTAL.RE.IN.TFEC',\n",
       " 'Total electricity output (GWh) 4.1.1_TOTAL.ELECTRICITY.OUTPUT',\n",
       " 'Total final energy consumption (TFEC) (TJ) 1.1_TOTAL.FINAL.ENERGY.CONSUM',\n",
       " 'Population ages 25-29 (as % of specified gender population)',\n",
       " 'Population ages 30-34 (as % of specified gender population)',\n",
       " 'Population ages 40-44 (as % of specified gender population)',\n",
       " 'Population ages 45-49 (as % of specified gender population)',\n",
       " 'Population ages 50-54 (as % of specified gender population)',\n",
       " 'Population ages 60-64 (as % of specified gender population)',\n",
       " 'TER_Enrolment_rate',\n",
       " 'GNI per capita Atlas method (current US$)',\n",
       " 'CO2 emissions (metric tons per capita)',\n",
       " 'CO2 intensity (kg per kg of oil equivalent energy use)',\n",
       " 'Electricity production from oil, gas and coal sources (% of total)',\n",
       " 'Population, total',\n",
       " 'Population growth (annual %)',\n",
       " 'Population density (people per sq. km of land area)',\n",
       " 'Fertility rate, total (births per woman)',\n",
       " 'Adolescent fertility rate (births per 1,000 women ages 15-19)',\n",
       " 'Contraceptive prevalence, any methods (% of women ages 15-49)',\n",
       " 'Births attended by skilled health staff (% of total)',\n",
       " 'Immunization, measles (% of children ages 12-23 months)',\n",
       " 'Prevalence of HIV, total (% of population ages 15-49)',\n",
       " 'Terrestrial and marine protected areas (% of total territorial area)',\n",
       " 'Annual freshwater withdrawals, total (% of internal resources)',\n",
       " 'Urban population growth (annual %)',\n",
       " 'Energy use (kg of oil equivalent per capita)',\n",
       " 'Electric power consumption (kWh per capita)',\n",
       " 'GDP (current US$)',\n",
       " 'Inflation, GDP deflator (annual %)',\n",
       " 'Agriculture, value added (% of GDP)',\n",
       " 'Industry, value added (% of GDP)',\n",
       " 'Services, etc., value added (% of GDP)',\n",
       " 'Exports of goods and services (% of GDP)',\n",
       " 'Imports of goods and services (% of GDP)',\n",
       " 'Gross capital formation (% of GDP)',\n",
       " 'Revenue, excluding grants (% of GDP)',\n",
       " 'Time required to start a business (days)',\n",
       " 'Domestic credit provided by financial sector (% of GDP)',\n",
       " 'Tax revenue (% of GDP)',\n",
       " 'Military expenditure (% of GDP)',\n",
       " 'Mobile cellular subscriptions (per 100 people)',\n",
       " 'High-technology exports (% of manufactured exports)',\n",
       " 'Statistical Capacity score (Overall average)',\n",
       " 'Merchandise trade (% of GDP)',\n",
       " 'Net barter terms of trade index (2000 = 100)',\n",
       " 'External debt stocks, total (DOD, current US$)',\n",
       " 'Total debt service (% of exports of goods, services and primary income)',\n",
       " 'Net migration',\n",
       " 'Personal remittances, received (current US$)',\n",
       " 'Foreign direct investment, net inflows (BoP, current US$)',\n",
       " 'Net official development assistance and official aid received (current US$)',\n",
       " '2005 PPP conversion factor, GDP (LCU per international $)',\n",
       " '2005 PPP conversion factor, private consumption (LCU per international $)',\n",
       " 'Adjusted net enrollment rate, primary (% of primary school age children)',\n",
       " 'Adjusted net enrollment rate, primary, female (% of primary school age children)',\n",
       " 'Adjusted net enrollment rate, primary, male (% of primary school age children)',\n",
       " 'Adjusted net national income (annual % growth)',\n",
       " 'Adjusted net national income (constant 2010 US$)',\n",
       " 'Adjusted net national income (current US$)',\n",
       " 'Adjusted net national income per capita (annual % growth)',\n",
       " 'Adjusted net national income per capita (constant 2010 US$)',\n",
       " 'Adjusted net national income per capita (current US$)',\n",
       " 'Adjusted net savings, excluding particulate emission damage (% of GNI)',\n",
       " 'Adjusted net savings, excluding particulate emission damage (current US$)',\n",
       " 'Adjusted net savings, including particulate emission damage (% of GNI)',\n",
       " 'Adjusted net savings, including particulate emission damage (current US$)',\n",
       " 'Adjusted savings: carbon dioxide damage (% of GNI)',\n",
       " 'Adjusted savings: carbon dioxide damage (current US$)',\n",
       " 'Adjusted savings: consumption of fixed capital (% of GNI)',\n",
       " 'Adjusted savings: consumption of fixed capital (current US$)',\n",
       " 'Adjusted savings: education expenditure (% of GNI)',\n",
       " 'Adjusted savings: education expenditure (current US$)',\n",
       " 'Adjusted savings: energy depletion (% of GNI)',\n",
       " 'Adjusted savings: energy depletion (current US$)',\n",
       " 'Adjusted savings: gross savings (% of GNI)',\n",
       " 'Adjusted savings: mineral depletion (% of GNI)',\n",
       " 'Adjusted savings: mineral depletion (current US$)',\n",
       " 'Adjusted savings: natural resources depletion (% of GNI)',\n",
       " 'Adjusted savings: net forest depletion (% of GNI)',\n",
       " 'Adjusted savings: net forest depletion (current US$)',\n",
       " 'Adjusted savings: net national savings (% of GNI)',\n",
       " 'Adjusted savings: net national savings (current US$)',\n",
       " 'Adjusted savings: particulate emission damage (% of GNI)',\n",
       " 'Adjusted savings: particulate emission damage (current US$)',\n",
       " 'Adolescents out of school (% of lower secondary school age)',\n",
       " 'Adolescents out of school, female (% of female lower secondary school age)',\n",
       " 'Adolescents out of school, male (% of male lower secondary school age)',\n",
       " 'Agriculture, value added (annual % growth)',\n",
       " 'All education staff compensation, primary (% of total expenditure in primary public institutions)',\n",
       " 'All education staff compensation, secondary (% of total expenditure in secondary public institutions)',\n",
       " 'All education staff compensation, tertiary (% of total expenditure in tertiary public institutions)',\n",
       " 'All education staff compensation, total (% of total expenditure in public institutions)',\n",
       " 'Annualized average growth rate in per capita real survey mean consumption or income, bottom 40% of population (%)',\n",
       " 'Annualized average growth rate in per capita real survey mean consumption or income, total population (%)',\n",
       " 'Children out of school (% of primary school age)',\n",
       " 'Children out of school, female (% of female primary school age)',\n",
       " 'Children out of school, male (% of male primary school age)',\n",
       " 'Children out of school, primary',\n",
       " 'Children out of school, primary, female',\n",
       " 'Children out of school, primary, male',\n",
       " 'Community health workers (per 1,000 people)',\n",
       " 'Completeness of infant death reporting (% of reported infant deaths to estimated infant deaths)',\n",
       " 'Completeness of total death reporting (% of reported total deaths to estimated total deaths)',\n",
       " 'Compulsory education, duration (years)',\n",
       " 'Consumption of iodized salt (% of households)',\n",
       " 'Current education expenditure, primary (% of total expenditure in primary public institutions)',\n",
       " 'Current education expenditure, secondary (% of total expenditure in secondary public institutions)',\n",
       " 'Current education expenditure, tertiary (% of total expenditure in tertiary public institutions)',\n",
       " 'Current education expenditure, total (% of total expenditure in public institutions)',\n",
       " 'Current health expenditure (% of GDP)',\n",
       " 'Current health expenditure per capita (current US$)',\n",
       " 'Current health expenditure per capita, PPP (current international $)',\n",
       " 'Deposit interest rate (%)',\n",
       " 'Depth of the food deficit (kilocalories per person per day)',\n",
       " 'Domestic general government health expenditure (% of current health expenditure)',\n",
       " 'Domestic general government health expenditure (% of GDP)',\n",
       " 'Domestic general government health expenditure (% of general government expenditure)',\n",
       " 'Domestic general government health expenditure per capita (current US$)',\n",
       " 'Domestic general government health expenditure per capita, PPP (current international $)',\n",
       " 'Domestic private health expenditure (% of current health expenditure)',\n",
       " 'Domestic private health expenditure per capita (current US$)',\n",
       " 'Domestic private health expenditure per capita, PPP  (current international $)',\n",
       " \"Educational attainment, at least Bachelor's or equivalent, population 25+, female (%) (cumulative)\",\n",
       " \"Educational attainment, at least Bachelor's or equivalent, population 25+, male (%) (cumulative)\",\n",
       " \"Educational attainment, at least Bachelor's or equivalent, population 25+, total (%) (cumulative)\",\n",
       " 'Educational attainment, at least completed lower secondary, population 25+, female (%) (cumulative)',\n",
       " 'Educational attainment, at least completed lower secondary, population 25+, male (%) (cumulative)',\n",
       " 'Educational attainment, at least completed lower secondary, population 25+, total (%) (cumulative)',\n",
       " 'Educational attainment, at least completed post-secondary, population 25+, female (%) (cumulative)',\n",
       " 'Educational attainment, at least completed post-secondary, population 25+, male (%) (cumulative)',\n",
       " 'Educational attainment, at least completed post-secondary, population 25+, total (%) (cumulative)',\n",
       " 'Educational attainment, at least completed primary, population 25+ years, female (%) (cumulative)',\n",
       " 'Educational attainment, at least completed primary, population 25+ years, male (%) (cumulative)',\n",
       " 'Educational attainment, at least completed primary, population 25+ years, total (%) (cumulative)',\n",
       " 'Educational attainment, at least completed short-cycle tertiary, population 25+, female (%) (cumulative)',\n",
       " 'Educational attainment, at least completed short-cycle tertiary, population 25+, male (%) (cumulative)',\n",
       " 'Educational attainment, at least completed short-cycle tertiary, population 25+, total (%) (cumulative)',\n",
       " 'Educational attainment, at least completed upper secondary, population 25+, female (%) (cumulative)',\n",
       " 'Educational attainment, at least completed upper secondary, population 25+, male (%) (cumulative)',\n",
       " 'Educational attainment, at least completed upper secondary, population 25+, total (%) (cumulative)',\n",
       " \"Educational attainment, at least Master's or equivalent, population 25+, female (%) (cumulative)\",\n",
       " \"Educational attainment, at least Master's or equivalent, population 25+, male (%) (cumulative)\",\n",
       " \"Educational attainment, at least Master's or equivalent, population 25+, total (%) (cumulative)\",\n",
       " 'Educational attainment, Doctoral or equivalent, population 25+, female (%) (cumulative)',\n",
       " 'Educational attainment, Doctoral or equivalent, population 25+, male (%) (cumulative)',\n",
       " 'Educational attainment, Doctoral or equivalent, population 25+, total (%) (cumulative)',\n",
       " 'Exclusive breastfeeding (% of children under 6 months)',\n",
       " 'Expenditure on primary education (% of government expenditure on education)',\n",
       " 'Expenditure on secondary education (% of government expenditure on education)',\n",
       " 'Expenditure on tertiary education (% of government expenditure on education)',\n",
       " 'Exports of goods and services (annual % growth)',\n",
       " 'External health expenditure (% of current health expenditure)',\n",
       " 'External health expenditure per capita (current US$)',\n",
       " 'External health expenditure per capita, PPP (current international $)',\n",
       " 'Final consumption expenditure, etc. (annual % growth)',\n",
       " 'GDP growth (annual %)',\n",
       " 'GDP per capita growth (annual %)',\n",
       " 'GDP per capita, PPP (constant 2011 international $)',\n",
       " 'GDP per capita, PPP (current international $)',\n",
       " 'GDP, PPP (constant 2011 international $)',\n",
       " 'GDP, PPP (current international $)',\n",
       " 'General government final consumption expenditure (annual % growth)',\n",
       " 'GINI index (World Bank estimate)',\n",
       " 'GNI growth (annual %)',\n",
       " 'GNI per capita growth (annual %)',\n",
       " 'GNI per capita, Atlas method (current US$)',\n",
       " 'GNI per capita, PPP (constant 2011 international $)',\n",
       " 'GNI per capita, PPP (current international $)',\n",
       " 'GNI, Atlas method (current US$)',\n",
       " 'GNI, PPP (constant 2011 international $)',\n",
       " 'GNI, PPP (current international $)',\n",
       " 'Government expenditure on education, total (% of GDP)',\n",
       " 'Government expenditure on education, total (% of government expenditure)',\n",
       " 'Government expenditure per student, primary (% of GDP per capita)',\n",
       " 'Government expenditure per student, secondary (% of GDP per capita)',\n",
       " 'Government expenditure per student, tertiary (% of GDP per capita)',\n",
       " 'Gross capital formation (annual % growth)',\n",
       " 'Gross fixed capital formation (annual % growth)',\n",
       " 'Gross intake ratio in first grade of primary education, female (% of relevant age group)',\n",
       " 'Gross intake ratio in first grade of primary education, male (% of relevant age group)',\n",
       " 'Gross intake ratio in first grade of primary education, total (% of relevant age group)',\n",
       " 'Hospital beds (per 1,000 people)',\n",
       " 'Household final consumption expenditure (annual % growth)',\n",
       " 'Household final consumption expenditure per capita growth (annual %)',\n",
       " 'Household final consumption expenditure, etc. (annual % growth)',\n",
       " 'Household final consumption expenditure, PPP (constant 2011 international $)',\n",
       " 'Household final consumption expenditure, PPP (current international $)',\n",
       " 'Imports of goods and services (annual % growth)',\n",
       " 'Income share held by fourth 20%',\n",
       " 'Income share held by highest 10%',\n",
       " 'Income share held by highest 20%',\n",
       " 'Income share held by lowest 10%',\n",
       " 'Income share held by lowest 20%',\n",
       " 'Income share held by second 20%',\n",
       " 'Income share held by third 20%',\n",
       " 'Increase in poverty gap at $1.90 ($ 2011 PPP) poverty line due to out-of-pocket health care expenditure (% of poverty line)',\n",
       " 'Increase in poverty gap at $1.90 ($ 2011 PPP) poverty line due to out-of-pocket health care expenditure (USD)',\n",
       " 'Increase in poverty gap at $3.10 ($ 2011 PPP) poverty line due to out-of-pocket health care expenditure (% of poverty line)',\n",
       " 'Increase in poverty gap at $3.10 ($ 2011 PPP) poverty line due to out-of-pocket health care expenditure (USD)',\n",
       " 'Industry, value added (annual % growth)',\n",
       " 'Interest rate spread (lending rate minus deposit rate, %)',\n",
       " 'Lending interest rate (%)',\n",
       " 'Life expectancy at birth, female (years)',\n",
       " 'Life expectancy at birth, male (years)',\n",
       " 'Life expectancy at birth, total (years)',\n",
       " 'Literacy rate, adult female (% of females ages 15 and above)',\n",
       " 'Literacy rate, adult male (% of males ages 15 and above)',\n",
       " 'Literacy rate, adult total (% of people ages 15 and above)',\n",
       " 'Literacy rate, youth (ages 15-24), gender parity index (GPI)',\n",
       " 'Literacy rate, youth female (% of females ages 15-24)',\n",
       " 'Literacy rate, youth male (% of males ages 15-24)',\n",
       " 'Literacy rate, youth total (% of people ages 15-24)',\n",
       " 'Low-birthweight babies (% of births)',\n",
       " 'Lower secondary completion rate, female (% of relevant age group)',\n",
       " 'Lower secondary completion rate, male (% of relevant age group)',\n",
       " 'Lower secondary completion rate, total (% of relevant age group)',\n",
       " 'Lower secondary school starting age (years)',\n",
       " 'Manufacturing, value added (annual % growth)',\n",
       " 'Mortality from CVD, cancer, diabetes or CRD between exact ages 30 and 70 (%)',\n",
       " 'Mortality rate, adult, female (per 1,000 female adults)',\n",
       " 'Mortality rate, adult, male (per 1,000 male adults)',\n",
       " 'Mortality rate, infant (per 1,000 live births)',\n",
       " 'Mortality rate, infant, female (per 1,000 live births)',\n",
       " 'Mortality rate, infant, male (per 1,000 live births)',\n",
       " 'Mortality rate, neonatal (per 1,000 live births)',\n",
       " 'Mortality rate, under-5 (per 1,000 live births)',\n",
       " 'Mortality rate, under-5, female (per 1,000 live births)',\n",
       " 'Mortality rate, under-5, male (per 1,000 live births)',\n",
       " 'Net intake rate in grade 1 (% of official school-age population)',\n",
       " 'Net intake rate in grade 1, female (% of official school-age population)',\n",
       " 'Net intake rate in grade 1, male (% of official school-age population)',\n",
       " 'Number of deaths ages 5-14 years',\n",
       " 'Number of infant deaths',\n",
       " 'Number of neonatal deaths',\n",
       " 'Number of people pushed below the $1.90 ($ 2011 PPP) poverty line by out-of-pocket health care expenditure',\n",
       " 'Number of people pushed below the $3.10 ($ 2011 PPP) poverty line by out-of-pocket health care expenditure',\n",
       " 'Number of people spending more than 10% of household consumption or income on out-of-pocket health care expenditure',\n",
       " 'Number of people spending more than 25% of household consumption or income on out-of-pocket health care expenditure',\n",
       " 'Number of surgical procedures (per 100,000 population)',\n",
       " 'Number of under-five deaths',\n",
       " 'Nurses and midwives (per 1,000 people)',\n",
       " 'Out-of-pocket expenditure (% of current health expenditure)',\n",
       " 'Out-of-pocket expenditure per capita (current US$)',\n",
       " 'Out-of-pocket expenditure per capita, PPP (current international $)',\n",
       " 'Over-age students, primary (% of enrollment)',\n",
       " 'Over-age students, primary, female (% of female enrollment)',\n",
       " 'Over-age students, primary, male (% of male enrollment)',\n",
       " 'Persistence to grade 5, female (% of cohort)',\n",
       " 'Persistence to grade 5, male (% of cohort)',\n",
       " 'Persistence to grade 5, total (% of cohort)',\n",
       " 'Persistence to last grade of primary, female (% of cohort)',\n",
       " 'Persistence to last grade of primary, male (% of cohort)',\n",
       " 'Persistence to last grade of primary, total (% of cohort)',\n",
       " 'Physicians (per 1,000 people)',\n",
       " 'Poverty gap at $1.90 a day (2011 PPP) (%)',\n",
       " 'Poverty gap at $3.20 a day (2011 PPP) (% of population)',\n",
       " 'Poverty gap at $5.50 a day (2011 PPP) (% of population)',\n",
       " 'Poverty gap at national poverty lines (%)',\n",
       " 'Poverty headcount ratio at $1.90 a day (2011 PPP) (% of population)',\n",
       " 'Poverty headcount ratio at $3.20 a day (2011 PPP) (% of population)',\n",
       " 'Poverty headcount ratio at $5.50 a day (2011 PPP) (% of population)',\n",
       " 'Poverty headcount ratio at national poverty lines (% of population)',\n",
       " 'PPP conversion factor, GDP (LCU per international $)',\n",
       " 'PPP conversion factor, private consumption (LCU per international $)',\n",
       " 'Preprimary education, duration (years)',\n",
       " 'Prevalence of anemia among children (% of children under 5)',\n",
       " 'Prevalence of anemia among non-pregnant women (% of women ages 15-49)',\n",
       " 'Prevalence of anemia among pregnant women (%)',\n",
       " 'Prevalence of anemia among women of reproductive age (% of women ages 15-49)',\n",
       " 'Prevalence of overweight, weight for height (% of children under 5)',\n",
       " 'Prevalence of overweight, weight for height, female (% of children under 5)',\n",
       " 'Prevalence of overweight, weight for height, male (% of children under 5)',\n",
       " 'Prevalence of severe wasting, weight for height (% of children under 5)',\n",
       " 'Prevalence of severe wasting, weight for height, female (% of children under 5)',\n",
       " 'Prevalence of severe wasting, weight for height, male (% of children under 5)',\n",
       " 'Prevalence of stunting, height for age (% of children under 5)',\n",
       " 'Prevalence of stunting, height for age, female (% of children under 5)',\n",
       " 'Prevalence of stunting, height for age, male (% of children under 5)',\n",
       " 'Prevalence of undernourishment (% of population)',\n",
       " 'Prevalence of underweight, weight for age (% of children under 5)',\n",
       " 'Prevalence of underweight, weight for age, female (% of children under 5)',\n",
       " 'Prevalence of underweight, weight for age, male (% of children under 5)',\n",
       " 'Prevalence of wasting, weight for height (% of children under 5)',\n",
       " 'Prevalence of wasting, weight for height, female (% of children under 5)',\n",
       " 'Prevalence of wasting, weight for height, male (% of children under 5)',\n",
       " 'Price level ratio of PPP conversion factor (GDP) to market exchange rate',\n",
       " 'Primary completion rate, female (% of relevant age group)',\n",
       " 'Primary completion rate, male (% of relevant age group)',\n",
       " 'Primary completion rate, total (% of relevant age group)',\n",
       " 'Primary education, duration (years)',\n",
       " 'Primary education, pupils',\n",
       " 'Primary education, pupils (% female)',\n",
       " 'Primary education, teachers',\n",
       " 'Primary education, teachers (% female)',\n",
       " 'Primary school starting age (years)',\n",
       " 'Probability of dying at age 5-14 years (per 1,000 children age 5)',\n",
       " 'Progression to secondary school (%)',\n",
       " 'Progression to secondary school, female (%)',\n",
       " 'Progression to secondary school, male (%)',\n",
       " 'Proportion of population pushed below the $1.90 ($ 2011 PPP) poverty line by out-of-pocket health care expenditure (%)',\n",
       " 'Proportion of population pushed below the $3.10 ($ 2011 PPP) poverty line by out-of-pocket health care expenditure (%)',\n",
       " 'Proportion of population spending more than 10% of household consumption or income on out-of-pocket health care expenditure (%)',\n",
       " 'Proportion of population spending more than 25% of household consumption or income on out-of-pocket health care expenditure (%)',\n",
       " 'Pupil-teacher ratio, lower secondary',\n",
       " 'Pupil-teacher ratio, preprimary',\n",
       " 'Pupil-teacher ratio, primary',\n",
       " 'Pupil-teacher ratio, secondary',\n",
       " 'Pupil-teacher ratio, tertiary',\n",
       " 'Pupil-teacher ratio, upper secondary',\n",
       " 'Real interest rate (%)',\n",
       " 'Repeaters, primary, female (% of female enrollment)',\n",
       " 'Repeaters, primary, male (% of male enrollment)',\n",
       " 'Repeaters, primary, total (% of total enrollment)',\n",
       " 'Risk premium on lending (lending rate minus treasury bill rate, %)',\n",
       " 'Rural poverty gap at national poverty lines (%)',\n",
       " 'Rural poverty headcount ratio at national poverty lines (% of rural population)',\n",
       " 'School enrollment, preprimary (% gross)',\n",
       " 'School enrollment, preprimary, female (% gross)',\n",
       " 'School enrollment, preprimary, male (% gross)',\n",
       " 'School enrollment, primary (% gross)',\n",
       " 'School enrollment, primary (% net)',\n",
       " 'School enrollment, primary (gross), gender parity index (GPI)',\n",
       " 'School enrollment, primary and secondary (gross), gender parity index (GPI)',\n",
       " 'School enrollment, primary, female (% gross)',\n",
       " 'School enrollment, primary, female (% net)',\n",
       " 'School enrollment, primary, male (% gross)',\n",
       " 'School enrollment, primary, male (% net)',\n",
       " 'School enrollment, primary, private (% of total primary)',\n",
       " 'School enrollment, secondary (% gross)',\n",
       " 'School enrollment, secondary (% net)',\n",
       " 'School enrollment, secondary (gross), gender parity index (GPI)',\n",
       " 'School enrollment, secondary, female (% gross)',\n",
       " 'School enrollment, secondary, female (% net)',\n",
       " 'School enrollment, secondary, male (% gross)',\n",
       " 'School enrollment, secondary, male (% net)',\n",
       " 'School enrollment, secondary, private (% of total secondary)',\n",
       " 'School enrollment, tertiary (% gross)',\n",
       " 'School enrollment, tertiary (gross), gender parity index (GPI)',\n",
       " 'School enrollment, tertiary, female (% gross)',\n",
       " 'School enrollment, tertiary, male (% gross)',\n",
       " 'Secondary education, duration (years)',\n",
       " 'Secondary education, general pupils',\n",
       " 'Secondary education, general pupils (% female)',\n",
       " 'Secondary education, pupils',\n",
       " 'Secondary education, pupils (% female)',\n",
       " 'Secondary education, teachers',\n",
       " 'Secondary education, teachers (% female)',\n",
       " 'Secondary education, teachers, female',\n",
       " 'Secondary education, vocational pupils',\n",
       " 'Secondary education, vocational pupils (% female)',\n",
       " 'Services, etc., value added (annual % growth)',\n",
       " 'Share of youth not in education, employment or training, female (% of female youth population)',\n",
       " 'Share of youth not in education, employment or training, male (% of male youth population)',\n",
       " 'Share of youth not in education, employment or training, total (% of youth population)',\n",
       " 'Specialist surgical workforce (per 100,000 population)',\n",
       " 'Suicide mortality rate (per 100,000 population)',\n",
       " 'Survey mean consumption or income per capita, bottom 40% of population (2011 PPP $ per day)',\n",
       " 'Survey mean consumption or income per capita, total population (2011 PPP $ per day)',\n",
       " 'Survival to age 65, female (% of cohort)',\n",
       " 'Survival to age 65, male (% of cohort)',\n",
       " 'Tertiary education, academic staff (% female)',\n",
       " 'Trained teachers in lower secondary education (% of total teachers)',\n",
       " 'Trained teachers in lower secondary education, female (% of female teachers)',\n",
       " 'Trained teachers in lower secondary education, male (% of male teachers)',\n",
       " 'Trained teachers in preprimary education (% of total teachers)',\n",
       " 'Trained teachers in preprimary education, female (% of female teachers)',\n",
       " 'Trained teachers in preprimary education, male (% of male teachers)',\n",
       " 'Trained teachers in primary education (% of total teachers)',\n",
       " 'Trained teachers in primary education, female (% of female teachers)',\n",
       " 'Trained teachers in primary education, male (% of male teachers)',\n",
       " 'Trained teachers in secondary education (% of total teachers)',\n",
       " 'Trained teachers in secondary education, female (% of female teachers)',\n",
       " 'Trained teachers in secondary education, male (% of male teachers)',\n",
       " 'Trained teachers in upper secondary education (% of total teachers)',\n",
       " 'Trained teachers in upper secondary education, female (% of female teachers)',\n",
       " 'Trained teachers in upper secondary education, male (% of male teachers)',\n",
       " 'UHC service coverage index',\n",
       " 'Unemployment with advanced education (% of total labor force with advanced education)',\n",
       " 'Unemployment with advanced education, female (% of female labor force with advanced education)',\n",
       " 'Unemployment with advanced education, male (% of male labor force with advanced education)',\n",
       " 'Unemployment with basic education (% of total labor force with basic education)',\n",
       " 'Unemployment with basic education, female (% of female labor force with basic education)',\n",
       " 'Unemployment with basic education, male (% of male labor force with basic education)',\n",
       " 'Unemployment with intermediate education (% of total labor force with intermediate education)',\n",
       " 'Unemployment with intermediate education, female (% of female labor force with intermediate education)',\n",
       " 'Unemployment with intermediate education, male (% of male labor force with intermediate education)',\n",
       " 'Unemployment, female (% of female labor force) (modeled ILO estimate)',\n",
       " 'Unemployment, female (% of female labor force) (national estimate)',\n",
       " 'Unemployment, male (% of male labor force) (modeled ILO estimate)',\n",
       " 'Unemployment, male (% of male labor force) (national estimate)',\n",
       " 'Unemployment, total (% of total labor force) (modeled ILO estimate)',\n",
       " 'Unemployment, total (% of total labor force) (national estimate)',\n",
       " 'Unemployment, youth female (% of female labor force ages 15-24) (modeled ILO estimate)',\n",
       " 'Unemployment, youth female (% of female labor force ages 15-24) (national estimate)',\n",
       " 'Unemployment, youth male (% of male labor force ages 15-24) (modeled ILO estimate)',\n",
       " 'Unemployment, youth male (% of male labor force ages 15-24) (national estimate)',\n",
       " 'Unemployment, youth total (% of total labor force ages 15-24) (modeled ILO estimate)',\n",
       " 'Unemployment, youth total (% of total labor force ages 15-24) (national estimate)',\n",
       " 'Urban poverty gap at national poverty lines (%)',\n",
       " 'Urban poverty headcount ratio at national poverty lines (% of urban population)',\n",
       " 'Vitamin A supplementation coverage rate (% of children ages 6-59 months)',\n",
       " 'Immi pop total pop rate',\n",
       " 'GENDER__women']"
      ]
     },
     "execution_count": 370,
     "metadata": {},
     "output_type": "execute_result"
    }
   ],
   "source": [
    "pd.set_option('display.max_rows', 3000)\n",
    "list(data.train_feature_df.columns.values)[0:3000]"
   ]
  },
  {
   "cell_type": "code",
   "execution_count": 371,
   "metadata": {
    "collapsed": true
   },
   "outputs": [],
   "source": [
    "assert sum(data.train_feature_df.index == data.train_outcome_df.index) == len(data.train_feature_df)"
   ]
  },
  {
   "cell_type": "code",
   "execution_count": null,
   "metadata": {
    "collapsed": true
   },
   "outputs": [],
   "source": []
  },
  {
   "cell_type": "code",
   "execution_count": null,
   "metadata": {
    "collapsed": true
   },
   "outputs": [],
   "source": []
  },
  {
   "cell_type": "code",
   "execution_count": null,
   "metadata": {
    "collapsed": true
   },
   "outputs": [],
   "source": []
  },
  {
   "cell_type": "code",
   "execution_count": null,
   "metadata": {
    "collapsed": true
   },
   "outputs": [],
   "source": []
  },
  {
   "cell_type": "code",
   "execution_count": null,
   "metadata": {
    "collapsed": true
   },
   "outputs": [],
   "source": []
  },
  {
   "cell_type": "markdown",
   "metadata": {},
   "source": [
    "# Start the feature selection with my hands. Because both SelectFromModel and recursive feature elimination (RFE) method don't work due to the algo complains about NA values. "
   ]
  },
  {
   "cell_type": "code",
   "execution_count": 10,
   "metadata": {
    "collapsed": true
   },
   "outputs": [],
   "source": [
    "# Best tune from 10 CV plus extra data 1 (our latest best setting)\n",
    "best_model = XGBRegressor(\n",
    "    colsample_bytree = 0.803524215,\n",
    "    gamma = 0.374300483,\n",
    "    learning_rate = 0.008844916,\n",
    "    max_depth = 14,\n",
    "    n_estimators = 60,\n",
    "    subsample = 0.976499849,\n",
    "    min_child_weight = 4,\n",
    "    max_delta_step = 2,\n",
    "    n_jobs = -1    \n",
    ")"
   ]
  },
  {
   "cell_type": "code",
   "execution_count": 268,
   "metadata": {},
   "outputs": [],
   "source": [
    "number_of_features = data.train_feature_df.shape[1]\n",
    "number_of_rows = data.train_feature_df.shape[0]\n",
    "features_considered_per_batch_ideal = number_of_rows / 20.0\n",
    "number_of_batches = number_of_features / features_considered_per_batch_ideal"
   ]
  },
  {
   "cell_type": "code",
   "execution_count": 269,
   "metadata": {},
   "outputs": [
    {
     "data": {
      "text/plain": [
       "50.5"
      ]
     },
     "execution_count": 269,
     "metadata": {},
     "output_type": "execute_result"
    }
   ],
   "source": [
    "features_considered_per_batch_ideal"
   ]
  },
  {
   "cell_type": "code",
   "execution_count": 270,
   "metadata": {},
   "outputs": [
    {
     "data": {
      "text/plain": [
       "8.217821782178218"
      ]
     },
     "execution_count": 270,
     "metadata": {},
     "output_type": "execute_result"
    }
   ],
   "source": [
    "number_of_batches"
   ]
  },
  {
   "cell_type": "markdown",
   "metadata": {},
   "source": [
    "Let's make it 8 batches"
   ]
  },
  {
   "cell_type": "code",
   "execution_count": 289,
   "metadata": {},
   "outputs": [
    {
     "data": {
      "text/plain": [
       "52"
      ]
     },
     "execution_count": 289,
     "metadata": {},
     "output_type": "execute_result"
    }
   ],
   "source": [
    "import math\n",
    "\n",
    "features_considered_per_batch = math.ceil(number_of_features / 8.0) # Specify it here\n",
    "features_considered_per_batch"
   ]
  },
  {
   "cell_type": "code",
   "execution_count": 290,
   "metadata": {
    "collapsed": true
   },
   "outputs": [],
   "source": [
    "train_to_be_shrinked = data.train_feature_df"
   ]
  },
  {
   "cell_type": "code",
   "execution_count": 291,
   "metadata": {},
   "outputs": [
    {
     "data": {
      "text/plain": [
       "415"
      ]
     },
     "execution_count": 291,
     "metadata": {},
     "output_type": "execute_result"
    }
   ],
   "source": [
    "number_of_features_current = number_of_features\n",
    "number_of_features_current"
   ]
  },
  {
   "cell_type": "code",
   "execution_count": null,
   "metadata": {
    "collapsed": true
   },
   "outputs": [],
   "source": []
  },
  {
   "cell_type": "code",
   "execution_count": 294,
   "metadata": {},
   "outputs": [
    {
     "name": "stdout",
     "output_type": "stream",
     "text": [
      "Number of features left:  41\n",
      "Current features_considered_per_batch:  43\n",
      "Next round features_considered_per_batch:  21\n",
      "Number of features left:  41\n"
     ]
    }
   ],
   "source": [
    "counter = 0\n",
    "retained_features_indicator_array = np.empty(0) #np.ndarray([]) is not really empty. It's say array(6.365987432e-314)\n",
    "\n",
    "random_feature_index = np.arange(number_of_features_current)\n",
    "np.random.shuffle(random_feature_index) # in-place\n",
    "\n",
    "while (counter < number_of_features_current):\n",
    "    model = best_model.fit(train_to_be_shrinked.iloc[:, random_feature_index[counter: counter + features_considered_per_batch].tolist()], \n",
    "                           data.train_outcome_df)\n",
    "    retained_features_indicator_array = np.append(retained_features_indicator_array,\n",
    "                                                  model.feature_importances_ > np.median(model.feature_importances_))\n",
    "    counter = counter + features_considered_per_batch\n",
    "\n",
    "# https://stackoverflow.com/questions/33691552/list-comprehension-with-else-pass\n",
    "new_index = [a for a,b in zip(random_feature_index, retained_features_indicator_array) if b == 1]\n",
    "\n",
    "# Updating train_to_be_shrinked, number_of_features_current, and, when proper, features_considered_per_batch.\n",
    "train_to_be_shrinked = train_to_be_shrinked.iloc[:,new_index]\n",
    "number_of_features_current = train_to_be_shrinked.shape[1]\n",
    "\n",
    "if number_of_features_current < 2 * features_considered_per_batch:\n",
    "    print('Number of features left: ', number_of_features_current)\n",
    "    print('Current features_considered_per_batch: ', features_considered_per_batch)\n",
    "    features_considered_per_batch = math.ceil(number_of_features_current / 2.0)\n",
    "    print('Next round features_considered_per_batch: ', features_considered_per_batch)\n",
    "    \n",
    "\n",
    "print('Number of features left: ', number_of_features_current)"
   ]
  },
  {
   "cell_type": "code",
   "execution_count": null,
   "metadata": {
    "collapsed": true
   },
   "outputs": [],
   "source": []
  },
  {
   "cell_type": "code",
   "execution_count": 295,
   "metadata": {},
   "outputs": [
    {
     "data": {
      "text/plain": [
       "XGBRegressor(base_score=0.5, booster='gbtree', colsample_bylevel=1,\n",
       "       colsample_bytree=0.803524215, gamma=0.374300483,\n",
       "       learning_rate=0.008844916, max_delta_step=2, max_depth=14,\n",
       "       min_child_weight=4, missing=None, n_estimators=60, n_jobs=-1,\n",
       "       nthread=None, objective='reg:linear', random_state=0, reg_alpha=0,\n",
       "       reg_lambda=1, scale_pos_weight=1, seed=None, silent=True,\n",
       "       subsample=0.976499849)"
      ]
     },
     "execution_count": 295,
     "metadata": {},
     "output_type": "execute_result"
    }
   ],
   "source": [
    "best_model.fit(train_to_be_shrinked, data.train_outcome_df)"
   ]
  },
  {
   "cell_type": "code",
   "execution_count": null,
   "metadata": {
    "collapsed": true
   },
   "outputs": [],
   "source": []
  },
  {
   "cell_type": "markdown",
   "metadata": {},
   "source": [
    "# Considered the random partition component, if multiple runs of the feature selection wrapper all agree on some features, they will be truely important."
   ]
  },
  {
   "cell_type": "markdown",
   "metadata": {},
   "source": [
    "## First run"
   ]
  },
  {
   "cell_type": "code",
   "execution_count": null,
   "metadata": {},
   "outputs": [],
   "source": [
    "#import matplotlib.pylab as plt\n",
    "#%matplotlib inline\n",
    "#from matplotlib.pylab import rcParams\n",
    "#rcParams['figure.figsize'] = 12, 4\n",
    "\n",
    "#feat_imp = pd.Series(best_model._Booster.get_fscore()).sort_values(ascending=False)\n",
    "#feat_imp.plot(kind='bar', title='Feature Importances')\n",
    "#plt.ylabel('Feature Importance Score')"
   ]
  },
  {
   "cell_type": "code",
   "execution_count": 279,
   "metadata": {},
   "outputs": [
    {
     "data": {
      "text/plain": [
       "Interest rate spread (lending rate minus deposit rate, %)                                                44\n",
       "Renewable electricity share of total electricity output (%) 4.1_SHARE.RE.IN.ELECTRICITY                  33\n",
       "Adjusted savings: carbon dioxide damage (% of GNI)                                                       22\n",
       "Over-age students, primary, female (% of female enrollment)                                              19\n",
       "Immi pop total pop rate                                                                                  19\n",
       "All education staff compensation, secondary (% of total expenditure in secondary public institutions)    18\n",
       "CO2 intensity (kg per kg of oil equivalent energy use)                                                   18\n",
       "GNI per capita Atlas method (current US$)                                                                15\n",
       "Renewable energy share of TFEC (%) 2.1_SHARE.TOTAL.RE.IN.TFEC                                            12\n",
       "Over-age students, primary, male (% of male enrollment)                                                  11\n",
       "Revenue, excluding grants (% of GDP)                                                                     11\n",
       "Primary education, duration (years)                                                                       9\n",
       "Adolescents out of school (% of lower secondary school age)                                               9\n",
       "Life expectancy at birth, total (years)                                                                   7\n",
       "GNI per capita, Atlas method (current US$)                                                                6\n",
       "Renewable energy consumption (TJ) 3.1_RE.CONSUMPTION                                                      6\n",
       "Life expectancy at birth, male (years)                                                                    5\n",
       "CO2 emissions (metric tons per capita)                                                                    4\n",
       "Adjusted net national income (constant 2010 US$)                                                          4\n",
       "Services, etc., value added (% of GDP)                                                                    2\n",
       "Electricity production from oil, gas and coal sources (% of total)                                        1\n",
       "Deposit interest rate (%)                                                                                 1\n",
       "Energy intensity level of primary energy (MJ/2011 USD PPP) 6.1_PRIMARY.ENERGY.INTENSITY                   1\n",
       "Population density (people per sq. km of land area)                                                       1\n",
       "Population, total                                                                                         1\n",
       "Preprimary education, duration (years)                                                                    1\n",
       "Prevalence of HIV, total (% of population ages 15-49)                                                     1\n",
       "dtype: int64"
      ]
     },
     "execution_count": 279,
     "metadata": {},
     "output_type": "execute_result"
    }
   ],
   "source": [
    "# First random generation\n",
    "feat_imp = pd.Series(best_model._Booster.get_fscore()).sort_values(ascending=False)\n",
    "feat_imp_1 = feat_imp\n",
    "feat_imp_1"
   ]
  },
  {
   "cell_type": "code",
   "execution_count": null,
   "metadata": {
    "collapsed": true
   },
   "outputs": [],
   "source": []
  },
  {
   "cell_type": "markdown",
   "metadata": {},
   "source": [
    "## Second run"
   ]
  },
  {
   "cell_type": "code",
   "execution_count": 288,
   "metadata": {},
   "outputs": [
    {
     "data": {
      "text/plain": [
       "Interest rate spread (lending rate minus deposit rate, %)                                  40\n",
       "Renewable electricity share of total electricity output (%) 4.1_SHARE.RE.IN.ELECTRICITY    29\n",
       "CO2 intensity (kg per kg of oil equivalent energy use)                                     28\n",
       "Over-age students, primary, male (% of male enrollment)                                    26\n",
       "Adjusted savings: carbon dioxide damage (% of GNI)                                         22\n",
       "GNI per capita Atlas method (current US$)                                                  18\n",
       "Revenue, excluding grants (% of GDP)                                                       14\n",
       "Renewable energy share of TFEC (%) 2.1_SHARE.TOTAL.RE.IN.TFEC                              12\n",
       "All education staff compensation, total (% of total expenditure in public institutions)    12\n",
       "CO2 emissions (metric tons per capita)                                                     10\n",
       "Electricity production from oil, gas and coal sources (% of total)                         10\n",
       "Renewable electricity output (GWh) 4.1.2_REN.ELECTRICITY.OUTPUT                             9\n",
       "Adjusted savings: energy depletion (% of GNI)                                               7\n",
       "Survival to age 65, male (% of cohort)                                                      7\n",
       "Prevalence of HIV, total (% of population ages 15-49)                                       6\n",
       "Renewable energy consumption (TJ) 3.1_RE.CONSUMPTION                                        6\n",
       "GNI per capita, Atlas method (current US$)                                                  5\n",
       "Lending interest rate (%)                                                                   3\n",
       "Imports of goods and services (% of GDP)                                                    2\n",
       "Deposit interest rate (%)                                                                   2\n",
       "PPP conversion factor, GDP (LCU per international $)                                        2\n",
       "Prevalence of anemia among non-pregnant women (% of women ages 15-49)                       2\n",
       "Mortality rate, adult, male (per 1,000 male adults)                                         1\n",
       "GNI, PPP (constant 2011 international $)                                                    1\n",
       "Mortality rate, infant (per 1,000 live births)                                              1\n",
       "Out-of-pocket expenditure (% of current health expenditure)                                 1\n",
       "Adjusted savings: net national savings (current US$)                                        1\n",
       "Prevalence of anemia among women of reproductive age (% of women ages 15-49)                1\n",
       "Adjusted net national income per capita (current US$)                                       1\n",
       "Adjusted net national income per capita (constant 2010 US$)                                 1\n",
       "dtype: int64"
      ]
     },
     "execution_count": 288,
     "metadata": {},
     "output_type": "execute_result"
    }
   ],
   "source": [
    "# Second random generation\n",
    "feat_imp = pd.Series(best_model._Booster.get_fscore()).sort_values(ascending=False)\n",
    "feat_imp_2 = feat_imp\n",
    "feat_imp_2"
   ]
  },
  {
   "cell_type": "code",
   "execution_count": null,
   "metadata": {
    "collapsed": true
   },
   "outputs": [],
   "source": []
  },
  {
   "cell_type": "markdown",
   "metadata": {},
   "source": [
    "## Third run"
   ]
  },
  {
   "cell_type": "code",
   "execution_count": 297,
   "metadata": {},
   "outputs": [
    {
     "data": {
      "text/plain": [
       "Interest rate spread (lending rate minus deposit rate, %)                                              43\n",
       "Renewable electricity share of total electricity output (%) 4.1_SHARE.RE.IN.ELECTRICITY                33\n",
       "Adjusted savings: carbon dioxide damage (% of GNI)                                                     18\n",
       "Over-age students, primary, female (% of female enrollment)                                            18\n",
       "CO2 intensity (kg per kg of oil equivalent energy use)                                                 18\n",
       "All education staff compensation, total (% of total expenditure in public institutions)                17\n",
       "GNI per capita, PPP (constant 2011 international $)                                                    17\n",
       "Immi pop total pop rate                                                                                15\n",
       "Renewable energy share of TFEC (%) 2.1_SHARE.TOTAL.RE.IN.TFEC                                          11\n",
       "Revenue, excluding grants (% of GDP)                                                                   11\n",
       "Primary education, duration (years)                                                                    10\n",
       "GNI per capita, Atlas method (current US$)                                                              9\n",
       "Adolescents out of school (% of lower secondary school age)                                             8\n",
       "Over-age students, primary, male (% of male enrollment)                                                 5\n",
       "Prevalence of HIV, total (% of population ages 15-49)                                                   5\n",
       "CO2 emissions (metric tons per capita)                                                                  5\n",
       "Current health expenditure (% of GDP)                                                                   5\n",
       "Domestic private health expenditure (% of current health expenditure)                                   5\n",
       "Survival to age 65, male (% of cohort)                                                                  5\n",
       "Out-of-pocket expenditure (% of current health expenditure)                                             5\n",
       "Renewable energy consumption (TJ) 3.1_RE.CONSUMPTION                                                    4\n",
       "Life expectancy at birth, male (years)                                                                  4\n",
       "GNI per capita Atlas method (current US$)                                                               3\n",
       "Energy intensity level of primary energy (MJ/2011 USD PPP) 6.1_PRIMARY.ENERGY.INTENSITY                 3\n",
       "Electricity production from oil, gas and coal sources (% of total)                                      2\n",
       "Educational attainment, at least completed lower secondary, population 25+, female (%) (cumulative)     1\n",
       "Prevalence of anemia among women of reproductive age (% of women ages 15-49)                            1\n",
       "Over-age students, primary (% of enrollment)                                                            1\n",
       "dtype: int64"
      ]
     },
     "execution_count": 297,
     "metadata": {},
     "output_type": "execute_result"
    }
   ],
   "source": [
    "# Third random generation\n",
    "feat_imp = pd.Series(best_model._Booster.get_fscore()).sort_values(ascending=False)\n",
    "feat_imp_3 = feat_imp\n",
    "feat_imp_3"
   ]
  },
  {
   "cell_type": "code",
   "execution_count": null,
   "metadata": {
    "collapsed": true
   },
   "outputs": [],
   "source": []
  },
  {
   "cell_type": "code",
   "execution_count": 346,
   "metadata": {},
   "outputs": [],
   "source": [
    "#feat_imp_all = feat_imp_1 + feat_imp_2 + feat_imp_3\n",
    "#feat_imp_all[0:len(feat_imp_all)] = 0\n",
    "#feat_imp_1.sum() + feat_imp_2.sum() + feat_imp_3.sum()\n",
    "#feat_imp_all.sort_values(ascending= False)\n",
    "feat_imp_all = feat_imp_1.add(feat_imp_2, fill_value = 0).add(feat_imp_3, fill_value = 0)"
   ]
  },
  {
   "cell_type": "code",
   "execution_count": 375,
   "metadata": {},
   "outputs": [],
   "source": [
    "feat_imp_all_trimmed = feat_imp_all[feat_imp_all > 1]"
   ]
  },
  {
   "cell_type": "code",
   "execution_count": 376,
   "metadata": {},
   "outputs": [],
   "source": [
    "feat_imp_all_trimmed_restored = np.append(feat_imp_all_trimmed.index.values.tolist(),\n",
    "                                          ['TIME','GENDER__women']).tolist()"
   ]
  },
  {
   "cell_type": "code",
   "execution_count": null,
   "metadata": {
    "collapsed": true
   },
   "outputs": [],
   "source": []
  },
  {
   "cell_type": "code",
   "execution_count": null,
   "metadata": {
    "collapsed": true
   },
   "outputs": [],
   "source": []
  },
  {
   "cell_type": "code",
   "execution_count": null,
   "metadata": {},
   "outputs": [],
   "source": []
  },
  {
   "cell_type": "markdown",
   "metadata": {},
   "source": [
    "# Now we build and tune the final model"
   ]
  },
  {
   "cell_type": "code",
   "execution_count": 378,
   "metadata": {},
   "outputs": [],
   "source": [
    "train_feature_df_shrinked = data.train_feature_df.loc[:, feat_imp_all_trimmed_restored]\n",
    "test_feature_df_shrinked = data.test_feature_df.loc[:, feat_imp_all_trimmed_restored]"
   ]
  },
  {
   "cell_type": "code",
   "execution_count": 391,
   "metadata": {
    "collapsed": true
   },
   "outputs": [],
   "source": [
    "#train_feature_df_shrinked.to_csv('train_feature_df_shrinked.csv')\n",
    "#test_feature_df_shrinked.to_csv('test_feature_df_shrinked.csv')\n",
    "train_feature_df_shrinked = pd.DataFrame.from_csv('dataset/data_after_feature_selection_1_del/train_feature_df_shrinked_del_zero_del_col_many_missing.csv')\n",
    "test_feature_df_shrinked = pd.DataFrame.from_csv('dataset/data_after_feature_selection_1_del/test_feature_df_shrinked_del_zero_del_col_many_missing.csv')"
   ]
  },
  {
   "cell_type": "code",
   "execution_count": null,
   "metadata": {},
   "outputs": [],
   "source": [
    "params = {\n",
    "    \"n_estimators\": [40, 50, 60],\n",
    "    \"max_depth\": st.randint(3, 30),\n",
    "    \"learning_rate\": st.uniform(0.005, 0.01),\n",
    "    #\"learning_rate\": st.uniform(0.001, 0.01),\n",
    "    #\"learning_rate\": st.uniform(0.006, 0.006),\n",
    "    \"colsample_bytree\": st.uniform(0.60, 0.40),\n",
    "    #\"colsample_bytree\": st.uniform(0.80, 0.20),\n",
    "    \"subsample\": st.uniform(0.7, 0.3),\n",
    "    \"gamma\": st.uniform(0.2, 1.6),\n",
    "    #\"gamma\": st.uniform(0.2, 0.3),\n",
    "    \"min_child_weight\": [0,1,2,3,4,5],\n",
    "    \"max_delta_step\": [0, 1, 2, 3,4]\n",
    "}\n",
    "\n",
    "model = XGBRegressor(n_jobs = -1) # nthread deprecated\n",
    "\n",
    "gs = RandomizedSearchCV(model, params, n_jobs=-1, n_iter=200, cv = 10)\n",
    "\n",
    "gs.fit(train_feature_df_shrinked, data.train_outcome_df.iloc[:,0])"
   ]
  },
  {
   "cell_type": "code",
   "execution_count": 384,
   "metadata": {},
   "outputs": [
    {
     "name": "stderr",
     "output_type": "stream",
     "text": [
      "C:\\Users\\Kevin\\Anaconda3\\lib\\site-packages\\sklearn\\model_selection\\_search.py:747: DeprecationWarning: The grid_scores_ attribute was deprecated in version 0.18 in favor of the more elaborate cv_results_ attribute. The grid_scores_ attribute will not be available from 0.20\n",
      "  DeprecationWarning)\n"
     ]
    },
    {
     "data": {
      "text/plain": [
       "[mean: -0.53447, std: 1.17214, params: {'colsample_bytree': 0.54578862391527438, 'gamma': 1.4651957513626932, 'learning_rate': 0.0065206662450412378, 'max_delta_step': 2, 'max_depth': 3, 'min_child_weight': 3, 'n_estimators': 50, 'subsample': 0.7843373278810013},\n",
       " mean: -0.55150, std: 1.21978, params: {'colsample_bytree': 0.68156150043171548, 'gamma': 0.44339540852454018, 'learning_rate': 0.0073383622398369517, 'max_delta_step': 1, 'max_depth': 11, 'min_child_weight': 3, 'n_estimators': 40, 'subsample': 0.80324327252672145},\n",
       " mean: -0.48474, std: 0.94190, params: {'colsample_bytree': 0.52179752085543107, 'gamma': 0.89513629441204356, 'learning_rate': 0.0049279867448082234, 'max_delta_step': 2, 'max_depth': 13, 'min_child_weight': 2, 'n_estimators': 50, 'subsample': 0.75722066132345989},\n",
       " mean: -0.55319, std: 1.18752, params: {'colsample_bytree': 0.64438626491617201, 'gamma': 1.576415728938676, 'learning_rate': 0.0052124802080127808, 'max_delta_step': 2, 'max_depth': 4, 'min_child_weight': 3, 'n_estimators': 60, 'subsample': 0.77238286122972233},\n",
       " mean: -0.45382, std: 0.81606, params: {'colsample_bytree': 0.54375026304700858, 'gamma': 1.2579923821629317, 'learning_rate': 0.0040431000227992104, 'max_delta_step': 0, 'max_depth': 27, 'min_child_weight': 4, 'n_estimators': 50, 'subsample': 0.89091073268315424},\n",
       " mean: -0.58500, std: 1.56942, params: {'colsample_bytree': 0.59875374132873482, 'gamma': 0.43317255743611049, 'learning_rate': 0.0077931126130419883, 'max_delta_step': 4, 'max_depth': 21, 'min_child_weight': 0, 'n_estimators': 60, 'subsample': 0.89335626924924438},\n",
       " mean: -0.43054, std: 0.89710, params: {'colsample_bytree': 0.60262050615079532, 'gamma': 0.44437935726743683, 'learning_rate': 0.0044337531267505358, 'max_delta_step': 4, 'max_depth': 29, 'min_child_weight': 0, 'n_estimators': 60, 'subsample': 0.90480109049371682},\n",
       " mean: -0.67811, std: 1.62154, params: {'colsample_bytree': 0.6120608457297726, 'gamma': 1.1449182738360644, 'learning_rate': 0.0064603175937037582, 'max_delta_step': 4, 'max_depth': 7, 'min_child_weight': 2, 'n_estimators': 60, 'subsample': 0.78626797234450141},\n",
       " mean: -0.47987, std: 0.87339, params: {'colsample_bytree': 0.63336033115997914, 'gamma': 0.70673720160000353, 'learning_rate': 0.0054527434662696023, 'max_delta_step': 1, 'max_depth': 17, 'min_child_weight': 2, 'n_estimators': 40, 'subsample': 0.91822973075800574},\n",
       " mean: -0.57168, std: 1.25912, params: {'colsample_bytree': 0.60489099901137622, 'gamma': 1.370611409426203, 'learning_rate': 0.0079359674574249386, 'max_delta_step': 1, 'max_depth': 26, 'min_child_weight': 0, 'n_estimators': 40, 'subsample': 0.88242114593264254},\n",
       " mean: -0.50217, std: 0.90740, params: {'colsample_bytree': 0.66695288082274595, 'gamma': 1.54998983510732, 'learning_rate': 0.0050070020603819642, 'max_delta_step': 3, 'max_depth': 10, 'min_child_weight': 4, 'n_estimators': 40, 'subsample': 0.78553482235754102},\n",
       " mean: -0.50044, std: 0.97453, params: {'colsample_bytree': 0.65301064786162699, 'gamma': 1.5960775918063419, 'learning_rate': 0.0050599612491598759, 'max_delta_step': 0, 'max_depth': 11, 'min_child_weight': 4, 'n_estimators': 50, 'subsample': 0.72983873171358016},\n",
       " mean: -0.38572, std: 0.75563, params: {'colsample_bytree': 0.5268611833640523, 'gamma': 0.24789813200845734, 'learning_rate': 0.0048252004853401656, 'max_delta_step': 2, 'max_depth': 5, 'min_child_weight': 2, 'n_estimators': 50, 'subsample': 0.96965207836168166},\n",
       " mean: -0.43401, std: 0.86373, params: {'colsample_bytree': 0.58246952048607104, 'gamma': 0.52886943762618399, 'learning_rate': 0.0049454089965687564, 'max_delta_step': 1, 'max_depth': 20, 'min_child_weight': 5, 'n_estimators': 50, 'subsample': 0.93742745280825179},\n",
       " mean: -0.47090, std: 0.91377, params: {'colsample_bytree': 0.50323783363005958, 'gamma': 1.0233191014677803, 'learning_rate': 0.0065294663730449988, 'max_delta_step': 1, 'max_depth': 23, 'min_child_weight': 1, 'n_estimators': 40, 'subsample': 0.87384187928745383},\n",
       " mean: -0.42534, std: 0.77840, params: {'colsample_bytree': 0.50705306177347342, 'gamma': 1.7141554524849734, 'learning_rate': 0.0051855538076607359, 'max_delta_step': 1, 'max_depth': 17, 'min_child_weight': 1, 'n_estimators': 50, 'subsample': 0.71645636448003069},\n",
       " mean: -0.45930, std: 0.80046, params: {'colsample_bytree': 0.58262684369282924, 'gamma': 1.6614710611991359, 'learning_rate': 0.0048362219559030441, 'max_delta_step': 4, 'max_depth': 4, 'min_child_weight': 0, 'n_estimators': 40, 'subsample': 0.79491971510929149},\n",
       " mean: -0.43682, std: 0.87393, params: {'colsample_bytree': 0.54858675437169724, 'gamma': 0.59406013179517791, 'learning_rate': 0.0052248012107026353, 'max_delta_step': 3, 'max_depth': 6, 'min_child_weight': 1, 'n_estimators': 50, 'subsample': 0.9569127653080044},\n",
       " mean: -0.63701, std: 1.41437, params: {'colsample_bytree': 0.68805788873080032, 'gamma': 1.186785504084332, 'learning_rate': 0.0076277427595114952, 'max_delta_step': 4, 'max_depth': 21, 'min_child_weight': 2, 'n_estimators': 40, 'subsample': 0.98947044559711284},\n",
       " mean: -0.41190, std: 0.89322, params: {'colsample_bytree': 0.51478838550625738, 'gamma': 0.40670400721162725, 'learning_rate': 0.0049106650322497929, 'max_delta_step': 1, 'max_depth': 14, 'min_child_weight': 0, 'n_estimators': 60, 'subsample': 0.96484561958397874},\n",
       " mean: -0.58564, std: 1.27262, params: {'colsample_bytree': 0.68745943513124286, 'gamma': 1.5007976879983744, 'learning_rate': 0.0064410622304186468, 'max_delta_step': 0, 'max_depth': 8, 'min_child_weight': 0, 'n_estimators': 50, 'subsample': 0.77388646644491499},\n",
       " mean: -0.42109, std: 0.74799, params: {'colsample_bytree': 0.58257032346442084, 'gamma': 0.57374797946464384, 'learning_rate': 0.0049515822601224066, 'max_delta_step': 3, 'max_depth': 5, 'min_child_weight': 3, 'n_estimators': 40, 'subsample': 0.9857531635572665},\n",
       " mean: -0.46801, std: 0.91275, params: {'colsample_bytree': 0.54991051794177115, 'gamma': 1.7047183732514819, 'learning_rate': 0.0054242511405812027, 'max_delta_step': 4, 'max_depth': 9, 'min_child_weight': 1, 'n_estimators': 50, 'subsample': 0.76250308491599261},\n",
       " mean: -0.56572, std: 1.29921, params: {'colsample_bytree': 0.66133711002582862, 'gamma': 0.67292869403763755, 'learning_rate': 0.005673296134545697, 'max_delta_step': 2, 'max_depth': 11, 'min_child_weight': 5, 'n_estimators': 60, 'subsample': 0.98397107264903039},\n",
       " mean: -0.51136, std: 1.03330, params: {'colsample_bytree': 0.63511934252826097, 'gamma': 1.7453697539387323, 'learning_rate': 0.0055484148215672706, 'max_delta_step': 1, 'max_depth': 15, 'min_child_weight': 0, 'n_estimators': 50, 'subsample': 0.87108182937019862},\n",
       " mean: -0.45571, std: 0.82918, params: {'colsample_bytree': 0.51589016875884075, 'gamma': 1.6038731647027502, 'learning_rate': 0.0054262584450842071, 'max_delta_step': 3, 'max_depth': 26, 'min_child_weight': 2, 'n_estimators': 40, 'subsample': 0.80633298821098565},\n",
       " mean: -0.63517, std: 1.51577, params: {'colsample_bytree': 0.57273302616545296, 'gamma': 1.1163567563487149, 'learning_rate': 0.0075140389272477567, 'max_delta_step': 0, 'max_depth': 16, 'min_child_weight': 5, 'n_estimators': 50, 'subsample': 0.98022336445370228},\n",
       " mean: -0.58167, std: 1.23346, params: {'colsample_bytree': 0.69194065173735675, 'gamma': 0.83319081125886685, 'learning_rate': 0.0056886187995695645, 'max_delta_step': 1, 'max_depth': 16, 'min_child_weight': 5, 'n_estimators': 50, 'subsample': 0.8811699203130765},\n",
       " mean: -0.54462, std: 1.11788, params: {'colsample_bytree': 0.59793105128556134, 'gamma': 0.99818872770468281, 'learning_rate': 0.0067476823050039627, 'max_delta_step': 1, 'max_depth': 29, 'min_child_weight': 0, 'n_estimators': 40, 'subsample': 0.97205814209695185},\n",
       " mean: -0.42927, std: 0.75698, params: {'colsample_bytree': 0.51063982328046298, 'gamma': 0.50725316757552363, 'learning_rate': 0.0052029563383519445, 'max_delta_step': 3, 'max_depth': 15, 'min_child_weight': 5, 'n_estimators': 40, 'subsample': 0.71605547916470835},\n",
       " mean: -0.42468, std: 0.88026, params: {'colsample_bytree': 0.60472618136462253, 'gamma': 0.33462428822408297, 'learning_rate': 0.0052185447056285221, 'max_delta_step': 0, 'max_depth': 29, 'min_child_weight': 5, 'n_estimators': 50, 'subsample': 0.88130103252235681},\n",
       " mean: -0.61642, std: 1.42100, params: {'colsample_bytree': 0.62914428619723095, 'gamma': 1.6789043608408158, 'learning_rate': 0.0057309295577317627, 'max_delta_step': 0, 'max_depth': 7, 'min_child_weight': 2, 'n_estimators': 60, 'subsample': 0.99306141591370045},\n",
       " mean: -0.46170, std: 0.91738, params: {'colsample_bytree': 0.62125853619499094, 'gamma': 0.23833299702345079, 'learning_rate': 0.0061037702195388156, 'max_delta_step': 1, 'max_depth': 23, 'min_child_weight': 0, 'n_estimators': 40, 'subsample': 0.73209571427548259},\n",
       " mean: -0.47589, std: 0.93470, params: {'colsample_bytree': 0.51630682369927816, 'gamma': 1.3043078352517645, 'learning_rate': 0.0062762509947894892, 'max_delta_step': 4, 'max_depth': 10, 'min_child_weight': 0, 'n_estimators': 40, 'subsample': 0.77659976851211376},\n",
       " mean: -0.41507, std: 0.89602, params: {'colsample_bytree': 0.5258616292661159, 'gamma': 0.27929934421944086, 'learning_rate': 0.004816349648009588, 'max_delta_step': 1, 'max_depth': 28, 'min_child_weight': 5, 'n_estimators': 60, 'subsample': 0.78241732376042927},\n",
       " mean: -0.51465, std: 1.28256, params: {'colsample_bytree': 0.62816148981780562, 'gamma': 0.36775565852462666, 'learning_rate': 0.0064397224849028906, 'max_delta_step': 4, 'max_depth': 7, 'min_child_weight': 0, 'n_estimators': 60, 'subsample': 0.99035781364535347},\n",
       " mean: -0.55931, std: 1.18682, params: {'colsample_bytree': 0.63909332289211374, 'gamma': 1.3467839437119986, 'learning_rate': 0.0073227218068089572, 'max_delta_step': 0, 'max_depth': 24, 'min_child_weight': 5, 'n_estimators': 40, 'subsample': 0.87066150786628516},\n",
       " mean: -0.52418, std: 1.09788, params: {'colsample_bytree': 0.54850326021146112, 'gamma': 0.77022135765351085, 'learning_rate': 0.0056237619881758256, 'max_delta_step': 4, 'max_depth': 5, 'min_child_weight': 1, 'n_estimators': 50, 'subsample': 0.72529579469947381},\n",
       " mean: -0.46433, std: 0.85205, params: {'colsample_bytree': 0.60276535648165586, 'gamma': 1.7346822314931336, 'learning_rate': 0.0046928485962406579, 'max_delta_step': 2, 'max_depth': 19, 'min_child_weight': 3, 'n_estimators': 50, 'subsample': 0.78131533704966805},\n",
       " mean: -0.55236, std: 1.16389, params: {'colsample_bytree': 0.57748832625998503, 'gamma': 1.1070590653128025, 'learning_rate': 0.0047275112358006483, 'max_delta_step': 3, 'max_depth': 16, 'min_child_weight': 0, 'n_estimators': 60, 'subsample': 0.81328538332801203},\n",
       " mean: -0.47068, std: 0.79080, params: {'colsample_bytree': 0.66274647636297379, 'gamma': 1.6296351848295494, 'learning_rate': 0.0040542126842472567, 'max_delta_step': 3, 'max_depth': 9, 'min_child_weight': 1, 'n_estimators': 40, 'subsample': 0.95028007951587157},\n",
       " mean: -0.42513, std: 0.85652, params: {'colsample_bytree': 0.5778173666448434, 'gamma': 0.34160049693837047, 'learning_rate': 0.0042653674929985664, 'max_delta_step': 0, 'max_depth': 20, 'min_child_weight': 3, 'n_estimators': 60, 'subsample': 0.9629436933805543},\n",
       " mean: -0.59782, std: 1.27107, params: {'colsample_bytree': 0.69994776331842512, 'gamma': 1.4451761957104645, 'learning_rate': 0.0069833609978444938, 'max_delta_step': 3, 'max_depth': 25, 'min_child_weight': 4, 'n_estimators': 40, 'subsample': 0.8752883130864707},\n",
       " mean: -0.64331, std: 1.42437, params: {'colsample_bytree': 0.69178820739641156, 'gamma': 0.94834951513697341, 'learning_rate': 0.0077101908522821446, 'max_delta_step': 0, 'max_depth': 7, 'min_child_weight': 1, 'n_estimators': 40, 'subsample': 0.88744133487057253},\n",
       " mean: -0.65706, std: 1.51062, params: {'colsample_bytree': 0.68804915086664642, 'gamma': 1.4149501977784491, 'learning_rate': 0.0069293367239730607, 'max_delta_step': 2, 'max_depth': 19, 'min_child_weight': 5, 'n_estimators': 50, 'subsample': 0.80854815502836686},\n",
       " mean: -0.66241, std: 1.54050, params: {'colsample_bytree': 0.62905200136449901, 'gamma': 0.95285564543654178, 'learning_rate': 0.005973527777197494, 'max_delta_step': 2, 'max_depth': 21, 'min_child_weight': 0, 'n_estimators': 60, 'subsample': 0.78517995055395551},\n",
       " mean: -0.54275, std: 1.43922, params: {'colsample_bytree': 0.56668822506575478, 'gamma': 0.30854100836223086, 'learning_rate': 0.0074122782185633744, 'max_delta_step': 4, 'max_depth': 9, 'min_child_weight': 3, 'n_estimators': 60, 'subsample': 0.89498087181191133},\n",
       " mean: -0.56069, std: 1.20653, params: {'colsample_bytree': 0.60336438726051489, 'gamma': 1.3209202941182414, 'learning_rate': 0.0058930715888977489, 'max_delta_step': 3, 'max_depth': 16, 'min_child_weight': 2, 'n_estimators': 50, 'subsample': 0.79262885556021678},\n",
       " mean: -0.43541, std: 0.71014, params: {'colsample_bytree': 0.5476979526699769, 'gamma': 0.85263140585956565, 'learning_rate': 0.0042087545682468952, 'max_delta_step': 0, 'max_depth': 24, 'min_child_weight': 3, 'n_estimators': 40, 'subsample': 0.82392052220434253},\n",
       " mean: -0.48479, std: 0.93551, params: {'colsample_bytree': 0.5396451938214506, 'gamma': 1.2374202791562714, 'learning_rate': 0.004047892582511591, 'max_delta_step': 4, 'max_depth': 20, 'min_child_weight': 2, 'n_estimators': 60, 'subsample': 0.95587915509214905},\n",
       " mean: -0.53793, std: 1.10387, params: {'colsample_bytree': 0.65129929982932389, 'gamma': 1.5606428577133482, 'learning_rate': 0.0051909407647239888, 'max_delta_step': 0, 'max_depth': 24, 'min_child_weight': 0, 'n_estimators': 50, 'subsample': 0.90535529317099928},\n",
       " mean: -0.71046, std: 1.65116, params: {'colsample_bytree': 0.69634329839739906, 'gamma': 0.57499804325063375, 'learning_rate': 0.0071679215218395818, 'max_delta_step': 0, 'max_depth': 13, 'min_child_weight': 2, 'n_estimators': 50, 'subsample': 0.75005353581474044},\n",
       " mean: -0.44132, std: 0.72248, params: {'colsample_bytree': 0.54700964305807209, 'gamma': 1.628440152092512, 'learning_rate': 0.0040941981215972178, 'max_delta_step': 3, 'max_depth': 9, 'min_child_weight': 0, 'n_estimators': 40, 'subsample': 0.95622067171142966},\n",
       " mean: -0.50154, std: 1.05519, params: {'colsample_bytree': 0.61134582900598977, 'gamma': 0.71872188887890398, 'learning_rate': 0.0049684256745496621, 'max_delta_step': 4, 'max_depth': 25, 'min_child_weight': 2, 'n_estimators': 60, 'subsample': 0.94763670365776886},\n",
       " mean: -0.52850, std: 1.02715, params: {'colsample_bytree': 0.68853452481298194, 'gamma': 0.54173811906157265, 'learning_rate': 0.005873049544175799, 'max_delta_step': 2, 'max_depth': 16, 'min_child_weight': 4, 'n_estimators': 40, 'subsample': 0.76467718091065973},\n",
       " mean: -0.41743, std: 0.79313, params: {'colsample_bytree': 0.52082919782979753, 'gamma': 0.62547098823207148, 'learning_rate': 0.0046681673833390827, 'max_delta_step': 3, 'max_depth': 23, 'min_child_weight': 5, 'n_estimators': 50, 'subsample': 0.97062255123891317},\n",
       " mean: -0.48115, std: 0.87493, params: {'colsample_bytree': 0.59740406073086583, 'gamma': 1.6236783384112594, 'learning_rate': 0.0051453869298629619, 'max_delta_step': 0, 'max_depth': 25, 'min_child_weight': 3, 'n_estimators': 40, 'subsample': 0.89999943123805148},\n",
       " mean: -0.47773, std: 0.82903, params: {'colsample_bytree': 0.61878330378665125, 'gamma': 0.95834274549367682, 'learning_rate': 0.0047292803192108381, 'max_delta_step': 1, 'max_depth': 4, 'min_child_weight': 3, 'n_estimators': 40, 'subsample': 0.95657862149362782},\n",
       " mean: -0.47874, std: 0.93317, params: {'colsample_bytree': 0.55454396418930119, 'gamma': 1.4754130184752956, 'learning_rate': 0.0048887559734021174, 'max_delta_step': 1, 'max_depth': 16, 'min_child_weight': 1, 'n_estimators': 50, 'subsample': 0.79756603333085752},\n",
       " mean: -0.51826, std: 1.12921, params: {'colsample_bytree': 0.53203924169825578, 'gamma': 1.5395778344038453, 'learning_rate': 0.0061892546226448523, 'max_delta_step': 4, 'max_depth': 10, 'min_child_weight': 0, 'n_estimators': 50, 'subsample': 0.98883980168228125},\n",
       " mean: -0.54242, std: 1.06039, params: {'colsample_bytree': 0.69462231247592521, 'gamma': 1.4592128561374378, 'learning_rate': 0.0057648509556390871, 'max_delta_step': 2, 'max_depth': 14, 'min_child_weight': 3, 'n_estimators': 40, 'subsample': 0.8130584187306511},\n",
       " mean: -0.60676, std: 1.34126, params: {'colsample_bytree': 0.68568415160133112, 'gamma': 1.206529654319153, 'learning_rate': 0.0050481392936429902, 'max_delta_step': 1, 'max_depth': 13, 'min_child_weight': 5, 'n_estimators': 60, 'subsample': 0.88529582987555966},\n",
       " mean: -0.56640, std: 1.22904, params: {'colsample_bytree': 0.62347152982345766, 'gamma': 1.5882031379148036, 'learning_rate': 0.0064427666549746543, 'max_delta_step': 3, 'max_depth': 21, 'min_child_weight': 0, 'n_estimators': 50, 'subsample': 0.81018884834230154},\n",
       " mean: -0.46087, std: 0.87461, params: {'colsample_bytree': 0.56599184841825134, 'gamma': 0.74430891080878969, 'learning_rate': 0.004795448309241777, 'max_delta_step': 1, 'max_depth': 5, 'min_child_weight': 1, 'n_estimators': 50, 'subsample': 0.93711846034813084},\n",
       " mean: -0.54977, std: 1.16474, params: {'colsample_bytree': 0.65435534110307036, 'gamma': 1.7631534820171058, 'learning_rate': 0.0046217882422569436, 'max_delta_step': 2, 'max_depth': 22, 'min_child_weight': 0, 'n_estimators': 60, 'subsample': 0.96440221650250868},\n",
       " mean: -0.61773, std: 1.31482, params: {'colsample_bytree': 0.68846255892645813, 'gamma': 0.92965413363511806, 'learning_rate': 0.0055970515089998401, 'max_delta_step': 0, 'max_depth': 18, 'min_child_weight': 1, 'n_estimators': 50, 'subsample': 0.81372693453599576},\n",
       " mean: -0.42380, std: 0.78839, params: {'colsample_bytree': 0.54391829813499404, 'gamma': 0.61668069741093401, 'learning_rate': 0.0045265877918216563, 'max_delta_step': 0, 'max_depth': 13, 'min_child_weight': 0, 'n_estimators': 50, 'subsample': 0.92587022172618627},\n",
       " mean: -0.47377, std: 0.92418, params: {'colsample_bytree': 0.5451932161658688, 'gamma': 0.81744037310293738, 'learning_rate': 0.0065272240936509289, 'max_delta_step': 3, 'max_depth': 6, 'min_child_weight': 4, 'n_estimators': 40, 'subsample': 0.96251738654143471},\n",
       " mean: -0.59660, std: 1.35114, params: {'colsample_bytree': 0.67469597342462762, 'gamma': 0.53928703162594305, 'learning_rate': 0.0065569584948797794, 'max_delta_step': 2, 'max_depth': 23, 'min_child_weight': 0, 'n_estimators': 50, 'subsample': 0.81578981058766653},\n",
       " mean: -0.58824, std: 1.29679, params: {'colsample_bytree': 0.62982689707640471, 'gamma': 1.5170405869250523, 'learning_rate': 0.0051496567564249954, 'max_delta_step': 1, 'max_depth': 3, 'min_child_weight': 2, 'n_estimators': 60, 'subsample': 0.97829160439815643},\n",
       " mean: -0.59306, std: 1.47962, params: {'colsample_bytree': 0.56180630840680812, 'gamma': 0.56411058362875455, 'learning_rate': 0.0071762244551776041, 'max_delta_step': 2, 'max_depth': 10, 'min_child_weight': 0, 'n_estimators': 60, 'subsample': 0.72879381253773601},\n",
       " mean: -0.41156, std: 0.71698, params: {'colsample_bytree': 0.56518144679766036, 'gamma': 0.239156048568546, 'learning_rate': 0.0047148233729893321, 'max_delta_step': 0, 'max_depth': 6, 'min_child_weight': 1, 'n_estimators': 40, 'subsample': 0.73295384529473484},\n",
       " mean: -0.69921, std: 1.79581, params: {'colsample_bytree': 0.58624083784323344, 'gamma': 0.62972242489489139, 'learning_rate': 0.0078475826319614785, 'max_delta_step': 3, 'max_depth': 28, 'min_child_weight': 2, 'n_estimators': 60, 'subsample': 0.79610232261062464},\n",
       " mean: -0.51297, std: 1.28216, params: {'colsample_bytree': 0.62746134007335763, 'gamma': 0.23431581981699914, 'learning_rate': 0.007826325748404684, 'max_delta_step': 0, 'max_depth': 6, 'min_child_weight': 0, 'n_estimators': 50, 'subsample': 0.93754259464504397},\n",
       " mean: -0.53371, std: 1.17622, params: {'colsample_bytree': 0.5206146523361892, 'gamma': 1.1971313072537138, 'learning_rate': 0.0054103373034812344, 'max_delta_step': 1, 'max_depth': 12, 'min_child_weight': 5, 'n_estimators': 60, 'subsample': 0.98661457509129136},\n",
       " mean: -0.59652, std: 1.28887, params: {'colsample_bytree': 0.60795138156261741, 'gamma': 0.84362192889726728, 'learning_rate': 0.007368912466901893, 'max_delta_step': 0, 'max_depth': 24, 'min_child_weight': 3, 'n_estimators': 40, 'subsample': 0.81643728182025843},\n",
       " mean: -0.63195, std: 1.65510, params: {'colsample_bytree': 0.68360133806322299, 'gamma': 0.33688012033755205, 'learning_rate': 0.0073158506834305401, 'max_delta_step': 0, 'max_depth': 27, 'min_child_weight': 4, 'n_estimators': 60, 'subsample': 0.92169037221201855},\n",
       " mean: -0.57034, std: 1.31997, params: {'colsample_bytree': 0.53745719668369174, 'gamma': 0.99923848032592621, 'learning_rate': 0.0061408115193873625, 'max_delta_step': 0, 'max_depth': 24, 'min_child_weight': 5, 'n_estimators': 60, 'subsample': 0.84424175341398022},\n",
       " mean: -0.49008, std: 0.97020, params: {'colsample_bytree': 0.54070691332438914, 'gamma': 1.5547361756458808, 'learning_rate': 0.0062993421301254966, 'max_delta_step': 0, 'max_depth': 8, 'min_child_weight': 1, 'n_estimators': 40, 'subsample': 0.91791292645206701},\n",
       " mean: -0.68514, std: 1.60976, params: {'colsample_bytree': 0.69357679639647973, 'gamma': 0.70833746763194982, 'learning_rate': 0.0073429192854237478, 'max_delta_step': 2, 'max_depth': 7, 'min_child_weight': 0, 'n_estimators': 50, 'subsample': 0.88428457461985055},\n",
       " mean: -0.56344, std: 1.36923, params: {'colsample_bytree': 0.68780834342144015, 'gamma': 0.47826015158465562, 'learning_rate': 0.0070646740965808405, 'max_delta_step': 4, 'max_depth': 24, 'min_child_weight': 3, 'n_estimators': 50, 'subsample': 0.96806056698297294},\n",
       " mean: -0.54227, std: 1.05699, params: {'colsample_bytree': 0.67923425573398932, 'gamma': 1.3219495465435442, 'learning_rate': 0.005789824096906997, 'max_delta_step': 0, 'max_depth': 12, 'min_child_weight': 3, 'n_estimators': 40, 'subsample': 0.80422886431035723},\n",
       " mean: -0.63016, std: 1.47294, params: {'colsample_bytree': 0.61302515192194007, 'gamma': 0.86813774989981907, 'learning_rate': 0.0062142011797315525, 'max_delta_step': 2, 'max_depth': 18, 'min_child_weight': 5, 'n_estimators': 60, 'subsample': 0.85184526228027657},\n",
       " mean: -0.46842, std: 0.79038, params: {'colsample_bytree': 0.62230907034639205, 'gamma': 1.618980795958699, 'learning_rate': 0.00444398744217044, 'max_delta_step': 4, 'max_depth': 5, 'min_child_weight': 1, 'n_estimators': 40, 'subsample': 0.83915408958358595},\n",
       " mean: -0.63184, std: 1.46088, params: {'colsample_bytree': 0.63507996069661121, 'gamma': 0.71664899872480881, 'learning_rate': 0.0074888619124478407, 'max_delta_step': 0, 'max_depth': 17, 'min_child_weight': 0, 'n_estimators': 50, 'subsample': 0.83336827589402607},\n",
       " mean: -0.54924, std: 1.25268, params: {'colsample_bytree': 0.51670181517555092, 'gamma': 0.75159685543118271, 'learning_rate': 0.005863756342805432, 'max_delta_step': 0, 'max_depth': 13, 'min_child_weight': 3, 'n_estimators': 60, 'subsample': 0.75068057576076219},\n",
       " mean: -0.57770, std: 1.36947, params: {'colsample_bytree': 0.55494262659187044, 'gamma': 1.7831670352490763, 'learning_rate': 0.0072082624294142819, 'max_delta_step': 1, 'max_depth': 8, 'min_child_weight': 2, 'n_estimators': 60, 'subsample': 0.84295257641617516},\n",
       " mean: -0.52695, std: 1.12981, params: {'colsample_bytree': 0.54274088330437409, 'gamma': 1.4355460891987044, 'learning_rate': 0.0073950748193530166, 'max_delta_step': 2, 'max_depth': 5, 'min_child_weight': 0, 'n_estimators': 40, 'subsample': 0.92946772331964667},\n",
       " mean: -0.47273, std: 0.99957, params: {'colsample_bytree': 0.56811548066499862, 'gamma': 0.56493402163218631, 'learning_rate': 0.0070512611891620312, 'max_delta_step': 1, 'max_depth': 5, 'min_child_weight': 3, 'n_estimators': 40, 'subsample': 0.88213694411638166},\n",
       " mean: -0.47188, std: 0.82522, params: {'colsample_bytree': 0.59912941837749445, 'gamma': 0.991638863653028, 'learning_rate': 0.004811313972288715, 'max_delta_step': 2, 'max_depth': 12, 'min_child_weight': 5, 'n_estimators': 40, 'subsample': 0.84264492712736705},\n",
       " mean: -0.46049, std: 0.85871, params: {'colsample_bytree': 0.54828701064568175, 'gamma': 1.1959082825352245, 'learning_rate': 0.0043189805681299858, 'max_delta_step': 1, 'max_depth': 10, 'min_child_weight': 1, 'n_estimators': 50, 'subsample': 0.77954585490650097},\n",
       " mean: -0.53089, std: 1.03961, params: {'colsample_bytree': 0.62077401397743626, 'gamma': 1.2935479255643361, 'learning_rate': 0.0060216610562108096, 'max_delta_step': 1, 'max_depth': 14, 'min_child_weight': 4, 'n_estimators': 40, 'subsample': 0.99183676556042655},\n",
       " mean: -0.49642, std: 1.15969, params: {'colsample_bytree': 0.56281081868973615, 'gamma': 0.48476769438812273, 'learning_rate': 0.0069776162534479456, 'max_delta_step': 1, 'max_depth': 20, 'min_child_weight': 3, 'n_estimators': 50, 'subsample': 0.78046736767831326},\n",
       " mean: -0.68317, std: 1.65574, params: {'colsample_bytree': 0.64769646147252269, 'gamma': 1.3513687610194018, 'learning_rate': 0.0078717400034520914, 'max_delta_step': 3, 'max_depth': 23, 'min_child_weight': 0, 'n_estimators': 50, 'subsample': 0.88076890524804929},\n",
       " mean: -0.54822, std: 1.38342, params: {'colsample_bytree': 0.64227730740104838, 'gamma': 0.24860459422666636, 'learning_rate': 0.0066378393630439061, 'max_delta_step': 2, 'max_depth': 27, 'min_child_weight': 4, 'n_estimators': 60, 'subsample': 0.87398805115850298},\n",
       " mean: -0.44946, std: 0.85875, params: {'colsample_bytree': 0.55844822225355273, 'gamma': 0.72359093754294146, 'learning_rate': 0.0048868820724720799, 'max_delta_step': 2, 'max_depth': 21, 'min_child_weight': 3, 'n_estimators': 50, 'subsample': 0.84534121944472651},\n",
       " mean: -0.69159, std: 1.67756, params: {'colsample_bytree': 0.64119389007833782, 'gamma': 0.99788836139334913, 'learning_rate': 0.0075706164420301352, 'max_delta_step': 2, 'max_depth': 5, 'min_child_weight': 3, 'n_estimators': 50, 'subsample': 0.93037418419589979},\n",
       " mean: -0.61867, std: 1.48343, params: {'colsample_bytree': 0.55494849320932738, 'gamma': 1.1564695285593432, 'learning_rate': 0.0078551936769458621, 'max_delta_step': 3, 'max_depth': 10, 'min_child_weight': 0, 'n_estimators': 50, 'subsample': 0.85605523352511315},\n",
       " mean: -0.46334, std: 0.83945, params: {'colsample_bytree': 0.5541720063285881, 'gamma': 1.5802282234638425, 'learning_rate': 0.0053094971806637043, 'max_delta_step': 2, 'max_depth': 23, 'min_child_weight': 3, 'n_estimators': 40, 'subsample': 0.81176255442112955},\n",
       " mean: -0.50088, std: 1.05154, params: {'colsample_bytree': 0.52331618157126591, 'gamma': 1.5193338884014931, 'learning_rate': 0.0074318928742736403, 'max_delta_step': 0, 'max_depth': 8, 'min_child_weight': 2, 'n_estimators': 40, 'subsample': 0.83438972298954139},\n",
       " mean: -0.48983, std: 1.24727, params: {'colsample_bytree': 0.6066159624881341, 'gamma': 0.21657633503178619, 'learning_rate': 0.0077982062553412276, 'max_delta_step': 3, 'max_depth': 19, 'min_child_weight': 0, 'n_estimators': 50, 'subsample': 0.89069791634848672},\n",
       " mean: -0.46095, std: 0.84277, params: {'colsample_bytree': 0.52117797288794665, 'gamma': 1.6650404738006155, 'learning_rate': 0.0052847059899172044, 'max_delta_step': 2, 'max_depth': 21, 'min_child_weight': 0, 'n_estimators': 40, 'subsample': 0.99118668523398912},\n",
       " mean: -0.54597, std: 1.14105, params: {'colsample_bytree': 0.58366654581106903, 'gamma': 1.5083102216216551, 'learning_rate': 0.0047880425213173046, 'max_delta_step': 4, 'max_depth': 11, 'min_child_weight': 4, 'n_estimators': 60, 'subsample': 0.81257282778144468},\n",
       " mean: -0.54749, std: 1.16469, params: {'colsample_bytree': 0.59811868075061325, 'gamma': 1.2936461497081408, 'learning_rate': 0.0060916238065015643, 'max_delta_step': 2, 'max_depth': 10, 'min_child_weight': 1, 'n_estimators': 50, 'subsample': 0.72095033046381629},\n",
       " mean: -0.49712, std: 1.17107, params: {'colsample_bytree': 0.56647498374029648, 'gamma': 0.20498437009161208, 'learning_rate': 0.0067896852015019073, 'max_delta_step': 3, 'max_depth': 28, 'min_child_weight': 3, 'n_estimators': 50, 'subsample': 0.78286039326814927},\n",
       " mean: -0.39371, std: 0.76955, params: {'colsample_bytree': 0.55062674117498978, 'gamma': 0.20110965211243956, 'learning_rate': 0.0060229378547969415, 'max_delta_step': 2, 'max_depth': 5, 'min_child_weight': 5, 'n_estimators': 40, 'subsample': 0.9219298830543915},\n",
       " mean: -0.59890, std: 1.46950, params: {'colsample_bytree': 0.50005653645614245, 'gamma': 1.3367791112563316, 'learning_rate': 0.0074584677572381627, 'max_delta_step': 4, 'max_depth': 7, 'min_child_weight': 2, 'n_estimators': 60, 'subsample': 0.81023107032075214},\n",
       " mean: -0.56846, std: 1.25951, params: {'colsample_bytree': 0.59310147588006279, 'gamma': 1.6474509242169886, 'learning_rate': 0.0056343847595210234, 'max_delta_step': 1, 'max_depth': 29, 'min_child_weight': 2, 'n_estimators': 60, 'subsample': 0.84882901797540411},\n",
       " mean: -0.63828, std: 1.50347, params: {'colsample_bytree': 0.60066736685090927, 'gamma': 0.9677469124248268, 'learning_rate': 0.0072828343917100153, 'max_delta_step': 3, 'max_depth': 10, 'min_child_weight': 4, 'n_estimators': 50, 'subsample': 0.97646040204728968},\n",
       " mean: -0.44915, std: 0.95041, params: {'colsample_bytree': 0.60773969295590102, 'gamma': 0.3663547446591725, 'learning_rate': 0.0045571254925509857, 'max_delta_step': 4, 'max_depth': 23, 'min_child_weight': 4, 'n_estimators': 60, 'subsample': 0.82768541161519338},\n",
       " mean: -0.44853, std: 0.81834, params: {'colsample_bytree': 0.52599857981878628, 'gamma': 1.5888169268922447, 'learning_rate': 0.0057635503811993803, 'max_delta_step': 0, 'max_depth': 14, 'min_child_weight': 4, 'n_estimators': 40, 'subsample': 0.70742336567725705},\n",
       " mean: -0.67090, std: 1.63124, params: {'colsample_bytree': 0.62439818455050156, 'gamma': 0.87333983011962668, 'learning_rate': 0.0069324936726594521, 'max_delta_step': 4, 'max_depth': 14, 'min_child_weight': 2, 'n_estimators': 60, 'subsample': 0.8940036048687533},\n",
       " mean: -0.54846, std: 1.11329, params: {'colsample_bytree': 0.62412256895400786, 'gamma': 1.558680781565043, 'learning_rate': 0.0064265543208172331, 'max_delta_step': 1, 'max_depth': 22, 'min_child_weight': 2, 'n_estimators': 40, 'subsample': 0.99823230415695297},\n",
       " mean: -0.51079, std: 0.97359, params: {'colsample_bytree': 0.59756511181539518, 'gamma': 1.4430332834364517, 'learning_rate': 0.0056360113167829426, 'max_delta_step': 0, 'max_depth': 6, 'min_child_weight': 5, 'n_estimators': 40, 'subsample': 0.8089289081715707},\n",
       " mean: -0.51001, std: 1.06675, params: {'colsample_bytree': 0.51505275555465158, 'gamma': 1.4223366040852268, 'learning_rate': 0.0051373037840989613, 'max_delta_step': 2, 'max_depth': 17, 'min_child_weight': 3, 'n_estimators': 60, 'subsample': 0.7123300837005575},\n",
       " mean: -0.58290, std: 1.31553, params: {'colsample_bytree': 0.64008565220040192, 'gamma': 1.762591627904192, 'learning_rate': 0.0075684402164424933, 'max_delta_step': 0, 'max_depth': 11, 'min_child_weight': 5, 'n_estimators': 50, 'subsample': 0.84160631158719568},\n",
       " mean: -0.56879, std: 1.35336, params: {'colsample_bytree': 0.66626457817585483, 'gamma': 0.59967367947650718, 'learning_rate': 0.0071423004500025585, 'max_delta_step': 2, 'max_depth': 21, 'min_child_weight': 4, 'n_estimators': 50, 'subsample': 0.95003368681947897},\n",
       " mean: -0.44198, std: 0.83462, params: {'colsample_bytree': 0.50096546071412928, 'gamma': 0.87183313140907437, 'learning_rate': 0.0051417184136621549, 'max_delta_step': 2, 'max_depth': 27, 'min_child_weight': 1, 'n_estimators': 50, 'subsample': 0.95637731451887431},\n",
       " mean: -0.65018, std: 1.64430, params: {'colsample_bytree': 0.52054190211408313, 'gamma': 1.2319942819935048, 'learning_rate': 0.007685773394215085, 'max_delta_step': 2, 'max_depth': 26, 'min_child_weight': 2, 'n_estimators': 60, 'subsample': 0.7828149161793112},\n",
       " mean: -0.53109, std: 1.04890, params: {'colsample_bytree': 0.66106292547379053, 'gamma': 1.46947207654311, 'learning_rate': 0.0061703358216009113, 'max_delta_step': 0, 'max_depth': 19, 'min_child_weight': 3, 'n_estimators': 40, 'subsample': 0.75423351209030365},\n",
       " mean: -0.51191, std: 1.11146, params: {'colsample_bytree': 0.50740902971100543, 'gamma': 1.4086020651964981, 'learning_rate': 0.0055597295549967484, 'max_delta_step': 1, 'max_depth': 18, 'min_child_weight': 2, 'n_estimators': 60, 'subsample': 0.93992802817480614},\n",
       " mean: -0.53010, std: 1.19594, params: {'colsample_bytree': 0.52709454258860911, 'gamma': 0.98114764131417331, 'learning_rate': 0.0066453957956820126, 'max_delta_step': 0, 'max_depth': 25, 'min_child_weight': 1, 'n_estimators': 50, 'subsample': 0.77937566551649717},\n",
       " mean: -0.49364, std: 1.15273, params: {'colsample_bytree': 0.63203254259717934, 'gamma': 0.37859620697352914, 'learning_rate': 0.0066798950190641478, 'max_delta_step': 4, 'max_depth': 9, 'min_child_weight': 4, 'n_estimators': 50, 'subsample': 0.98786131830614643},\n",
       " mean: -0.82897, std: 2.13662, params: {'colsample_bytree': 0.66945508979519863, 'gamma': 1.0134373254209934, 'learning_rate': 0.0078648384659022047, 'max_delta_step': 2, 'max_depth': 22, 'min_child_weight': 4, 'n_estimators': 60, 'subsample': 0.9254607949452176},\n",
       " mean: -0.57582, std: 1.27398, params: {'colsample_bytree': 0.60720964775044173, 'gamma': 0.83680228829983494, 'learning_rate': 0.006534708539815616, 'max_delta_step': 1, 'max_depth': 6, 'min_child_weight': 4, 'n_estimators': 50, 'subsample': 0.848291321196876},\n",
       " mean: -0.46867, std: 1.07607, params: {'colsample_bytree': 0.57045078948944328, 'gamma': 0.48282456280654157, 'learning_rate': 0.0063978913729100615, 'max_delta_step': 4, 'max_depth': 28, 'min_child_weight': 0, 'n_estimators': 50, 'subsample': 0.97630792362638619},\n",
       " mean: -0.54061, std: 1.14884, params: {'colsample_bytree': 0.5806013714198166, 'gamma': 1.150506145737701, 'learning_rate': 0.0075000316413132593, 'max_delta_step': 4, 'max_depth': 14, 'min_child_weight': 5, 'n_estimators': 40, 'subsample': 0.70355427329243214},\n",
       " mean: -0.48124, std: 0.90012, params: {'colsample_bytree': 0.57605061127146806, 'gamma': 1.6123889999625287, 'learning_rate': 0.0042987125846709693, 'max_delta_step': 1, 'max_depth': 15, 'min_child_weight': 3, 'n_estimators': 50, 'subsample': 0.95757785597358369},\n",
       " mean: -0.53293, std: 1.14041, params: {'colsample_bytree': 0.68551611697338766, 'gamma': 0.62409494842589952, 'learning_rate': 0.0055534477609441441, 'max_delta_step': 3, 'max_depth': 14, 'min_child_weight': 3, 'n_estimators': 50, 'subsample': 0.99073769284162161},\n",
       " mean: -0.46601, std: 1.01941, params: {'colsample_bytree': 0.65630863387840899, 'gamma': 0.24032568202804061, 'learning_rate': 0.0057700334167212694, 'max_delta_step': 0, 'max_depth': 13, 'min_child_weight': 1, 'n_estimators': 50, 'subsample': 0.98348391740028629},\n",
       " mean: -0.64140, std: 1.53091, params: {'colsample_bytree': 0.59171554139940752, 'gamma': 1.6076980440088462, 'learning_rate': 0.0069779789263475023, 'max_delta_step': 0, 'max_depth': 5, 'min_child_weight': 2, 'n_estimators': 60, 'subsample': 0.83164180123409304},\n",
       " mean: -0.77817, std: 1.99657, params: {'colsample_bytree': 0.63160513238044147, 'gamma': 1.1984250722339069, 'learning_rate': 0.0078259061649925427, 'max_delta_step': 2, 'max_depth': 4, 'min_child_weight': 1, 'n_estimators': 60, 'subsample': 0.96996210504104763},\n",
       " mean: -0.67420, std: 1.55948, params: {'colsample_bytree': 0.66860561551700448, 'gamma': 0.90595870260973888, 'learning_rate': 0.0057586786713485025, 'max_delta_step': 3, 'max_depth': 24, 'min_child_weight': 4, 'n_estimators': 60, 'subsample': 0.71058493886316831},\n",
       " mean: -0.53317, std: 1.09304, params: {'colsample_bytree': 0.63839173403772798, 'gamma': 1.3598540197651923, 'learning_rate': 0.0053634674318007516, 'max_delta_step': 4, 'max_depth': 14, 'min_child_weight': 3, 'n_estimators': 50, 'subsample': 0.85041214460802905},\n",
       " mean: -0.54290, std: 1.31366, params: {'colsample_bytree': 0.51907350066772695, 'gamma': 0.63409935596562816, 'learning_rate': 0.0067457752993876352, 'max_delta_step': 0, 'max_depth': 12, 'min_child_weight': 0, 'n_estimators': 60, 'subsample': 0.82725442097192425},\n",
       " mean: -0.50983, std: 0.95911, params: {'colsample_bytree': 0.6492552210863225, 'gamma': 1.3798778068211777, 'learning_rate': 0.0054354788638502315, 'max_delta_step': 1, 'max_depth': 6, 'min_child_weight': 0, 'n_estimators': 40, 'subsample': 0.73806009525619654},\n",
       " mean: -0.59031, std: 1.32633, params: {'colsample_bytree': 0.66273645314626484, 'gamma': 1.730603039924747, 'learning_rate': 0.0072046983471389494, 'max_delta_step': 0, 'max_depth': 8, 'min_child_weight': 1, 'n_estimators': 50, 'subsample': 0.84338139937384082},\n",
       " mean: -0.44372, std: 0.71542, params: {'colsample_bytree': 0.58328714262057257, 'gamma': 0.93222604342204818, 'learning_rate': 0.0040329882581117346, 'max_delta_step': 0, 'max_depth': 11, 'min_child_weight': 1, 'n_estimators': 40, 'subsample': 0.85822964243244015},\n",
       " mean: -0.51711, std: 1.11884, params: {'colsample_bytree': 0.52735596815783914, 'gamma': 0.74030227692720407, 'learning_rate': 0.0077965226132643293, 'max_delta_step': 2, 'max_depth': 15, 'min_child_weight': 0, 'n_estimators': 40, 'subsample': 0.77234250717716457},\n",
       " mean: -0.55641, std: 1.10765, params: {'colsample_bytree': 0.69984248920945424, 'gamma': 1.5581914832119306, 'learning_rate': 0.0058587159946449398, 'max_delta_step': 2, 'max_depth': 11, 'min_child_weight': 2, 'n_estimators': 40, 'subsample': 0.99290266333337163},\n",
       " mean: -0.54193, std: 1.16375, params: {'colsample_bytree': 0.52549366391805807, 'gamma': 0.8846075708167036, 'learning_rate': 0.0073635718980938503, 'max_delta_step': 4, 'max_depth': 7, 'min_child_weight': 0, 'n_estimators': 40, 'subsample': 0.74222961459745285},\n",
       " mean: -0.49304, std: 1.01348, params: {'colsample_bytree': 0.67580966086414973, 'gamma': 0.33694578850658208, 'learning_rate': 0.0062204361068080817, 'max_delta_step': 1, 'max_depth': 10, 'min_child_weight': 0, 'n_estimators': 40, 'subsample': 0.8267168189526275},\n",
       " mean: -0.52417, std: 1.18046, params: {'colsample_bytree': 0.65010430267826325, 'gamma': 0.34136846012217426, 'learning_rate': 0.0051278806864302456, 'max_delta_step': 1, 'max_depth': 29, 'min_child_weight': 2, 'n_estimators': 60, 'subsample': 0.8160341637247619},\n",
       " mean: -0.47324, std: 1.07686, params: {'colsample_bytree': 0.53588041649835161, 'gamma': 0.46493076039805264, 'learning_rate': 0.0055378410536287611, 'max_delta_step': 2, 'max_depth': 28, 'min_child_weight': 4, 'n_estimators': 60, 'subsample': 0.80430312090704292},\n",
       " mean: -0.70925, std: 1.79456, params: {'colsample_bytree': 0.58054820756731829, 'gamma': 1.290272978896889, 'learning_rate': 0.0076314506798204132, 'max_delta_step': 0, 'max_depth': 7, 'min_child_weight': 0, 'n_estimators': 60, 'subsample': 0.91019068308660056},\n",
       " mean: -0.45014, std: 0.85455, params: {'colsample_bytree': 0.536403653649552, 'gamma': 0.76756438952373296, 'learning_rate': 0.0049263020259716628, 'max_delta_step': 3, 'max_depth': 17, 'min_child_weight': 5, 'n_estimators': 50, 'subsample': 0.8291730785668493},\n",
       " mean: -0.52734, std: 1.08847, params: {'colsample_bytree': 0.58614198093034997, 'gamma': 0.99292518863465395, 'learning_rate': 0.0067217166579770452, 'max_delta_step': 4, 'max_depth': 19, 'min_child_weight': 1, 'n_estimators': 40, 'subsample': 0.86591269592902465},\n",
       " mean: -0.48834, std: 0.93777, params: {'colsample_bytree': 0.55131544634170371, 'gamma': 1.260668610459929, 'learning_rate': 0.0059154439083141672, 'max_delta_step': 0, 'max_depth': 22, 'min_child_weight': 5, 'n_estimators': 40, 'subsample': 0.98949390358040779},\n",
       " mean: -0.55263, std: 1.27913, params: {'colsample_bytree': 0.51447784332557001, 'gamma': 1.417864053781412, 'learning_rate': 0.007172300833347859, 'max_delta_step': 2, 'max_depth': 17, 'min_child_weight': 1, 'n_estimators': 50, 'subsample': 0.89950647111928306},\n",
       " mean: -0.53184, std: 1.17477, params: {'colsample_bytree': 0.55541057747090206, 'gamma': 0.87288413603663972, 'learning_rate': 0.0055897664406508556, 'max_delta_step': 3, 'max_depth': 24, 'min_child_weight': 5, 'n_estimators': 60, 'subsample': 0.94431936888629364},\n",
       " mean: -0.64698, std: 1.46220, params: {'colsample_bytree': 0.67707062078484559, 'gamma': 1.2176740542473745, 'learning_rate': 0.0064969711145822862, 'max_delta_step': 0, 'max_depth': 17, 'min_child_weight': 0, 'n_estimators': 50, 'subsample': 0.72502848035746226},\n",
       " mean: -0.45189, std: 0.98218, params: {'colsample_bytree': 0.62908141314753951, 'gamma': 0.38395078556013545, 'learning_rate': 0.0048888729309691055, 'max_delta_step': 1, 'max_depth': 25, 'min_child_weight': 0, 'n_estimators': 60, 'subsample': 0.94294154135880603},\n",
       " mean: -0.52286, std: 1.06473, params: {'colsample_bytree': 0.68375891956574086, 'gamma': 0.69454069974886323, 'learning_rate': 0.0051685790221525293, 'max_delta_step': 4, 'max_depth': 29, 'min_child_weight': 1, 'n_estimators': 50, 'subsample': 0.96633103210074878},\n",
       " mean: -0.54936, std: 1.08748, params: {'colsample_bytree': 0.6792364261553212, 'gamma': 0.84695548486327366, 'learning_rate': 0.0040670342190844604, 'max_delta_step': 4, 'max_depth': 11, 'min_child_weight': 5, 'n_estimators': 60, 'subsample': 0.79950636272362186},\n",
       " mean: -0.43850, std: 0.86641, params: {'colsample_bytree': 0.54129149615020378, 'gamma': 0.42331299474692019, 'learning_rate': 0.0041122353084178326, 'max_delta_step': 0, 'max_depth': 23, 'min_child_weight': 2, 'n_estimators': 60, 'subsample': 0.75751514210167581},\n",
       " mean: -0.47347, std: 0.91901, params: {'colsample_bytree': 0.55161481039483851, 'gamma': 1.6695073441489339, 'learning_rate': 0.0065458037644184983, 'max_delta_step': 4, 'max_depth': 12, 'min_child_weight': 0, 'n_estimators': 40, 'subsample': 0.81026378874438854},\n",
       " mean: -0.48281, std: 1.06218, params: {'colsample_bytree': 0.55444682999767947, 'gamma': 0.65622224387986239, 'learning_rate': 0.0055100858073600083, 'max_delta_step': 2, 'max_depth': 16, 'min_child_weight': 5, 'n_estimators': 60, 'subsample': 0.97620518873626583},\n",
       " mean: -0.44546, std: 0.85714, params: {'colsample_bytree': 0.65074328733279496, 'gamma': 0.34619674383675392, 'learning_rate': 0.0045011600782127025, 'max_delta_step': 0, 'max_depth': 15, 'min_child_weight': 2, 'n_estimators': 50, 'subsample': 0.84717348185217778},\n",
       " mean: -0.54733, std: 1.12624, params: {'colsample_bytree': 0.62806152620047018, 'gamma': 1.4023994424691753, 'learning_rate': 0.0052426669175826878, 'max_delta_step': 3, 'max_depth': 13, 'min_child_weight': 4, 'n_estimators': 50, 'subsample': 0.96537398539594887},\n",
       " mean: -0.43994, std: 0.85825, params: {'colsample_bytree': 0.52489779065330633, 'gamma': 0.63485172849397586, 'learning_rate': 0.0043166845007792699, 'max_delta_step': 4, 'max_depth': 24, 'min_child_weight': 5, 'n_estimators': 60, 'subsample': 0.89692696091579083},\n",
       " mean: -0.46383, std: 1.00867, params: {'colsample_bytree': 0.53058608949539277, 'gamma': 0.62316941819904637, 'learning_rate': 0.0076247515498282185, 'max_delta_step': 2, 'max_depth': 14, 'min_child_weight': 4, 'n_estimators': 40, 'subsample': 0.95977721510808167},\n",
       " mean: -0.48535, std: 0.91949, params: {'colsample_bytree': 0.58868415734865609, 'gamma': 1.4318398345880137, 'learning_rate': 0.0055526436036761068, 'max_delta_step': 3, 'max_depth': 5, 'min_child_weight': 1, 'n_estimators': 40, 'subsample': 0.88201119461665511},\n",
       " mean: -0.41197, std: 0.75037, params: {'colsample_bytree': 0.59435555996510159, 'gamma': 0.44305103257924561, 'learning_rate': 0.0041291369058943199, 'max_delta_step': 0, 'max_depth': 15, 'min_child_weight': 5, 'n_estimators': 50, 'subsample': 0.93078254377006031},\n",
       " mean: -0.45700, std: 0.84287, params: {'colsample_bytree': 0.51243506158414764, 'gamma': 1.4946308257159646, 'learning_rate': 0.0056555976739984517, 'max_delta_step': 4, 'max_depth': 23, 'min_child_weight': 1, 'n_estimators': 40, 'subsample': 0.82258473489342909},\n",
       " mean: -0.50685, std: 0.99764, params: {'colsample_bytree': 0.58591958235035091, 'gamma': 1.3591550809572559, 'learning_rate': 0.0061057323590805925, 'max_delta_step': 2, 'max_depth': 9, 'min_child_weight': 2, 'n_estimators': 40, 'subsample': 0.86929190831478509},\n",
       " mean: -0.59690, std: 1.40125, params: {'colsample_bytree': 0.5591089322309023, 'gamma': 1.1988230229225187, 'learning_rate': 0.0062730124666210947, 'max_delta_step': 4, 'max_depth': 20, 'min_child_weight': 4, 'n_estimators': 60, 'subsample': 0.78491018026507064},\n",
       " mean: -0.52334, std: 1.25565, params: {'colsample_bytree': 0.57974199899167655, 'gamma': 0.34390663041676445, 'learning_rate': 0.0069881297903388552, 'max_delta_step': 1, 'max_depth': 24, 'min_child_weight': 4, 'n_estimators': 50, 'subsample': 0.72992445204326728},\n",
       " mean: -0.43680, std: 0.69186, params: {'colsample_bytree': 0.59856479678784558, 'gamma': 0.68839784307509222, 'learning_rate': 0.0040944457573991256, 'max_delta_step': 3, 'max_depth': 29, 'min_child_weight': 5, 'n_estimators': 40, 'subsample': 0.84744618218053425},\n",
       " mean: -0.62367, std: 1.50500, params: {'colsample_bytree': 0.5459404522254675, 'gamma': 1.3063537429168339, 'learning_rate': 0.0067383654303743816, 'max_delta_step': 1, 'max_depth': 13, 'min_child_weight': 2, 'n_estimators': 60, 'subsample': 0.84706237895004199},\n",
       " mean: -0.42013, std: 0.84170, params: {'colsample_bytree': 0.56402677548801761, 'gamma': 0.41048216300106372, 'learning_rate': 0.0040585530901347212, 'max_delta_step': 1, 'max_depth': 21, 'min_child_weight': 4, 'n_estimators': 60, 'subsample': 0.83237688701118995},\n",
       " mean: -0.47592, std: 0.85955, params: {'colsample_bytree': 0.65836682792801926, 'gamma': 1.6587101657380927, 'learning_rate': 0.0042404211849688331, 'max_delta_step': 3, 'max_depth': 10, 'min_child_weight': 4, 'n_estimators': 50, 'subsample': 0.74423104814985441},\n",
       " mean: -0.50881, std: 1.07879, params: {'colsample_bytree': 0.53546619976320142, 'gamma': 0.93789732450295893, 'learning_rate': 0.005888196687456217, 'max_delta_step': 0, 'max_depth': 5, 'min_child_weight': 4, 'n_estimators': 50, 'subsample': 0.77393041679917751},\n",
       " mean: -0.63088, std: 1.45663, params: {'colsample_bytree': 0.65303485891647639, 'gamma': 1.2824222724661509, 'learning_rate': 0.0066689371747127944, 'max_delta_step': 0, 'max_depth': 12, 'min_child_weight': 5, 'n_estimators': 50, 'subsample': 0.87884291581839968},\n",
       " mean: -0.49342, std: 1.01768, params: {'colsample_bytree': 0.62049197827843638, 'gamma': 0.60606827730373747, 'learning_rate': 0.0054384760027393828, 'max_delta_step': 4, 'max_depth': 17, 'min_child_weight': 1, 'n_estimators': 50, 'subsample': 0.91163530100490564},\n",
       " mean: -0.68065, std: 1.62036, params: {'colsample_bytree': 0.6261691488988631, 'gamma': 1.0592703196222366, 'learning_rate': 0.006402555467733927, 'max_delta_step': 3, 'max_depth': 15, 'min_child_weight': 2, 'n_estimators': 60, 'subsample': 0.74132292769802399},\n",
       " mean: -0.63983, std: 1.50441, params: {'colsample_bytree': 0.60092738912675792, 'gamma': 0.75233612328653576, 'learning_rate': 0.0074954625659124988, 'max_delta_step': 4, 'max_depth': 10, 'min_child_weight': 0, 'n_estimators': 50, 'subsample': 0.7291997006289056},\n",
       " mean: -0.54602, std: 1.15142, params: {'colsample_bytree': 0.617887932136997, 'gamma': 1.0415160299128121, 'learning_rate': 0.0057410840508195929, 'max_delta_step': 1, 'max_depth': 5, 'min_child_weight': 2, 'n_estimators': 50, 'subsample': 0.93708096661446372},\n",
       " mean: -0.51012, std: 1.01427, params: {'colsample_bytree': 0.58326244148479034, 'gamma': 1.1966946967054137, 'learning_rate': 0.0042800364608602129, 'max_delta_step': 2, 'max_depth': 9, 'min_child_weight': 5, 'n_estimators': 60, 'subsample': 0.96032622959292846},\n",
       " mean: -0.58347, std: 1.47881, params: {'colsample_bytree': 0.68418840229128253, 'gamma': 0.39039904431967565, 'learning_rate': 0.0065738617848044405, 'max_delta_step': 0, 'max_depth': 21, 'min_child_weight': 3, 'n_estimators': 60, 'subsample': 0.99420924882605244},\n",
       " mean: -0.53404, std: 1.20822, params: {'colsample_bytree': 0.59972133912970815, 'gamma': 0.49924123067294651, 'learning_rate': 0.0054984898678847056, 'max_delta_step': 3, 'max_depth': 4, 'min_child_weight': 3, 'n_estimators': 60, 'subsample': 0.76416213722528981},\n",
       " mean: -0.47212, std: 0.95686, params: {'colsample_bytree': 0.5906877115960163, 'gamma': 0.48994055440893675, 'learning_rate': 0.0051235011508990805, 'max_delta_step': 2, 'max_depth': 15, 'min_child_weight': 0, 'n_estimators': 50, 'subsample': 0.76490356737025123},\n",
       " mean: -0.41809, std: 0.82309, params: {'colsample_bytree': 0.52271027202689635, 'gamma': 0.40623238731758687, 'learning_rate': 0.0047253165162234965, 'max_delta_step': 4, 'max_depth': 18, 'min_child_weight': 1, 'n_estimators': 50, 'subsample': 0.73555415494537502},\n",
       " mean: -0.42347, std: 0.83292, params: {'colsample_bytree': 0.54546508333473664, 'gamma': 0.55697021969984783, 'learning_rate': 0.004977133244461843, 'max_delta_step': 4, 'max_depth': 10, 'min_child_weight': 3, 'n_estimators': 50, 'subsample': 0.84159353435269146},\n",
       " mean: -0.57382, std: 1.21516, params: {'colsample_bytree': 0.67824180658163657, 'gamma': 1.2570218425557176, 'learning_rate': 0.0046708298409740313, 'max_delta_step': 0, 'max_depth': 24, 'min_child_weight': 1, 'n_estimators': 60, 'subsample': 0.93425126865492814},\n",
       " mean: -0.43453, std: 0.76584, params: {'colsample_bytree': 0.55261347051671084, 'gamma': 1.7941666347720013, 'learning_rate': 0.0054688813407723462, 'max_delta_step': 1, 'max_depth': 13, 'min_child_weight': 5, 'n_estimators': 40, 'subsample': 0.80607045337241634},\n",
       " mean: -0.44964, std: 0.81478, params: {'colsample_bytree': 0.50456186003368808, 'gamma': 0.89384506069259229, 'learning_rate': 0.0044261308612249658, 'max_delta_step': 1, 'max_depth': 4, 'min_child_weight': 5, 'n_estimators': 50, 'subsample': 0.76669394239079081},\n",
       " mean: -0.48407, std: 0.93503, params: {'colsample_bytree': 0.55179233571726338, 'gamma': 0.7914542587343496, 'learning_rate': 0.0063007237245059989, 'max_delta_step': 4, 'max_depth': 17, 'min_child_weight': 1, 'n_estimators': 40, 'subsample': 0.81727057684377602},\n",
       " mean: -0.48325, std: 0.83229, params: {'colsample_bytree': 0.66638724169988772, 'gamma': 0.66974923942299602, 'learning_rate': 0.0048080886112307113, 'max_delta_step': 2, 'max_depth': 23, 'min_child_weight': 5, 'n_estimators': 40, 'subsample': 0.80729968129746332},\n",
       " mean: -0.68444, std: 1.51524, params: {'colsample_bytree': 0.66681637887569778, 'gamma': 0.76292542554428855, 'learning_rate': 0.0074275105447341944, 'max_delta_step': 4, 'max_depth': 12, 'min_child_weight': 2, 'n_estimators': 40, 'subsample': 0.74375233139778396},\n",
       " mean: -0.45621, std: 0.83357, params: {'colsample_bytree': 0.5222967000869726, 'gamma': 1.3003529103666644, 'learning_rate': 0.0042984429974782124, 'max_delta_step': 1, 'max_depth': 11, 'min_child_weight': 4, 'n_estimators': 50, 'subsample': 0.8011145348498605},\n",
       " mean: -0.46624, std: 0.99393, params: {'colsample_bytree': 0.54879306851689913, 'gamma': 0.58877468367155128, 'learning_rate': 0.0074347771398412792, 'max_delta_step': 3, 'max_depth': 16, 'min_child_weight': 2, 'n_estimators': 40, 'subsample': 0.8572835249944244},\n",
       " mean: -0.46349, std: 0.88898, params: {'colsample_bytree': 0.50602227706474978, 'gamma': 1.0432202519615792, 'learning_rate': 0.0042995235985190524, 'max_delta_step': 4, 'max_depth': 13, 'min_child_weight': 1, 'n_estimators': 60, 'subsample': 0.97756744663241579},\n",
       " mean: -0.49869, std: 0.91617, params: {'colsample_bytree': 0.63373447295587426, 'gamma': 1.4393478191037332, 'learning_rate': 0.0051298076281671738, 'max_delta_step': 2, 'max_depth': 3, 'min_child_weight': 5, 'n_estimators': 40, 'subsample': 0.91944224842720579},\n",
       " mean: -0.67358, std: 1.60858, params: {'colsample_bytree': 0.63713403681333569, 'gamma': 1.2324222677320926, 'learning_rate': 0.0078209957872119908, 'max_delta_step': 0, 'max_depth': 21, 'min_child_weight': 0, 'n_estimators': 50, 'subsample': 0.89968223960617255},\n",
       " mean: -0.63059, std: 1.48272, params: {'colsample_bytree': 0.56485986216176332, 'gamma': 1.0205021611557132, 'learning_rate': 0.007092892129542434, 'max_delta_step': 3, 'max_depth': 14, 'min_child_weight': 1, 'n_estimators': 50, 'subsample': 0.79752409547935854},\n",
       " mean: -0.46504, std: 0.88210, params: {'colsample_bytree': 0.50863818853745557, 'gamma': 1.0346172979180084, 'learning_rate': 0.0049088750285594986, 'max_delta_step': 1, 'max_depth': 19, 'min_child_weight': 0, 'n_estimators': 50, 'subsample': 0.8031348097212927},\n",
       " mean: -0.61357, std: 1.34602, params: {'colsample_bytree': 0.66548785300988633, 'gamma': 1.0235947021282541, 'learning_rate': 0.0059502899356939538, 'max_delta_step': 4, 'max_depth': 13, 'min_child_weight': 2, 'n_estimators': 50, 'subsample': 0.80576076958591736},\n",
       " mean: -0.49405, std: 0.89080, params: {'colsample_bytree': 0.63917157561326543, 'gamma': 1.65280966514469, 'learning_rate': 0.0049280520860247225, 'max_delta_step': 2, 'max_depth': 18, 'min_child_weight': 4, 'n_estimators': 40, 'subsample': 0.96538200681061592},\n",
       " mean: -0.47416, std: 0.95960, params: {'colsample_bytree': 0.59271739004500312, 'gamma': 0.64135288052783945, 'learning_rate': 0.0045611714143798813, 'max_delta_step': 0, 'max_depth': 6, 'min_child_weight': 0, 'n_estimators': 60, 'subsample': 0.89589837528199068},\n",
       " mean: -0.54549, std: 1.20596, params: {'colsample_bytree': 0.68098428922487231, 'gamma': 0.42173311751647785, 'learning_rate': 0.0058061499552805595, 'max_delta_step': 1, 'max_depth': 20, 'min_child_weight': 3, 'n_estimators': 50, 'subsample': 0.82139385017511091}]"
      ]
     },
     "execution_count": 384,
     "metadata": {},
     "output_type": "execute_result"
    }
   ],
   "source": [
    "gs.grid_scores_"
   ]
  },
  {
   "cell_type": "code",
   "execution_count": 386,
   "metadata": {
    "collapsed": true
   },
   "outputs": [],
   "source": [
    "best_model = XGBRegressor(\n",
    "    colsample_bytree = 0.633975634,\n",
    "    gamma = 0.224409426,\n",
    "    learning_rate = 0.004244717,\n",
    "    max_depth = 23,\n",
    "    n_estimators = 40,\n",
    "    subsample = 0.903451557,\n",
    "    min_child_weight = 1,\n",
    "    max_delta_step = 1,\n",
    "    n_jobs = -1    \n",
    ")"
   ]
  },
  {
   "cell_type": "code",
   "execution_count": 387,
   "metadata": {},
   "outputs": [
    {
     "data": {
      "text/plain": [
       "XGBRegressor(base_score=0.5, booster='gbtree', colsample_bylevel=1,\n",
       "       colsample_bytree=0.633975634, gamma=0.224409426,\n",
       "       learning_rate=0.004244717, max_delta_step=1, max_depth=23,\n",
       "       min_child_weight=1, missing=None, n_estimators=40, n_jobs=-1,\n",
       "       nthread=None, objective='reg:linear', random_state=0, reg_alpha=0,\n",
       "       reg_lambda=1, scale_pos_weight=1, seed=None, silent=True,\n",
       "       subsample=0.903451557)"
      ]
     },
     "execution_count": 387,
     "metadata": {},
     "output_type": "execute_result"
    }
   ],
   "source": [
    "best_model.fit(train_feature_df_shrinked, data.train_outcome_df.iloc[:,0])"
   ]
  },
  {
   "cell_type": "code",
   "execution_count": 388,
   "metadata": {
    "collapsed": true
   },
   "outputs": [],
   "source": [
    "prediction = best_model.predict(test_feature_df_shrinked)\n",
    "pd.DataFrame(prediction).to_csv('result.csv', sep='\\t', index = False)"
   ]
  },
  {
   "cell_type": "code",
   "execution_count": null,
   "metadata": {
    "collapsed": true
   },
   "outputs": [],
   "source": []
  },
  {
   "cell_type": "code",
   "execution_count": null,
   "metadata": {
    "collapsed": true
   },
   "outputs": [],
   "source": []
  },
  {
   "cell_type": "code",
   "execution_count": null,
   "metadata": {
    "collapsed": true
   },
   "outputs": [],
   "source": []
  },
  {
   "cell_type": "code",
   "execution_count": null,
   "metadata": {
    "collapsed": true
   },
   "outputs": [],
   "source": []
  },
  {
   "cell_type": "code",
   "execution_count": null,
   "metadata": {
    "collapsed": true
   },
   "outputs": [],
   "source": []
  },
  {
   "cell_type": "code",
   "execution_count": null,
   "metadata": {
    "collapsed": true
   },
   "outputs": [],
   "source": []
  },
  {
   "cell_type": "code",
   "execution_count": null,
   "metadata": {
    "collapsed": true
   },
   "outputs": [],
   "source": []
  },
  {
   "cell_type": "code",
   "execution_count": null,
   "metadata": {
    "collapsed": true
   },
   "outputs": [],
   "source": []
  },
  {
   "cell_type": "code",
   "execution_count": null,
   "metadata": {},
   "outputs": [],
   "source": []
  },
  {
   "cell_type": "markdown",
   "metadata": {},
   "source": [
    "# XGBOOST TREE WITH UNFILLED DATA"
   ]
  },
  {
   "cell_type": "code",
   "execution_count": 88,
   "metadata": {},
   "outputs": [
    {
     "data": {
      "text/plain": [
       "RandomizedSearchCV(cv=10, error_score='raise',\n",
       "          estimator=XGBRegressor(base_score=0.5, booster='gbtree', colsample_bylevel=1,\n",
       "       colsample_bytree=1, gamma=0, learning_rate=0.1, max_delta_step=0,\n",
       "       max_depth=3, min_child_weight=1, missing=None, n_estimators=100,\n",
       "       n_jobs=-1, nthread=None, objective='reg:linear', random_state=0,\n",
       "       reg_alpha=0, reg_lambda=1, scale_pos_weight=1, seed=None,\n",
       "       silent=True, subsample=1),\n",
       "          fit_params=None, iid=True, n_iter=200, n_jobs=-1,\n",
       "          param_distributions={'n_estimators': [40, 50, 60], 'max_depth': <scipy.stats._distn_infrastructure.rv_frozen object at 0x000001A2F6AAB278>, 'learning_rate': <scipy.stats._distn_infrastructure.rv_frozen object at 0x000001A2F6AAB7F0>, 'colsample_bytree': <scipy.stats._distn_infrastructure.rv_frozen ob...t at 0x000001A2F6AAB080>, 'min_child_weight': [0, 1, 2, 3, 4, 5], 'max_delta_step': [0, 1, 2, 3, 4]},\n",
       "          pre_dispatch='2*n_jobs', random_state=None, refit=True,\n",
       "          return_train_score=True, scoring=None, verbose=0)"
      ]
     },
     "execution_count": 88,
     "metadata": {},
     "output_type": "execute_result"
    }
   ],
   "source": [
    "params = {\n",
    "    \"n_estimators\": [40, 50, 60],\n",
    "    \"max_depth\": st.randint(3, 30),\n",
    "    \"learning_rate\": st.uniform(0.005, 0.01),\n",
    "    #\"learning_rate\": st.uniform(0.001, 0.01),\n",
    "    #\"learning_rate\": st.uniform(0.006, 0.006),\n",
    "    \"colsample_bytree\": st.uniform(0.60, 0.40),\n",
    "    #\"colsample_bytree\": st.uniform(0.80, 0.20),\n",
    "    \"subsample\": st.uniform(0.7, 0.3),\n",
    "    \"gamma\": st.uniform(0.2, 1.6),\n",
    "    #\"gamma\": st.uniform(0.2, 0.3),\n",
    "    \"min_child_weight\": [0,1,2,3,4,5],\n",
    "    \"max_delta_step\": [0, 1, 2, 3,4]\n",
    "}\n",
    "\n",
    "model = XGBRegressor(n_jobs = -1) # nthread deprecated\n",
    "\n",
    "gs = RandomizedSearchCV(model, params, n_jobs=-1, n_iter=200, cv = 10)\n",
    "\n",
    "gs.fit(data.train_feature_df, data.train_outcome_df.iloc[:,0])"
   ]
  },
  {
   "cell_type": "code",
   "execution_count": 89,
   "metadata": {
    "scrolled": true
   },
   "outputs": [
    {
     "name": "stderr",
     "output_type": "stream",
     "text": [
      "C:\\Users\\Kevin\\Anaconda3\\lib\\site-packages\\sklearn\\model_selection\\_search.py:747: DeprecationWarning: The grid_scores_ attribute was deprecated in version 0.18 in favor of the more elaborate cv_results_ attribute. The grid_scores_ attribute will not be available from 0.20\n",
      "  DeprecationWarning)\n"
     ]
    },
    {
     "data": {
      "text/plain": [
       "[mean: -0.29909, std: 0.49068, params: {'colsample_bytree': 0.86970484866295972, 'gamma': 1.5621799071938434, 'learning_rate': 0.013384828539404835, 'max_delta_step': 3, 'max_depth': 28, 'min_child_weight': 4, 'n_estimators': 60, 'subsample': 0.70073152336724553},\n",
       " mean: -0.28617, std: 0.48521, params: {'colsample_bytree': 0.89359237800513347, 'gamma': 1.2379315875116794, 'learning_rate': 0.013873128194337218, 'max_delta_step': 0, 'max_depth': 24, 'min_child_weight': 1, 'n_estimators': 50, 'subsample': 0.77440598474960143},\n",
       " mean: -0.30193, std: 0.51832, params: {'colsample_bytree': 0.66675627708591589, 'gamma': 1.6996971112920656, 'learning_rate': 0.012019691938585018, 'max_delta_step': 0, 'max_depth': 24, 'min_child_weight': 4, 'n_estimators': 60, 'subsample': 0.85362149497696693},\n",
       " mean: -0.30227, std: 0.51429, params: {'colsample_bytree': 0.64167381927756917, 'gamma': 1.5782349425219659, 'learning_rate': 0.0065250600077842967, 'max_delta_step': 1, 'max_depth': 7, 'min_child_weight': 3, 'n_estimators': 60, 'subsample': 0.87575779888372496},\n",
       " mean: -0.27261, std: 0.44922, params: {'colsample_bytree': 0.94998549794719211, 'gamma': 1.5193372112604022, 'learning_rate': 0.010294846997849497, 'max_delta_step': 2, 'max_depth': 16, 'min_child_weight': 4, 'n_estimators': 40, 'subsample': 0.88187082350140311},\n",
       " mean: -0.32856, std: 0.50461, params: {'colsample_bytree': 0.62646315677545095, 'gamma': 1.5290539597243666, 'learning_rate': 0.005283642719891196, 'max_delta_step': 4, 'max_depth': 21, 'min_child_weight': 1, 'n_estimators': 40, 'subsample': 0.97292559304279458},\n",
       " mean: -0.30446, std: 0.52292, params: {'colsample_bytree': 0.65099857497151736, 'gamma': 1.6282766371731494, 'learning_rate': 0.010293955508527929, 'max_delta_step': 4, 'max_depth': 15, 'min_child_weight': 5, 'n_estimators': 50, 'subsample': 0.86704933101755799},\n",
       " mean: -0.27978, std: 0.68945, params: {'colsample_bytree': 0.70513998968392388, 'gamma': 0.23883083872074043, 'learning_rate': 0.013294904959772445, 'max_delta_step': 2, 'max_depth': 18, 'min_child_weight': 4, 'n_estimators': 50, 'subsample': 0.79263327721017929},\n",
       " mean: -0.26030, std: 0.48216, params: {'colsample_bytree': 0.7638263612893208, 'gamma': 1.3731709010384348, 'learning_rate': 0.014863070801460269, 'max_delta_step': 3, 'max_depth': 28, 'min_child_weight': 4, 'n_estimators': 50, 'subsample': 0.85915965382463699},\n",
       " mean: -0.29373, std: 0.48040, params: {'colsample_bytree': 0.89834600085185401, 'gamma': 1.6791475795147375, 'learning_rate': 0.0095019716924480153, 'max_delta_step': 1, 'max_depth': 13, 'min_child_weight': 5, 'n_estimators': 50, 'subsample': 0.83805584362758867},\n",
       " mean: -0.30271, std: 0.54059, params: {'colsample_bytree': 0.68602098411781409, 'gamma': 1.2244061880526849, 'learning_rate': 0.013501249326487396, 'max_delta_step': 4, 'max_depth': 12, 'min_child_weight': 0, 'n_estimators': 40, 'subsample': 0.80728260173340904},\n",
       " mean: -0.26574, std: 0.58818, params: {'colsample_bytree': 0.76320159405895172, 'gamma': 0.2589493635194442, 'learning_rate': 0.0083682609077950811, 'max_delta_step': 1, 'max_depth': 12, 'min_child_weight': 5, 'n_estimators': 50, 'subsample': 0.7767084575218588},\n",
       " mean: -0.27478, std: 0.53082, params: {'colsample_bytree': 0.60013053821561047, 'gamma': 0.33400370398586415, 'learning_rate': 0.0085775196338541745, 'max_delta_step': 3, 'max_depth': 25, 'min_child_weight': 2, 'n_estimators': 40, 'subsample': 0.86389853344078915},\n",
       " mean: -0.28968, std: 0.56899, params: {'colsample_bytree': 0.74734211501791603, 'gamma': 0.8432136983872407, 'learning_rate': 0.014004631514447637, 'max_delta_step': 3, 'max_depth': 13, 'min_child_weight': 2, 'n_estimators': 40, 'subsample': 0.89233225060278742},\n",
       " mean: -0.29789, std: 0.64259, params: {'colsample_bytree': 0.72939036206467633, 'gamma': 0.570935117440448, 'learning_rate': 0.0082287972107437449, 'max_delta_step': 0, 'max_depth': 7, 'min_child_weight': 4, 'n_estimators': 60, 'subsample': 0.77783337536748809},\n",
       " mean: -0.31404, std: 0.57528, params: {'colsample_bytree': 0.77965828133502013, 'gamma': 0.98927233915229063, 'learning_rate': 0.0079379692366525582, 'max_delta_step': 3, 'max_depth': 27, 'min_child_weight': 0, 'n_estimators': 40, 'subsample': 0.93502702157263984},\n",
       " mean: -0.27566, std: 0.49815, params: {'colsample_bytree': 0.64872838957419343, 'gamma': 1.6132071258943879, 'learning_rate': 0.014028410348843712, 'max_delta_step': 1, 'max_depth': 3, 'min_child_weight': 3, 'n_estimators': 60, 'subsample': 0.88946187531572396},\n",
       " mean: -0.32135, std: 0.54013, params: {'colsample_bytree': 0.74660582444805401, 'gamma': 0.55413651500346717, 'learning_rate': 0.0052236035164267315, 'max_delta_step': 2, 'max_depth': 22, 'min_child_weight': 4, 'n_estimators': 40, 'subsample': 0.71174737634247631},\n",
       " mean: -0.25481, std: 0.47585, params: {'colsample_bytree': 0.72899383406299312, 'gamma': 1.7195057139279262, 'learning_rate': 0.014825646592556665, 'max_delta_step': 1, 'max_depth': 6, 'min_child_weight': 3, 'n_estimators': 60, 'subsample': 0.96669156800305933},\n",
       " mean: -0.26167, std: 0.48736, params: {'colsample_bytree': 0.75073232385401911, 'gamma': 1.4288165658221847, 'learning_rate': 0.013297297908004643, 'max_delta_step': 1, 'max_depth': 4, 'min_child_weight': 3, 'n_estimators': 60, 'subsample': 0.95590926451403313},\n",
       " mean: -0.33592, std: 0.64036, params: {'colsample_bytree': 0.98391776848169099, 'gamma': 0.75875351440858596, 'learning_rate': 0.010061683377278408, 'max_delta_step': 3, 'max_depth': 9, 'min_child_weight': 0, 'n_estimators': 60, 'subsample': 0.94721871948018788},\n",
       " mean: -0.27798, std: 0.48402, params: {'colsample_bytree': 0.69719748404183746, 'gamma': 1.458278679643741, 'learning_rate': 0.014996148124020121, 'max_delta_step': 3, 'max_depth': 19, 'min_child_weight': 0, 'n_estimators': 40, 'subsample': 0.78106026365867975},\n",
       " mean: -0.28752, std: 0.48526, params: {'colsample_bytree': 0.89877852813481862, 'gamma': 1.3184501063870562, 'learning_rate': 0.012379735813230253, 'max_delta_step': 1, 'max_depth': 4, 'min_child_weight': 4, 'n_estimators': 50, 'subsample': 0.89375782957833749},\n",
       " mean: -0.30578, std: 0.65791, params: {'colsample_bytree': 0.8809533704008925, 'gamma': 0.26051184676191319, 'learning_rate': 0.010248960498787226, 'max_delta_step': 3, 'max_depth': 29, 'min_child_weight': 0, 'n_estimators': 50, 'subsample': 0.77592669366541533},\n",
       " mean: -0.28645, std: 0.49603, params: {'colsample_bytree': 0.70935035103838484, 'gamma': 1.662562045196236, 'learning_rate': 0.01255882800293702, 'max_delta_step': 0, 'max_depth': 15, 'min_child_weight': 2, 'n_estimators': 40, 'subsample': 0.89429185334720251},\n",
       " mean: -0.27759, std: 0.57006, params: {'colsample_bytree': 0.82647328365022255, 'gamma': 0.20570779639552228, 'learning_rate': 0.011173374157636463, 'max_delta_step': 0, 'max_depth': 6, 'min_child_weight': 5, 'n_estimators': 40, 'subsample': 0.89550188022107113},\n",
       " mean: -0.31959, std: 0.52332, params: {'colsample_bytree': 0.67351086536073301, 'gamma': 1.6871262316632369, 'learning_rate': 0.010835496409771283, 'max_delta_step': 1, 'max_depth': 22, 'min_child_weight': 2, 'n_estimators': 50, 'subsample': 0.79615345375209079},\n",
       " mean: -0.27412, std: 0.57226, params: {'colsample_bytree': 0.94189156174028232, 'gamma': 0.31593373411142844, 'learning_rate': 0.010760861123414081, 'max_delta_step': 2, 'max_depth': 26, 'min_child_weight': 0, 'n_estimators': 50, 'subsample': 0.9416440000631715},\n",
       " mean: -0.32956, std: 0.62023, params: {'colsample_bytree': 0.77641720546869519, 'gamma': 0.9845766884923195, 'learning_rate': 0.014430903546729407, 'max_delta_step': 0, 'max_depth': 25, 'min_child_weight': 2, 'n_estimators': 50, 'subsample': 0.85626350135126139},\n",
       " mean: -0.30497, std: 0.59606, params: {'colsample_bytree': 0.92874017571882994, 'gamma': 0.67072326419502437, 'learning_rate': 0.010156903154540277, 'max_delta_step': 0, 'max_depth': 5, 'min_child_weight': 0, 'n_estimators': 60, 'subsample': 0.99919679898959124},\n",
       " mean: -0.32406, std: 0.50572, params: {'colsample_bytree': 0.71970739089867108, 'gamma': 1.3225354266445615, 'learning_rate': 0.00562079719562995, 'max_delta_step': 4, 'max_depth': 14, 'min_child_weight': 1, 'n_estimators': 40, 'subsample': 0.774617989814261},\n",
       " mean: -0.31249, std: 0.58192, params: {'colsample_bytree': 0.67551131835183154, 'gamma': 0.94730381070711811, 'learning_rate': 0.014379112609465838, 'max_delta_step': 3, 'max_depth': 6, 'min_child_weight': 2, 'n_estimators': 60, 'subsample': 0.90620083161502185},\n",
       " mean: -0.29905, std: 0.56095, params: {'colsample_bytree': 0.79972165629756164, 'gamma': 0.95745265791829004, 'learning_rate': 0.014485137647293093, 'max_delta_step': 4, 'max_depth': 11, 'min_child_weight': 0, 'n_estimators': 60, 'subsample': 0.97195663115491437},\n",
       " mean: -0.31973, std: 0.48826, params: {'colsample_bytree': 0.87646563770849806, 'gamma': 1.4614545740853793, 'learning_rate': 0.0061869415598669233, 'max_delta_step': 2, 'max_depth': 3, 'min_child_weight': 3, 'n_estimators': 40, 'subsample': 0.74685606286888295},\n",
       " mean: -0.33062, std: 0.48559, params: {'colsample_bytree': 0.96932331194197308, 'gamma': 1.7091046893920538, 'learning_rate': 0.0056061884931526244, 'max_delta_step': 4, 'max_depth': 16, 'min_child_weight': 2, 'n_estimators': 40, 'subsample': 0.78752235489638434},\n",
       " mean: -0.27544, std: 0.45953, params: {'colsample_bytree': 0.9384243776696114, 'gamma': 1.5878988271742551, 'learning_rate': 0.0059677594315745482, 'max_delta_step': 4, 'max_depth': 7, 'min_child_weight': 2, 'n_estimators': 60, 'subsample': 0.96411090763725693},\n",
       " mean: -0.25354, std: 0.50340, params: {'colsample_bytree': 0.94105568952575003, 'gamma': 0.29162581003162985, 'learning_rate': 0.012601267577061977, 'max_delta_step': 1, 'max_depth': 12, 'min_child_weight': 5, 'n_estimators': 50, 'subsample': 0.9841588641512371},\n",
       " mean: -0.30516, std: 0.48914, params: {'colsample_bytree': 0.92597471057521163, 'gamma': 1.7820631463303973, 'learning_rate': 0.0099719080074933113, 'max_delta_step': 4, 'max_depth': 11, 'min_child_weight': 1, 'n_estimators': 60, 'subsample': 0.81390095587401889},\n",
       " mean: -0.30165, std: 0.58001, params: {'colsample_bytree': 0.87186406253368376, 'gamma': 0.76771484017008107, 'learning_rate': 0.011112350467336839, 'max_delta_step': 1, 'max_depth': 26, 'min_child_weight': 2, 'n_estimators': 40, 'subsample': 0.72410138808368651},\n",
       " mean: -0.31391, std: 0.77399, params: {'colsample_bytree': 0.66838579284178967, 'gamma': 0.23489503216070365, 'learning_rate': 0.013188553909461803, 'max_delta_step': 1, 'max_depth': 16, 'min_child_weight': 3, 'n_estimators': 60, 'subsample': 0.76010089463163777},\n",
       " mean: -0.28747, std: 0.53985, params: {'colsample_bytree': 0.69180097039320221, 'gamma': 1.1866854870457126, 'learning_rate': 0.013123890690973146, 'max_delta_step': 2, 'max_depth': 17, 'min_child_weight': 3, 'n_estimators': 40, 'subsample': 0.88128295668609258},\n",
       " mean: -0.33120, std: 0.55705, params: {'colsample_bytree': 0.73547750335696183, 'gamma': 0.98393900410128321, 'learning_rate': 0.0055058780352829403, 'max_delta_step': 0, 'max_depth': 23, 'min_child_weight': 5, 'n_estimators': 40, 'subsample': 0.9840875354303551},\n",
       " mean: -0.35531, std: 0.65256, params: {'colsample_bytree': 0.78512072644048636, 'gamma': 0.88334766611822224, 'learning_rate': 0.014052123115428757, 'max_delta_step': 4, 'max_depth': 10, 'min_child_weight': 1, 'n_estimators': 60, 'subsample': 0.79959963226449216},\n",
       " mean: -0.27264, std: 0.46407, params: {'colsample_bytree': 0.93103052015457877, 'gamma': 1.3011972620557926, 'learning_rate': 0.0075636152852763643, 'max_delta_step': 4, 'max_depth': 17, 'min_child_weight': 2, 'n_estimators': 50, 'subsample': 0.90204414496015073},\n",
       " mean: -0.28123, std: 0.54092, params: {'colsample_bytree': 0.70153630329637418, 'gamma': 1.3016673565050689, 'learning_rate': 0.0145153191724888, 'max_delta_step': 0, 'max_depth': 16, 'min_child_weight': 5, 'n_estimators': 50, 'subsample': 0.98453846186066585},\n",
       " mean: -0.28716, std: 0.63477, params: {'colsample_bytree': 0.83425585352063347, 'gamma': 0.49983260347881409, 'learning_rate': 0.014491678839729103, 'max_delta_step': 4, 'max_depth': 27, 'min_child_weight': 4, 'n_estimators': 40, 'subsample': 0.91321659205708716},\n",
       " mean: -0.31662, std: 0.65914, params: {'colsample_bytree': 0.94123629876009796, 'gamma': 0.42424358323256206, 'learning_rate': 0.014810025024872112, 'max_delta_step': 1, 'max_depth': 5, 'min_child_weight': 1, 'n_estimators': 40, 'subsample': 0.76141317612681836},\n",
       " mean: -0.24301, std: 0.62002, params: {'colsample_bytree': 0.6220976826963972, 'gamma': 0.22884529972888468, 'learning_rate': 0.011982886399318569, 'max_delta_step': 2, 'max_depth': 9, 'min_child_weight': 5, 'n_estimators': 60, 'subsample': 0.90778150477203057},\n",
       " mean: -0.31680, std: 0.57541, params: {'colsample_bytree': 0.86756260099913907, 'gamma': 0.8481664088649461, 'learning_rate': 0.014686113646028523, 'max_delta_step': 3, 'max_depth': 16, 'min_child_weight': 1, 'n_estimators': 60, 'subsample': 0.97244448353665658},\n",
       " mean: -0.30200, std: 0.64309, params: {'colsample_bytree': 0.73399500203693357, 'gamma': 0.69279985318457604, 'learning_rate': 0.0094382244307252509, 'max_delta_step': 1, 'max_depth': 12, 'min_child_weight': 4, 'n_estimators': 50, 'subsample': 0.92964603103750731},\n",
       " mean: -0.29781, std: 0.52666, params: {'colsample_bytree': 0.65454348780560434, 'gamma': 1.5643623130631581, 'learning_rate': 0.0068862127625039784, 'max_delta_step': 0, 'max_depth': 11, 'min_child_weight': 3, 'n_estimators': 60, 'subsample': 0.95041051635320817},\n",
       " mean: -0.29356, std: 0.48186, params: {'colsample_bytree': 0.79029809826362196, 'gamma': 1.5867174249333658, 'learning_rate': 0.0056393782578361938, 'max_delta_step': 0, 'max_depth': 23, 'min_child_weight': 5, 'n_estimators': 50, 'subsample': 0.93426205565457909},\n",
       " mean: -0.26252, std: 0.45001, params: {'colsample_bytree': 0.89664772878724919, 'gamma': 1.4739164953070867, 'learning_rate': 0.013130063032815647, 'max_delta_step': 0, 'max_depth': 22, 'min_child_weight': 5, 'n_estimators': 40, 'subsample': 0.99819705624349475},\n",
       " mean: -0.30973, std: 0.60936, params: {'colsample_bytree': 0.92683794642570294, 'gamma': 0.70874389016967521, 'learning_rate': 0.0099719981304049916, 'max_delta_step': 3, 'max_depth': 18, 'min_child_weight': 3, 'n_estimators': 40, 'subsample': 0.75862117045121469},\n",
       " mean: -0.31267, std: 0.60387, params: {'colsample_bytree': 0.67570806660634442, 'gamma': 0.43123085453072996, 'learning_rate': 0.0088626621095156486, 'max_delta_step': 3, 'max_depth': 22, 'min_child_weight': 0, 'n_estimators': 40, 'subsample': 0.73718792313492632},\n",
       " mean: -0.32220, std: 0.51883, params: {'colsample_bytree': 0.75025004167515197, 'gamma': 1.7931137047311312, 'learning_rate': 0.0083871870587241514, 'max_delta_step': 1, 'max_depth': 6, 'min_child_weight': 4, 'n_estimators': 60, 'subsample': 0.84134392278077752},\n",
       " mean: -0.33389, std: 0.61086, params: {'colsample_bytree': 0.67183620989256809, 'gamma': 0.2027071928439238, 'learning_rate': 0.0052389371103274632, 'max_delta_step': 0, 'max_depth': 8, 'min_child_weight': 0, 'n_estimators': 60, 'subsample': 0.8102909843773598},\n",
       " mean: -0.29080, std: 0.49399, params: {'colsample_bytree': 0.88010649090611615, 'gamma': 1.4553931307894883, 'learning_rate': 0.010817955357219121, 'max_delta_step': 2, 'max_depth': 22, 'min_child_weight': 3, 'n_estimators': 50, 'subsample': 0.83764887971776969},\n",
       " mean: -0.30184, std: 0.54534, params: {'colsample_bytree': 0.97711566945325512, 'gamma': 0.67007600899812803, 'learning_rate': 0.0061042325595679027, 'max_delta_step': 2, 'max_depth': 29, 'min_child_weight': 4, 'n_estimators': 40, 'subsample': 0.96142723941352415},\n",
       " mean: -0.28156, std: 0.48823, params: {'colsample_bytree': 0.8209051391995269, 'gamma': 1.4497621331199817, 'learning_rate': 0.013435506916804285, 'max_delta_step': 1, 'max_depth': 5, 'min_child_weight': 3, 'n_estimators': 50, 'subsample': 0.88377174883089127},\n",
       " mean: -0.27742, std: 0.53955, params: {'colsample_bytree': 0.70306061026491096, 'gamma': 1.2527670722627895, 'learning_rate': 0.0099357106297117987, 'max_delta_step': 0, 'max_depth': 3, 'min_child_weight': 5, 'n_estimators': 60, 'subsample': 0.96436373418851118},\n",
       " mean: -0.29895, std: 0.49107, params: {'colsample_bytree': 0.74401039781812217, 'gamma': 1.5491318084743093, 'learning_rate': 0.0087129315933639605, 'max_delta_step': 4, 'max_depth': 25, 'min_child_weight': 5, 'n_estimators': 60, 'subsample': 0.70420840712645505},\n",
       " mean: -0.32816, std: 0.72744, params: {'colsample_bytree': 0.94163971142896818, 'gamma': 0.36998034847997552, 'learning_rate': 0.011496933804633368, 'max_delta_step': 4, 'max_depth': 25, 'min_child_weight': 5, 'n_estimators': 50, 'subsample': 0.71292068095425509},\n",
       " mean: -0.29971, std: 0.48569, params: {'colsample_bytree': 0.84840256439576289, 'gamma': 1.4813431291306383, 'learning_rate': 0.006776002679598621, 'max_delta_step': 2, 'max_depth': 11, 'min_child_weight': 4, 'n_estimators': 40, 'subsample': 0.94587113226282238},\n",
       " mean: -0.25334, std: 0.46340, params: {'colsample_bytree': 0.84504513019923355, 'gamma': 1.3463605627050226, 'learning_rate': 0.0096800989843704062, 'max_delta_step': 2, 'max_depth': 23, 'min_child_weight': 4, 'n_estimators': 50, 'subsample': 0.97222237205516371},\n",
       " mean: -0.27641, std: 0.47316, params: {'colsample_bytree': 0.839002337260355, 'gamma': 1.5826435540789185, 'learning_rate': 0.014733731128991335, 'max_delta_step': 3, 'max_depth': 22, 'min_child_weight': 1, 'n_estimators': 50, 'subsample': 0.94563092113831393},\n",
       " mean: -0.26548, std: 0.52680, params: {'colsample_bytree': 0.64731483406481993, 'gamma': 0.47675291825584021, 'learning_rate': 0.0092660623069403848, 'max_delta_step': 1, 'max_depth': 16, 'min_child_weight': 0, 'n_estimators': 40, 'subsample': 0.88181676306098922},\n",
       " mean: -0.29759, std: 0.60298, params: {'colsample_bytree': 0.65306524879226358, 'gamma': 0.67992192987093802, 'learning_rate': 0.01422321791255762, 'max_delta_step': 4, 'max_depth': 7, 'min_child_weight': 0, 'n_estimators': 60, 'subsample': 0.75510163714951661},\n",
       " mean: -0.29794, std: 0.54918, params: {'colsample_bytree': 0.70850125219896432, 'gamma': 1.1647498232646212, 'learning_rate': 0.010460526833079482, 'max_delta_step': 3, 'max_depth': 26, 'min_child_weight': 5, 'n_estimators': 40, 'subsample': 0.92244766763393105},\n",
       " mean: -0.31724, std: 0.50004, params: {'colsample_bytree': 0.91521231500353217, 'gamma': 1.175691651376221, 'learning_rate': 0.0050918218727940045, 'max_delta_step': 4, 'max_depth': 7, 'min_child_weight': 1, 'n_estimators': 50, 'subsample': 0.74452803484245833},\n",
       " mean: -0.31818, std: 0.54289, params: {'colsample_bytree': 0.87765939911311486, 'gamma': 0.75612370041595511, 'learning_rate': 0.0061342801962727079, 'max_delta_step': 4, 'max_depth': 18, 'min_child_weight': 3, 'n_estimators': 40, 'subsample': 0.79910008815244693},\n",
       " mean: -0.28376, std: 0.53372, params: {'colsample_bytree': 0.77329914802454092, 'gamma': 0.88377636134624815, 'learning_rate': 0.014937324112983659, 'max_delta_step': 3, 'max_depth': 12, 'min_child_weight': 2, 'n_estimators': 50, 'subsample': 0.71468885283727934},\n",
       " mean: -0.30610, std: 0.65787, params: {'colsample_bytree': 0.78510703248719327, 'gamma': 0.58794587474625948, 'learning_rate': 0.012523381780791841, 'max_delta_step': 3, 'max_depth': 23, 'min_child_weight': 5, 'n_estimators': 60, 'subsample': 0.93535515317993068},\n",
       " mean: -0.32699, std: 0.52171, params: {'colsample_bytree': 0.649449678725733, 'gamma': 1.6970020830761774, 'learning_rate': 0.0068199593820491115, 'max_delta_step': 0, 'max_depth': 26, 'min_child_weight': 3, 'n_estimators': 40, 'subsample': 0.91504530791499183},\n",
       " mean: -0.28746, std: 0.47976, params: {'colsample_bytree': 0.90196720460420632, 'gamma': 1.1636121181902621, 'learning_rate': 0.012180794803530313, 'max_delta_step': 1, 'max_depth': 19, 'min_child_weight': 4, 'n_estimators': 50, 'subsample': 0.79993481037261849},\n",
       " mean: -0.29481, std: 0.58622, params: {'colsample_bytree': 0.974606598467046, 'gamma': 0.45793249855627338, 'learning_rate': 0.005661372172902723, 'max_delta_step': 1, 'max_depth': 17, 'min_child_weight': 5, 'n_estimators': 60, 'subsample': 0.73665366259350928},\n",
       " mean: -0.31413, std: 0.61056, params: {'colsample_bytree': 0.84470707721149185, 'gamma': 0.69745898871818324, 'learning_rate': 0.0069853500066228841, 'max_delta_step': 4, 'max_depth': 24, 'min_child_weight': 2, 'n_estimators': 50, 'subsample': 0.84645896229303053},\n",
       " mean: -0.30736, std: 0.48590, params: {'colsample_bytree': 0.87309258427148007, 'gamma': 1.6674260979136903, 'learning_rate': 0.008658102555414271, 'max_delta_step': 4, 'max_depth': 24, 'min_child_weight': 4, 'n_estimators': 60, 'subsample': 0.73853674134447622},\n",
       " mean: -0.29273, std: 0.55212, params: {'colsample_bytree': 0.84357775574859462, 'gamma': 1.1219814227082126, 'learning_rate': 0.0071874321123636693, 'max_delta_step': 4, 'max_depth': 23, 'min_child_weight': 2, 'n_estimators': 60, 'subsample': 0.98771158747971399},\n",
       " mean: -0.27816, std: 0.49174, params: {'colsample_bytree': 0.75171978278143359, 'gamma': 1.3513589193940578, 'learning_rate': 0.012651992423241481, 'max_delta_step': 3, 'max_depth': 8, 'min_child_weight': 3, 'n_estimators': 50, 'subsample': 0.7803108780728315},\n",
       " mean: -0.35900, std: 0.66459, params: {'colsample_bytree': 0.97849253204339848, 'gamma': 0.68797522624434304, 'learning_rate': 0.012747357173886868, 'max_delta_step': 3, 'max_depth': 17, 'min_child_weight': 5, 'n_estimators': 60, 'subsample': 0.77973858673973351},\n",
       " mean: -0.27350, std: 0.48946, params: {'colsample_bytree': 0.69622397320125951, 'gamma': 1.3487526417065334, 'learning_rate': 0.014631068830739453, 'max_delta_step': 3, 'max_depth': 27, 'min_child_weight': 3, 'n_estimators': 40, 'subsample': 0.72270211050680311},\n",
       " mean: -0.31018, std: 0.59272, params: {'colsample_bytree': 0.74881479858632849, 'gamma': 0.91189700688882813, 'learning_rate': 0.0087009980718779825, 'max_delta_step': 4, 'max_depth': 20, 'min_child_weight': 5, 'n_estimators': 50, 'subsample': 0.75485413537856294},\n",
       " mean: -0.33116, std: 0.67932, params: {'colsample_bytree': 0.7766483935041828, 'gamma': 0.57659209234790998, 'learning_rate': 0.013507240027269125, 'max_delta_step': 2, 'max_depth': 28, 'min_child_weight': 0, 'n_estimators': 60, 'subsample': 0.91314176341191278},\n",
       " mean: -0.26067, std: 0.46844, params: {'colsample_bytree': 0.773816518019667, 'gamma': 1.4519655509226259, 'learning_rate': 0.01275620632105089, 'max_delta_step': 2, 'max_depth': 16, 'min_child_weight': 2, 'n_estimators': 50, 'subsample': 0.87299467569834155},\n",
       " mean: -0.38210, std: 0.68130, params: {'colsample_bytree': 0.98595985653670459, 'gamma': 0.9201672612636651, 'learning_rate': 0.013559690172459962, 'max_delta_step': 3, 'max_depth': 27, 'min_child_weight': 5, 'n_estimators': 60, 'subsample': 0.95509496310874176},\n",
       " mean: -0.31845, std: 0.65319, params: {'colsample_bytree': 0.84790672001045875, 'gamma': 0.70750855647438926, 'learning_rate': 0.010210041341712356, 'max_delta_step': 3, 'max_depth': 4, 'min_child_weight': 2, 'n_estimators': 60, 'subsample': 0.76482326935200751},\n",
       " mean: -0.32685, std: 0.50804, params: {'colsample_bytree': 0.61297842313301643, 'gamma': 1.5823233917476844, 'learning_rate': 0.0076503283041706562, 'max_delta_step': 1, 'max_depth': 8, 'min_child_weight': 3, 'n_estimators': 50, 'subsample': 0.71232801544637792},\n",
       " mean: -0.29560, std: 0.55705, params: {'colsample_bytree': 0.72756904127746935, 'gamma': 1.1830903198504337, 'learning_rate': 0.011193729319921387, 'max_delta_step': 0, 'max_depth': 14, 'min_child_weight': 3, 'n_estimators': 50, 'subsample': 0.90100394764679459},\n",
       " mean: -0.23691, std: 0.57123, params: {'colsample_bytree': 0.76242433851998803, 'gamma': 0.36244098741603797, 'learning_rate': 0.013600564815238289, 'max_delta_step': 0, 'max_depth': 18, 'min_child_weight': 2, 'n_estimators': 60, 'subsample': 0.97342972116441373},\n",
       " mean: -0.25040, std: 0.55582, params: {'colsample_bytree': 0.63721561685058259, 'gamma': 0.51912129382540306, 'learning_rate': 0.014956536493815703, 'max_delta_step': 2, 'max_depth': 17, 'min_child_weight': 4, 'n_estimators': 40, 'subsample': 0.70889904879803578},\n",
       " mean: -0.27477, std: 0.46679, params: {'colsample_bytree': 0.86691591730496165, 'gamma': 1.6380898400459476, 'learning_rate': 0.0070643643652215041, 'max_delta_step': 3, 'max_depth': 14, 'min_child_weight': 4, 'n_estimators': 60, 'subsample': 0.94866104882171576},\n",
       " mean: -0.31873, std: 0.59003, params: {'colsample_bytree': 0.92283119298663108, 'gamma': 0.85734532046071976, 'learning_rate': 0.014939877872392964, 'max_delta_step': 0, 'max_depth': 20, 'min_child_weight': 3, 'n_estimators': 40, 'subsample': 0.91117710742817082},\n",
       " mean: -0.29951, std: 0.50493, params: {'colsample_bytree': 0.79252686223470181, 'gamma': 1.2814918754397819, 'learning_rate': 0.011393921346400472, 'max_delta_step': 1, 'max_depth': 19, 'min_child_weight': 2, 'n_estimators': 40, 'subsample': 0.70249720278918404},\n",
       " mean: -0.29271, std: 0.60983, params: {'colsample_bytree': 0.75276177204294403, 'gamma': 0.56087697467104958, 'learning_rate': 0.010098621997395408, 'max_delta_step': 3, 'max_depth': 25, 'min_child_weight': 5, 'n_estimators': 40, 'subsample': 0.71117478866646544},\n",
       " mean: -0.29184, std: 0.50225, params: {'colsample_bytree': 0.754652570877966, 'gamma': 1.5987586861163705, 'learning_rate': 0.0053756516350260113, 'max_delta_step': 4, 'max_depth': 5, 'min_child_weight': 1, 'n_estimators': 60, 'subsample': 0.99439525433648757},\n",
       " mean: -0.29835, std: 0.62185, params: {'colsample_bytree': 0.67432188618104882, 'gamma': 0.79942033397201606, 'learning_rate': 0.010625843551234668, 'max_delta_step': 0, 'max_depth': 11, 'min_child_weight': 0, 'n_estimators': 60, 'subsample': 0.95855949168551824},\n",
       " mean: -0.23715, std: 0.55092, params: {'colsample_bytree': 0.61297817585628867, 'gamma': 0.47326113741008913, 'learning_rate': 0.012645310360299433, 'max_delta_step': 1, 'max_depth': 10, 'min_child_weight': 3, 'n_estimators': 60, 'subsample': 0.77280936098987496},\n",
       " mean: -0.32580, std: 0.55081, params: {'colsample_bytree': 0.70856685408168918, 'gamma': 0.71013690362665516, 'learning_rate': 0.0054636049597081302, 'max_delta_step': 3, 'max_depth': 21, 'min_child_weight': 3, 'n_estimators': 40, 'subsample': 0.89937327306915238},\n",
       " mean: -0.31806, std: 0.57593, params: {'colsample_bytree': 0.95453752463043973, 'gamma': 0.86466458210426911, 'learning_rate': 0.0091474512334927399, 'max_delta_step': 2, 'max_depth': 13, 'min_child_weight': 5, 'n_estimators': 40, 'subsample': 0.81246471620596328},\n",
       " mean: -0.24339, std: 0.55391, params: {'colsample_bytree': 0.62810643827458634, 'gamma': 0.50702113763468826, 'learning_rate': 0.010348182790709757, 'max_delta_step': 2, 'max_depth': 18, 'min_child_weight': 2, 'n_estimators': 50, 'subsample': 0.95580275161561978},\n",
       " mean: -0.30487, std: 0.57147, params: {'colsample_bytree': 0.64044529943179052, 'gamma': 0.89671684069076574, 'learning_rate': 0.01184493634956011, 'max_delta_step': 2, 'max_depth': 20, 'min_child_weight': 5, 'n_estimators': 40, 'subsample': 0.80888747745252654},\n",
       " mean: -0.29383, std: 0.48171, params: {'colsample_bytree': 0.92628571510458424, 'gamma': 1.4901767976869309, 'learning_rate': 0.0093346800864388402, 'max_delta_step': 3, 'max_depth': 14, 'min_child_weight': 3, 'n_estimators': 40, 'subsample': 0.82467850269188658},\n",
       " mean: -0.32148, std: 0.60381, params: {'colsample_bytree': 0.89420027328845531, 'gamma': 0.92874729201188333, 'learning_rate': 0.0085798144528398401, 'max_delta_step': 4, 'max_depth': 23, 'min_child_weight': 0, 'n_estimators': 60, 'subsample': 0.92645399212627788},\n",
       " mean: -0.33925, std: 0.71537, params: {'colsample_bytree': 0.84465191810149443, 'gamma': 0.60491060315365064, 'learning_rate': 0.0082862826291508779, 'max_delta_step': 1, 'max_depth': 27, 'min_child_weight': 0, 'n_estimators': 60, 'subsample': 0.86459166523206721},\n",
       " mean: -0.34332, std: 0.60357, params: {'colsample_bytree': 0.79219780243735216, 'gamma': 0.8337640481470483, 'learning_rate': 0.007161676092001747, 'max_delta_step': 4, 'max_depth': 23, 'min_child_weight': 1, 'n_estimators': 40, 'subsample': 0.78755512281440188},\n",
       " mean: -0.31531, std: 0.53026, params: {'colsample_bytree': 0.80687588343371763, 'gamma': 0.96803071214903813, 'learning_rate': 0.006940219892423348, 'max_delta_step': 4, 'max_depth': 25, 'min_child_weight': 2, 'n_estimators': 40, 'subsample': 0.758745353238644},\n",
       " mean: -0.30000, std: 0.56834, params: {'colsample_bytree': 0.63914601732868348, 'gamma': 1.0030626012417454, 'learning_rate': 0.0094026547413079854, 'max_delta_step': 3, 'max_depth': 8, 'min_child_weight': 3, 'n_estimators': 40, 'subsample': 0.92283929807497711},\n",
       " mean: -0.34638, std: 0.64331, params: {'colsample_bytree': 0.81681118598648883, 'gamma': 0.82128526387175116, 'learning_rate': 0.0055279984318579913, 'max_delta_step': 0, 'max_depth': 7, 'min_child_weight': 1, 'n_estimators': 60, 'subsample': 0.80214884445822565},\n",
       " mean: -0.27634, std: 0.46230, params: {'colsample_bytree': 0.9904847608740559, 'gamma': 1.559081807896038, 'learning_rate': 0.011441725606564056, 'max_delta_step': 0, 'max_depth': 4, 'min_child_weight': 1, 'n_estimators': 50, 'subsample': 0.85360346060478687},\n",
       " mean: -0.26118, std: 0.63341, params: {'colsample_bytree': 0.66566915170865071, 'gamma': 0.23433082596125221, 'learning_rate': 0.012936364251230667, 'max_delta_step': 4, 'max_depth': 16, 'min_child_weight': 2, 'n_estimators': 50, 'subsample': 0.99374975955686007},\n",
       " mean: -0.30381, std: 0.58623, params: {'colsample_bytree': 0.63490233223689774, 'gamma': 0.96366200772365107, 'learning_rate': 0.0085156322566371893, 'max_delta_step': 2, 'max_depth': 4, 'min_child_weight': 4, 'n_estimators': 50, 'subsample': 0.90646066693043148},\n",
       " mean: -0.29828, std: 0.48354, params: {'colsample_bytree': 0.90367882817691869, 'gamma': 1.4732292850115667, 'learning_rate': 0.0097751011981052714, 'max_delta_step': 3, 'max_depth': 9, 'min_child_weight': 4, 'n_estimators': 50, 'subsample': 0.74294547262720934},\n",
       " mean: -0.29915, std: 0.48080, params: {'colsample_bytree': 0.89257281136296629, 'gamma': 1.5437903237360908, 'learning_rate': 0.0094511618760956175, 'max_delta_step': 1, 'max_depth': 12, 'min_child_weight': 2, 'n_estimators': 40, 'subsample': 0.80281745465950971},\n",
       " mean: -0.29166, std: 0.52077, params: {'colsample_bytree': 0.61396463226859876, 'gamma': 1.1946939176870834, 'learning_rate': 0.010616310959375035, 'max_delta_step': 1, 'max_depth': 14, 'min_child_weight': 3, 'n_estimators': 40, 'subsample': 0.75767946693954891},\n",
       " mean: -0.31801, std: 0.69321, params: {'colsample_bytree': 0.84494625436019155, 'gamma': 0.54030488432695978, 'learning_rate': 0.012450677173493258, 'max_delta_step': 4, 'max_depth': 14, 'min_child_weight': 0, 'n_estimators': 50, 'subsample': 0.84688356293121125},\n",
       " mean: -0.30651, std: 0.61939, params: {'colsample_bytree': 0.77892035155427153, 'gamma': 0.70796800646012747, 'learning_rate': 0.014729372068214782, 'max_delta_step': 3, 'max_depth': 17, 'min_child_weight': 4, 'n_estimators': 40, 'subsample': 0.87580540270995155},\n",
       " mean: -0.30353, std: 0.48983, params: {'colsample_bytree': 0.98946107637970615, 'gamma': 1.5465956699454408, 'learning_rate': 0.010289556852256673, 'max_delta_step': 3, 'max_depth': 21, 'min_child_weight': 0, 'n_estimators': 60, 'subsample': 0.73044746061391463},\n",
       " mean: -0.30144, std: 0.59416, params: {'colsample_bytree': 0.71139653390111657, 'gamma': 0.74898366465565114, 'learning_rate': 0.009703700101392888, 'max_delta_step': 4, 'max_depth': 25, 'min_child_weight': 4, 'n_estimators': 40, 'subsample': 0.90068205824193304},\n",
       " mean: -0.28603, std: 0.56628, params: {'colsample_bytree': 0.83368116994307706, 'gamma': 0.53367156295623941, 'learning_rate': 0.0064773841547791696, 'max_delta_step': 3, 'max_depth': 28, 'min_child_weight': 2, 'n_estimators': 50, 'subsample': 0.83608897097732182},\n",
       " mean: -0.30236, std: 0.60620, params: {'colsample_bytree': 0.92793946511861369, 'gamma': 0.43732380060146969, 'learning_rate': 0.0065803623939483134, 'max_delta_step': 1, 'max_depth': 10, 'min_child_weight': 1, 'n_estimators': 50, 'subsample': 0.74053228042110353},\n",
       " mean: -0.29324, std: 0.65745, params: {'colsample_bytree': 0.62399654573490004, 'gamma': 0.57216211800628847, 'learning_rate': 0.012925832108931307, 'max_delta_step': 2, 'max_depth': 21, 'min_child_weight': 1, 'n_estimators': 50, 'subsample': 0.91059665425578273},\n",
       " mean: -0.28305, std: 0.46813, params: {'colsample_bytree': 0.88013843675339076, 'gamma': 1.7754920632802389, 'learning_rate': 0.011061298833888679, 'max_delta_step': 3, 'max_depth': 7, 'min_child_weight': 0, 'n_estimators': 60, 'subsample': 0.9010931980706709},\n",
       " mean: -0.32264, std: 0.48674, params: {'colsample_bytree': 0.90851578431479785, 'gamma': 1.7585363828760388, 'learning_rate': 0.0075146349770332851, 'max_delta_step': 1, 'max_depth': 9, 'min_child_weight': 5, 'n_estimators': 40, 'subsample': 0.7819840392092765},\n",
       " mean: -0.27827, std: 0.60825, params: {'colsample_bytree': 0.68152573492566615, 'gamma': 0.45553471970507858, 'learning_rate': 0.011445288358908791, 'max_delta_step': 0, 'max_depth': 4, 'min_child_weight': 3, 'n_estimators': 50, 'subsample': 0.94622225287341866},\n",
       " mean: -0.30301, std: 0.57624, params: {'colsample_bytree': 0.68799600412464534, 'gamma': 1.0747453667473443, 'learning_rate': 0.010442326414469894, 'max_delta_step': 1, 'max_depth': 16, 'min_child_weight': 0, 'n_estimators': 50, 'subsample': 0.94665710384245672},\n",
       " mean: -0.32592, std: 0.61726, params: {'colsample_bytree': 0.66375465638383346, 'gamma': 0.96113092347901197, 'learning_rate': 0.010822518118815721, 'max_delta_step': 4, 'max_depth': 27, 'min_child_weight': 0, 'n_estimators': 60, 'subsample': 0.81631717490940203},\n",
       " mean: -0.29397, std: 0.49263, params: {'colsample_bytree': 0.85923604935673892, 'gamma': 1.57248826387859, 'learning_rate': 0.014241921583930749, 'max_delta_step': 4, 'max_depth': 24, 'min_child_weight': 3, 'n_estimators': 60, 'subsample': 0.76319139491617882},\n",
       " mean: -0.32153, std: 0.56462, params: {'colsample_bytree': 0.91090343755777869, 'gamma': 0.92694479124519669, 'learning_rate': 0.013495242974880708, 'max_delta_step': 2, 'max_depth': 15, 'min_child_weight': 5, 'n_estimators': 60, 'subsample': 0.7480447121711572},\n",
       " mean: -0.30294, std: 0.55386, params: {'colsample_bytree': 0.68733505619148827, 'gamma': 1.0881219127652899, 'learning_rate': 0.0063479322607862933, 'max_delta_step': 1, 'max_depth': 29, 'min_child_weight': 2, 'n_estimators': 60, 'subsample': 0.74205038407230828},\n",
       " mean: -0.31517, std: 0.52609, params: {'colsample_bytree': 0.6962969010317076, 'gamma': 1.5861447752881426, 'learning_rate': 0.0080693919411694709, 'max_delta_step': 3, 'max_depth': 10, 'min_child_weight': 5, 'n_estimators': 60, 'subsample': 0.83688710684551304},\n",
       " mean: -0.28558, std: 0.55349, params: {'colsample_bytree': 0.85632724180240605, 'gamma': 0.97560892575457792, 'learning_rate': 0.012596661400638049, 'max_delta_step': 3, 'max_depth': 15, 'min_child_weight': 0, 'n_estimators': 40, 'subsample': 0.98782392545097342},\n",
       " mean: -0.26509, std: 0.49648, params: {'colsample_bytree': 0.91882699256037426, 'gamma': 0.48005141765651804, 'learning_rate': 0.0069952054738725584, 'max_delta_step': 1, 'max_depth': 4, 'min_child_weight': 5, 'n_estimators': 40, 'subsample': 0.90215081306581457},\n",
       " mean: -0.27151, std: 0.55286, params: {'colsample_bytree': 0.79048657860215998, 'gamma': 0.44431994999666707, 'learning_rate': 0.0087582261057725947, 'max_delta_step': 4, 'max_depth': 20, 'min_child_weight': 2, 'n_estimators': 40, 'subsample': 0.8940656742732479},\n",
       " mean: -0.27603, std: 0.53866, params: {'colsample_bytree': 0.7977946953913192, 'gamma': 0.60637954235905989, 'learning_rate': 0.0056391510386729531, 'max_delta_step': 3, 'max_depth': 13, 'min_child_weight': 0, 'n_estimators': 60, 'subsample': 0.97727278023699804},\n",
       " mean: -0.31655, std: 0.65139, params: {'colsample_bytree': 0.65932248548441141, 'gamma': 0.22731838246885855, 'learning_rate': 0.0065854905624193483, 'max_delta_step': 0, 'max_depth': 19, 'min_child_weight': 2, 'n_estimators': 60, 'subsample': 0.74941362380239718},\n",
       " mean: -0.32988, std: 0.60313, params: {'colsample_bytree': 0.82561561160302976, 'gamma': 0.92773444394299975, 'learning_rate': 0.0097851251483681498, 'max_delta_step': 0, 'max_depth': 11, 'min_child_weight': 1, 'n_estimators': 40, 'subsample': 0.81651403258278288},\n",
       " mean: -0.29871, std: 0.59979, params: {'colsample_bytree': 0.62888908446835734, 'gamma': 0.65421707080326774, 'learning_rate': 0.0070918334142856809, 'max_delta_step': 0, 'max_depth': 10, 'min_child_weight': 0, 'n_estimators': 60, 'subsample': 0.78490000528514337},\n",
       " mean: -0.27088, std: 0.56751, params: {'colsample_bytree': 0.70089785087884082, 'gamma': 0.34483199168209727, 'learning_rate': 0.0079778154809717304, 'max_delta_step': 1, 'max_depth': 20, 'min_child_weight': 2, 'n_estimators': 50, 'subsample': 0.8680424594858428},\n",
       " mean: -0.28838, std: 0.65632, params: {'colsample_bytree': 0.66994292378907727, 'gamma': 0.20334645609890156, 'learning_rate': 0.013610720113466066, 'max_delta_step': 4, 'max_depth': 5, 'min_child_weight': 5, 'n_estimators': 40, 'subsample': 0.84341014376424406},\n",
       " mean: -0.28916, std: 0.58335, params: {'colsample_bytree': 0.86950469232700811, 'gamma': 0.69010212558833095, 'learning_rate': 0.0099698310132672052, 'max_delta_step': 3, 'max_depth': 9, 'min_child_weight': 2, 'n_estimators': 40, 'subsample': 0.94015899397710323},\n",
       " mean: -0.32132, std: 0.52992, params: {'colsample_bytree': 0.71002664009969918, 'gamma': 1.3192926148648731, 'learning_rate': 0.0068521701122874045, 'max_delta_step': 2, 'max_depth': 25, 'min_child_weight': 2, 'n_estimators': 40, 'subsample': 0.85058965654205221},\n",
       " mean: -0.31582, std: 0.50718, params: {'colsample_bytree': 0.71409701778291446, 'gamma': 1.3550128942274136, 'learning_rate': 0.00671894444257389, 'max_delta_step': 0, 'max_depth': 11, 'min_child_weight': 3, 'n_estimators': 40, 'subsample': 0.77785123226765829},\n",
       " mean: -0.30048, std: 0.52130, params: {'colsample_bytree': 0.63281517929782727, 'gamma': 0.46147516966756685, 'learning_rate': 0.0062496285851882123, 'max_delta_step': 1, 'max_depth': 3, 'min_child_weight': 4, 'n_estimators': 40, 'subsample': 0.88218741863997696},\n",
       " mean: -0.30859, std: 0.55395, params: {'colsample_bytree': 0.67298185657701659, 'gamma': 1.1950564541323052, 'learning_rate': 0.0070823572242373449, 'max_delta_step': 0, 'max_depth': 29, 'min_child_weight': 2, 'n_estimators': 50, 'subsample': 0.9056702881195946},\n",
       " mean: -0.29401, std: 0.49343, params: {'colsample_bytree': 0.93880684846508033, 'gamma': 1.4565508315804729, 'learning_rate': 0.010339797742304058, 'max_delta_step': 0, 'max_depth': 12, 'min_child_weight': 3, 'n_estimators': 40, 'subsample': 0.82009693348626744},\n",
       " mean: -0.31127, std: 0.49529, params: {'colsample_bytree': 0.86723499504791346, 'gamma': 1.4598501757012661, 'learning_rate': 0.0078289621826643039, 'max_delta_step': 2, 'max_depth': 16, 'min_child_weight': 0, 'n_estimators': 60, 'subsample': 0.70463850199578515},\n",
       " mean: -0.31974, std: 0.65136, params: {'colsample_bytree': 0.99536618057077364, 'gamma': 0.55422048131562041, 'learning_rate': 0.010130239340759576, 'max_delta_step': 3, 'max_depth': 6, 'min_child_weight': 3, 'n_estimators': 40, 'subsample': 0.73877929653899188},\n",
       " mean: -0.30524, std: 0.49283, params: {'colsample_bytree': 0.95096815267122925, 'gamma': 1.6366305010921385, 'learning_rate': 0.012360608226099471, 'max_delta_step': 3, 'max_depth': 17, 'min_child_weight': 0, 'n_estimators': 50, 'subsample': 0.76421219738008095},\n",
       " mean: -0.29027, std: 0.61301, params: {'colsample_bytree': 0.91001734187279437, 'gamma': 0.34171579726657575, 'learning_rate': 0.01265004758668831, 'max_delta_step': 4, 'max_depth': 17, 'min_child_weight': 0, 'n_estimators': 40, 'subsample': 0.8148330573840995},\n",
       " mean: -0.29469, std: 0.54773, params: {'colsample_bytree': 0.67473302453541284, 'gamma': 1.2309561883865774, 'learning_rate': 0.0094144471517130339, 'max_delta_step': 1, 'max_depth': 26, 'min_child_weight': 5, 'n_estimators': 60, 'subsample': 0.81261375140841741},\n",
       " mean: -0.29474, std: 0.58722, params: {'colsample_bytree': 0.73909037467763139, 'gamma': 0.22218482683235213, 'learning_rate': 0.0076928192738008258, 'max_delta_step': 1, 'max_depth': 17, 'min_child_weight': 0, 'n_estimators': 50, 'subsample': 0.92977183653450257},\n",
       " mean: -0.33346, std: 0.51455, params: {'colsample_bytree': 0.61598267179320476, 'gamma': 1.3136316501816729, 'learning_rate': 0.0050226058037811929, 'max_delta_step': 2, 'max_depth': 17, 'min_child_weight': 0, 'n_estimators': 40, 'subsample': 0.94530126984563201},\n",
       " mean: -0.31067, std: 0.49898, params: {'colsample_bytree': 0.91341822768090508, 'gamma': 1.6964543167675303, 'learning_rate': 0.0098414985333884729, 'max_delta_step': 4, 'max_depth': 18, 'min_child_weight': 5, 'n_estimators': 50, 'subsample': 0.81130084717193229},\n",
       " mean: -0.25785, std: 0.45000, params: {'colsample_bytree': 0.8587704505289071, 'gamma': 1.447171771617177, 'learning_rate': 0.012462507060263205, 'max_delta_step': 0, 'max_depth': 19, 'min_child_weight': 3, 'n_estimators': 40, 'subsample': 0.94926057465590263},\n",
       " mean: -0.27091, std: 0.55948, params: {'colsample_bytree': 0.64711696657374729, 'gamma': 1.2021109202842051, 'learning_rate': 0.014347497134958895, 'max_delta_step': 1, 'max_depth': 26, 'min_child_weight': 0, 'n_estimators': 40, 'subsample': 0.98226581053346063},\n",
       " mean: -0.27115, std: 0.53185, params: {'colsample_bytree': 0.71372999911601687, 'gamma': 1.3147109331732603, 'learning_rate': 0.013771548683220301, 'max_delta_step': 1, 'max_depth': 19, 'min_child_weight': 1, 'n_estimators': 40, 'subsample': 0.99534014077362409},\n",
       " mean: -0.27897, std: 0.47227, params: {'colsample_bytree': 0.91766183377705846, 'gamma': 1.1597372460962134, 'learning_rate': 0.014788475292172976, 'max_delta_step': 1, 'max_depth': 5, 'min_child_weight': 2, 'n_estimators': 40, 'subsample': 0.87295986380108714},\n",
       " mean: -0.31961, std: 0.64574, params: {'colsample_bytree': 0.6659832016912729, 'gamma': 0.6875391114647238, 'learning_rate': 0.011556748621763528, 'max_delta_step': 4, 'max_depth': 10, 'min_child_weight': 4, 'n_estimators': 40, 'subsample': 0.71967619720552345},\n",
       " mean: -0.26664, std: 0.48679, params: {'colsample_bytree': 0.7871540301883404, 'gamma': 1.3846883713942442, 'learning_rate': 0.011293391939481669, 'max_delta_step': 1, 'max_depth': 20, 'min_child_weight': 3, 'n_estimators': 60, 'subsample': 0.87914172863859275},\n",
       " mean: -0.30766, std: 0.52646, params: {'colsample_bytree': 0.68073611561180303, 'gamma': 1.5179391883433229, 'learning_rate': 0.011545043547871461, 'max_delta_step': 1, 'max_depth': 6, 'min_child_weight': 0, 'n_estimators': 60, 'subsample': 0.73348789534503178},\n",
       " mean: -0.26380, std: 0.53195, params: {'colsample_bytree': 0.9399437542479071, 'gamma': 0.46084479700167036, 'learning_rate': 0.010379607976123979, 'max_delta_step': 2, 'max_depth': 11, 'min_child_weight': 2, 'n_estimators': 60, 'subsample': 0.98009764820642253},\n",
       " mean: -0.34428, std: 0.72460, params: {'colsample_bytree': 0.97387157468708163, 'gamma': 0.30865531316753381, 'learning_rate': 0.008106068978736735, 'max_delta_step': 1, 'max_depth': 3, 'min_child_weight': 5, 'n_estimators': 60, 'subsample': 0.80071221059494557},\n",
       " mean: -0.31591, std: 0.55680, params: {'colsample_bytree': 0.92636730612565577, 'gamma': 1.0909274177388679, 'learning_rate': 0.011596964499600692, 'max_delta_step': 1, 'max_depth': 29, 'min_child_weight': 4, 'n_estimators': 50, 'subsample': 0.83950426974167491},\n",
       " mean: -0.27844, std: 0.57374, params: {'colsample_bytree': 0.62273935114070544, 'gamma': 0.24230901910487132, 'learning_rate': 0.0067403576125572625, 'max_delta_step': 2, 'max_depth': 18, 'min_child_weight': 5, 'n_estimators': 60, 'subsample': 0.85878564021378034},\n",
       " mean: -0.28791, std: 0.55660, params: {'colsample_bytree': 0.65966825644775673, 'gamma': 0.37155057982336381, 'learning_rate': 0.007031347663278566, 'max_delta_step': 4, 'max_depth': 23, 'min_child_weight': 3, 'n_estimators': 50, 'subsample': 0.93936788876776234},\n",
       " mean: -0.30327, std: 0.51045, params: {'colsample_bytree': 0.67832516075656279, 'gamma': 1.7709804735481085, 'learning_rate': 0.013168709458633653, 'max_delta_step': 3, 'max_depth': 28, 'min_child_weight': 1, 'n_estimators': 50, 'subsample': 0.76627071842516581},\n",
       " mean: -0.32839, std: 0.51431, params: {'colsample_bytree': 0.60191370664862498, 'gamma': 1.7280010333544786, 'learning_rate': 0.0078962703407693749, 'max_delta_step': 0, 'max_depth': 20, 'min_child_weight': 5, 'n_estimators': 50, 'subsample': 0.78917265109480594},\n",
       " mean: -0.30922, std: 0.51736, params: {'colsample_bytree': 0.6836025186547694, 'gamma': 1.4085074135796984, 'learning_rate': 0.0055914392486348255, 'max_delta_step': 1, 'max_depth': 16, 'min_child_weight': 1, 'n_estimators': 50, 'subsample': 0.87233511299596245},\n",
       " mean: -0.34087, std: 0.71897, params: {'colsample_bytree': 0.96509923119758945, 'gamma': 0.39277682894489829, 'learning_rate': 0.011627312515202454, 'max_delta_step': 2, 'max_depth': 12, 'min_child_weight': 1, 'n_estimators': 50, 'subsample': 0.74300400174184589},\n",
       " mean: -0.27339, std: 0.47475, params: {'colsample_bytree': 0.79090104542240536, 'gamma': 1.383013054771959, 'learning_rate': 0.010331660633765375, 'max_delta_step': 2, 'max_depth': 10, 'min_child_weight': 4, 'n_estimators': 40, 'subsample': 0.86371079725721067},\n",
       " mean: -0.30957, std: 0.54369, params: {'colsample_bytree': 0.75095837309634961, 'gamma': 0.69134950127801975, 'learning_rate': 0.0062024403648537896, 'max_delta_step': 2, 'max_depth': 23, 'min_child_weight': 3, 'n_estimators': 40, 'subsample': 0.93117059332295293},\n",
       " mean: -0.29418, std: 0.61942, params: {'colsample_bytree': 0.89923424381328765, 'gamma': 0.34299666417523178, 'learning_rate': 0.010056117223015268, 'max_delta_step': 3, 'max_depth': 3, 'min_child_weight': 5, 'n_estimators': 40, 'subsample': 0.77233467696377178},\n",
       " mean: -0.31101, std: 0.58236, params: {'colsample_bytree': 0.74929417128883147, 'gamma': 1.1268580811107307, 'learning_rate': 0.010489429467401057, 'max_delta_step': 4, 'max_depth': 26, 'min_child_weight': 2, 'n_estimators': 60, 'subsample': 0.96688699052178473},\n",
       " mean: -0.30957, std: 0.65111, params: {'colsample_bytree': 0.73727162937891655, 'gamma': 0.73858892249811814, 'learning_rate': 0.009093300414582518, 'max_delta_step': 3, 'max_depth': 26, 'min_child_weight': 2, 'n_estimators': 60, 'subsample': 0.9069084449417637},\n",
       " mean: -0.31901, std: 0.53148, params: {'colsample_bytree': 0.66649200662032293, 'gamma': 1.4381068923363203, 'learning_rate': 0.0063939125871995545, 'max_delta_step': 3, 'max_depth': 22, 'min_child_weight': 0, 'n_estimators': 50, 'subsample': 0.82279229464390302},\n",
       " mean: -0.26408, std: 0.45410, params: {'colsample_bytree': 0.97244904998906079, 'gamma': 1.4221022401504906, 'learning_rate': 0.0093838646298765611, 'max_delta_step': 4, 'max_depth': 12, 'min_child_weight': 2, 'n_estimators': 50, 'subsample': 0.99999049421209718},\n",
       " mean: -0.33471, std: 0.48561, params: {'colsample_bytree': 0.79282129605339569, 'gamma': 1.7100558381261874, 'learning_rate': 0.0051736313995399815, 'max_delta_step': 3, 'max_depth': 25, 'min_child_weight': 4, 'n_estimators': 40, 'subsample': 0.77135027897034714},\n",
       " mean: -0.29012, std: 0.65652, params: {'colsample_bytree': 0.78859696896841758, 'gamma': 0.24910430383615517, 'learning_rate': 0.012549671260601858, 'max_delta_step': 1, 'max_depth': 16, 'min_child_weight': 0, 'n_estimators': 40, 'subsample': 0.74493646754790999},\n",
       " mean: -0.29309, std: 0.54604, params: {'colsample_bytree': 0.67464683078047671, 'gamma': 1.3073737277670854, 'learning_rate': 0.01197515043499606, 'max_delta_step': 0, 'max_depth': 12, 'min_child_weight': 4, 'n_estimators': 50, 'subsample': 0.89907804840756034},\n",
       " mean: -0.28030, std: 0.45788, params: {'colsample_bytree': 0.95042682633925835, 'gamma': 1.6061699565362895, 'learning_rate': 0.0095451316527249176, 'max_delta_step': 2, 'max_depth': 11, 'min_child_weight': 1, 'n_estimators': 40, 'subsample': 0.84741483841200282},\n",
       " mean: -0.28255, std: 0.46565, params: {'colsample_bytree': 0.96922711039788401, 'gamma': 1.5805694922802518, 'learning_rate': 0.0073908085062073629, 'max_delta_step': 4, 'max_depth': 17, 'min_child_weight': 2, 'n_estimators': 60, 'subsample': 0.85557651912677934},\n",
       " mean: -0.29128, std: 0.48917, params: {'colsample_bytree': 0.77676143875917214, 'gamma': 1.4509292329985783, 'learning_rate': 0.010525178346981894, 'max_delta_step': 3, 'max_depth': 17, 'min_child_weight': 2, 'n_estimators': 50, 'subsample': 0.72482305732653929},\n",
       " mean: -0.31550, std: 0.58653, params: {'colsample_bytree': 0.90965427419354905, 'gamma': 0.23895915469637058, 'learning_rate': 0.0060402371710151139, 'max_delta_step': 3, 'max_depth': 16, 'min_child_weight': 5, 'n_estimators': 50, 'subsample': 0.80815182065816704},\n",
       " mean: -0.27871, std: 0.47344, params: {'colsample_bytree': 0.87377730680033072, 'gamma': 1.5406637972858543, 'learning_rate': 0.0057683396831150037, 'max_delta_step': 3, 'max_depth': 5, 'min_child_weight': 5, 'n_estimators': 60, 'subsample': 0.92663581785841354},\n",
       " mean: -0.31935, std: 0.54402, params: {'colsample_bytree': 0.9552923744954237, 'gamma': 0.91674874811002094, 'learning_rate': 0.0065921134443992623, 'max_delta_step': 4, 'max_depth': 7, 'min_child_weight': 4, 'n_estimators': 40, 'subsample': 0.92595011804019889},\n",
       " mean: -0.30650, std: 0.48705, params: {'colsample_bytree': 0.88864688033707895, 'gamma': 1.3423254912298639, 'learning_rate': 0.0071674625821128782, 'max_delta_step': 0, 'max_depth': 4, 'min_child_weight': 1, 'n_estimators': 40, 'subsample': 0.74817510007679355},\n",
       " mean: -0.24580, std: 0.55135, params: {'colsample_bytree': 0.62287310261678641, 'gamma': 0.50390617729883447, 'learning_rate': 0.013750403640464516, 'max_delta_step': 0, 'max_depth': 7, 'min_child_weight': 4, 'n_estimators': 40, 'subsample': 0.86676858693599812},\n",
       " mean: -0.30532, std: 0.63856, params: {'colsample_bytree': 0.61833325494860725, 'gamma': 0.77838405221253981, 'learning_rate': 0.011439391503728131, 'max_delta_step': 1, 'max_depth': 17, 'min_child_weight': 2, 'n_estimators': 50, 'subsample': 0.85929637555533378},\n",
       " mean: -0.30377, std: 0.53168, params: {'colsample_bytree': 0.87795082473199426, 'gamma': 0.96938333032048507, 'learning_rate': 0.0066522385477192593, 'max_delta_step': 4, 'max_depth': 12, 'min_child_weight': 4, 'n_estimators': 60, 'subsample': 0.73178129208779719},\n",
       " mean: -0.30752, std: 0.49652, params: {'colsample_bytree': 0.90632408264316378, 'gamma': 1.5485427827087184, 'learning_rate': 0.0092514680101227001, 'max_delta_step': 2, 'max_depth': 14, 'min_child_weight': 4, 'n_estimators': 50, 'subsample': 0.79038769297518563},\n",
       " mean: -0.26133, std: 0.55577, params: {'colsample_bytree': 0.6462003928230925, 'gamma': 0.409630144717889, 'learning_rate': 0.0095591520792989593, 'max_delta_step': 4, 'max_depth': 7, 'min_child_weight': 3, 'n_estimators': 50, 'subsample': 0.83348693475295121},\n",
       " mean: -0.33883, std: 0.66627, params: {'colsample_bytree': 0.82428042419753256, 'gamma': 0.69330713013333178, 'learning_rate': 0.014381255877358147, 'max_delta_step': 0, 'max_depth': 19, 'min_child_weight': 1, 'n_estimators': 60, 'subsample': 0.92212155596318779},\n",
       " mean: -0.31247, std: 0.57193, params: {'colsample_bytree': 0.99169291441946272, 'gamma': 0.79059628238700719, 'learning_rate': 0.0089760951797000325, 'max_delta_step': 1, 'max_depth': 11, 'min_child_weight': 0, 'n_estimators': 40, 'subsample': 0.8985610071170671},\n",
       " mean: -0.33070, std: 0.59656, params: {'colsample_bytree': 0.73543637383649707, 'gamma': 0.90534709396768376, 'learning_rate': 0.013282164250457727, 'max_delta_step': 3, 'max_depth': 24, 'min_child_weight': 3, 'n_estimators': 60, 'subsample': 0.77568743320035882},\n",
       " mean: -0.32697, std: 0.60904, params: {'colsample_bytree': 0.68056104665433037, 'gamma': 0.86721822365703871, 'learning_rate': 0.0067741978294399941, 'max_delta_step': 3, 'max_depth': 27, 'min_child_weight': 3, 'n_estimators': 50, 'subsample': 0.90027831789621704},\n",
       " mean: -0.31567, std: 0.50510, params: {'colsample_bytree': 0.80348643932254049, 'gamma': 1.5843326713607959, 'learning_rate': 0.0077552055353872565, 'max_delta_step': 1, 'max_depth': 25, 'min_child_weight': 5, 'n_estimators': 50, 'subsample': 0.78449891945992456},\n",
       " mean: -0.29782, std: 0.58589, params: {'colsample_bytree': 0.65021054720806648, 'gamma': 0.65033174038043651, 'learning_rate': 0.0092564090301450568, 'max_delta_step': 1, 'max_depth': 6, 'min_child_weight': 1, 'n_estimators': 40, 'subsample': 0.83892259729720398},\n",
       " mean: -0.30012, std: 0.47778, params: {'colsample_bytree': 0.85545375119130818, 'gamma': 1.6588976723881923, 'learning_rate': 0.013281283356276638, 'max_delta_step': 1, 'max_depth': 14, 'min_child_weight': 2, 'n_estimators': 40, 'subsample': 0.75154416827064319},\n",
       " mean: -0.26224, std: 0.45662, params: {'colsample_bytree': 0.86516776302570042, 'gamma': 1.639481332139024, 'learning_rate': 0.0083949630418294324, 'max_delta_step': 3, 'max_depth': 6, 'min_child_weight': 1, 'n_estimators': 50, 'subsample': 0.98476111240045772}]"
      ]
     },
     "execution_count": 89,
     "metadata": {},
     "output_type": "execute_result"
    }
   ],
   "source": [
    "gs.grid_scores_"
   ]
  },
  {
   "cell_type": "code",
   "execution_count": 213,
   "metadata": {},
   "outputs": [
    {
     "data": {
      "text/plain": [
       "{'colsample_bytree': 0.72354792937343382,\n",
       " 'gamma': 0.93450310230643563,\n",
       " 'learning_rate': 0.0073858407201836465,\n",
       " 'max_delta_step': 3,\n",
       " 'max_depth': 25,\n",
       " 'min_child_weight': 0,\n",
       " 'n_estimators': 50,\n",
       " 'subsample': 0.96619603436441204}"
      ]
     },
     "execution_count": 213,
     "metadata": {},
     "output_type": "execute_result"
    }
   ],
   "source": [
    "gs.best_params_"
   ]
  },
  {
   "cell_type": "code",
   "execution_count": 13,
   "metadata": {
    "collapsed": true
   },
   "outputs": [],
   "source": [
    "# This is the winner setting that produced 0.08891 score.\n",
    "best_model = XGBRegressor(\n",
    "    colsample_bytree = 0.9900243815567773,\n",
    "    gamma = 0.42560064902898453,\n",
    "    learning_rate = 0.010976497428325942,\n",
    "    max_depth = 26,\n",
    "    n_estimators = 50,\n",
    "    subsample = 0.72772456173363298,\n",
    "    min_child_weight = 2,\n",
    "    max_delta_step = 2,\n",
    "    n_jobs = -1    \n",
    ")"
   ]
  },
  {
   "cell_type": "code",
   "execution_count": 21,
   "metadata": {
    "collapsed": true
   },
   "outputs": [],
   "source": [
    "# This is the loser setting from 3 fold CV fine tuned.\n",
    "best_model = XGBRegressor(\n",
    "    colsample_bytree = 0.983780377,\n",
    "    gamma = 0.205634573,\n",
    "    learning_rate = 0.009908466,\n",
    "    max_depth = 28,\n",
    "    n_estimators = 60,\n",
    "    subsample = 0.81693462,\n",
    "    min_child_weight = 3,\n",
    "    max_delta_step = 4,\n",
    "    n_jobs = -1    \n",
    ")"
   ]
  },
  {
   "cell_type": "code",
   "execution_count": 49,
   "metadata": {
    "collapsed": true
   },
   "outputs": [],
   "source": [
    "# This is the winner from 10 fold CV.\n",
    "best_model = XGBRegressor(\n",
    "    colsample_bytree = 0.981181319,\n",
    "    gamma = 1.296090886,\n",
    "    learning_rate = 0.010996929,\n",
    "    max_depth = 16,\n",
    "    n_estimators = 60,\n",
    "    subsample = 0.93320205,\n",
    "    min_child_weight = 5,\n",
    "    max_delta_step = 1,\n",
    "    n_jobs = -1    \n",
    ")"
   ]
  },
  {
   "cell_type": "code",
   "execution_count": 63,
   "metadata": {},
   "outputs": [
    {
     "data": {
      "text/plain": [
       "XGBRegressor(base_score=0.5, booster='gbtree', colsample_bylevel=1,\n",
       "       colsample_bytree=0.981181319, gamma=1.296090886,\n",
       "       learning_rate=0.010996929, max_delta_step=1, max_depth=16,\n",
       "       min_child_weight=5, missing=None, n_estimators=60, n_jobs=-1,\n",
       "       nthread=None, objective='reg:linear', random_state=0, reg_alpha=0,\n",
       "       reg_lambda=1, scale_pos_weight=1, seed=None, silent=True,\n",
       "       subsample=0.93320205)"
      ]
     },
     "execution_count": 63,
     "metadata": {},
     "output_type": "execute_result"
    }
   ],
   "source": [
    "best_model.fit(data.train_feature_df, data.train_outcome_df.iloc[:,0])"
   ]
  },
  {
   "cell_type": "code",
   "execution_count": 94,
   "metadata": {
    "collapsed": true
   },
   "outputs": [],
   "source": [
    "train_prediction = best_model.predict(data.train_feature_df)"
   ]
  },
  {
   "cell_type": "code",
   "execution_count": 229,
   "metadata": {
    "scrolled": false
   },
   "outputs": [
    {
     "data": {
      "image/png": "[encoded data removed]",
      "text/plain": [
       "<matplotlib.figure.Figure at 0x2287320de80>"
      ]
     },
     "metadata": {},
     "output_type": "display_data"
    }
   ],
   "source": [
    "plt.figure(figsize=(20, 20))\n",
    "\n",
    "plt.scatter(data.train_outcome_df, train_prediction, alpha= 0.5)\n",
    "\n",
    "plt.plot([0, 1], [0, 1], color='k', linestyle='-', linewidth=1)\n",
    "plt.show()"
   ]
  },
  {
   "cell_type": "code",
   "execution_count": 27,
   "metadata": {},
   "outputs": [
    {
     "data": {
      "image/png": "[encoded data removed]",
      "text/plain": [
       "<matplotlib.figure.Figure at 0x1a2f5e26438>"
      ]
     },
     "metadata": {},
     "output_type": "display_data"
    }
   ],
   "source": [
    "plt.figure(figsize=(20, 20))\n",
    "\n",
    "plt.scatter(data.train_outcome_df, train_prediction, alpha= 0.5)\n",
    "\n",
    "plt.plot([0, 1], [0, 1], color='k', linestyle='-', linewidth=1)\n",
    "plt.show()"
   ]
  },
  {
   "cell_type": "code",
   "execution_count": 95,
   "metadata": {},
   "outputs": [
    {
     "data": {
      "image/png": "[encoded data removed]",
      "text/plain": [
       "<matplotlib.figure.Figure at 0x1a2f69d74a8>"
      ]
     },
     "metadata": {},
     "output_type": "display_data"
    }
   ],
   "source": [
    "# Best tune from 10 CV plus extra data 1\n",
    "plt.figure(figsize=(20, 20))\n",
    "\n",
    "plt.scatter(data.train_outcome_df, train_prediction, alpha= 0.5)\n",
    "\n",
    "plt.plot([0, 1], [0, 1], color='k', linestyle='-', linewidth=1)\n",
    "plt.show()"
   ]
  },
  {
   "cell_type": "code",
   "execution_count": 231,
   "metadata": {},
   "outputs": [
    {
     "data": {
      "text/plain": [
       "0.083830669705594663"
      ]
     },
     "execution_count": 231,
     "metadata": {},
     "output_type": "execute_result"
    }
   ],
   "source": [
    "MSE = mean_squared_error(data.train_outcome_df, train_prediction)\n",
    "MSE ** 0.5"
   ]
  },
  {
   "cell_type": "code",
   "execution_count": 28,
   "metadata": {},
   "outputs": [
    {
     "data": {
      "text/plain": [
       "0.075812171452828578"
      ]
     },
     "execution_count": 28,
     "metadata": {},
     "output_type": "execute_result"
    }
   ],
   "source": [
    "MSE = mean_squared_error(data.train_outcome_df, train_prediction)\n",
    "MSE ** 0.5"
   ]
  },
  {
   "cell_type": "code",
   "execution_count": 96,
   "metadata": {},
   "outputs": [
    {
     "data": {
      "text/plain": [
       "0.079678149950278498"
      ]
     },
     "execution_count": 96,
     "metadata": {},
     "output_type": "execute_result"
    }
   ],
   "source": [
    "# Best tune from 10 CV plus extra data 1\n",
    "MSE = mean_squared_error(data.train_outcome_df, train_prediction)\n",
    "MSE ** 0.5"
   ]
  },
  {
   "cell_type": "code",
   "execution_count": 51,
   "metadata": {
    "collapsed": true
   },
   "outputs": [],
   "source": [
    "prediction = best_model.predict(data.test_feature_df)\n",
    "pd.DataFrame(prediction).to_csv('result.csv', sep='\\t', index = False)"
   ]
  },
  {
   "cell_type": "code",
   "execution_count": null,
   "metadata": {
    "collapsed": true
   },
   "outputs": [],
   "source": []
  },
  {
   "cell_type": "code",
   "execution_count": null,
   "metadata": {
    "collapsed": true
   },
   "outputs": [],
   "source": []
  },
  {
   "cell_type": "markdown",
   "metadata": {},
   "source": [
    "# XGBOOST TREE WITH FILLED DATA"
   ]
  },
  {
   "cell_type": "code",
   "execution_count": 276,
   "metadata": {},
   "outputs": [
    {
     "data": {
      "text/plain": [
       "RandomizedSearchCV(cv=None, error_score='raise',\n",
       "          estimator=XGBRegressor(base_score=0.5, booster='gbtree', colsample_bylevel=1,\n",
       "       colsample_bytree=1, gamma=0, learning_rate=0.1, max_delta_step=0,\n",
       "       max_depth=3, min_child_weight=1, missing=None, n_estimators=100,\n",
       "       n_jobs=-1, nthread=None, objective='reg:linear', random_state=0,\n",
       "       reg_alpha=0, reg_lambda=1, scale_pos_weight=1, seed=None,\n",
       "       silent=True, subsample=1),\n",
       "          fit_params=None, iid=True, n_iter=100, n_jobs=-1,\n",
       "          param_distributions={'n_estimators': [100], 'max_depth': <scipy.stats._distn_infrastructure.rv_frozen object at 0x00000228741782E8>, 'learning_rate': <scipy.stats._distn_infrastructure.rv_frozen object at 0x00000228741784E0>, 'colsample_bytree': <scipy.stats._distn_infrastructure.rv_frozen object at... object at 0x0000022874648828>, 'min_child_weight': [0, 1, 2, 3, 4], 'max_delta_step': [0, 1, 2, 3]},\n",
       "          pre_dispatch='2*n_jobs', random_state=None, refit=True,\n",
       "          return_train_score=True, scoring=None, verbose=0)"
      ]
     },
     "execution_count": 276,
     "metadata": {},
     "output_type": "execute_result"
    }
   ],
   "source": [
    "params = {\n",
    "    \"n_estimators\": [100],\n",
    "    \"max_depth\": st.randint(3, 30),\n",
    "    \"learning_rate\": st.uniform(0.001, 0.015),\n",
    "    \"colsample_bytree\": st.uniform(0.60, 0.40),\n",
    "    \"subsample\": st.uniform(0.7, 0.3),\n",
    "    \"gamma\": st.uniform(0.01, 0.2),\n",
    "    \"min_child_weight\": [0,1,2,3,4],\n",
    "    \"max_delta_step\": [0, 1, 2, 3]\n",
    "}\n",
    "\n",
    "model = XGBRegressor(n_jobs = -1) # nthread deprecated\n",
    "\n",
    "gs = RandomizedSearchCV(model, params, n_jobs=-1, n_iter=100)\n",
    "\n",
    "gs.fit(data.train_feature_df, data.train_outcome_df.iloc[:,0])"
   ]
  },
  {
   "cell_type": "code",
   "execution_count": null,
   "metadata": {
    "collapsed": true
   },
   "outputs": [],
   "source": []
  },
  {
   "cell_type": "code",
   "execution_count": 272,
   "metadata": {},
   "outputs": [
    {
     "data": {
      "text/plain": [
       "RandomizedSearchCV(cv=None, error_score='raise',\n",
       "          estimator=XGBRegressor(base_score=0.5, booster='gbtree', colsample_bylevel=1,\n",
       "       colsample_bytree=1, gamma=0, learning_rate=0.1, max_delta_step=0,\n",
       "       max_depth=3, min_child_weight=1, missing=None, n_estimators=100,\n",
       "       n_jobs=-1, nthread=None, objective='reg:linear', random_state=0,\n",
       "       reg_alpha=0, reg_lambda=1, scale_pos_weight=1, seed=None,\n",
       "       silent=True, subsample=1),\n",
       "          fit_params=None, iid=True, n_iter=50, n_jobs=-1,\n",
       "          param_distributions={'n_estimators': [50], 'max_depth': <scipy.stats._distn_infrastructure.rv_frozen object at 0x000002287476BEB8>, 'learning_rate': <scipy.stats._distn_infrastructure.rv_frozen object at 0x000002287476B080>, 'colsample_bytree': <scipy.stats._distn_infrastructure.rv_frozen object at ... object at 0x0000022874195C18>, 'min_child_weight': [0, 1, 2, 3, 4], 'max_delta_step': [0, 1, 2, 3]},\n",
       "          pre_dispatch='2*n_jobs', random_state=None, refit=True,\n",
       "          return_train_score=True, scoring=None, verbose=0)"
      ]
     },
     "execution_count": 272,
     "metadata": {},
     "output_type": "execute_result"
    }
   ],
   "source": [
    "params = {\n",
    "    \"n_estimators\": [50],\n",
    "    \"max_depth\": st.randint(3, 30),\n",
    "    \"learning_rate\": st.uniform(0.006, 0.015),\n",
    "    \"colsample_bytree\": st.uniform(0.60, 0.40),\n",
    "    \"subsample\": st.uniform(0.7, 0.3),\n",
    "    \"gamma\": st.uniform(0.05, 0.3),\n",
    "    \"min_child_weight\": [0,1,2,3,4],\n",
    "    \"max_delta_step\": [0, 1, 2, 3]\n",
    "}\n",
    "\n",
    "model = XGBRegressor(n_jobs = -1) # nthread deprecated\n",
    "\n",
    "gs = RandomizedSearchCV(model, params, n_jobs=-1, n_iter=50)\n",
    "\n",
    "gs.fit(data.train_feature_df, data.train_outcome_df.iloc[:,0])"
   ]
  },
  {
   "cell_type": "code",
   "execution_count": null,
   "metadata": {
    "collapsed": true
   },
   "outputs": [],
   "source": [
    "gs.grid_scores_"
   ]
  },
  {
   "cell_type": "code",
   "execution_count": null,
   "metadata": {
    "collapsed": true
   },
   "outputs": [],
   "source": []
  },
  {
   "cell_type": "code",
   "execution_count": 278,
   "metadata": {
    "collapsed": true
   },
   "outputs": [],
   "source": [
    "# Best tune for 100 trees\n",
    "best_model = XGBRegressor(\n",
    "    colsample_bytree = 0.92582933,\n",
    "    gamma = 0.07147378,\n",
    "    learning_rate = 0.007187103,\n",
    "    max_depth = 15,\n",
    "    n_estimators = 100,\n",
    "    subsample = 0.758763799,\n",
    "    min_child_weight = 1,\n",
    "    max_delta_step = 0,\n",
    "    n_jobs = -1    \n",
    ")"
   ]
  },
  {
   "cell_type": "code",
   "execution_count": 297,
   "metadata": {
    "collapsed": true
   },
   "outputs": [],
   "source": [
    "# Best tune for 50 trees\n",
    "best_model = XGBRegressor(\n",
    "    colsample_bytree = 0.859649548,\n",
    "    gamma = 0.16621314,\n",
    "    learning_rate = 0.011236507,\n",
    "    max_depth = 24,\n",
    "    n_estimators = 50,\n",
    "    subsample = 0.728027392,\n",
    "    min_child_weight = 1,\n",
    "    max_delta_step = 1,\n",
    "    n_jobs = -1    \n",
    ")"
   ]
  },
  {
   "cell_type": "code",
   "execution_count": 66,
   "metadata": {
    "collapsed": true
   },
   "outputs": [],
   "source": [
    "# Best tune from 10 CV\n",
    "best_model = XGBRegressor(\n",
    "    colsample_bytree = 0.905885124,\n",
    "    gamma = 1.06660232,\n",
    "    learning_rate = 0.010169538,\n",
    "    max_depth = 24,\n",
    "    n_estimators = 50,\n",
    "    subsample = 0.728831731,\n",
    "    min_child_weight = 2,\n",
    "    max_delta_step = 2,\n",
    "    n_jobs = -1    \n",
    ")"
   ]
  },
  {
   "cell_type": "code",
   "execution_count": 90,
   "metadata": {
    "collapsed": true
   },
   "outputs": [],
   "source": [
    "# Best tune from 10 CV plus extra data 1\n",
    "best_model = XGBRegressor(\n",
    "    colsample_bytree = 0.803524215,\n",
    "    gamma = 0.374300483,\n",
    "    learning_rate = 0.008844916,\n",
    "    max_depth = 14,\n",
    "    n_estimators = 60,\n",
    "    subsample = 0.976499849,\n",
    "    min_child_weight = 4,\n",
    "    max_delta_step = 2,\n",
    "    n_jobs = -1    \n",
    ")"
   ]
  },
  {
   "cell_type": "code",
   "execution_count": null,
   "metadata": {
    "collapsed": true
   },
   "outputs": [],
   "source": []
  },
  {
   "cell_type": "code",
   "execution_count": 91,
   "metadata": {},
   "outputs": [
    {
     "data": {
      "text/plain": [
       "XGBRegressor(base_score=0.5, booster='gbtree', colsample_bylevel=1,\n",
       "       colsample_bytree=0.803524215, gamma=0.374300483,\n",
       "       learning_rate=0.008844916, max_delta_step=2, max_depth=14,\n",
       "       min_child_weight=4, missing=None, n_estimators=60, n_jobs=-1,\n",
       "       nthread=None, objective='reg:linear', random_state=0, reg_alpha=0,\n",
       "       reg_lambda=1, scale_pos_weight=1, seed=None, silent=True,\n",
       "       subsample=0.976499849)"
      ]
     },
     "execution_count": 91,
     "metadata": {},
     "output_type": "execute_result"
    }
   ],
   "source": [
    "best_model.fit(data.train_feature_df, data.train_outcome_df.iloc[:,0])"
   ]
  },
  {
   "cell_type": "code",
   "execution_count": 92,
   "metadata": {
    "collapsed": true
   },
   "outputs": [],
   "source": [
    "prediction = best_model.predict(data.test_feature_df)\n",
    "pd.DataFrame(prediction).to_csv('result.csv', sep='\\t', index = False)"
   ]
  },
  {
   "cell_type": "code",
   "execution_count": null,
   "metadata": {
    "collapsed": true
   },
   "outputs": [],
   "source": []
  },
  {
   "cell_type": "code",
   "execution_count": 69,
   "metadata": {},
   "outputs": [
    {
     "data": {
      "text/plain": [
       "<matplotlib.text.Text at 0x1a2f6604390>"
      ]
     },
     "execution_count": 69,
     "metadata": {},
     "output_type": "execute_result"
    },
    {
     "data": {
      "image/png": "[encoded data removed]",
      "text/plain": [
       "<matplotlib.figure.Figure at 0x1a2f65b09e8>"
      ]
     },
     "metadata": {},
     "output_type": "display_data"
    }
   ],
   "source": [
    "# Best tune from 10 CV\n",
    "import matplotlib.pylab as plt\n",
    "%matplotlib inline\n",
    "from matplotlib.pylab import rcParams\n",
    "rcParams['figure.figsize'] = 12, 4\n",
    "\n",
    "feat_imp = pd.Series(best_model._Booster.get_fscore()).sort_values(ascending=False)\n",
    "feat_imp.plot(kind='bar', title='Feature Importances')\n",
    "plt.ylabel('Feature Importance Score')"
   ]
  },
  {
   "cell_type": "code",
   "execution_count": 70,
   "metadata": {},
   "outputs": [
    {
     "data": {
      "text/plain": [
       "Energy intensity level of primary energy (MJ/2011 USD PPP) 6.1_PRIMARY.ENERGY.INTENSITY    31\n",
       "Renewable electricity share of total electricity output (%) 4.1_SHARE.RE.IN.ELECTRICITY    24\n",
       "GNI per capita Atlas method (current US$)                                                  22\n",
       "Renewable energy share of TFEC (%) 2.1_SHARE.TOTAL.RE.IN.TFEC                              11\n",
       "Total electricity output (GWh) 4.1.1_TOTAL.ELECTRICITY.OUTPUT                               3\n",
       "Renewable energy consumption (TJ) 3.1_RE.CONSUMPTION                                        3\n",
       "Total final energy consumption (TFEC) (TJ) 1.1_TOTAL.FINAL.ENERGY.CONSUM                    2\n",
       "Population ages 00-04 (as % of specified gender population)                                 1\n",
       "dtype: int64"
      ]
     },
     "execution_count": 70,
     "metadata": {},
     "output_type": "execute_result"
    }
   ],
   "source": [
    "feat_imp.head(200)"
   ]
  },
  {
   "cell_type": "code",
   "execution_count": 71,
   "metadata": {},
   "outputs": [
    {
     "data": {
      "text/plain": [
       "8"
      ]
     },
     "execution_count": 71,
     "metadata": {},
     "output_type": "execute_result"
    }
   ],
   "source": [
    "len(best_model._Booster.get_score())"
   ]
  },
  {
   "cell_type": "code",
   "execution_count": 72,
   "metadata": {},
   "outputs": [
    {
     "data": {
      "text/plain": [
       "8"
      ]
     },
     "execution_count": 72,
     "metadata": {},
     "output_type": "execute_result"
    }
   ],
   "source": [
    "len(best_model._Booster.get_fscore())"
   ]
  },
  {
   "cell_type": "code",
   "execution_count": null,
   "metadata": {
    "collapsed": true
   },
   "outputs": [],
   "source": []
  },
  {
   "cell_type": "code",
   "execution_count": 93,
   "metadata": {},
   "outputs": [
    {
     "data": {
      "text/plain": [
       "<matplotlib.text.Text at 0x1a2f715e588>"
      ]
     },
     "execution_count": 93,
     "metadata": {},
     "output_type": "execute_result"
    },
    {
     "data": {
      "image/png": "[encoded data removed]",
      "text/plain": [
       "<matplotlib.figure.Figure at 0x1a2f6384940>"
      ]
     },
     "metadata": {},
     "output_type": "display_data"
    }
   ],
   "source": [
    "# Best tune from 10 CV plus extra data 1\n",
    "%matplotlib inline\n",
    "from matplotlib.pylab import rcParams\n",
    "rcParams['figure.figsize'] = 12, 4\n",
    "\n",
    "feat_imp = pd.Series(best_model._Booster.get_fscore()).sort_values(ascending=False)\n",
    "feat_imp.plot(kind='bar', title='Feature Importances')\n",
    "plt.ylabel('Feature Importance Score')"
   ]
  },
  {
   "cell_type": "code",
   "execution_count": 73,
   "metadata": {},
   "outputs": [
    {
     "data": {
      "text/plain": [
       "1993.0"
      ]
     },
     "execution_count": 73,
     "metadata": {},
     "output_type": "execute_result"
    }
   ],
   "source": [
    "data.train_feature_df['TIME'].min()"
   ]
  },
  {
   "cell_type": "code",
   "execution_count": null,
   "metadata": {
    "collapsed": true
   },
   "outputs": [],
   "source": [
    "# Get the ratio data or per capita, so no need to normalise\n",
    "# How to create country happiness \"intercept\"?\n",
    "# How about the trend someone experienced?"
   ]
  },
  {
   "cell_type": "code",
   "execution_count": null,
   "metadata": {
    "collapsed": true
   },
   "outputs": [],
   "source": [
    "# Can unfilled data trained model (0.08891) be finer tuned?\n",
    "# Answer: Although the RMSE on the total training (this is cheating) dropped from 0.0838 to 0.0758, the test score\n",
    "# of finer tuned model got worsen. I consider this as too much tuning resulted in a setting that seemed good,\n",
    "# but suffer from \"p-value hacking\" related problems.\n",
    "# \n",
    "# Can more than 3 fold CV help to resolve the previous problem?\n",
    "# Answer: Did 10 fold CV. A big jump in test accuracy. Refreshed my record.\n",
    "#\n",
    "# Can missing value filled test/train data do any good?\n",
    "# Answer: If fill test only: in submission NO 3, filled test data won. In submission NO 2, they tied.\n",
    "#         If fill both test and train: if 10 fold CV not 3 fold CV, slightly better result (RMSE from 0.0826 to 0.08209)\n"
   ]
  }
 ],
 "metadata": {
  "kernelspec": {
   "display_name": "Python 3",
   "language": "python",
   "name": "python3"
  },
  "language_info": {
   "codemirror_mode": {
    "name": "ipython",
    "version": 3
   },
   "file_extension": ".py",
   "mimetype": "text/x-python",
   "name": "python",
   "nbconvert_exporter": "python",
   "pygments_lexer": "ipython3",
   "version": "3.6.2"
  }
 },
 "nbformat": 4,
 "nbformat_minor": 2
}
