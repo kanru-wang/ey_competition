{
 "cells": [
  {
   "cell_type": "code",
   "execution_count": 232,
   "metadata": {
    "collapsed": true
   },
   "outputs": [],
   "source": [
    "import pandas as pd\n",
    "import numpy as np\n",
    "#import copy\n",
    "\n",
    "import specifics\n",
    "import data\n",
    "\n",
    "from time import time\n",
    "#import xgboost\n",
    "from sklearn import metrics\n",
    "from sklearn.model_selection import train_test_split\n",
    "from sklearn.model_selection import RandomizedSearchCV\n",
    "#from sklearn.metrics import accuracy_score\n",
    "from sklearn.metrics import mean_squared_error\n",
    "\n",
    "from xgboost.sklearn import XGBRegressor\n",
    "from sklearn.ensemble import RandomForestRegressor\n",
    "#from sklearn.pipeline import Pipeline\n",
    "#from sklearn.preprocessing import StandardScaler\n",
    "import scipy.stats as st # For parameter generation"
   ]
  },
  {
   "cell_type": "code",
   "execution_count": 233,
   "metadata": {},
   "outputs": [
    {
     "name": "stdout",
     "output_type": "stream",
     "text": [
      "The autoreload extension is already loaded. To reload it, use:\n",
      "  %reload_ext autoreload\n"
     ]
    }
   ],
   "source": [
    "%load_ext autoreload\n",
    "%autoreload 2"
   ]
  },
  {
   "cell_type": "code",
   "execution_count": 234,
   "metadata": {
    "collapsed": true
   },
   "outputs": [],
   "source": [
    "train_feature_dataset = pd.DataFrame.from_csv('dataset/train.csv')\n",
    "train_outcome_dataset = pd.DataFrame.from_csv('dataset/status_group.csv')\n",
    "test_feature_dataset = pd.DataFrame.from_csv('dataset/test.csv')"
   ]
  },
  {
   "cell_type": "code",
   "execution_count": 235,
   "metadata": {},
   "outputs": [
    {
     "data": {
      "text/plain": [
       "(1010, 39)"
      ]
     },
     "execution_count": 235,
     "metadata": {},
     "output_type": "execute_result"
    }
   ],
   "source": [
    "train_feature_dataset.shape"
   ]
  },
  {
   "cell_type": "code",
   "execution_count": 236,
   "metadata": {
    "scrolled": true
   },
   "outputs": [
    {
     "name": "stdout",
     "output_type": "stream",
     "text": [
      "<class 'pandas.core.frame.DataFrame'>\n",
      "Int64Index: 1010 entries, 1 to 1252\n",
      "Data columns (total 39 columns):\n",
      "LOCATION                                                                                         1010 non-null object\n",
      "TIME                                                                                             1010 non-null int64\n",
      "GENDER                                                                                           1010 non-null object\n",
      "Population (% of total)                                                                          1010 non-null float64\n",
      "EDU_TERTIARY_PC_WKGPOP                                                                           928 non-null float64\n",
      "CPI_AGRWTH                                                                                       928 non-null float64\n",
      "GDP_USD_CAP                                                                                      928 non-null float64\n",
      "GOV_SPEND_EDU                                                                                    784 non-null float64\n",
      "%_Sanitation_Access                                                                              996 non-null float64\n",
      "Access to Clean Fuels and Technologies for cooking (% of total population) 2.1_ACCESS.CFT.TOT    946 non-null float64\n",
      "Access to electricity (% of rural population with access) 1.2_ACCESS.ELECTRICITY.RURAL           1004 non-null float64\n",
      "Access to electricity (% of total population) 1.1_ACCESS.ELECTRICITY.TOT                         1004 non-null float64\n",
      "Access to electricity (% of urban population with access) 1.3_ACCESS.ELECTRICITY.URBAN           996 non-null float64\n",
      "Energy intensity level of primary energy (MJ/2011 USD PPP) 6.1_PRIMARY.ENERGY.INTENSITY          896 non-null float64\n",
      "Renewable electricity output (GWh) 4.1.2_REN.ELECTRICITY.OUTPUT                                  896 non-null float64\n",
      "Renewable electricity share of total electricity output (%) 4.1_SHARE.RE.IN.ELECTRICITY          896 non-null float64\n",
      "Renewable energy consumption (TJ) 3.1_RE.CONSUMPTION                                             896 non-null float64\n",
      "Renewable energy share of TFEC (%) 2.1_SHARE.TOTAL.RE.IN.TFEC                                    896 non-null float64\n",
      "Total electricity output (GWh) 4.1.1_TOTAL.ELECTRICITY.OUTPUT                                    896 non-null float64\n",
      "Total final energy consumption (TFEC) (TJ) 1.1_TOTAL.FINAL.ENERGY.CONSUM                         896 non-null float64\n",
      "Population ages 00-04 (as % of specified gender population)                                      1010 non-null float64\n",
      "Population ages 05-09 (as % of specified gender population)                                      1010 non-null float64\n",
      "Population ages 10-14 (as % of specified gender population)                                      1010 non-null float64\n",
      "Population ages 15-19 (as % of specified gender population)                                      1010 non-null float64\n",
      "Population ages 20-24 (as % of specified gender population)                                      1010 non-null float64\n",
      "Population ages 25-29 (as % of specified gender population)                                      1010 non-null float64\n",
      "Population ages 30-34 (as % of specified gender population)                                      1010 non-null float64\n",
      "Population ages 35-39 (as % of specified gender population)                                      1010 non-null float64\n",
      "Population ages 40-44 (as % of specified gender population)                                      1010 non-null float64\n",
      "Population ages 45-49 (as % of specified gender population)                                      1010 non-null float64\n",
      "Population ages 50-54 (as % of specified gender population)                                      1010 non-null float64\n",
      "Population ages 55-59 (as % of specified gender population)                                      1010 non-null float64\n",
      "Population ages 60-64 (as % of specified gender population)                                      1010 non-null float64\n",
      "Population ages 65-69 (as % of specified gender population)                                      1010 non-null float64\n",
      "Population ages 70-74 (as % of specified gender population)                                      1010 non-null float64\n",
      "Population ages 75-79 (as % of specified gender population)                                      1010 non-null float64\n",
      "Population ages 80 and older (as % of specified gender population)                               1010 non-null float64\n",
      "TER_Enrolment_rate                                                                               844 non-null float64\n",
      "GNI per capita Atlas method (current US$)                                                        1010 non-null int64\n",
      "dtypes: float64(35), int64(2), object(2)\n",
      "memory usage: 315.6+ KB\n"
     ]
    }
   ],
   "source": [
    "train_feature_dataset.info()"
   ]
  },
  {
   "cell_type": "code",
   "execution_count": 183,
   "metadata": {
    "scrolled": false
   },
   "outputs": [
    {
     "data": {
      "text/html": [
       "<div>\n",
       "<style>\n",
       "    .dataframe thead tr:only-child th {\n",
       "        text-align: right;\n",
       "    }\n",
       "\n",
       "    .dataframe thead th {\n",
       "        text-align: left;\n",
       "    }\n",
       "\n",
       "    .dataframe tbody tr th {\n",
       "        vertical-align: top;\n",
       "    }\n",
       "</style>\n",
       "<table border=\"1\" class=\"dataframe\">\n",
       "  <thead>\n",
       "    <tr style=\"text-align: right;\">\n",
       "      <th></th>\n",
       "      <th>LOCATION</th>\n",
       "      <th>TIME</th>\n",
       "      <th>GENDER</th>\n",
       "      <th>Population (% of total)</th>\n",
       "      <th>EDU_TERTIARY_PC_WKGPOP</th>\n",
       "      <th>CPI_AGRWTH</th>\n",
       "      <th>GDP_USD_CAP</th>\n",
       "      <th>GOV_SPEND_EDU</th>\n",
       "      <th>%_Sanitation_Access</th>\n",
       "      <th>Access to Clean Fuels and Technologies for cooking (% of total population) 2.1_ACCESS.CFT.TOT</th>\n",
       "      <th>Access to electricity (% of rural population with access) 1.2_ACCESS.ELECTRICITY.RURAL</th>\n",
       "      <th>Access to electricity (% of total population) 1.1_ACCESS.ELECTRICITY.TOT</th>\n",
       "      <th>Access to electricity (% of urban population with access) 1.3_ACCESS.ELECTRICITY.URBAN</th>\n",
       "      <th>Energy intensity level of primary energy (MJ/2011 USD PPP) 6.1_PRIMARY.ENERGY.INTENSITY</th>\n",
       "      <th>Renewable electricity output (GWh) 4.1.2_REN.ELECTRICITY.OUTPUT</th>\n",
       "      <th>Renewable electricity share of total electricity output (%) 4.1_SHARE.RE.IN.ELECTRICITY</th>\n",
       "      <th>Renewable energy consumption (TJ) 3.1_RE.CONSUMPTION</th>\n",
       "      <th>Renewable energy share of TFEC (%) 2.1_SHARE.TOTAL.RE.IN.TFEC</th>\n",
       "      <th>Total electricity output (GWh) 4.1.1_TOTAL.ELECTRICITY.OUTPUT</th>\n",
       "      <th>Total final energy consumption (TFEC) (TJ) 1.1_TOTAL.FINAL.ENERGY.CONSUM</th>\n",
       "    </tr>\n",
       "    <tr>\n",
       "      <th>id</th>\n",
       "      <th></th>\n",
       "      <th></th>\n",
       "      <th></th>\n",
       "      <th></th>\n",
       "      <th></th>\n",
       "      <th></th>\n",
       "      <th></th>\n",
       "      <th></th>\n",
       "      <th></th>\n",
       "      <th></th>\n",
       "      <th></th>\n",
       "      <th></th>\n",
       "      <th></th>\n",
       "      <th></th>\n",
       "      <th></th>\n",
       "      <th></th>\n",
       "      <th></th>\n",
       "      <th></th>\n",
       "      <th></th>\n",
       "      <th></th>\n",
       "    </tr>\n",
       "  </thead>\n",
       "  <tbody>\n",
       "    <tr>\n",
       "      <th>1</th>\n",
       "      <td>AUS</td>\n",
       "      <td>1993</td>\n",
       "      <td>MEN</td>\n",
       "      <td>49.780616</td>\n",
       "      <td>23.508869</td>\n",
       "      <td>1.753653</td>\n",
       "      <td>19929.78137</td>\n",
       "      <td>5.50922</td>\n",
       "      <td>100.0</td>\n",
       "      <td>100.0</td>\n",
       "      <td>100.0</td>\n",
       "      <td>100.0</td>\n",
       "      <td>100.0</td>\n",
       "      <td>7.502966</td>\n",
       "      <td>17220.0</td>\n",
       "      <td>10.55</td>\n",
       "      <td>197804.8632</td>\n",
       "      <td>8.616992</td>\n",
       "      <td>163236.0</td>\n",
       "      <td>2295520.952</td>\n",
       "    </tr>\n",
       "    <tr>\n",
       "      <th>2</th>\n",
       "      <td>AUS</td>\n",
       "      <td>1993</td>\n",
       "      <td>WOMEN</td>\n",
       "      <td>50.219384</td>\n",
       "      <td>21.418512</td>\n",
       "      <td>1.753653</td>\n",
       "      <td>19929.78137</td>\n",
       "      <td>5.50922</td>\n",
       "      <td>100.0</td>\n",
       "      <td>100.0</td>\n",
       "      <td>100.0</td>\n",
       "      <td>100.0</td>\n",
       "      <td>100.0</td>\n",
       "      <td>7.502966</td>\n",
       "      <td>17220.0</td>\n",
       "      <td>10.55</td>\n",
       "      <td>197804.8632</td>\n",
       "      <td>8.616992</td>\n",
       "      <td>163236.0</td>\n",
       "      <td>2295520.952</td>\n",
       "    </tr>\n",
       "    <tr>\n",
       "      <th>3</th>\n",
       "      <td>AUS</td>\n",
       "      <td>1994</td>\n",
       "      <td>MEN</td>\n",
       "      <td>49.762137</td>\n",
       "      <td>24.407070</td>\n",
       "      <td>1.969635</td>\n",
       "      <td>21134.14664</td>\n",
       "      <td>5.24752</td>\n",
       "      <td>100.0</td>\n",
       "      <td>100.0</td>\n",
       "      <td>100.0</td>\n",
       "      <td>100.0</td>\n",
       "      <td>100.0</td>\n",
       "      <td>7.206736</td>\n",
       "      <td>17042.0</td>\n",
       "      <td>10.19</td>\n",
       "      <td>193855.2090</td>\n",
       "      <td>8.259947</td>\n",
       "      <td>167169.0</td>\n",
       "      <td>2346930.376</td>\n",
       "    </tr>\n",
       "    <tr>\n",
       "      <th>4</th>\n",
       "      <td>AUS</td>\n",
       "      <td>1994</td>\n",
       "      <td>WOMEN</td>\n",
       "      <td>50.237863</td>\n",
       "      <td>21.740088</td>\n",
       "      <td>1.969635</td>\n",
       "      <td>21134.14664</td>\n",
       "      <td>5.24752</td>\n",
       "      <td>100.0</td>\n",
       "      <td>100.0</td>\n",
       "      <td>100.0</td>\n",
       "      <td>100.0</td>\n",
       "      <td>100.0</td>\n",
       "      <td>7.206736</td>\n",
       "      <td>17042.0</td>\n",
       "      <td>10.19</td>\n",
       "      <td>193855.2090</td>\n",
       "      <td>8.259947</td>\n",
       "      <td>167169.0</td>\n",
       "      <td>2346930.376</td>\n",
       "    </tr>\n",
       "    <tr>\n",
       "      <th>5</th>\n",
       "      <td>AUS</td>\n",
       "      <td>1995</td>\n",
       "      <td>MEN</td>\n",
       "      <td>49.758261</td>\n",
       "      <td>25.825409</td>\n",
       "      <td>4.627767</td>\n",
       "      <td>22098.57288</td>\n",
       "      <td>5.12905</td>\n",
       "      <td>100.0</td>\n",
       "      <td>100.0</td>\n",
       "      <td>100.0</td>\n",
       "      <td>100.0</td>\n",
       "      <td>100.0</td>\n",
       "      <td>7.076343</td>\n",
       "      <td>16631.0</td>\n",
       "      <td>9.62</td>\n",
       "      <td>199700.4005</td>\n",
       "      <td>8.217806</td>\n",
       "      <td>172805.0</td>\n",
       "      <td>2430093.957</td>\n",
       "    </tr>\n",
       "  </tbody>\n",
       "</table>\n",
       "</div>"
      ],
      "text/plain": [
       "   LOCATION  TIME GENDER  Population (% of total)  EDU_TERTIARY_PC_WKGPOP  \\\n",
       "id                                                                          \n",
       "1       AUS  1993    MEN                49.780616               23.508869   \n",
       "2       AUS  1993  WOMEN                50.219384               21.418512   \n",
       "3       AUS  1994    MEN                49.762137               24.407070   \n",
       "4       AUS  1994  WOMEN                50.237863               21.740088   \n",
       "5       AUS  1995    MEN                49.758261               25.825409   \n",
       "\n",
       "    CPI_AGRWTH  GDP_USD_CAP  GOV_SPEND_EDU  %_Sanitation_Access  \\\n",
       "id                                                                \n",
       "1     1.753653  19929.78137        5.50922                100.0   \n",
       "2     1.753653  19929.78137        5.50922                100.0   \n",
       "3     1.969635  21134.14664        5.24752                100.0   \n",
       "4     1.969635  21134.14664        5.24752                100.0   \n",
       "5     4.627767  22098.57288        5.12905                100.0   \n",
       "\n",
       "    Access to Clean Fuels and Technologies for cooking (% of total population) 2.1_ACCESS.CFT.TOT  \\\n",
       "id                                                                                                  \n",
       "1                                               100.0                                               \n",
       "2                                               100.0                                               \n",
       "3                                               100.0                                               \n",
       "4                                               100.0                                               \n",
       "5                                               100.0                                               \n",
       "\n",
       "    Access to electricity (% of rural population with access) 1.2_ACCESS.ELECTRICITY.RURAL  \\\n",
       "id                                                                                           \n",
       "1                                               100.0                                        \n",
       "2                                               100.0                                        \n",
       "3                                               100.0                                        \n",
       "4                                               100.0                                        \n",
       "5                                               100.0                                        \n",
       "\n",
       "    Access to electricity (% of total population) 1.1_ACCESS.ELECTRICITY.TOT  \\\n",
       "id                                                                             \n",
       "1                                               100.0                          \n",
       "2                                               100.0                          \n",
       "3                                               100.0                          \n",
       "4                                               100.0                          \n",
       "5                                               100.0                          \n",
       "\n",
       "    Access to electricity (% of urban population with access) 1.3_ACCESS.ELECTRICITY.URBAN  \\\n",
       "id                                                                                           \n",
       "1                                               100.0                                        \n",
       "2                                               100.0                                        \n",
       "3                                               100.0                                        \n",
       "4                                               100.0                                        \n",
       "5                                               100.0                                        \n",
       "\n",
       "    Energy intensity level of primary energy (MJ/2011 USD PPP) 6.1_PRIMARY.ENERGY.INTENSITY  \\\n",
       "id                                                                                            \n",
       "1                                            7.502966                                         \n",
       "2                                            7.502966                                         \n",
       "3                                            7.206736                                         \n",
       "4                                            7.206736                                         \n",
       "5                                            7.076343                                         \n",
       "\n",
       "    Renewable electricity output (GWh) 4.1.2_REN.ELECTRICITY.OUTPUT  \\\n",
       "id                                                                    \n",
       "1                                             17220.0                 \n",
       "2                                             17220.0                 \n",
       "3                                             17042.0                 \n",
       "4                                             17042.0                 \n",
       "5                                             16631.0                 \n",
       "\n",
       "    Renewable electricity share of total electricity output (%) 4.1_SHARE.RE.IN.ELECTRICITY  \\\n",
       "id                                                                                            \n",
       "1                                               10.55                                         \n",
       "2                                               10.55                                         \n",
       "3                                               10.19                                         \n",
       "4                                               10.19                                         \n",
       "5                                                9.62                                         \n",
       "\n",
       "    Renewable energy consumption (TJ) 3.1_RE.CONSUMPTION  \\\n",
       "id                                                         \n",
       "1                                         197804.8632      \n",
       "2                                         197804.8632      \n",
       "3                                         193855.2090      \n",
       "4                                         193855.2090      \n",
       "5                                         199700.4005      \n",
       "\n",
       "    Renewable energy share of TFEC (%) 2.1_SHARE.TOTAL.RE.IN.TFEC  \\\n",
       "id                                                                  \n",
       "1                                            8.616992               \n",
       "2                                            8.616992               \n",
       "3                                            8.259947               \n",
       "4                                            8.259947               \n",
       "5                                            8.217806               \n",
       "\n",
       "    Total electricity output (GWh) 4.1.1_TOTAL.ELECTRICITY.OUTPUT  \\\n",
       "id                                                                  \n",
       "1                                            163236.0               \n",
       "2                                            163236.0               \n",
       "3                                            167169.0               \n",
       "4                                            167169.0               \n",
       "5                                            172805.0               \n",
       "\n",
       "    Total final energy consumption (TFEC) (TJ) 1.1_TOTAL.FINAL.ENERGY.CONSUM  \n",
       "id                                                                            \n",
       "1                                         2295520.952                         \n",
       "2                                         2295520.952                         \n",
       "3                                         2346930.376                         \n",
       "4                                         2346930.376                         \n",
       "5                                         2430093.957                         "
      ]
     },
     "execution_count": 183,
     "metadata": {},
     "output_type": "execute_result"
    }
   ],
   "source": [
    "train_feature_dataset.head(5).iloc[:,0:20]"
   ]
  },
  {
   "cell_type": "code",
   "execution_count": 184,
   "metadata": {
    "scrolled": false
   },
   "outputs": [
    {
     "data": {
      "text/html": [
       "<div>\n",
       "<style>\n",
       "    .dataframe thead tr:only-child th {\n",
       "        text-align: right;\n",
       "    }\n",
       "\n",
       "    .dataframe thead th {\n",
       "        text-align: left;\n",
       "    }\n",
       "\n",
       "    .dataframe tbody tr th {\n",
       "        vertical-align: top;\n",
       "    }\n",
       "</style>\n",
       "<table border=\"1\" class=\"dataframe\">\n",
       "  <thead>\n",
       "    <tr style=\"text-align: right;\">\n",
       "      <th></th>\n",
       "      <th>Population ages 00-04 (as % of specified gender population)</th>\n",
       "      <th>Population ages 05-09 (as % of specified gender population)</th>\n",
       "      <th>Population ages 10-14 (as % of specified gender population)</th>\n",
       "      <th>Population ages 15-19 (as % of specified gender population)</th>\n",
       "      <th>Population ages 20-24 (as % of specified gender population)</th>\n",
       "      <th>Population ages 25-29 (as % of specified gender population)</th>\n",
       "      <th>Population ages 30-34 (as % of specified gender population)</th>\n",
       "      <th>Population ages 35-39 (as % of specified gender population)</th>\n",
       "      <th>Population ages 40-44 (as % of specified gender population)</th>\n",
       "      <th>Population ages 45-49 (as % of specified gender population)</th>\n",
       "      <th>Population ages 50-54 (as % of specified gender population)</th>\n",
       "      <th>Population ages 55-59 (as % of specified gender population)</th>\n",
       "      <th>Population ages 60-64 (as % of specified gender population)</th>\n",
       "      <th>Population ages 65-69 (as % of specified gender population)</th>\n",
       "      <th>Population ages 70-74 (as % of specified gender population)</th>\n",
       "      <th>Population ages 75-79 (as % of specified gender population)</th>\n",
       "      <th>Population ages 80 and older (as % of specified gender population)</th>\n",
       "      <th>TER_Enrolment_rate</th>\n",
       "      <th>GNI per capita Atlas method (current US$)</th>\n",
       "    </tr>\n",
       "    <tr>\n",
       "      <th>id</th>\n",
       "      <th></th>\n",
       "      <th></th>\n",
       "      <th></th>\n",
       "      <th></th>\n",
       "      <th></th>\n",
       "      <th></th>\n",
       "      <th></th>\n",
       "      <th></th>\n",
       "      <th></th>\n",
       "      <th></th>\n",
       "      <th></th>\n",
       "      <th></th>\n",
       "      <th></th>\n",
       "      <th></th>\n",
       "      <th></th>\n",
       "      <th></th>\n",
       "      <th></th>\n",
       "      <th></th>\n",
       "      <th></th>\n",
       "    </tr>\n",
       "  </thead>\n",
       "  <tbody>\n",
       "    <tr>\n",
       "      <th>1</th>\n",
       "      <td>7.483406</td>\n",
       "      <td>7.526700</td>\n",
       "      <td>7.381224</td>\n",
       "      <td>7.674855</td>\n",
       "      <td>8.114461</td>\n",
       "      <td>7.977674</td>\n",
       "      <td>8.245478</td>\n",
       "      <td>7.849939</td>\n",
       "      <td>7.496966</td>\n",
       "      <td>6.676347</td>\n",
       "      <td>5.125739</td>\n",
       "      <td>4.363110</td>\n",
       "      <td>4.022097</td>\n",
       "      <td>3.744820</td>\n",
       "      <td>2.825824</td>\n",
       "      <td>1.831723</td>\n",
       "      <td>1.659637</td>\n",
       "      <td>65.428513</td>\n",
       "      <td>18930</td>\n",
       "    </tr>\n",
       "    <tr>\n",
       "      <th>2</th>\n",
       "      <td>7.050943</td>\n",
       "      <td>7.102381</td>\n",
       "      <td>6.945377</td>\n",
       "      <td>7.259318</td>\n",
       "      <td>7.834311</td>\n",
       "      <td>7.855364</td>\n",
       "      <td>8.166469</td>\n",
       "      <td>7.807832</td>\n",
       "      <td>7.363331</td>\n",
       "      <td>6.375044</td>\n",
       "      <td>4.874607</td>\n",
       "      <td>4.220368</td>\n",
       "      <td>4.009922</td>\n",
       "      <td>3.997684</td>\n",
       "      <td>3.396483</td>\n",
       "      <td>2.549315</td>\n",
       "      <td>3.191249</td>\n",
       "      <td>64.678619</td>\n",
       "      <td>18930</td>\n",
       "    </tr>\n",
       "    <tr>\n",
       "      <th>3</th>\n",
       "      <td>7.480330</td>\n",
       "      <td>7.450865</td>\n",
       "      <td>7.402882</td>\n",
       "      <td>7.432178</td>\n",
       "      <td>8.106997</td>\n",
       "      <td>7.815958</td>\n",
       "      <td>8.206122</td>\n",
       "      <td>7.896834</td>\n",
       "      <td>7.440257</td>\n",
       "      <td>6.916593</td>\n",
       "      <td>5.260645</td>\n",
       "      <td>4.417681</td>\n",
       "      <td>3.955058</td>\n",
       "      <td>3.738131</td>\n",
       "      <td>2.914956</td>\n",
       "      <td>1.854255</td>\n",
       "      <td>1.710258</td>\n",
       "      <td>66.160980</td>\n",
       "      <td>18890</td>\n",
       "    </tr>\n",
       "    <tr>\n",
       "      <th>4</th>\n",
       "      <td>7.043296</td>\n",
       "      <td>7.025230</td>\n",
       "      <td>6.968273</td>\n",
       "      <td>7.011528</td>\n",
       "      <td>7.811970</td>\n",
       "      <td>7.702864</td>\n",
       "      <td>8.134269</td>\n",
       "      <td>7.848636</td>\n",
       "      <td>7.352638</td>\n",
       "      <td>6.627319</td>\n",
       "      <td>5.003437</td>\n",
       "      <td>4.267955</td>\n",
       "      <td>3.941137</td>\n",
       "      <td>3.942406</td>\n",
       "      <td>3.479801</td>\n",
       "      <td>2.549259</td>\n",
       "      <td>3.289984</td>\n",
       "      <td>66.824181</td>\n",
       "      <td>18890</td>\n",
       "    </tr>\n",
       "    <tr>\n",
       "      <th>5</th>\n",
       "      <td>7.436000</td>\n",
       "      <td>7.389884</td>\n",
       "      <td>7.399023</td>\n",
       "      <td>7.274438</td>\n",
       "      <td>8.023982</td>\n",
       "      <td>7.709084</td>\n",
       "      <td>8.131212</td>\n",
       "      <td>7.926613</td>\n",
       "      <td>7.430364</td>\n",
       "      <td>7.073719</td>\n",
       "      <td>5.448858</td>\n",
       "      <td>4.480351</td>\n",
       "      <td>3.926157</td>\n",
       "      <td>3.716121</td>\n",
       "      <td>2.988446</td>\n",
       "      <td>1.905839</td>\n",
       "      <td>1.739907</td>\n",
       "      <td>68.701340</td>\n",
       "      <td>19320</td>\n",
       "    </tr>\n",
       "  </tbody>\n",
       "</table>\n",
       "</div>"
      ],
      "text/plain": [
       "    Population ages 00-04 (as % of specified gender population)  \\\n",
       "id                                                                \n",
       "1                                            7.483406             \n",
       "2                                            7.050943             \n",
       "3                                            7.480330             \n",
       "4                                            7.043296             \n",
       "5                                            7.436000             \n",
       "\n",
       "    Population ages 05-09 (as % of specified gender population)  \\\n",
       "id                                                                \n",
       "1                                            7.526700             \n",
       "2                                            7.102381             \n",
       "3                                            7.450865             \n",
       "4                                            7.025230             \n",
       "5                                            7.389884             \n",
       "\n",
       "    Population ages 10-14 (as % of specified gender population)  \\\n",
       "id                                                                \n",
       "1                                            7.381224             \n",
       "2                                            6.945377             \n",
       "3                                            7.402882             \n",
       "4                                            6.968273             \n",
       "5                                            7.399023             \n",
       "\n",
       "    Population ages 15-19 (as % of specified gender population)  \\\n",
       "id                                                                \n",
       "1                                            7.674855             \n",
       "2                                            7.259318             \n",
       "3                                            7.432178             \n",
       "4                                            7.011528             \n",
       "5                                            7.274438             \n",
       "\n",
       "    Population ages 20-24 (as % of specified gender population)  \\\n",
       "id                                                                \n",
       "1                                            8.114461             \n",
       "2                                            7.834311             \n",
       "3                                            8.106997             \n",
       "4                                            7.811970             \n",
       "5                                            8.023982             \n",
       "\n",
       "    Population ages 25-29 (as % of specified gender population)  \\\n",
       "id                                                                \n",
       "1                                            7.977674             \n",
       "2                                            7.855364             \n",
       "3                                            7.815958             \n",
       "4                                            7.702864             \n",
       "5                                            7.709084             \n",
       "\n",
       "    Population ages 30-34 (as % of specified gender population)  \\\n",
       "id                                                                \n",
       "1                                            8.245478             \n",
       "2                                            8.166469             \n",
       "3                                            8.206122             \n",
       "4                                            8.134269             \n",
       "5                                            8.131212             \n",
       "\n",
       "    Population ages 35-39 (as % of specified gender population)  \\\n",
       "id                                                                \n",
       "1                                            7.849939             \n",
       "2                                            7.807832             \n",
       "3                                            7.896834             \n",
       "4                                            7.848636             \n",
       "5                                            7.926613             \n",
       "\n",
       "    Population ages 40-44 (as % of specified gender population)  \\\n",
       "id                                                                \n",
       "1                                            7.496966             \n",
       "2                                            7.363331             \n",
       "3                                            7.440257             \n",
       "4                                            7.352638             \n",
       "5                                            7.430364             \n",
       "\n",
       "    Population ages 45-49 (as % of specified gender population)  \\\n",
       "id                                                                \n",
       "1                                            6.676347             \n",
       "2                                            6.375044             \n",
       "3                                            6.916593             \n",
       "4                                            6.627319             \n",
       "5                                            7.073719             \n",
       "\n",
       "    Population ages 50-54 (as % of specified gender population)  \\\n",
       "id                                                                \n",
       "1                                            5.125739             \n",
       "2                                            4.874607             \n",
       "3                                            5.260645             \n",
       "4                                            5.003437             \n",
       "5                                            5.448858             \n",
       "\n",
       "    Population ages 55-59 (as % of specified gender population)  \\\n",
       "id                                                                \n",
       "1                                            4.363110             \n",
       "2                                            4.220368             \n",
       "3                                            4.417681             \n",
       "4                                            4.267955             \n",
       "5                                            4.480351             \n",
       "\n",
       "    Population ages 60-64 (as % of specified gender population)  \\\n",
       "id                                                                \n",
       "1                                            4.022097             \n",
       "2                                            4.009922             \n",
       "3                                            3.955058             \n",
       "4                                            3.941137             \n",
       "5                                            3.926157             \n",
       "\n",
       "    Population ages 65-69 (as % of specified gender population)  \\\n",
       "id                                                                \n",
       "1                                            3.744820             \n",
       "2                                            3.997684             \n",
       "3                                            3.738131             \n",
       "4                                            3.942406             \n",
       "5                                            3.716121             \n",
       "\n",
       "    Population ages 70-74 (as % of specified gender population)  \\\n",
       "id                                                                \n",
       "1                                            2.825824             \n",
       "2                                            3.396483             \n",
       "3                                            2.914956             \n",
       "4                                            3.479801             \n",
       "5                                            2.988446             \n",
       "\n",
       "    Population ages 75-79 (as % of specified gender population)  \\\n",
       "id                                                                \n",
       "1                                            1.831723             \n",
       "2                                            2.549315             \n",
       "3                                            1.854255             \n",
       "4                                            2.549259             \n",
       "5                                            1.905839             \n",
       "\n",
       "    Population ages 80 and older (as % of specified gender population)  \\\n",
       "id                                                                       \n",
       "1                                            1.659637                    \n",
       "2                                            3.191249                    \n",
       "3                                            1.710258                    \n",
       "4                                            3.289984                    \n",
       "5                                            1.739907                    \n",
       "\n",
       "    TER_Enrolment_rate  GNI per capita Atlas method (current US$)  \n",
       "id                                                                 \n",
       "1            65.428513                                      18930  \n",
       "2            64.678619                                      18930  \n",
       "3            66.160980                                      18890  \n",
       "4            66.824181                                      18890  \n",
       "5            68.701340                                      19320  "
      ]
     },
     "execution_count": 184,
     "metadata": {},
     "output_type": "execute_result"
    }
   ],
   "source": [
    "train_feature_dataset.head(5).iloc[:,20:40]"
   ]
  },
  {
   "cell_type": "code",
   "execution_count": 237,
   "metadata": {
    "collapsed": true
   },
   "outputs": [],
   "source": [
    "data = specifics.build_data(train_feature_df = train_feature_dataset, \n",
    "                            train_outcome_df = train_outcome_dataset, \n",
    "                            test_feature_df = test_feature_dataset)"
   ]
  },
  {
   "cell_type": "code",
   "execution_count": 238,
   "metadata": {},
   "outputs": [
    {
     "data": {
      "text/plain": [
       "(1010, 38)"
      ]
     },
     "execution_count": 238,
     "metadata": {},
     "output_type": "execute_result"
    }
   ],
   "source": [
    "data.train_feature_df.shape"
   ]
  },
  {
   "cell_type": "code",
   "execution_count": 239,
   "metadata": {},
   "outputs": [
    {
     "data": {
      "text/plain": [
       "(242, 38)"
      ]
     },
     "execution_count": 239,
     "metadata": {},
     "output_type": "execute_result"
    }
   ],
   "source": [
    "data.test_feature_df.shape"
   ]
  },
  {
   "cell_type": "code",
   "execution_count": 188,
   "metadata": {
    "scrolled": true
   },
   "outputs": [
    {
     "data": {
      "text/plain": [
       "['TIME',\n",
       " 'Population (% of total)',\n",
       " 'EDU_TERTIARY_PC_WKGPOP',\n",
       " 'CPI_AGRWTH',\n",
       " 'GDP_USD_CAP',\n",
       " 'GOV_SPEND_EDU',\n",
       " '%_Sanitation_Access',\n",
       " 'Access to Clean Fuels and Technologies for cooking (% of total population) 2.1_ACCESS.CFT.TOT',\n",
       " 'Access to electricity (% of rural population with access) 1.2_ACCESS.ELECTRICITY.RURAL',\n",
       " 'Access to electricity (% of total population) 1.1_ACCESS.ELECTRICITY.TOT',\n",
       " 'Access to electricity (% of urban population with access) 1.3_ACCESS.ELECTRICITY.URBAN',\n",
       " 'Energy intensity level of primary energy (MJ/2011 USD PPP) 6.1_PRIMARY.ENERGY.INTENSITY',\n",
       " 'Renewable electricity output (GWh) 4.1.2_REN.ELECTRICITY.OUTPUT',\n",
       " 'Renewable electricity share of total electricity output (%) 4.1_SHARE.RE.IN.ELECTRICITY',\n",
       " 'Renewable energy consumption (TJ) 3.1_RE.CONSUMPTION',\n",
       " 'Renewable energy share of TFEC (%) 2.1_SHARE.TOTAL.RE.IN.TFEC',\n",
       " 'Total electricity output (GWh) 4.1.1_TOTAL.ELECTRICITY.OUTPUT',\n",
       " 'Total final energy consumption (TFEC) (TJ) 1.1_TOTAL.FINAL.ENERGY.CONSUM',\n",
       " 'Population ages 00-04 (as % of specified gender population)',\n",
       " 'Population ages 05-09 (as % of specified gender population)',\n",
       " 'Population ages 10-14 (as % of specified gender population)',\n",
       " 'Population ages 15-19 (as % of specified gender population)',\n",
       " 'Population ages 20-24 (as % of specified gender population)',\n",
       " 'Population ages 25-29 (as % of specified gender population)',\n",
       " 'Population ages 30-34 (as % of specified gender population)',\n",
       " 'Population ages 35-39 (as % of specified gender population)',\n",
       " 'Population ages 40-44 (as % of specified gender population)',\n",
       " 'Population ages 45-49 (as % of specified gender population)',\n",
       " 'Population ages 50-54 (as % of specified gender population)',\n",
       " 'Population ages 55-59 (as % of specified gender population)',\n",
       " 'Population ages 60-64 (as % of specified gender population)',\n",
       " 'Population ages 65-69 (as % of specified gender population)',\n",
       " 'Population ages 70-74 (as % of specified gender population)',\n",
       " 'Population ages 75-79 (as % of specified gender population)',\n",
       " 'Population ages 80 and older (as % of specified gender population)',\n",
       " 'TER_Enrolment_rate',\n",
       " 'GNI per capita Atlas method (current US$)',\n",
       " 'GENDER__women']"
      ]
     },
     "execution_count": 188,
     "metadata": {},
     "output_type": "execute_result"
    }
   ],
   "source": [
    "pd.set_option('display.max_rows', 3000)\n",
    "list(data.train_feature_df.columns.values)[0:3000]"
   ]
  },
  {
   "cell_type": "code",
   "execution_count": 189,
   "metadata": {
    "collapsed": true
   },
   "outputs": [],
   "source": [
    "assert sum(data.train_feature_df.index == data.train_outcome_df.index) == len(data.train_feature_df)"
   ]
  },
  {
   "cell_type": "code",
   "execution_count": null,
   "metadata": {
    "collapsed": true
   },
   "outputs": [],
   "source": []
  },
  {
   "cell_type": "markdown",
   "metadata": {},
   "source": [
    "### Check if there is a value in testset set as -9999 but the corresponsing col in trainset never has -9999"
   ]
  },
  {
   "cell_type": "code",
   "execution_count": 240,
   "metadata": {
    "scrolled": true
   },
   "outputs": [
    {
     "data": {
      "text/plain": [
       "TIME                                                                                             1.993000e+03\n",
       "Population (% of total)                                                                          4.579126e+01\n",
       "EDU_TERTIARY_PC_WKGPOP                                                                          -1.000000e+11\n",
       "CPI_AGRWTH                                                                                      -1.000000e+11\n",
       "GDP_USD_CAP                                                                                     -1.000000e+11\n",
       "GOV_SPEND_EDU                                                                                   -1.000000e+11\n",
       "%_Sanitation_Access                                                                             -1.000000e+11\n",
       "Access to Clean Fuels and Technologies for cooking (% of total population) 2.1_ACCESS.CFT.TOT   -1.000000e+11\n",
       "Access to electricity (% of rural population with access) 1.2_ACCESS.ELECTRICITY.RURAL          -1.000000e+11\n",
       "Access to electricity (% of total population) 1.1_ACCESS.ELECTRICITY.TOT                        -1.000000e+11\n",
       "Access to electricity (% of urban population with access) 1.3_ACCESS.ELECTRICITY.URBAN          -1.000000e+11\n",
       "Energy intensity level of primary energy (MJ/2011 USD PPP) 6.1_PRIMARY.ENERGY.INTENSITY         -1.000000e+11\n",
       "Renewable electricity output (GWh) 4.1.2_REN.ELECTRICITY.OUTPUT                                 -1.000000e+11\n",
       "Renewable electricity share of total electricity output (%) 4.1_SHARE.RE.IN.ELECTRICITY         -1.000000e+11\n",
       "Renewable energy consumption (TJ) 3.1_RE.CONSUMPTION                                            -1.000000e+11\n",
       "Renewable energy share of TFEC (%) 2.1_SHARE.TOTAL.RE.IN.TFEC                                   -1.000000e+11\n",
       "Total electricity output (GWh) 4.1.1_TOTAL.ELECTRICITY.OUTPUT                                   -1.000000e+11\n",
       "Total final energy consumption (TFEC) (TJ) 1.1_TOTAL.FINAL.ENERGY.CONSUM                        -1.000000e+11\n",
       "Population ages 00-04 (as % of specified gender population)                                      3.541293e+00\n",
       "Population ages 05-09 (as % of specified gender population)                                      3.488507e+00\n",
       "Population ages 10-14 (as % of specified gender population)                                      3.659118e+00\n",
       "Population ages 15-19 (as % of specified gender population)                                      3.775617e+00\n",
       "Population ages 20-24 (as % of specified gender population)                                      4.541790e+00\n",
       "Population ages 25-29 (as % of specified gender population)                                      4.867331e+00\n",
       "Population ages 30-34 (as % of specified gender population)                                      5.283902e+00\n",
       "Population ages 35-39 (as % of specified gender population)                                      5.535926e+00\n",
       "Population ages 40-44 (as % of specified gender population)                                      5.503662e+00\n",
       "Population ages 45-49 (as % of specified gender population)                                      4.683484e+00\n",
       "Population ages 50-54 (as % of specified gender population)                                      3.773306e+00\n",
       "Population ages 55-59 (as % of specified gender population)                                      3.072372e+00\n",
       "Population ages 60-64 (as % of specified gender population)                                      2.204516e+00\n",
       "Population ages 65-69 (as % of specified gender population)                                      1.605840e+00\n",
       "Population ages 70-74 (as % of specified gender population)                                      1.025843e+00\n",
       "Population ages 75-79 (as % of specified gender population)                                      5.920298e-01\n",
       "Population ages 80 and older (as % of specified gender population)                               3.936090e-01\n",
       "TER_Enrolment_rate                                                                              -1.000000e+11\n",
       "GNI per capita Atlas method (current US$)                                                        3.930000e+03\n",
       "GENDER__women                                                                                    0.000000e+00\n",
       "dtype: float64"
      ]
     },
     "execution_count": 240,
     "metadata": {},
     "output_type": "execute_result"
    }
   ],
   "source": [
    "data.train_feature_df.min()"
   ]
  },
  {
   "cell_type": "code",
   "execution_count": 241,
   "metadata": {
    "scrolled": true
   },
   "outputs": [
    {
     "data": {
      "text/plain": [
       "TIME                                                                                             1.993000e+03\n",
       "Population (% of total)                                                                          4.894742e+01\n",
       "EDU_TERTIARY_PC_WKGPOP                                                                          -1.000000e+11\n",
       "CPI_AGRWTH                                                                                      -1.000000e+11\n",
       "GDP_USD_CAP                                                                                     -1.000000e+11\n",
       "GOV_SPEND_EDU                                                                                   -1.000000e+11\n",
       "%_Sanitation_Access                                                                             -1.000000e+11\n",
       "Access to Clean Fuels and Technologies for cooking (% of total population) 2.1_ACCESS.CFT.TOT   -1.000000e+11\n",
       "Access to electricity (% of rural population with access) 1.2_ACCESS.ELECTRICITY.RURAL          -1.000000e+11\n",
       "Access to electricity (% of total population) 1.1_ACCESS.ELECTRICITY.TOT                        -1.000000e+11\n",
       "Access to electricity (% of urban population with access) 1.3_ACCESS.ELECTRICITY.URBAN          -1.000000e+11\n",
       "Energy intensity level of primary energy (MJ/2011 USD PPP) 6.1_PRIMARY.ENERGY.INTENSITY         -1.000000e+11\n",
       "Renewable electricity output (GWh) 4.1.2_REN.ELECTRICITY.OUTPUT                                 -1.000000e+11\n",
       "Renewable electricity share of total electricity output (%) 4.1_SHARE.RE.IN.ELECTRICITY         -1.000000e+11\n",
       "Renewable energy consumption (TJ) 3.1_RE.CONSUMPTION                                            -1.000000e+11\n",
       "Renewable energy share of TFEC (%) 2.1_SHARE.TOTAL.RE.IN.TFEC                                   -1.000000e+11\n",
       "Total electricity output (GWh) 4.1.1_TOTAL.ELECTRICITY.OUTPUT                                   -1.000000e+11\n",
       "Total final energy consumption (TFEC) (TJ) 1.1_TOTAL.FINAL.ENERGY.CONSUM                        -1.000000e+11\n",
       "Population ages 00-04 (as % of specified gender population)                                      4.042284e+00\n",
       "Population ages 05-09 (as % of specified gender population)                                      4.579613e+00\n",
       "Population ages 10-14 (as % of specified gender population)                                      4.607911e+00\n",
       "Population ages 15-19 (as % of specified gender population)                                      4.803824e+00\n",
       "Population ages 20-24 (as % of specified gender population)                                      4.861127e+00\n",
       "Population ages 25-29 (as % of specified gender population)                                      5.174178e+00\n",
       "Population ages 30-34 (as % of specified gender population)                                      5.899613e+00\n",
       "Population ages 35-39 (as % of specified gender population)                                      5.714485e+00\n",
       "Population ages 40-44 (as % of specified gender population)                                      5.323226e+00\n",
       "Population ages 45-49 (as % of specified gender population)                                      4.523949e+00\n",
       "Population ages 50-54 (as % of specified gender population)                                      3.823391e+00\n",
       "Population ages 55-59 (as % of specified gender population)                                      2.829373e+00\n",
       "Population ages 60-64 (as % of specified gender population)                                      2.296257e+00\n",
       "Population ages 65-69 (as % of specified gender population)                                      1.705726e+00\n",
       "Population ages 70-74 (as % of specified gender population)                                      1.289033e+00\n",
       "Population ages 75-79 (as % of specified gender population)                                      9.079341e-01\n",
       "Population ages 80 and older (as % of specified gender population)                               8.780244e-01\n",
       "TER_Enrolment_rate                                                                              -1.000000e+11\n",
       "GNI per capita Atlas method (current US$)                                                        7.810000e+03\n",
       "GENDER__women                                                                                    0.000000e+00\n",
       "dtype: float64"
      ]
     },
     "execution_count": 241,
     "metadata": {},
     "output_type": "execute_result"
    }
   ],
   "source": [
    "data.test_feature_df.min()"
   ]
  },
  {
   "cell_type": "code",
   "execution_count": null,
   "metadata": {
    "collapsed": true
   },
   "outputs": [],
   "source": []
  },
  {
   "cell_type": "code",
   "execution_count": null,
   "metadata": {
    "collapsed": true
   },
   "outputs": [],
   "source": []
  },
  {
   "cell_type": "code",
   "execution_count": null,
   "metadata": {
    "collapsed": true
   },
   "outputs": [],
   "source": []
  },
  {
   "cell_type": "code",
   "execution_count": 126,
   "metadata": {},
   "outputs": [
    {
     "name": "stdout",
     "output_type": "stream",
     "text": [
      "GridSearchCV took 21.91 seconds for 12 candidate parameter settings.\n"
     ]
    },
    {
     "name": "stderr",
     "output_type": "stream",
     "text": [
      "C:\\Users\\Kevin\\Anaconda3\\lib\\site-packages\\sklearn\\model_selection\\_search.py:747: DeprecationWarning: The grid_scores_ attribute was deprecated in version 0.18 in favor of the more elaborate cv_results_ attribute. The grid_scores_ attribute will not be available from 0.20\n",
      "  DeprecationWarning)\n"
     ]
    }
   ],
   "source": [
    "# build a classifier\n",
    "reg = RandomForestRegressor(n_jobs = -1)\n",
    "        \n",
    "# use a full grid over all parameters\n",
    "params = {\"max_depth\": [15, 20, 25, 30],\n",
    "          \"min_samples_leaf\": [2, 3, 4],\n",
    "          \"min_samples_split\": [0.04, 0.03, 0.02, 0.01],\n",
    "          \"n_estimators\": [100, 150, 200],\n",
    "          \"criterion\": ['mse']\n",
    "         }\n",
    "\n",
    "# run RandomizedSearchCV\n",
    "rand_search = RandomizedSearchCV(reg, params, cv = 3, n_jobs=-1, n_iter=12)\n",
    "start = time()\n",
    "rand_search.fit(data.train_feature_df, data.train_outcome_df.iloc[:,0])\n",
    "\n",
    "print(\"GridSearchCV took %.2f seconds for %d candidate parameter settings.\"\n",
    "      % (time() - start, len(rand_search.grid_scores_)))"
   ]
  },
  {
   "cell_type": "code",
   "execution_count": 127,
   "metadata": {
    "scrolled": true
   },
   "outputs": [
    {
     "name": "stderr",
     "output_type": "stream",
     "text": [
      "C:\\Users\\Kevin\\Anaconda3\\lib\\site-packages\\sklearn\\model_selection\\_search.py:747: DeprecationWarning: The grid_scores_ attribute was deprecated in version 0.18 in favor of the more elaborate cv_results_ attribute. The grid_scores_ attribute will not be available from 0.20\n",
      "  DeprecationWarning)\n"
     ]
    },
    {
     "data": {
      "text/plain": [
       "[mean: -0.36838, std: 0.20902, params: {'n_estimators': 150, 'min_samples_split': 0.03, 'min_samples_leaf': 2, 'max_depth': 20, 'criterion': 'mse'},\n",
       " mean: -0.32594, std: 0.13028, params: {'n_estimators': 200, 'min_samples_split': 0.03, 'min_samples_leaf': 4, 'max_depth': 15, 'criterion': 'mse'},\n",
       " mean: -0.42090, std: 0.24426, params: {'n_estimators': 100, 'min_samples_split': 0.04, 'min_samples_leaf': 3, 'max_depth': 25, 'criterion': 'mse'},\n",
       " mean: -0.42874, std: 0.27780, params: {'n_estimators': 150, 'min_samples_split': 0.03, 'min_samples_leaf': 4, 'max_depth': 30, 'criterion': 'mse'},\n",
       " mean: -0.43559, std: 0.27153, params: {'n_estimators': 200, 'min_samples_split': 0.04, 'min_samples_leaf': 2, 'max_depth': 20, 'criterion': 'mse'},\n",
       " mean: -0.43970, std: 0.19346, params: {'n_estimators': 100, 'min_samples_split': 0.04, 'min_samples_leaf': 4, 'max_depth': 20, 'criterion': 'mse'},\n",
       " mean: -0.37802, std: 0.21315, params: {'n_estimators': 150, 'min_samples_split': 0.04, 'min_samples_leaf': 2, 'max_depth': 20, 'criterion': 'mse'},\n",
       " mean: -0.36008, std: 0.11049, params: {'n_estimators': 100, 'min_samples_split': 0.04, 'min_samples_leaf': 3, 'max_depth': 30, 'criterion': 'mse'},\n",
       " mean: -0.40781, std: 0.22564, params: {'n_estimators': 200, 'min_samples_split': 0.04, 'min_samples_leaf': 2, 'max_depth': 25, 'criterion': 'mse'},\n",
       " mean: -0.42705, std: 0.24452, params: {'n_estimators': 200, 'min_samples_split': 0.03, 'min_samples_leaf': 4, 'max_depth': 30, 'criterion': 'mse'},\n",
       " mean: -0.38095, std: 0.21170, params: {'n_estimators': 200, 'min_samples_split': 0.03, 'min_samples_leaf': 3, 'max_depth': 20, 'criterion': 'mse'},\n",
       " mean: -0.36496, std: 0.18686, params: {'n_estimators': 100, 'min_samples_split': 0.01, 'min_samples_leaf': 4, 'max_depth': 25, 'criterion': 'mse'}]"
      ]
     },
     "execution_count": 127,
     "metadata": {},
     "output_type": "execute_result"
    }
   ],
   "source": [
    "rand_search.grid_scores_"
   ]
  },
  {
   "cell_type": "code",
   "execution_count": 83,
   "metadata": {},
   "outputs": [
    {
     "data": {
      "text/plain": [
       "{'criterion': 'mse',\n",
       " 'max_depth': 30,\n",
       " 'min_samples_leaf': 3,\n",
       " 'min_samples_split': 0.02,\n",
       " 'n_estimators': 100}"
      ]
     },
     "execution_count": 83,
     "metadata": {},
     "output_type": "execute_result"
    }
   ],
   "source": [
    "rand_search.best_params_"
   ]
  },
  {
   "cell_type": "code",
   "execution_count": null,
   "metadata": {
    "collapsed": true
   },
   "outputs": [],
   "source": []
  },
  {
   "cell_type": "code",
   "execution_count": 242,
   "metadata": {},
   "outputs": [
    {
     "data": {
      "text/plain": [
       "RandomForestRegressor(bootstrap=True, criterion='mse', max_depth=15,\n",
       "           max_features='auto', max_leaf_nodes=None,\n",
       "           min_impurity_decrease=0.0, min_impurity_split=None,\n",
       "           min_samples_leaf=4, min_samples_split=0.03,\n",
       "           min_weight_fraction_leaf=0.0, n_estimators=200, n_jobs=1,\n",
       "           oob_score=False, random_state=None, verbose=0, warm_start=False)"
      ]
     },
     "execution_count": 242,
     "metadata": {},
     "output_type": "execute_result"
    }
   ],
   "source": [
    "regressor = RandomForestRegressor(n_estimators=200, max_depth=15, min_samples_leaf=4, min_samples_split = 0.03)\n",
    "regressor.fit(data.train_feature_df, data.train_outcome_df.iloc[:,0])"
   ]
  },
  {
   "cell_type": "code",
   "execution_count": 243,
   "metadata": {
    "collapsed": true
   },
   "outputs": [],
   "source": [
    "preds_regressor = pred_to_df(regressor, data.train_feature_df)        #Visulize training data\n",
    "preds_regressor.columns = ['Prediction']"
   ]
  },
  {
   "cell_type": "code",
   "execution_count": 244,
   "metadata": {},
   "outputs": [
    {
     "data": {
      "image/png": "[encoded data removed]",
      "text/plain": [
       "<matplotlib.figure.Figure at 0x22874678160>"
      ]
     },
     "metadata": {},
     "output_type": "display_data"
    }
   ],
   "source": [
    "plt.figure(figsize=(20, 20))\n",
    "\n",
    "plt.scatter(data.train_outcome_df, preds_regressor, alpha= 0.5)\n",
    "\n",
    "plt.plot([0, 1], [0, 1], color='k', linestyle='-', linewidth=1)\n",
    "plt.show()"
   ]
  },
  {
   "cell_type": "code",
   "execution_count": 245,
   "metadata": {},
   "outputs": [
    {
     "data": {
      "text/plain": [
       "0.02861343514598411"
      ]
     },
     "execution_count": 245,
     "metadata": {},
     "output_type": "execute_result"
    }
   ],
   "source": [
    "MSE = mean_squared_error(data.train_outcome_df, preds_regressor)\n",
    "MSE ** 0.5"
   ]
  },
  {
   "cell_type": "code",
   "execution_count": null,
   "metadata": {
    "collapsed": true
   },
   "outputs": [],
   "source": [
    "prediction = pred_to_df(regressor, data.test_feature_df) \n",
    "prediction.to_csv('result.csv', sep='\\t', index = False)"
   ]
  },
  {
   "cell_type": "code",
   "execution_count": null,
   "metadata": {
    "collapsed": true
   },
   "outputs": [],
   "source": []
  },
  {
   "cell_type": "code",
   "execution_count": null,
   "metadata": {
    "collapsed": true
   },
   "outputs": [],
   "source": []
  },
  {
   "cell_type": "code",
   "execution_count": null,
   "metadata": {
    "collapsed": true
   },
   "outputs": [],
   "source": []
  },
  {
   "cell_type": "code",
   "execution_count": null,
   "metadata": {
    "collapsed": true
   },
   "outputs": [],
   "source": []
  },
  {
   "cell_type": "markdown",
   "metadata": {},
   "source": [
    "# XGBOOST TREE"
   ]
  },
  {
   "cell_type": "code",
   "execution_count": 224,
   "metadata": {},
   "outputs": [
    {
     "data": {
      "text/plain": [
       "RandomizedSearchCV(cv=None, error_score='raise',\n",
       "          estimator=XGBRegressor(base_score=0.5, booster='gbtree', colsample_bylevel=1,\n",
       "       colsample_bytree=1, gamma=0, learning_rate=0.1, max_delta_step=0,\n",
       "       max_depth=3, min_child_weight=1, missing=None, n_estimators=100,\n",
       "       n_jobs=-1, nthread=None, objective='reg:linear', random_state=0,\n",
       "       reg_alpha=0, reg_lambda=1, scale_pos_weight=1, seed=None,\n",
       "       silent=True, subsample=1),\n",
       "          fit_params=None, iid=True, n_iter=24, n_jobs=-1,\n",
       "          param_distributions={'n_estimators': [75, 100], 'max_depth': <scipy.stats._distn_infrastructure.rv_frozen object at 0x000002287310F390>, 'learning_rate': <scipy.stats._distn_infrastructure.rv_frozen object at 0x00000228745569B0>, 'colsample_bytree': <scipy.stats._distn_infrastructure.rv_frozen objec... object at 0x0000022874548588>, 'min_child_weight': [0, 1, 2, 3, 4], 'max_delta_step': [0, 1, 2, 3]},\n",
       "          pre_dispatch='2*n_jobs', random_state=None, refit=True,\n",
       "          return_train_score=True, scoring=None, verbose=0)"
      ]
     },
     "execution_count": 224,
     "metadata": {},
     "output_type": "execute_result"
    }
   ],
   "source": [
    "params = {\n",
    "    \"n_estimators\": [75, 100],\n",
    "    \"max_depth\": st.randint(3, 30),\n",
    "    \"learning_rate\": st.uniform(0.001, 0.01),\n",
    "    \"colsample_bytree\": st.uniform(0.60, 0.40),\n",
    "    \"subsample\": st.uniform(0.7, 0.3),\n",
    "    \"gamma\": st.uniform(0.2, 1.6),\n",
    "    \"min_child_weight\": [0,1,2,3,4],\n",
    "    \"max_delta_step\": [0, 1, 2, 3]\n",
    "}\n",
    "\n",
    "model = XGBRegressor(n_jobs = -1) # nthread deprecated\n",
    "\n",
    "gs = RandomizedSearchCV(model, params, n_jobs=-1, n_iter=24)\n",
    "\n",
    "gs.fit(data.train_feature_df, data.train_outcome_df.iloc[:,0])"
   ]
  },
  {
   "cell_type": "code",
   "execution_count": 225,
   "metadata": {
    "scrolled": true
   },
   "outputs": [
    {
     "name": "stderr",
     "output_type": "stream",
     "text": [
      "C:\\Users\\Kevin\\Anaconda3\\lib\\site-packages\\sklearn\\model_selection\\_search.py:747: DeprecationWarning: The grid_scores_ attribute was deprecated in version 0.18 in favor of the more elaborate cv_results_ attribute. The grid_scores_ attribute will not be available from 0.20\n",
      "  DeprecationWarning)\n"
     ]
    },
    {
     "data": {
      "text/plain": [
       "[mean: -0.12134, std: 0.17944, params: {'colsample_bytree': 0.67589582973611317, 'gamma': 1.5892273314006238, 'learning_rate': 0.0018396076764674032, 'max_delta_step': 1, 'max_depth': 21, 'min_child_weight': 0, 'n_estimators': 75, 'subsample': 0.81577839069120839},\n",
       " mean: -0.09045, std: 0.24117, params: {'colsample_bytree': 0.83356646467444484, 'gamma': 1.16027942992933, 'learning_rate': 0.0069702562228049292, 'max_delta_step': 3, 'max_depth': 17, 'min_child_weight': 1, 'n_estimators': 75, 'subsample': 0.92592885445652806},\n",
       " mean: -0.13052, std: 0.23140, params: {'colsample_bytree': 0.85199116072572911, 'gamma': 1.5522831960002814, 'learning_rate': 0.0096410933001571629, 'max_delta_step': 2, 'max_depth': 28, 'min_child_weight': 1, 'n_estimators': 75, 'subsample': 0.81371751248990964},\n",
       " mean: -0.12474, std: 0.22936, params: {'colsample_bytree': 0.64536932758366161, 'gamma': 1.6684618707638508, 'learning_rate': 0.0058355755109520697, 'max_delta_step': 2, 'max_depth': 20, 'min_child_weight': 0, 'n_estimators': 100, 'subsample': 0.88309681551811403},\n",
       " mean: -0.11335, std: 0.24465, params: {'colsample_bytree': 0.77124691281804514, 'gamma': 1.4599412126032287, 'learning_rate': 0.0093994395412656494, 'max_delta_step': 2, 'max_depth': 8, 'min_child_weight': 0, 'n_estimators': 75, 'subsample': 0.92753980036409323},\n",
       " mean: -0.11342, std: 0.26289, params: {'colsample_bytree': 0.81287899176754741, 'gamma': 0.39560766104013273, 'learning_rate': 0.0097052913111044595, 'max_delta_step': 2, 'max_depth': 23, 'min_child_weight': 1, 'n_estimators': 100, 'subsample': 0.82503507656703312},\n",
       " mean: -0.08364, std: 0.19453, params: {'colsample_bytree': 0.95788616705879581, 'gamma': 1.3038679052434863, 'learning_rate': 0.0035210908407813939, 'max_delta_step': 2, 'max_depth': 15, 'min_child_weight': 4, 'n_estimators': 100, 'subsample': 0.8921375561444026},\n",
       " mean: -0.11007, std: 0.17187, params: {'colsample_bytree': 0.91624446134295812, 'gamma': 1.3027555388673777, 'learning_rate': 0.0015802856874296981, 'max_delta_step': 3, 'max_depth': 13, 'min_child_weight': 2, 'n_estimators': 75, 'subsample': 0.90280889534810715},\n",
       " mean: -0.09033, std: 0.22749, params: {'colsample_bytree': 0.89257951338493435, 'gamma': 0.68480651248913915, 'learning_rate': 0.0072668032075032512, 'max_delta_step': 3, 'max_depth': 23, 'min_child_weight': 1, 'n_estimators': 100, 'subsample': 0.95529136358380495},\n",
       " mean: -0.10317, std: 0.28064, params: {'colsample_bytree': 0.68348956244897274, 'gamma': 0.61458446754996543, 'learning_rate': 0.010554123678632031, 'max_delta_step': 3, 'max_depth': 26, 'min_child_weight': 1, 'n_estimators': 75, 'subsample': 0.71425286635905494},\n",
       " mean: -0.10029, std: 0.19667, params: {'colsample_bytree': 0.62117263577819104, 'gamma': 0.99904471982587451, 'learning_rate': 0.0018225412228708784, 'max_delta_step': 2, 'max_depth': 11, 'min_child_weight': 3, 'n_estimators': 100, 'subsample': 0.92934624583901015},\n",
       " mean: -0.08911, std: 0.23771, params: {'colsample_bytree': 0.93045529940022342, 'gamma': 1.0975789209984013, 'learning_rate': 0.0056034544510400854, 'max_delta_step': 3, 'max_depth': 26, 'min_child_weight': 2, 'n_estimators': 100, 'subsample': 0.88024366299712808},\n",
       " mean: -0.09917, std: 0.20369, params: {'colsample_bytree': 0.69339979755254977, 'gamma': 1.0295571114718456, 'learning_rate': 0.0021541916697402786, 'max_delta_step': 0, 'max_depth': 14, 'min_child_weight': 1, 'n_estimators': 100, 'subsample': 0.8636739053265361},\n",
       " mean: -0.06469, std: 0.23707, params: {'colsample_bytree': 0.98534815918578222, 'gamma': 1.0591480461838017, 'learning_rate': 0.0062567101858458912, 'max_delta_step': 1, 'max_depth': 19, 'min_child_weight': 0, 'n_estimators': 100, 'subsample': 0.99270172780719745},\n",
       " mean: -0.07401, std: 0.19777, params: {'colsample_bytree': 0.65886996182669966, 'gamma': 0.48927219475382844, 'learning_rate': 0.0044861014253830458, 'max_delta_step': 0, 'max_depth': 28, 'min_child_weight': 1, 'n_estimators': 75, 'subsample': 0.97066506592586332},\n",
       " mean: -0.11699, std: 0.19725, params: {'colsample_bytree': 0.62293865102166313, 'gamma': 1.1564814033534903, 'learning_rate': 0.0017290178900509069, 'max_delta_step': 0, 'max_depth': 9, 'min_child_weight': 1, 'n_estimators': 100, 'subsample': 0.7241831891227285},\n",
       " mean: -0.13770, std: 0.26742, params: {'colsample_bytree': 0.80508213910227278, 'gamma': 1.4102643114759892, 'learning_rate': 0.010096782123159554, 'max_delta_step': 1, 'max_depth': 6, 'min_child_weight': 1, 'n_estimators': 100, 'subsample': 0.9249686653953656},\n",
       " mean: -0.08526, std: 0.20121, params: {'colsample_bytree': 0.64074727150681421, 'gamma': 0.95317785453782777, 'learning_rate': 0.0037298917706644567, 'max_delta_step': 1, 'max_depth': 20, 'min_child_weight': 2, 'n_estimators': 75, 'subsample': 0.94354654354977141},\n",
       " mean: -0.05506, std: 0.20228, params: {'colsample_bytree': 0.69515166218250102, 'gamma': 0.35214183530409554, 'learning_rate': 0.005415904095979425, 'max_delta_step': 2, 'max_depth': 6, 'min_child_weight': 1, 'n_estimators': 100, 'subsample': 0.7674407921469838},\n",
       " mean: -0.09974, std: 0.21370, params: {'colsample_bytree': 0.63842950067992732, 'gamma': 1.5053054014730261, 'learning_rate': 0.0061626764538473006, 'max_delta_step': 3, 'max_depth': 11, 'min_child_weight': 0, 'n_estimators': 75, 'subsample': 0.91193954364131513},\n",
       " mean: -0.11623, std: 0.25402, params: {'colsample_bytree': 0.66950782918022833, 'gamma': 1.110154424527394, 'learning_rate': 0.0079687959146161856, 'max_delta_step': 1, 'max_depth': 26, 'min_child_weight': 1, 'n_estimators': 75, 'subsample': 0.72902589953845154},\n",
       " mean: -0.07110, std: 0.22593, params: {'colsample_bytree': 0.61994426525552471, 'gamma': 0.3485466841678434, 'learning_rate': 0.008863771449171623, 'max_delta_step': 3, 'max_depth': 9, 'min_child_weight': 4, 'n_estimators': 75, 'subsample': 0.94659130501729416},\n",
       " mean: -0.10972, std: 0.25586, params: {'colsample_bytree': 0.92830853717863204, 'gamma': 0.61525534692106953, 'learning_rate': 0.0084540650348717133, 'max_delta_step': 3, 'max_depth': 14, 'min_child_weight': 0, 'n_estimators': 100, 'subsample': 0.73061882150785262},\n",
       " mean: -0.05330, std: 0.17033, params: {'colsample_bytree': 0.86672447528102325, 'gamma': 0.40647962547961414, 'learning_rate': 0.0047919434552147998, 'max_delta_step': 3, 'max_depth': 11, 'min_child_weight': 2, 'n_estimators': 75, 'subsample': 0.73350579673025529}]"
      ]
     },
     "execution_count": 225,
     "metadata": {},
     "output_type": "execute_result"
    }
   ],
   "source": [
    "gs.grid_scores_"
   ]
  },
  {
   "cell_type": "code",
   "execution_count": 213,
   "metadata": {},
   "outputs": [
    {
     "data": {
      "text/plain": [
       "{'colsample_bytree': 0.72354792937343382,\n",
       " 'gamma': 0.93450310230643563,\n",
       " 'learning_rate': 0.0073858407201836465,\n",
       " 'max_delta_step': 3,\n",
       " 'max_depth': 25,\n",
       " 'min_child_weight': 0,\n",
       " 'n_estimators': 50,\n",
       " 'subsample': 0.96619603436441204}"
      ]
     },
     "execution_count": 213,
     "metadata": {},
     "output_type": "execute_result"
    }
   ],
   "source": [
    "gs.best_params_"
   ]
  },
  {
   "cell_type": "code",
   "execution_count": 226,
   "metadata": {},
   "outputs": [],
   "source": [
    "best_model = XGBRegressor(\n",
    "    colsample_bytree = 0.9900243815567773,\n",
    "    gamma = 0.42560064902898453,\n",
    "    learning_rate = 0.010976497428325942,\n",
    "    max_depth = 26,\n",
    "    n_estimators = 50,\n",
    "    subsample = 0.72772456173363298,\n",
    "    min_child_weight = 2,\n",
    "    max_delta_step = 2,\n",
    "    n_jobs = -1    \n",
    ")"
   ]
  },
  {
   "cell_type": "code",
   "execution_count": 227,
   "metadata": {},
   "outputs": [
    {
     "data": {
      "text/plain": [
       "XGBRegressor(base_score=0.5, booster='gbtree', colsample_bylevel=1,\n",
       "       colsample_bytree=0.9900243815567773, gamma=0.42560064902898453,\n",
       "       learning_rate=0.010976497428325942, max_delta_step=2, max_depth=26,\n",
       "       min_child_weight=2, missing=None, n_estimators=50, n_jobs=-1,\n",
       "       nthread=None, objective='reg:linear', random_state=0, reg_alpha=0,\n",
       "       reg_lambda=1, scale_pos_weight=1, seed=None, silent=True,\n",
       "       subsample=0.727724561733633)"
      ]
     },
     "execution_count": 227,
     "metadata": {},
     "output_type": "execute_result"
    }
   ],
   "source": [
    "best_model.fit(data.train_feature_df, data.train_outcome_df.iloc[:,0])"
   ]
  },
  {
   "cell_type": "code",
   "execution_count": 228,
   "metadata": {
    "collapsed": true
   },
   "outputs": [],
   "source": [
    "preds_regressor = pred_to_df(best_model, data.train_feature_df)        #Visulize training data\n",
    "preds_regressor.columns = ['Prediction']"
   ]
  },
  {
   "cell_type": "code",
   "execution_count": 229,
   "metadata": {},
   "outputs": [
    {
     "data": {
      "image/png": "[encoded data removed]",
      "text/plain": [
       "<matplotlib.figure.Figure at 0x2287320de80>"
      ]
     },
     "metadata": {},
     "output_type": "display_data"
    }
   ],
   "source": [
    "plt.figure(figsize=(20, 20))\n",
    "\n",
    "plt.scatter(data.train_outcome_df, preds_regressor, alpha= 0.5)\n",
    "\n",
    "plt.plot([0, 1], [0, 1], color='k', linestyle='-', linewidth=1)\n",
    "plt.show()"
   ]
  },
  {
   "cell_type": "code",
   "execution_count": 231,
   "metadata": {},
   "outputs": [
    {
     "data": {
      "text/plain": [
       "0.083830669705594663"
      ]
     },
     "execution_count": 231,
     "metadata": {},
     "output_type": "execute_result"
    }
   ],
   "source": [
    "MSE = mean_squared_error(data.train_outcome_df, preds_regressor)\n",
    "MSE ** 0.5"
   ]
  },
  {
   "cell_type": "code",
   "execution_count": 230,
   "metadata": {
    "collapsed": true
   },
   "outputs": [],
   "source": [
    "prediction = best_model.predict(data.test_feature_df)\n",
    "pd.DataFrame(prediction).to_csv('result.csv', sep='\\t', index = False)"
   ]
  },
  {
   "cell_type": "code",
   "execution_count": null,
   "metadata": {
    "collapsed": true
   },
   "outputs": [],
   "source": []
  },
  {
   "cell_type": "code",
   "execution_count": null,
   "metadata": {
    "collapsed": true
   },
   "outputs": [],
   "source": []
  },
  {
   "cell_type": "code",
   "execution_count": null,
   "metadata": {
    "collapsed": true
   },
   "outputs": [],
   "source": []
  }
 ],
 "metadata": {
  "kernelspec": {
   "display_name": "Python 3",
   "language": "python",
   "name": "python3"
  },
  "language_info": {
   "codemirror_mode": {
    "name": "ipython",
    "version": 3
   },
   "file_extension": ".py",
   "mimetype": "text/x-python",
   "name": "python",
   "nbconvert_exporter": "python",
   "pygments_lexer": "ipython3",
   "version": "3.6.2"
  }
 },
 "nbformat": 4,
 "nbformat_minor": 2
}
