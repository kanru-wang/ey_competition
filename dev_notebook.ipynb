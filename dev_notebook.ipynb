{
 "cells": [
  {
   "cell_type": "code",
   "execution_count": 52,
   "metadata": {
    "collapsed": true
   },
   "outputs": [],
   "source": [
    "import pandas as pd\n",
    "import numpy as np\n",
    "#import copy\n",
    "\n",
    "import specifics\n",
    "import data\n",
    "\n",
    "from time import time\n",
    "#import xgboost\n",
    "from sklearn import metrics\n",
    "from sklearn.model_selection import train_test_split\n",
    "from sklearn.model_selection import RandomizedSearchCV\n",
    "#from sklearn.metrics import accuracy_score\n",
    "from sklearn.metrics import mean_squared_error\n",
    "import matplotlib.pylab as plt\n",
    "from xgboost.sklearn import XGBRegressor\n",
    "from sklearn.ensemble import RandomForestRegressor\n",
    "#from sklearn.pipeline import Pipeline\n",
    "#from sklearn.preprocessing import StandardScaler\n",
    "import scipy.stats as st # For parameter generation"
   ]
  },
  {
   "cell_type": "code",
   "execution_count": 38,
   "metadata": {},
   "outputs": [
    {
     "name": "stdout",
     "output_type": "stream",
     "text": [
      "The autoreload extension is already loaded. To reload it, use:\n",
      "  %reload_ext autoreload\n"
     ]
    }
   ],
   "source": [
    "%load_ext autoreload\n",
    "%autoreload 2"
   ]
  },
  {
   "cell_type": "code",
   "execution_count": 53,
   "metadata": {
    "collapsed": true
   },
   "outputs": [],
   "source": [
    "train_feature_dataset = pd.DataFrame.from_csv('dataset/train.csv')\n",
    "train_outcome_dataset = pd.DataFrame.from_csv('dataset/status_group.csv')\n",
    "test_feature_dataset = pd.DataFrame.from_csv('dataset/test.csv')"
   ]
  },
  {
   "cell_type": "code",
   "execution_count": 54,
   "metadata": {},
   "outputs": [
    {
     "data": {
      "text/plain": [
       "(1010, 39)"
      ]
     },
     "execution_count": 54,
     "metadata": {},
     "output_type": "execute_result"
    }
   ],
   "source": [
    "train_feature_dataset.shape"
   ]
  },
  {
   "cell_type": "code",
   "execution_count": 55,
   "metadata": {
    "scrolled": true
   },
   "outputs": [
    {
     "name": "stdout",
     "output_type": "stream",
     "text": [
      "<class 'pandas.core.frame.DataFrame'>\n",
      "Int64Index: 1010 entries, 1 to 1252\n",
      "Data columns (total 39 columns):\n",
      "LOCATION                                                                                         1010 non-null object\n",
      "TIME                                                                                             1010 non-null int64\n",
      "GENDER                                                                                           1010 non-null object\n",
      "Population (% of total)                                                                          1010 non-null float64\n",
      "EDU_TERTIARY_PC_WKGPOP                                                                           956 non-null float64\n",
      "CPI_AGRWTH                                                                                       932 non-null float64\n",
      "GDP_USD_CAP                                                                                      956 non-null float64\n",
      "GOV_SPEND_EDU                                                                                    906 non-null float64\n",
      "%_Sanitation_Access                                                                              1010 non-null float64\n",
      "Access to Clean Fuels and Technologies for cooking (% of total population) 2.1_ACCESS.CFT.TOT    966 non-null float64\n",
      "Access to electricity (% of rural population with access) 1.2_ACCESS.ELECTRICITY.RURAL           1004 non-null float64\n",
      "Access to electricity (% of total population) 1.1_ACCESS.ELECTRICITY.TOT                         1002 non-null float64\n",
      "Access to electricity (% of urban population with access) 1.3_ACCESS.ELECTRICITY.URBAN           1008 non-null float64\n",
      "Energy intensity level of primary energy (MJ/2011 USD PPP) 6.1_PRIMARY.ENERGY.INTENSITY          1004 non-null float64\n",
      "Renewable electricity output (GWh) 4.1.2_REN.ELECTRICITY.OUTPUT                                  984 non-null float64\n",
      "Renewable electricity share of total electricity output (%) 4.1_SHARE.RE.IN.ELECTRICITY          984 non-null float64\n",
      "Renewable energy consumption (TJ) 3.1_RE.CONSUMPTION                                             1002 non-null float64\n",
      "Renewable energy share of TFEC (%) 2.1_SHARE.TOTAL.RE.IN.TFEC                                    1000 non-null float64\n",
      "Total electricity output (GWh) 4.1.1_TOTAL.ELECTRICITY.OUTPUT                                    986 non-null float64\n",
      "Total final energy consumption (TFEC) (TJ) 1.1_TOTAL.FINAL.ENERGY.CONSUM                         972 non-null float64\n",
      "Population ages 00-04 (as % of specified gender population)                                      1010 non-null float64\n",
      "Population ages 05-09 (as % of specified gender population)                                      1010 non-null float64\n",
      "Population ages 10-14 (as % of specified gender population)                                      1010 non-null float64\n",
      "Population ages 15-19 (as % of specified gender population)                                      1010 non-null float64\n",
      "Population ages 20-24 (as % of specified gender population)                                      1010 non-null float64\n",
      "Population ages 25-29 (as % of specified gender population)                                      1010 non-null float64\n",
      "Population ages 30-34 (as % of specified gender population)                                      1010 non-null float64\n",
      "Population ages 35-39 (as % of specified gender population)                                      1010 non-null float64\n",
      "Population ages 40-44 (as % of specified gender population)                                      1010 non-null float64\n",
      "Population ages 45-49 (as % of specified gender population)                                      1010 non-null float64\n",
      "Population ages 50-54 (as % of specified gender population)                                      1010 non-null float64\n",
      "Population ages 55-59 (as % of specified gender population)                                      1010 non-null float64\n",
      "Population ages 60-64 (as % of specified gender population)                                      1010 non-null float64\n",
      "Population ages 65-69 (as % of specified gender population)                                      1010 non-null float64\n",
      "Population ages 70-74 (as % of specified gender population)                                      1010 non-null float64\n",
      "Population ages 75-79 (as % of specified gender population)                                      1010 non-null float64\n",
      "Population ages 80 and older (as % of specified gender population)                               1010 non-null float64\n",
      "TER_Enrolment_rate                                                                               930 non-null float64\n",
      "GNI per capita Atlas method (current US$)                                                        1010 non-null int64\n",
      "dtypes: float64(35), int64(2), object(2)\n",
      "memory usage: 315.6+ KB\n"
     ]
    }
   ],
   "source": [
    "train_feature_dataset.info()"
   ]
  },
  {
   "cell_type": "code",
   "execution_count": 56,
   "metadata": {
    "scrolled": false
   },
   "outputs": [
    {
     "data": {
      "text/html": [
       "<div>\n",
       "<style>\n",
       "    .dataframe thead tr:only-child th {\n",
       "        text-align: right;\n",
       "    }\n",
       "\n",
       "    .dataframe thead th {\n",
       "        text-align: left;\n",
       "    }\n",
       "\n",
       "    .dataframe tbody tr th {\n",
       "        vertical-align: top;\n",
       "    }\n",
       "</style>\n",
       "<table border=\"1\" class=\"dataframe\">\n",
       "  <thead>\n",
       "    <tr style=\"text-align: right;\">\n",
       "      <th></th>\n",
       "      <th>LOCATION</th>\n",
       "      <th>TIME</th>\n",
       "      <th>GENDER</th>\n",
       "      <th>Population (% of total)</th>\n",
       "      <th>EDU_TERTIARY_PC_WKGPOP</th>\n",
       "      <th>CPI_AGRWTH</th>\n",
       "      <th>GDP_USD_CAP</th>\n",
       "      <th>GOV_SPEND_EDU</th>\n",
       "      <th>%_Sanitation_Access</th>\n",
       "      <th>Access to Clean Fuels and Technologies for cooking (% of total population) 2.1_ACCESS.CFT.TOT</th>\n",
       "      <th>Access to electricity (% of rural population with access) 1.2_ACCESS.ELECTRICITY.RURAL</th>\n",
       "      <th>Access to electricity (% of total population) 1.1_ACCESS.ELECTRICITY.TOT</th>\n",
       "      <th>Access to electricity (% of urban population with access) 1.3_ACCESS.ELECTRICITY.URBAN</th>\n",
       "      <th>Energy intensity level of primary energy (MJ/2011 USD PPP) 6.1_PRIMARY.ENERGY.INTENSITY</th>\n",
       "      <th>Renewable electricity output (GWh) 4.1.2_REN.ELECTRICITY.OUTPUT</th>\n",
       "      <th>Renewable electricity share of total electricity output (%) 4.1_SHARE.RE.IN.ELECTRICITY</th>\n",
       "      <th>Renewable energy consumption (TJ) 3.1_RE.CONSUMPTION</th>\n",
       "      <th>Renewable energy share of TFEC (%) 2.1_SHARE.TOTAL.RE.IN.TFEC</th>\n",
       "      <th>Total electricity output (GWh) 4.1.1_TOTAL.ELECTRICITY.OUTPUT</th>\n",
       "      <th>Total final energy consumption (TFEC) (TJ) 1.1_TOTAL.FINAL.ENERGY.CONSUM</th>\n",
       "    </tr>\n",
       "    <tr>\n",
       "      <th>id</th>\n",
       "      <th></th>\n",
       "      <th></th>\n",
       "      <th></th>\n",
       "      <th></th>\n",
       "      <th></th>\n",
       "      <th></th>\n",
       "      <th></th>\n",
       "      <th></th>\n",
       "      <th></th>\n",
       "      <th></th>\n",
       "      <th></th>\n",
       "      <th></th>\n",
       "      <th></th>\n",
       "      <th></th>\n",
       "      <th></th>\n",
       "      <th></th>\n",
       "      <th></th>\n",
       "      <th></th>\n",
       "      <th></th>\n",
       "      <th></th>\n",
       "    </tr>\n",
       "  </thead>\n",
       "  <tbody>\n",
       "    <tr>\n",
       "      <th>1</th>\n",
       "      <td>AUS</td>\n",
       "      <td>1993</td>\n",
       "      <td>MEN</td>\n",
       "      <td>49.780616</td>\n",
       "      <td>23.508869</td>\n",
       "      <td>1.753653</td>\n",
       "      <td>19929.78137</td>\n",
       "      <td>5.50922</td>\n",
       "      <td>100.0</td>\n",
       "      <td>100.0</td>\n",
       "      <td>100.0</td>\n",
       "      <td>100.0</td>\n",
       "      <td>100.0</td>\n",
       "      <td>7.502966</td>\n",
       "      <td>17220.0</td>\n",
       "      <td>10.55</td>\n",
       "      <td>197804.8632</td>\n",
       "      <td>8.616992</td>\n",
       "      <td>163236.0</td>\n",
       "      <td>2295520.952</td>\n",
       "    </tr>\n",
       "    <tr>\n",
       "      <th>2</th>\n",
       "      <td>AUS</td>\n",
       "      <td>1993</td>\n",
       "      <td>WOMEN</td>\n",
       "      <td>50.219384</td>\n",
       "      <td>21.418512</td>\n",
       "      <td>1.753653</td>\n",
       "      <td>19929.78137</td>\n",
       "      <td>5.50922</td>\n",
       "      <td>100.0</td>\n",
       "      <td>100.0</td>\n",
       "      <td>100.0</td>\n",
       "      <td>100.0</td>\n",
       "      <td>100.0</td>\n",
       "      <td>7.502966</td>\n",
       "      <td>17220.0</td>\n",
       "      <td>10.55</td>\n",
       "      <td>197804.8632</td>\n",
       "      <td>8.616992</td>\n",
       "      <td>163236.0</td>\n",
       "      <td>2295520.952</td>\n",
       "    </tr>\n",
       "    <tr>\n",
       "      <th>3</th>\n",
       "      <td>AUS</td>\n",
       "      <td>1994</td>\n",
       "      <td>MEN</td>\n",
       "      <td>49.762137</td>\n",
       "      <td>24.407070</td>\n",
       "      <td>1.969635</td>\n",
       "      <td>21134.14664</td>\n",
       "      <td>5.24752</td>\n",
       "      <td>100.0</td>\n",
       "      <td>100.0</td>\n",
       "      <td>100.0</td>\n",
       "      <td>100.0</td>\n",
       "      <td>100.0</td>\n",
       "      <td>7.206736</td>\n",
       "      <td>17042.0</td>\n",
       "      <td>10.19</td>\n",
       "      <td>193855.2090</td>\n",
       "      <td>8.259947</td>\n",
       "      <td>167169.0</td>\n",
       "      <td>2346930.376</td>\n",
       "    </tr>\n",
       "    <tr>\n",
       "      <th>4</th>\n",
       "      <td>AUS</td>\n",
       "      <td>1994</td>\n",
       "      <td>WOMEN</td>\n",
       "      <td>50.237863</td>\n",
       "      <td>21.740088</td>\n",
       "      <td>1.969635</td>\n",
       "      <td>21134.14664</td>\n",
       "      <td>5.24752</td>\n",
       "      <td>100.0</td>\n",
       "      <td>100.0</td>\n",
       "      <td>100.0</td>\n",
       "      <td>100.0</td>\n",
       "      <td>100.0</td>\n",
       "      <td>7.206736</td>\n",
       "      <td>17042.0</td>\n",
       "      <td>10.19</td>\n",
       "      <td>193855.2090</td>\n",
       "      <td>8.259947</td>\n",
       "      <td>167169.0</td>\n",
       "      <td>2346930.376</td>\n",
       "    </tr>\n",
       "    <tr>\n",
       "      <th>5</th>\n",
       "      <td>AUS</td>\n",
       "      <td>1995</td>\n",
       "      <td>MEN</td>\n",
       "      <td>49.758261</td>\n",
       "      <td>25.825409</td>\n",
       "      <td>4.627767</td>\n",
       "      <td>22098.57288</td>\n",
       "      <td>5.12905</td>\n",
       "      <td>100.0</td>\n",
       "      <td>100.0</td>\n",
       "      <td>100.0</td>\n",
       "      <td>100.0</td>\n",
       "      <td>100.0</td>\n",
       "      <td>7.076343</td>\n",
       "      <td>16631.0</td>\n",
       "      <td>9.62</td>\n",
       "      <td>199700.4005</td>\n",
       "      <td>8.217806</td>\n",
       "      <td>172805.0</td>\n",
       "      <td>2430093.957</td>\n",
       "    </tr>\n",
       "  </tbody>\n",
       "</table>\n",
       "</div>"
      ],
      "text/plain": [
       "   LOCATION  TIME GENDER  Population (% of total)  EDU_TERTIARY_PC_WKGPOP  \\\n",
       "id                                                                          \n",
       "1       AUS  1993    MEN                49.780616               23.508869   \n",
       "2       AUS  1993  WOMEN                50.219384               21.418512   \n",
       "3       AUS  1994    MEN                49.762137               24.407070   \n",
       "4       AUS  1994  WOMEN                50.237863               21.740088   \n",
       "5       AUS  1995    MEN                49.758261               25.825409   \n",
       "\n",
       "    CPI_AGRWTH  GDP_USD_CAP  GOV_SPEND_EDU  %_Sanitation_Access  \\\n",
       "id                                                                \n",
       "1     1.753653  19929.78137        5.50922                100.0   \n",
       "2     1.753653  19929.78137        5.50922                100.0   \n",
       "3     1.969635  21134.14664        5.24752                100.0   \n",
       "4     1.969635  21134.14664        5.24752                100.0   \n",
       "5     4.627767  22098.57288        5.12905                100.0   \n",
       "\n",
       "    Access to Clean Fuels and Technologies for cooking (% of total population) 2.1_ACCESS.CFT.TOT  \\\n",
       "id                                                                                                  \n",
       "1                                               100.0                                               \n",
       "2                                               100.0                                               \n",
       "3                                               100.0                                               \n",
       "4                                               100.0                                               \n",
       "5                                               100.0                                               \n",
       "\n",
       "    Access to electricity (% of rural population with access) 1.2_ACCESS.ELECTRICITY.RURAL  \\\n",
       "id                                                                                           \n",
       "1                                               100.0                                        \n",
       "2                                               100.0                                        \n",
       "3                                               100.0                                        \n",
       "4                                               100.0                                        \n",
       "5                                               100.0                                        \n",
       "\n",
       "    Access to electricity (% of total population) 1.1_ACCESS.ELECTRICITY.TOT  \\\n",
       "id                                                                             \n",
       "1                                               100.0                          \n",
       "2                                               100.0                          \n",
       "3                                               100.0                          \n",
       "4                                               100.0                          \n",
       "5                                               100.0                          \n",
       "\n",
       "    Access to electricity (% of urban population with access) 1.3_ACCESS.ELECTRICITY.URBAN  \\\n",
       "id                                                                                           \n",
       "1                                               100.0                                        \n",
       "2                                               100.0                                        \n",
       "3                                               100.0                                        \n",
       "4                                               100.0                                        \n",
       "5                                               100.0                                        \n",
       "\n",
       "    Energy intensity level of primary energy (MJ/2011 USD PPP) 6.1_PRIMARY.ENERGY.INTENSITY  \\\n",
       "id                                                                                            \n",
       "1                                            7.502966                                         \n",
       "2                                            7.502966                                         \n",
       "3                                            7.206736                                         \n",
       "4                                            7.206736                                         \n",
       "5                                            7.076343                                         \n",
       "\n",
       "    Renewable electricity output (GWh) 4.1.2_REN.ELECTRICITY.OUTPUT  \\\n",
       "id                                                                    \n",
       "1                                             17220.0                 \n",
       "2                                             17220.0                 \n",
       "3                                             17042.0                 \n",
       "4                                             17042.0                 \n",
       "5                                             16631.0                 \n",
       "\n",
       "    Renewable electricity share of total electricity output (%) 4.1_SHARE.RE.IN.ELECTRICITY  \\\n",
       "id                                                                                            \n",
       "1                                               10.55                                         \n",
       "2                                               10.55                                         \n",
       "3                                               10.19                                         \n",
       "4                                               10.19                                         \n",
       "5                                                9.62                                         \n",
       "\n",
       "    Renewable energy consumption (TJ) 3.1_RE.CONSUMPTION  \\\n",
       "id                                                         \n",
       "1                                         197804.8632      \n",
       "2                                         197804.8632      \n",
       "3                                         193855.2090      \n",
       "4                                         193855.2090      \n",
       "5                                         199700.4005      \n",
       "\n",
       "    Renewable energy share of TFEC (%) 2.1_SHARE.TOTAL.RE.IN.TFEC  \\\n",
       "id                                                                  \n",
       "1                                            8.616992               \n",
       "2                                            8.616992               \n",
       "3                                            8.259947               \n",
       "4                                            8.259947               \n",
       "5                                            8.217806               \n",
       "\n",
       "    Total electricity output (GWh) 4.1.1_TOTAL.ELECTRICITY.OUTPUT  \\\n",
       "id                                                                  \n",
       "1                                            163236.0               \n",
       "2                                            163236.0               \n",
       "3                                            167169.0               \n",
       "4                                            167169.0               \n",
       "5                                            172805.0               \n",
       "\n",
       "    Total final energy consumption (TFEC) (TJ) 1.1_TOTAL.FINAL.ENERGY.CONSUM  \n",
       "id                                                                            \n",
       "1                                         2295520.952                         \n",
       "2                                         2295520.952                         \n",
       "3                                         2346930.376                         \n",
       "4                                         2346930.376                         \n",
       "5                                         2430093.957                         "
      ]
     },
     "execution_count": 56,
     "metadata": {},
     "output_type": "execute_result"
    }
   ],
   "source": [
    "train_feature_dataset.head(5).iloc[:,0:20]"
   ]
  },
  {
   "cell_type": "code",
   "execution_count": 57,
   "metadata": {
    "scrolled": false
   },
   "outputs": [
    {
     "data": {
      "text/html": [
       "<div>\n",
       "<style>\n",
       "    .dataframe thead tr:only-child th {\n",
       "        text-align: right;\n",
       "    }\n",
       "\n",
       "    .dataframe thead th {\n",
       "        text-align: left;\n",
       "    }\n",
       "\n",
       "    .dataframe tbody tr th {\n",
       "        vertical-align: top;\n",
       "    }\n",
       "</style>\n",
       "<table border=\"1\" class=\"dataframe\">\n",
       "  <thead>\n",
       "    <tr style=\"text-align: right;\">\n",
       "      <th></th>\n",
       "      <th>Population ages 00-04 (as % of specified gender population)</th>\n",
       "      <th>Population ages 05-09 (as % of specified gender population)</th>\n",
       "      <th>Population ages 10-14 (as % of specified gender population)</th>\n",
       "      <th>Population ages 15-19 (as % of specified gender population)</th>\n",
       "      <th>Population ages 20-24 (as % of specified gender population)</th>\n",
       "      <th>Population ages 25-29 (as % of specified gender population)</th>\n",
       "      <th>Population ages 30-34 (as % of specified gender population)</th>\n",
       "      <th>Population ages 35-39 (as % of specified gender population)</th>\n",
       "      <th>Population ages 40-44 (as % of specified gender population)</th>\n",
       "      <th>Population ages 45-49 (as % of specified gender population)</th>\n",
       "      <th>Population ages 50-54 (as % of specified gender population)</th>\n",
       "      <th>Population ages 55-59 (as % of specified gender population)</th>\n",
       "      <th>Population ages 60-64 (as % of specified gender population)</th>\n",
       "      <th>Population ages 65-69 (as % of specified gender population)</th>\n",
       "      <th>Population ages 70-74 (as % of specified gender population)</th>\n",
       "      <th>Population ages 75-79 (as % of specified gender population)</th>\n",
       "      <th>Population ages 80 and older (as % of specified gender population)</th>\n",
       "      <th>TER_Enrolment_rate</th>\n",
       "      <th>GNI per capita Atlas method (current US$)</th>\n",
       "    </tr>\n",
       "    <tr>\n",
       "      <th>id</th>\n",
       "      <th></th>\n",
       "      <th></th>\n",
       "      <th></th>\n",
       "      <th></th>\n",
       "      <th></th>\n",
       "      <th></th>\n",
       "      <th></th>\n",
       "      <th></th>\n",
       "      <th></th>\n",
       "      <th></th>\n",
       "      <th></th>\n",
       "      <th></th>\n",
       "      <th></th>\n",
       "      <th></th>\n",
       "      <th></th>\n",
       "      <th></th>\n",
       "      <th></th>\n",
       "      <th></th>\n",
       "      <th></th>\n",
       "    </tr>\n",
       "  </thead>\n",
       "  <tbody>\n",
       "    <tr>\n",
       "      <th>1</th>\n",
       "      <td>7.483406</td>\n",
       "      <td>7.526700</td>\n",
       "      <td>7.381224</td>\n",
       "      <td>7.674855</td>\n",
       "      <td>8.114461</td>\n",
       "      <td>7.977674</td>\n",
       "      <td>8.245478</td>\n",
       "      <td>7.849939</td>\n",
       "      <td>7.496966</td>\n",
       "      <td>6.676347</td>\n",
       "      <td>5.125739</td>\n",
       "      <td>4.363110</td>\n",
       "      <td>4.022097</td>\n",
       "      <td>3.744820</td>\n",
       "      <td>2.825824</td>\n",
       "      <td>1.831723</td>\n",
       "      <td>1.659637</td>\n",
       "      <td>65.428513</td>\n",
       "      <td>18930</td>\n",
       "    </tr>\n",
       "    <tr>\n",
       "      <th>2</th>\n",
       "      <td>7.050943</td>\n",
       "      <td>7.102381</td>\n",
       "      <td>6.945377</td>\n",
       "      <td>7.259318</td>\n",
       "      <td>7.834311</td>\n",
       "      <td>7.855364</td>\n",
       "      <td>8.166469</td>\n",
       "      <td>7.807832</td>\n",
       "      <td>7.363331</td>\n",
       "      <td>6.375044</td>\n",
       "      <td>4.874607</td>\n",
       "      <td>4.220368</td>\n",
       "      <td>4.009922</td>\n",
       "      <td>3.997684</td>\n",
       "      <td>3.396483</td>\n",
       "      <td>2.549315</td>\n",
       "      <td>3.191249</td>\n",
       "      <td>64.678619</td>\n",
       "      <td>18930</td>\n",
       "    </tr>\n",
       "    <tr>\n",
       "      <th>3</th>\n",
       "      <td>7.480330</td>\n",
       "      <td>7.450865</td>\n",
       "      <td>7.402882</td>\n",
       "      <td>7.432178</td>\n",
       "      <td>8.106997</td>\n",
       "      <td>7.815958</td>\n",
       "      <td>8.206122</td>\n",
       "      <td>7.896834</td>\n",
       "      <td>7.440257</td>\n",
       "      <td>6.916593</td>\n",
       "      <td>5.260645</td>\n",
       "      <td>4.417681</td>\n",
       "      <td>3.955058</td>\n",
       "      <td>3.738131</td>\n",
       "      <td>2.914956</td>\n",
       "      <td>1.854255</td>\n",
       "      <td>1.710258</td>\n",
       "      <td>66.160980</td>\n",
       "      <td>18890</td>\n",
       "    </tr>\n",
       "    <tr>\n",
       "      <th>4</th>\n",
       "      <td>7.043296</td>\n",
       "      <td>7.025230</td>\n",
       "      <td>6.968273</td>\n",
       "      <td>7.011528</td>\n",
       "      <td>7.811970</td>\n",
       "      <td>7.702864</td>\n",
       "      <td>8.134269</td>\n",
       "      <td>7.848636</td>\n",
       "      <td>7.352638</td>\n",
       "      <td>6.627319</td>\n",
       "      <td>5.003437</td>\n",
       "      <td>4.267955</td>\n",
       "      <td>3.941137</td>\n",
       "      <td>3.942406</td>\n",
       "      <td>3.479801</td>\n",
       "      <td>2.549259</td>\n",
       "      <td>3.289984</td>\n",
       "      <td>66.824181</td>\n",
       "      <td>18890</td>\n",
       "    </tr>\n",
       "    <tr>\n",
       "      <th>5</th>\n",
       "      <td>7.436000</td>\n",
       "      <td>7.389884</td>\n",
       "      <td>7.399023</td>\n",
       "      <td>7.274438</td>\n",
       "      <td>8.023982</td>\n",
       "      <td>7.709084</td>\n",
       "      <td>8.131212</td>\n",
       "      <td>7.926613</td>\n",
       "      <td>7.430364</td>\n",
       "      <td>7.073719</td>\n",
       "      <td>5.448858</td>\n",
       "      <td>4.480351</td>\n",
       "      <td>3.926157</td>\n",
       "      <td>3.716121</td>\n",
       "      <td>2.988446</td>\n",
       "      <td>1.905839</td>\n",
       "      <td>1.739907</td>\n",
       "      <td>68.701340</td>\n",
       "      <td>19320</td>\n",
       "    </tr>\n",
       "  </tbody>\n",
       "</table>\n",
       "</div>"
      ],
      "text/plain": [
       "    Population ages 00-04 (as % of specified gender population)  \\\n",
       "id                                                                \n",
       "1                                            7.483406             \n",
       "2                                            7.050943             \n",
       "3                                            7.480330             \n",
       "4                                            7.043296             \n",
       "5                                            7.436000             \n",
       "\n",
       "    Population ages 05-09 (as % of specified gender population)  \\\n",
       "id                                                                \n",
       "1                                            7.526700             \n",
       "2                                            7.102381             \n",
       "3                                            7.450865             \n",
       "4                                            7.025230             \n",
       "5                                            7.389884             \n",
       "\n",
       "    Population ages 10-14 (as % of specified gender population)  \\\n",
       "id                                                                \n",
       "1                                            7.381224             \n",
       "2                                            6.945377             \n",
       "3                                            7.402882             \n",
       "4                                            6.968273             \n",
       "5                                            7.399023             \n",
       "\n",
       "    Population ages 15-19 (as % of specified gender population)  \\\n",
       "id                                                                \n",
       "1                                            7.674855             \n",
       "2                                            7.259318             \n",
       "3                                            7.432178             \n",
       "4                                            7.011528             \n",
       "5                                            7.274438             \n",
       "\n",
       "    Population ages 20-24 (as % of specified gender population)  \\\n",
       "id                                                                \n",
       "1                                            8.114461             \n",
       "2                                            7.834311             \n",
       "3                                            8.106997             \n",
       "4                                            7.811970             \n",
       "5                                            8.023982             \n",
       "\n",
       "    Population ages 25-29 (as % of specified gender population)  \\\n",
       "id                                                                \n",
       "1                                            7.977674             \n",
       "2                                            7.855364             \n",
       "3                                            7.815958             \n",
       "4                                            7.702864             \n",
       "5                                            7.709084             \n",
       "\n",
       "    Population ages 30-34 (as % of specified gender population)  \\\n",
       "id                                                                \n",
       "1                                            8.245478             \n",
       "2                                            8.166469             \n",
       "3                                            8.206122             \n",
       "4                                            8.134269             \n",
       "5                                            8.131212             \n",
       "\n",
       "    Population ages 35-39 (as % of specified gender population)  \\\n",
       "id                                                                \n",
       "1                                            7.849939             \n",
       "2                                            7.807832             \n",
       "3                                            7.896834             \n",
       "4                                            7.848636             \n",
       "5                                            7.926613             \n",
       "\n",
       "    Population ages 40-44 (as % of specified gender population)  \\\n",
       "id                                                                \n",
       "1                                            7.496966             \n",
       "2                                            7.363331             \n",
       "3                                            7.440257             \n",
       "4                                            7.352638             \n",
       "5                                            7.430364             \n",
       "\n",
       "    Population ages 45-49 (as % of specified gender population)  \\\n",
       "id                                                                \n",
       "1                                            6.676347             \n",
       "2                                            6.375044             \n",
       "3                                            6.916593             \n",
       "4                                            6.627319             \n",
       "5                                            7.073719             \n",
       "\n",
       "    Population ages 50-54 (as % of specified gender population)  \\\n",
       "id                                                                \n",
       "1                                            5.125739             \n",
       "2                                            4.874607             \n",
       "3                                            5.260645             \n",
       "4                                            5.003437             \n",
       "5                                            5.448858             \n",
       "\n",
       "    Population ages 55-59 (as % of specified gender population)  \\\n",
       "id                                                                \n",
       "1                                            4.363110             \n",
       "2                                            4.220368             \n",
       "3                                            4.417681             \n",
       "4                                            4.267955             \n",
       "5                                            4.480351             \n",
       "\n",
       "    Population ages 60-64 (as % of specified gender population)  \\\n",
       "id                                                                \n",
       "1                                            4.022097             \n",
       "2                                            4.009922             \n",
       "3                                            3.955058             \n",
       "4                                            3.941137             \n",
       "5                                            3.926157             \n",
       "\n",
       "    Population ages 65-69 (as % of specified gender population)  \\\n",
       "id                                                                \n",
       "1                                            3.744820             \n",
       "2                                            3.997684             \n",
       "3                                            3.738131             \n",
       "4                                            3.942406             \n",
       "5                                            3.716121             \n",
       "\n",
       "    Population ages 70-74 (as % of specified gender population)  \\\n",
       "id                                                                \n",
       "1                                            2.825824             \n",
       "2                                            3.396483             \n",
       "3                                            2.914956             \n",
       "4                                            3.479801             \n",
       "5                                            2.988446             \n",
       "\n",
       "    Population ages 75-79 (as % of specified gender population)  \\\n",
       "id                                                                \n",
       "1                                            1.831723             \n",
       "2                                            2.549315             \n",
       "3                                            1.854255             \n",
       "4                                            2.549259             \n",
       "5                                            1.905839             \n",
       "\n",
       "    Population ages 80 and older (as % of specified gender population)  \\\n",
       "id                                                                       \n",
       "1                                            1.659637                    \n",
       "2                                            3.191249                    \n",
       "3                                            1.710258                    \n",
       "4                                            3.289984                    \n",
       "5                                            1.739907                    \n",
       "\n",
       "    TER_Enrolment_rate  GNI per capita Atlas method (current US$)  \n",
       "id                                                                 \n",
       "1            65.428513                                      18930  \n",
       "2            64.678619                                      18930  \n",
       "3            66.160980                                      18890  \n",
       "4            66.824181                                      18890  \n",
       "5            68.701340                                      19320  "
      ]
     },
     "execution_count": 57,
     "metadata": {},
     "output_type": "execute_result"
    }
   ],
   "source": [
    "train_feature_dataset.head(5).iloc[:,20:40]"
   ]
  },
  {
   "cell_type": "code",
   "execution_count": 58,
   "metadata": {
    "collapsed": true
   },
   "outputs": [],
   "source": [
    "data = specifics.build_data(train_feature_df = train_feature_dataset, \n",
    "                            train_outcome_df = train_outcome_dataset, \n",
    "                            test_feature_df = test_feature_dataset)"
   ]
  },
  {
   "cell_type": "code",
   "execution_count": 59,
   "metadata": {},
   "outputs": [
    {
     "data": {
      "text/plain": [
       "(1010, 38)"
      ]
     },
     "execution_count": 59,
     "metadata": {},
     "output_type": "execute_result"
    }
   ],
   "source": [
    "data.train_feature_df.shape"
   ]
  },
  {
   "cell_type": "code",
   "execution_count": 60,
   "metadata": {},
   "outputs": [
    {
     "data": {
      "text/plain": [
       "(242, 38)"
      ]
     },
     "execution_count": 60,
     "metadata": {},
     "output_type": "execute_result"
    }
   ],
   "source": [
    "data.test_feature_df.shape"
   ]
  },
  {
   "cell_type": "code",
   "execution_count": 61,
   "metadata": {
    "scrolled": true
   },
   "outputs": [
    {
     "data": {
      "text/plain": [
       "['TIME',\n",
       " 'Population (% of total)',\n",
       " 'EDU_TERTIARY_PC_WKGPOP',\n",
       " 'CPI_AGRWTH',\n",
       " 'GDP_USD_CAP',\n",
       " 'GOV_SPEND_EDU',\n",
       " '%_Sanitation_Access',\n",
       " 'Access to Clean Fuels and Technologies for cooking (% of total population) 2.1_ACCESS.CFT.TOT',\n",
       " 'Access to electricity (% of rural population with access) 1.2_ACCESS.ELECTRICITY.RURAL',\n",
       " 'Access to electricity (% of total population) 1.1_ACCESS.ELECTRICITY.TOT',\n",
       " 'Access to electricity (% of urban population with access) 1.3_ACCESS.ELECTRICITY.URBAN',\n",
       " 'Energy intensity level of primary energy (MJ/2011 USD PPP) 6.1_PRIMARY.ENERGY.INTENSITY',\n",
       " 'Renewable electricity output (GWh) 4.1.2_REN.ELECTRICITY.OUTPUT',\n",
       " 'Renewable electricity share of total electricity output (%) 4.1_SHARE.RE.IN.ELECTRICITY',\n",
       " 'Renewable energy consumption (TJ) 3.1_RE.CONSUMPTION',\n",
       " 'Renewable energy share of TFEC (%) 2.1_SHARE.TOTAL.RE.IN.TFEC',\n",
       " 'Total electricity output (GWh) 4.1.1_TOTAL.ELECTRICITY.OUTPUT',\n",
       " 'Total final energy consumption (TFEC) (TJ) 1.1_TOTAL.FINAL.ENERGY.CONSUM',\n",
       " 'Population ages 00-04 (as % of specified gender population)',\n",
       " 'Population ages 05-09 (as % of specified gender population)',\n",
       " 'Population ages 10-14 (as % of specified gender population)',\n",
       " 'Population ages 15-19 (as % of specified gender population)',\n",
       " 'Population ages 20-24 (as % of specified gender population)',\n",
       " 'Population ages 25-29 (as % of specified gender population)',\n",
       " 'Population ages 30-34 (as % of specified gender population)',\n",
       " 'Population ages 35-39 (as % of specified gender population)',\n",
       " 'Population ages 40-44 (as % of specified gender population)',\n",
       " 'Population ages 45-49 (as % of specified gender population)',\n",
       " 'Population ages 50-54 (as % of specified gender population)',\n",
       " 'Population ages 55-59 (as % of specified gender population)',\n",
       " 'Population ages 60-64 (as % of specified gender population)',\n",
       " 'Population ages 65-69 (as % of specified gender population)',\n",
       " 'Population ages 70-74 (as % of specified gender population)',\n",
       " 'Population ages 75-79 (as % of specified gender population)',\n",
       " 'Population ages 80 and older (as % of specified gender population)',\n",
       " 'TER_Enrolment_rate',\n",
       " 'GNI per capita Atlas method (current US$)',\n",
       " 'GENDER__women']"
      ]
     },
     "execution_count": 61,
     "metadata": {},
     "output_type": "execute_result"
    }
   ],
   "source": [
    "pd.set_option('display.max_rows', 3000)\n",
    "list(data.train_feature_df.columns.values)[0:3000]"
   ]
  },
  {
   "cell_type": "code",
   "execution_count": 62,
   "metadata": {
    "collapsed": true
   },
   "outputs": [],
   "source": [
    "assert sum(data.train_feature_df.index == data.train_outcome_df.index) == len(data.train_feature_df)"
   ]
  },
  {
   "cell_type": "code",
   "execution_count": null,
   "metadata": {
    "collapsed": true
   },
   "outputs": [],
   "source": []
  },
  {
   "cell_type": "markdown",
   "metadata": {},
   "source": [
    "### Check if there is a value in testset set as -9999 but the corresponsing col in trainset never has -9999"
   ]
  },
  {
   "cell_type": "code",
   "execution_count": 258,
   "metadata": {
    "scrolled": true
   },
   "outputs": [
    {
     "data": {
      "text/plain": [
       "TIME                                                                                              1993.000000\n",
       "Population (% of total)                                                                             45.791263\n",
       "EDU_TERTIARY_PC_WKGPOP                                                                               7.007294\n",
       "CPI_AGRWTH                                                                                          -4.478103\n",
       "GDP_USD_CAP                                                                                       9390.760261\n",
       "GOV_SPEND_EDU                                                                                        2.863940\n",
       "%_Sanitation_Access                                                                                 62.300000\n",
       "Access to Clean Fuels and Technologies for cooking (% of total population) 2.1_ACCESS.CFT.TOT       81.565164\n",
       "Access to electricity (% of rural population with access) 1.2_ACCESS.ELECTRICITY.RURAL              59.883015\n",
       "Access to electricity (% of total population) 1.1_ACCESS.ELECTRICITY.TOT                            81.900000\n",
       "Access to electricity (% of urban population with access) 1.3_ACCESS.ELECTRICITY.URBAN              91.400000\n",
       "Energy intensity level of primary energy (MJ/2011 USD PPP) 6.1_PRIMARY.ENERGY.INTENSITY              2.270165\n",
       "Renewable electricity output (GWh) 4.1.2_REN.ELECTRICITY.OUTPUT                                     18.000000\n",
       "Renewable electricity share of total electricity output (%) 4.1_SHARE.RE.IN.ELECTRICITY              0.040000\n",
       "Renewable energy consumption (TJ) 3.1_RE.CONSUMPTION                                              1905.173237\n",
       "Renewable energy share of TFEC (%) 2.1_SHARE.TOTAL.RE.IN.TFEC                                        0.692196\n",
       "Total electricity output (GWh) 4.1.1_TOTAL.ELECTRICITY.OUTPUT                                     1849.000000\n",
       "Total final energy consumption (TFEC) (TJ) 1.1_TOTAL.FINAL.ENERGY.CONSUM                         76221.908170\n",
       "Population ages 00-04 (as % of specified gender population)                                          3.541293\n",
       "Population ages 05-09 (as % of specified gender population)                                          3.488507\n",
       "Population ages 10-14 (as % of specified gender population)                                          3.659118\n",
       "Population ages 15-19 (as % of specified gender population)                                          3.775617\n",
       "Population ages 20-24 (as % of specified gender population)                                          4.541790\n",
       "Population ages 25-29 (as % of specified gender population)                                          4.867331\n",
       "Population ages 30-34 (as % of specified gender population)                                          5.283902\n",
       "Population ages 35-39 (as % of specified gender population)                                          5.535926\n",
       "Population ages 40-44 (as % of specified gender population)                                          5.503662\n",
       "Population ages 45-49 (as % of specified gender population)                                          4.683484\n",
       "Population ages 50-54 (as % of specified gender population)                                          3.773306\n",
       "Population ages 55-59 (as % of specified gender population)                                          3.072372\n",
       "Population ages 60-64 (as % of specified gender population)                                          2.204516\n",
       "Population ages 65-69 (as % of specified gender population)                                          1.605840\n",
       "Population ages 70-74 (as % of specified gender population)                                          1.025843\n",
       "Population ages 75-79 (as % of specified gender population)                                          0.592030\n",
       "Population ages 80 and older (as % of specified gender population)                                   0.393609\n",
       "TER_Enrolment_rate                                                                                   9.699270\n",
       "GNI per capita Atlas method (current US$)                                                         3930.000000\n",
       "GENDER__women                                                                                        0.000000\n",
       "dtype: float64"
      ]
     },
     "execution_count": 258,
     "metadata": {},
     "output_type": "execute_result"
    }
   ],
   "source": [
    "data.train_feature_df.min()"
   ]
  },
  {
   "cell_type": "code",
   "execution_count": 259,
   "metadata": {
    "scrolled": true
   },
   "outputs": [
    {
     "data": {
      "text/plain": [
       "TIME                                                                                               1993.000000\n",
       "Population (% of total)                                                                              48.947421\n",
       "EDU_TERTIARY_PC_WKGPOP                                                                               10.656567\n",
       "CPI_AGRWTH                                                                                           -1.736046\n",
       "GDP_USD_CAP                                                                                       12522.285890\n",
       "GOV_SPEND_EDU                                                                                         2.898640\n",
       "%_Sanitation_Access                                                                                  78.600000\n",
       "Access to Clean Fuels and Technologies for cooking (% of total population) 2.1_ACCESS.CFT.TOT        83.870156\n",
       "Access to electricity (% of rural population with access) 1.2_ACCESS.ELECTRICITY.RURAL               95.113190\n",
       "Access to electricity (% of total population) 1.1_ACCESS.ELECTRICITY.TOT                             98.552437\n",
       "Access to electricity (% of urban population with access) 1.3_ACCESS.ELECTRICITY.URBAN               99.584215\n",
       "Energy intensity level of primary energy (MJ/2011 USD PPP) 6.1_PRIMARY.ENERGY.INTENSITY               2.317915\n",
       "Renewable electricity output (GWh) 4.1.2_REN.ELECTRICITY.OUTPUT                                    2932.000000\n",
       "Renewable electricity share of total electricity output (%) 4.1_SHARE.RE.IN.ELECTRICITY               5.520000\n",
       "Renewable energy consumption (TJ) 3.1_RE.CONSUMPTION                                              52481.241070\n",
       "Renewable energy share of TFEC (%) 2.1_SHARE.TOTAL.RE.IN.TFEC                                         4.088641\n",
       "Total electricity output (GWh) 4.1.1_TOTAL.ELECTRICITY.OUTPUT                                     34275.000000\n",
       "Total final energy consumption (TFEC) (TJ) 1.1_TOTAL.FINAL.ENERGY.CONSUM                         400159.564600\n",
       "Population ages 00-04 (as % of specified gender population)                                           4.042284\n",
       "Population ages 05-09 (as % of specified gender population)                                           4.579613\n",
       "Population ages 10-14 (as % of specified gender population)                                           4.607911\n",
       "Population ages 15-19 (as % of specified gender population)                                           4.803824\n",
       "Population ages 20-24 (as % of specified gender population)                                           4.861127\n",
       "Population ages 25-29 (as % of specified gender population)                                           5.174178\n",
       "Population ages 30-34 (as % of specified gender population)                                           5.899613\n",
       "Population ages 35-39 (as % of specified gender population)                                           5.714485\n",
       "Population ages 40-44 (as % of specified gender population)                                           5.323226\n",
       "Population ages 45-49 (as % of specified gender population)                                           4.523949\n",
       "Population ages 50-54 (as % of specified gender population)                                           3.823391\n",
       "Population ages 55-59 (as % of specified gender population)                                           2.829373\n",
       "Population ages 60-64 (as % of specified gender population)                                           2.296257\n",
       "Population ages 65-69 (as % of specified gender population)                                           1.705726\n",
       "Population ages 70-74 (as % of specified gender population)                                           1.289033\n",
       "Population ages 75-79 (as % of specified gender population)                                           0.907934\n",
       "Population ages 80 and older (as % of specified gender population)                                    0.878024\n",
       "TER_Enrolment_rate                                                                                   22.906521\n",
       "GNI per capita Atlas method (current US$)                                                          7810.000000\n",
       "GENDER__women                                                                                         0.000000\n",
       "dtype: float64"
      ]
     },
     "execution_count": 259,
     "metadata": {},
     "output_type": "execute_result"
    }
   ],
   "source": [
    "data.test_feature_df.min()"
   ]
  },
  {
   "cell_type": "code",
   "execution_count": null,
   "metadata": {
    "collapsed": true
   },
   "outputs": [],
   "source": []
  },
  {
   "cell_type": "code",
   "execution_count": null,
   "metadata": {
    "collapsed": true
   },
   "outputs": [],
   "source": []
  },
  {
   "cell_type": "markdown",
   "metadata": {
    "collapsed": true
   },
   "source": [
    "# Random Forest Regressor"
   ]
  },
  {
   "cell_type": "code",
   "execution_count": 126,
   "metadata": {},
   "outputs": [
    {
     "name": "stdout",
     "output_type": "stream",
     "text": [
      "GridSearchCV took 21.91 seconds for 12 candidate parameter settings.\n"
     ]
    },
    {
     "name": "stderr",
     "output_type": "stream",
     "text": [
      "C:\\Users\\Kevin\\Anaconda3\\lib\\site-packages\\sklearn\\model_selection\\_search.py:747: DeprecationWarning: The grid_scores_ attribute was deprecated in version 0.18 in favor of the more elaborate cv_results_ attribute. The grid_scores_ attribute will not be available from 0.20\n",
      "  DeprecationWarning)\n"
     ]
    }
   ],
   "source": [
    "# build a classifier\n",
    "reg = RandomForestRegressor(n_jobs = -1)\n",
    "        \n",
    "# use a full grid over all parameters\n",
    "params = {\"max_depth\": [15, 20, 25, 30],\n",
    "          \"min_samples_leaf\": [2, 3, 4],\n",
    "          \"min_samples_split\": [0.04, 0.03, 0.02, 0.01],\n",
    "          \"n_estimators\": [100, 150, 200],\n",
    "          \"criterion\": ['mse']\n",
    "         }\n",
    "\n",
    "# run RandomizedSearchCV\n",
    "rand_search = RandomizedSearchCV(reg, params, cv = 3, n_jobs=-1, n_iter=12)\n",
    "start = time()\n",
    "rand_search.fit(data.train_feature_df, data.train_outcome_df.iloc[:,0])\n",
    "\n",
    "print(\"GridSearchCV took %.2f seconds for %d candidate parameter settings.\"\n",
    "      % (time() - start, len(rand_search.grid_scores_)))"
   ]
  },
  {
   "cell_type": "code",
   "execution_count": 127,
   "metadata": {
    "scrolled": true
   },
   "outputs": [
    {
     "name": "stderr",
     "output_type": "stream",
     "text": [
      "C:\\Users\\Kevin\\Anaconda3\\lib\\site-packages\\sklearn\\model_selection\\_search.py:747: DeprecationWarning: The grid_scores_ attribute was deprecated in version 0.18 in favor of the more elaborate cv_results_ attribute. The grid_scores_ attribute will not be available from 0.20\n",
      "  DeprecationWarning)\n"
     ]
    },
    {
     "data": {
      "text/plain": [
       "[mean: -0.36838, std: 0.20902, params: {'n_estimators': 150, 'min_samples_split': 0.03, 'min_samples_leaf': 2, 'max_depth': 20, 'criterion': 'mse'},\n",
       " mean: -0.32594, std: 0.13028, params: {'n_estimators': 200, 'min_samples_split': 0.03, 'min_samples_leaf': 4, 'max_depth': 15, 'criterion': 'mse'},\n",
       " mean: -0.42090, std: 0.24426, params: {'n_estimators': 100, 'min_samples_split': 0.04, 'min_samples_leaf': 3, 'max_depth': 25, 'criterion': 'mse'},\n",
       " mean: -0.42874, std: 0.27780, params: {'n_estimators': 150, 'min_samples_split': 0.03, 'min_samples_leaf': 4, 'max_depth': 30, 'criterion': 'mse'},\n",
       " mean: -0.43559, std: 0.27153, params: {'n_estimators': 200, 'min_samples_split': 0.04, 'min_samples_leaf': 2, 'max_depth': 20, 'criterion': 'mse'},\n",
       " mean: -0.43970, std: 0.19346, params: {'n_estimators': 100, 'min_samples_split': 0.04, 'min_samples_leaf': 4, 'max_depth': 20, 'criterion': 'mse'},\n",
       " mean: -0.37802, std: 0.21315, params: {'n_estimators': 150, 'min_samples_split': 0.04, 'min_samples_leaf': 2, 'max_depth': 20, 'criterion': 'mse'},\n",
       " mean: -0.36008, std: 0.11049, params: {'n_estimators': 100, 'min_samples_split': 0.04, 'min_samples_leaf': 3, 'max_depth': 30, 'criterion': 'mse'},\n",
       " mean: -0.40781, std: 0.22564, params: {'n_estimators': 200, 'min_samples_split': 0.04, 'min_samples_leaf': 2, 'max_depth': 25, 'criterion': 'mse'},\n",
       " mean: -0.42705, std: 0.24452, params: {'n_estimators': 200, 'min_samples_split': 0.03, 'min_samples_leaf': 4, 'max_depth': 30, 'criterion': 'mse'},\n",
       " mean: -0.38095, std: 0.21170, params: {'n_estimators': 200, 'min_samples_split': 0.03, 'min_samples_leaf': 3, 'max_depth': 20, 'criterion': 'mse'},\n",
       " mean: -0.36496, std: 0.18686, params: {'n_estimators': 100, 'min_samples_split': 0.01, 'min_samples_leaf': 4, 'max_depth': 25, 'criterion': 'mse'}]"
      ]
     },
     "execution_count": 127,
     "metadata": {},
     "output_type": "execute_result"
    }
   ],
   "source": [
    "rand_search.grid_scores_"
   ]
  },
  {
   "cell_type": "code",
   "execution_count": 83,
   "metadata": {},
   "outputs": [
    {
     "data": {
      "text/plain": [
       "{'criterion': 'mse',\n",
       " 'max_depth': 30,\n",
       " 'min_samples_leaf': 3,\n",
       " 'min_samples_split': 0.02,\n",
       " 'n_estimators': 100}"
      ]
     },
     "execution_count": 83,
     "metadata": {},
     "output_type": "execute_result"
    }
   ],
   "source": [
    "rand_search.best_params_"
   ]
  },
  {
   "cell_type": "code",
   "execution_count": null,
   "metadata": {
    "collapsed": true
   },
   "outputs": [],
   "source": []
  },
  {
   "cell_type": "code",
   "execution_count": 242,
   "metadata": {},
   "outputs": [
    {
     "data": {
      "text/plain": [
       "RandomForestRegressor(bootstrap=True, criterion='mse', max_depth=15,\n",
       "           max_features='auto', max_leaf_nodes=None,\n",
       "           min_impurity_decrease=0.0, min_impurity_split=None,\n",
       "           min_samples_leaf=4, min_samples_split=0.03,\n",
       "           min_weight_fraction_leaf=0.0, n_estimators=200, n_jobs=1,\n",
       "           oob_score=False, random_state=None, verbose=0, warm_start=False)"
      ]
     },
     "execution_count": 242,
     "metadata": {},
     "output_type": "execute_result"
    }
   ],
   "source": [
    "regressor = RandomForestRegressor(n_estimators=200, max_depth=15, min_samples_leaf=4, min_samples_split = 0.03)\n",
    "regressor.fit(data.train_feature_df, data.train_outcome_df.iloc[:,0])"
   ]
  },
  {
   "cell_type": "code",
   "execution_count": 243,
   "metadata": {
    "collapsed": true
   },
   "outputs": [],
   "source": [
    "preds_regressor = pred_to_df(regressor, data.train_feature_df)        #Visulize training data\n",
    "preds_regressor.columns = ['Prediction']"
   ]
  },
  {
   "cell_type": "code",
   "execution_count": 244,
   "metadata": {},
   "outputs": [
    {
     "data": {
      "image/png": "[encoded data removed]",
      "text/plain": [
       "<matplotlib.figure.Figure at 0x22874678160>"
      ]
     },
     "metadata": {},
     "output_type": "display_data"
    }
   ],
   "source": [
    "plt.figure(figsize=(20, 20))\n",
    "\n",
    "plt.scatter(data.train_outcome_df, preds_regressor, alpha= 0.5)\n",
    "\n",
    "plt.plot([0, 1], [0, 1], color='k', linestyle='-', linewidth=1)\n",
    "plt.show()"
   ]
  },
  {
   "cell_type": "code",
   "execution_count": 245,
   "metadata": {},
   "outputs": [
    {
     "data": {
      "text/plain": [
       "0.02861343514598411"
      ]
     },
     "execution_count": 245,
     "metadata": {},
     "output_type": "execute_result"
    }
   ],
   "source": [
    "MSE = mean_squared_error(data.train_outcome_df, preds_regressor)\n",
    "MSE ** 0.5"
   ]
  },
  {
   "cell_type": "code",
   "execution_count": null,
   "metadata": {
    "collapsed": true
   },
   "outputs": [],
   "source": [
    "prediction = pred_to_df(regressor, data.test_feature_df) \n",
    "prediction.to_csv('result.csv', sep='\\t', index = False)"
   ]
  },
  {
   "cell_type": "code",
   "execution_count": null,
   "metadata": {
    "collapsed": true
   },
   "outputs": [],
   "source": []
  },
  {
   "cell_type": "code",
   "execution_count": null,
   "metadata": {
    "collapsed": true
   },
   "outputs": [],
   "source": []
  },
  {
   "cell_type": "code",
   "execution_count": null,
   "metadata": {
    "collapsed": true
   },
   "outputs": [],
   "source": []
  },
  {
   "cell_type": "code",
   "execution_count": null,
   "metadata": {
    "collapsed": true
   },
   "outputs": [],
   "source": []
  },
  {
   "cell_type": "markdown",
   "metadata": {},
   "source": [
    "# XGBOOST TREE WITH UNFILLED DATA"
   ]
  },
  {
   "cell_type": "code",
   "execution_count": 64,
   "metadata": {},
   "outputs": [
    {
     "data": {
      "text/plain": [
       "RandomizedSearchCV(cv=10, error_score='raise',\n",
       "          estimator=XGBRegressor(base_score=0.5, booster='gbtree', colsample_bylevel=1,\n",
       "       colsample_bytree=1, gamma=0, learning_rate=0.1, max_delta_step=0,\n",
       "       max_depth=3, min_child_weight=1, missing=None, n_estimators=100,\n",
       "       n_jobs=-1, nthread=None, objective='reg:linear', random_state=0,\n",
       "       reg_alpha=0, reg_lambda=1, scale_pos_weight=1, seed=None,\n",
       "       silent=True, subsample=1),\n",
       "          fit_params=None, iid=True, n_iter=200, n_jobs=-1,\n",
       "          param_distributions={'n_estimators': [40, 50, 60], 'max_depth': <scipy.stats._distn_infrastructure.rv_frozen object at 0x000001A2F657B668>, 'learning_rate': <scipy.stats._distn_infrastructure.rv_frozen object at 0x000001A2F657B7B8>, 'colsample_bytree': <scipy.stats._distn_infrastructure.rv_frozen ob...t at 0x000001A2F657BC88>, 'min_child_weight': [0, 1, 2, 3, 4, 5], 'max_delta_step': [0, 1, 2, 3, 4]},\n",
       "          pre_dispatch='2*n_jobs', random_state=None, refit=True,\n",
       "          return_train_score=True, scoring=None, verbose=0)"
      ]
     },
     "execution_count": 64,
     "metadata": {},
     "output_type": "execute_result"
    }
   ],
   "source": [
    "params = {\n",
    "    \"n_estimators\": [40, 50, 60],\n",
    "    \"max_depth\": st.randint(3, 30),\n",
    "    \"learning_rate\": st.uniform(0.001, 0.01),\n",
    "    #\"learning_rate\": st.uniform(0.006, 0.006),\n",
    "    \"colsample_bytree\": st.uniform(0.60, 0.40),\n",
    "    #\"colsample_bytree\": st.uniform(0.80, 0.20),\n",
    "    \"subsample\": st.uniform(0.7, 0.3),\n",
    "    \"gamma\": st.uniform(0.2, 1.6),\n",
    "    #\"gamma\": st.uniform(0.2, 0.3),\n",
    "    \"min_child_weight\": [0,1,2,3,4,5],\n",
    "    \"max_delta_step\": [0, 1, 2, 3,4]\n",
    "}\n",
    "\n",
    "model = XGBRegressor(n_jobs = -1) # nthread deprecated\n",
    "\n",
    "gs = RandomizedSearchCV(model, params, n_jobs=-1, n_iter=200, cv = 10)\n",
    "\n",
    "gs.fit(data.train_feature_df, data.train_outcome_df.iloc[:,0])"
   ]
  },
  {
   "cell_type": "code",
   "execution_count": 65,
   "metadata": {
    "scrolled": true
   },
   "outputs": [
    {
     "name": "stderr",
     "output_type": "stream",
     "text": [
      "C:\\Users\\Kevin\\Anaconda3\\lib\\site-packages\\sklearn\\model_selection\\_search.py:747: DeprecationWarning: The grid_scores_ attribute was deprecated in version 0.18 in favor of the more elaborate cv_results_ attribute. The grid_scores_ attribute will not be available from 0.20\n",
      "  DeprecationWarning)\n"
     ]
    },
    {
     "data": {
      "text/plain": [
       "[mean: -0.39539, std: 0.69091, params: {'colsample_bytree': 0.6929986560846283, 'gamma': 1.1661138379597784, 'learning_rate': 0.0039979549893095273, 'max_delta_step': 3, 'max_depth': 12, 'min_child_weight': 5, 'n_estimators': 50, 'subsample': 0.9120796563686806},\n",
       " mean: -0.34734, std: 0.60920, params: {'colsample_bytree': 0.87223361250671383, 'gamma': 0.77307471800295491, 'learning_rate': 0.0034124857618450036, 'max_delta_step': 2, 'max_depth': 3, 'min_child_weight': 3, 'n_estimators': 60, 'subsample': 0.74106587411041636},\n",
       " mean: -0.37146, std: 0.71841, params: {'colsample_bytree': 0.88448810126464705, 'gamma': 0.55140828109191431, 'learning_rate': 0.0061699876913751464, 'max_delta_step': 2, 'max_depth': 20, 'min_child_weight': 0, 'n_estimators': 40, 'subsample': 0.99639406490536575},\n",
       " mean: -0.38953, std: 0.53407, params: {'colsample_bytree': 0.87353400834748351, 'gamma': 0.74292498627410075, 'learning_rate': 0.0016680076948038238, 'max_delta_step': 2, 'max_depth': 27, 'min_child_weight': 0, 'n_estimators': 40, 'subsample': 0.97028010556996169},\n",
       " mean: -0.33755, std: 0.63502, params: {'colsample_bytree': 0.8754507026031938, 'gamma': 1.3262444489347729, 'learning_rate': 0.0085968839737211797, 'max_delta_step': 2, 'max_depth': 27, 'min_child_weight': 5, 'n_estimators': 40, 'subsample': 0.83624922610270669},\n",
       " mean: -0.33299, std: 0.71465, params: {'colsample_bytree': 0.98445764017390891, 'gamma': 1.3026333979634364, 'learning_rate': 0.0082977133046689792, 'max_delta_step': 1, 'max_depth': 23, 'min_child_weight': 3, 'n_estimators': 60, 'subsample': 0.84955535163241724},\n",
       " mean: -0.34387, std: 0.78848, params: {'colsample_bytree': 0.92888758119378689, 'gamma': 1.1195583594007219, 'learning_rate': 0.0097205197097809184, 'max_delta_step': 4, 'max_depth': 5, 'min_child_weight': 0, 'n_estimators': 60, 'subsample': 0.83974192408270198},\n",
       " mean: -0.37667, std: 0.55649, params: {'colsample_bytree': 0.83980396300927274, 'gamma': 1.0395089114021834, 'learning_rate': 0.0021039464608332372, 'max_delta_step': 4, 'max_depth': 3, 'min_child_weight': 3, 'n_estimators': 50, 'subsample': 0.91503636381919029},\n",
       " mean: -0.38816, std: 0.53676, params: {'colsample_bytree': 0.67087741185837102, 'gamma': 1.7812531234573568, 'learning_rate': 0.0053482580174074711, 'max_delta_step': 1, 'max_depth': 26, 'min_child_weight': 2, 'n_estimators': 40, 'subsample': 0.76638069478977588},\n",
       " mean: -0.36365, std: 0.58659, params: {'colsample_bytree': 0.92007492874812469, 'gamma': 1.6254189656454219, 'learning_rate': 0.0048696474247165496, 'max_delta_step': 2, 'max_depth': 20, 'min_child_weight': 3, 'n_estimators': 50, 'subsample': 0.93259081658710064},\n",
       " mean: -0.38082, std: 0.58075, params: {'colsample_bytree': 0.88192637104981841, 'gamma': 1.0590169793889606, 'learning_rate': 0.0030448685460056461, 'max_delta_step': 0, 'max_depth': 27, 'min_child_weight': 2, 'n_estimators': 40, 'subsample': 0.95880333866142498},\n",
       " mean: -0.38837, std: 0.71683, params: {'colsample_bytree': 0.87909029000611183, 'gamma': 0.54702418712549505, 'learning_rate': 0.0038054881886185102, 'max_delta_step': 0, 'max_depth': 27, 'min_child_weight': 3, 'n_estimators': 60, 'subsample': 0.88576096042989472},\n",
       " mean: -0.39217, std: 0.61488, params: {'colsample_bytree': 0.74082733732322237, 'gamma': 1.1349357946073559, 'learning_rate': 0.0033089603430202876, 'max_delta_step': 3, 'max_depth': 9, 'min_child_weight': 1, 'n_estimators': 40, 'subsample': 0.93225554138847244},\n",
       " mean: -0.36822, std: 0.70084, params: {'colsample_bytree': 0.87923465133470846, 'gamma': 1.0356405858621656, 'learning_rate': 0.0044927479090395937, 'max_delta_step': 3, 'max_depth': 29, 'min_child_weight': 5, 'n_estimators': 60, 'subsample': 0.81372512593700441},\n",
       " mean: -0.36837, std: 0.78176, params: {'colsample_bytree': 0.85733915832650176, 'gamma': 0.27267956032388041, 'learning_rate': 0.007378518413227543, 'max_delta_step': 3, 'max_depth': 28, 'min_child_weight': 2, 'n_estimators': 50, 'subsample': 0.73423225039577977},\n",
       " mean: -0.35269, std: 0.57982, params: {'colsample_bytree': 0.63816996732211118, 'gamma': 1.3889899094601119, 'learning_rate': 0.0058794223950990494, 'max_delta_step': 2, 'max_depth': 3, 'min_child_weight': 1, 'n_estimators': 50, 'subsample': 0.74137075949765174},\n",
       " mean: -0.35790, std: 0.58298, params: {'colsample_bytree': 0.89294198016505466, 'gamma': 1.5669418691370693, 'learning_rate': 0.0050702849544694319, 'max_delta_step': 3, 'max_depth': 11, 'min_child_weight': 4, 'n_estimators': 50, 'subsample': 0.85256087572640649},\n",
       " mean: -0.51194, std: 1.15767, params: {'colsample_bytree': 0.80045904621448349, 'gamma': 0.39557851922360943, 'learning_rate': 0.010117838433658828, 'max_delta_step': 2, 'max_depth': 18, 'min_child_weight': 4, 'n_estimators': 50, 'subsample': 0.89633009395351548},\n",
       " mean: -0.37031, std: 0.64339, params: {'colsample_bytree': 0.82011773383930475, 'gamma': 0.35782402441576622, 'learning_rate': 0.0049320261586397298, 'max_delta_step': 4, 'max_depth': 10, 'min_child_weight': 3, 'n_estimators': 40, 'subsample': 0.70497748848665731},\n",
       " mean: -0.52945, std: 1.13827, params: {'colsample_bytree': 0.61353812533894614, 'gamma': 0.93405481557275105, 'learning_rate': 0.01063937149164159, 'max_delta_step': 0, 'max_depth': 10, 'min_child_weight': 5, 'n_estimators': 60, 'subsample': 0.99254770938058501},\n",
       " mean: -0.39949, std: 0.80739, params: {'colsample_bytree': 0.68725635359409887, 'gamma': 0.88223032702203175, 'learning_rate': 0.0082040261298920517, 'max_delta_step': 3, 'max_depth': 24, 'min_child_weight': 5, 'n_estimators': 40, 'subsample': 0.74996141562628194},\n",
       " mean: -0.43466, std: 0.96157, params: {'colsample_bytree': 0.64899687223155555, 'gamma': 0.91053387425773047, 'learning_rate': 0.010826999053923515, 'max_delta_step': 1, 'max_depth': 4, 'min_child_weight': 0, 'n_estimators': 50, 'subsample': 0.74161241602913364},\n",
       " mean: -0.40593, std: 0.55393, params: {'colsample_bytree': 0.7227372673312823, 'gamma': 1.1891002577265388, 'learning_rate': 0.0013184113036613934, 'max_delta_step': 3, 'max_depth': 5, 'min_child_weight': 2, 'n_estimators': 50, 'subsample': 0.98853555183008091},\n",
       " mean: -0.42365, std: 0.90764, params: {'colsample_bytree': 0.81759656682469228, 'gamma': 0.38443103431434039, 'learning_rate': 0.0091909628073283504, 'max_delta_step': 4, 'max_depth': 27, 'min_child_weight': 1, 'n_estimators': 40, 'subsample': 0.97320900980620773},\n",
       " mean: -0.41078, std: 0.88419, params: {'colsample_bytree': 0.98538180806385145, 'gamma': 0.9266991186578053, 'learning_rate': 0.010228291131745903, 'max_delta_step': 4, 'max_depth': 17, 'min_child_weight': 0, 'n_estimators': 40, 'subsample': 0.89995843780492946},\n",
       " mean: -0.39524, std: 0.53095, params: {'colsample_bytree': 0.95858584651625522, 'gamma': 1.5185453894881229, 'learning_rate': 0.0024141872644124684, 'max_delta_step': 2, 'max_depth': 22, 'min_child_weight': 5, 'n_estimators': 50, 'subsample': 0.74742546251321929},\n",
       " mean: -0.36775, std: 0.63938, params: {'colsample_bytree': 0.94725910601064034, 'gamma': 0.75295183008794253, 'learning_rate': 0.0050318807141725222, 'max_delta_step': 1, 'max_depth': 19, 'min_child_weight': 0, 'n_estimators': 40, 'subsample': 0.77509628539628883},\n",
       " mean: -0.39527, std: 0.57259, params: {'colsample_bytree': 0.91197598652075196, 'gamma': 1.7191962246548353, 'learning_rate': 0.0079771699742095976, 'max_delta_step': 0, 'max_depth': 5, 'min_child_weight': 0, 'n_estimators': 50, 'subsample': 0.72296330115065788},\n",
       " mean: -0.36587, std: 0.63855, params: {'colsample_bytree': 0.8377627229424518, 'gamma': 0.47189634994045981, 'learning_rate': 0.0032821947261886513, 'max_delta_step': 1, 'max_depth': 10, 'min_child_weight': 5, 'n_estimators': 60, 'subsample': 0.75243443079009409},\n",
       " mean: -0.37963, std: 0.74452, params: {'colsample_bytree': 0.86672344790541378, 'gamma': 0.25349113230357256, 'learning_rate': 0.0081876371811848841, 'max_delta_step': 3, 'max_depth': 27, 'min_child_weight': 5, 'n_estimators': 40, 'subsample': 0.71829011919566355},\n",
       " mean: -0.40223, std: 0.56257, params: {'colsample_bytree': 0.65966248377957104, 'gamma': 0.61476210938899034, 'learning_rate': 0.0019528980674559751, 'max_delta_step': 0, 'max_depth': 18, 'min_child_weight': 2, 'n_estimators': 40, 'subsample': 0.941581784840128},\n",
       " mean: -0.43316, std: 0.94752, params: {'colsample_bytree': 0.70070284811881456, 'gamma': 0.67493147578426138, 'learning_rate': 0.0088886153426981293, 'max_delta_step': 4, 'max_depth': 12, 'min_child_weight': 4, 'n_estimators': 50, 'subsample': 0.75978156410529363},\n",
       " mean: -0.38317, std: 0.83160, params: {'colsample_bytree': 0.85832445746385044, 'gamma': 0.22549425262271969, 'learning_rate': 0.0074549067639431473, 'max_delta_step': 4, 'max_depth': 19, 'min_child_weight': 4, 'n_estimators': 60, 'subsample': 0.72033323931421056},\n",
       " mean: -0.43376, std: 0.89629, params: {'colsample_bytree': 0.6717322877001265, 'gamma': 0.25434175272582848, 'learning_rate': 0.0096431925416164584, 'max_delta_step': 2, 'max_depth': 24, 'min_child_weight': 4, 'n_estimators': 40, 'subsample': 0.88220579433021196},\n",
       " mean: -0.41035, std: 0.70510, params: {'colsample_bytree': 0.6589460436879635, 'gamma': 0.2570958549526422, 'learning_rate': 0.0035326398679661544, 'max_delta_step': 1, 'max_depth': 8, 'min_child_weight': 1, 'n_estimators': 60, 'subsample': 0.90122721071103962},\n",
       " mean: -0.44245, std: 0.92049, params: {'colsample_bytree': 0.66742390182616151, 'gamma': 0.8185138218714918, 'learning_rate': 0.0069128394783239035, 'max_delta_step': 3, 'max_depth': 13, 'min_child_weight': 1, 'n_estimators': 50, 'subsample': 0.91596333373990502},\n",
       " mean: -0.37823, std: 0.59679, params: {'colsample_bytree': 0.73153629780325224, 'gamma': 1.342538949645377, 'learning_rate': 0.0034283530786942489, 'max_delta_step': 0, 'max_depth': 24, 'min_child_weight': 0, 'n_estimators': 50, 'subsample': 0.89555419458359264},\n",
       " mean: -0.35593, std: 0.63730, params: {'colsample_bytree': 0.64533684778357203, 'gamma': 1.435239387181233, 'learning_rate': 0.0073227162624365074, 'max_delta_step': 0, 'max_depth': 28, 'min_child_weight': 3, 'n_estimators': 40, 'subsample': 0.96974935979635335},\n",
       " mean: -0.36146, std: 0.56534, params: {'colsample_bytree': 0.82706867090046776, 'gamma': 1.3903609247636075, 'learning_rate': 0.0030356903188101252, 'max_delta_step': 1, 'max_depth': 25, 'min_child_weight': 0, 'n_estimators': 60, 'subsample': 0.8593375296469089},\n",
       " mean: -0.47206, std: 0.99986, params: {'colsample_bytree': 0.71437485478307261, 'gamma': 0.88776403612873667, 'learning_rate': 0.0083193182394313506, 'max_delta_step': 4, 'max_depth': 27, 'min_child_weight': 0, 'n_estimators': 50, 'subsample': 0.87410942343961917},\n",
       " mean: -0.39281, std: 0.80746, params: {'colsample_bytree': 0.60125282177932859, 'gamma': 1.3684755255822636, 'learning_rate': 0.0094598719132705962, 'max_delta_step': 3, 'max_depth': 20, 'min_child_weight': 1, 'n_estimators': 50, 'subsample': 0.96575303698356163},\n",
       " mean: -0.40651, std: 0.79409, params: {'colsample_bytree': 0.76679818838747071, 'gamma': 0.52236246046107726, 'learning_rate': 0.0065949597873011878, 'max_delta_step': 0, 'max_depth': 10, 'min_child_weight': 4, 'n_estimators': 40, 'subsample': 0.96317454696997173},\n",
       " mean: -0.35932, std: 0.58625, params: {'colsample_bytree': 0.82290332497439633, 'gamma': 1.554727249026808, 'learning_rate': 0.0080510587863467532, 'max_delta_step': 3, 'max_depth': 10, 'min_child_weight': 0, 'n_estimators': 60, 'subsample': 0.72095924230544517},\n",
       " mean: -0.37642, std: 0.70050, params: {'colsample_bytree': 0.68855527721868404, 'gamma': 1.4528005628849632, 'learning_rate': 0.0074628388130328896, 'max_delta_step': 1, 'max_depth': 22, 'min_child_weight': 5, 'n_estimators': 50, 'subsample': 0.98409520942668527},\n",
       " mean: -0.43107, std: 0.83630, params: {'colsample_bytree': 0.64103463575873854, 'gamma': 0.5805743893611709, 'learning_rate': 0.0051413427480273529, 'max_delta_step': 3, 'max_depth': 11, 'min_child_weight': 3, 'n_estimators': 60, 'subsample': 0.71356422596044355},\n",
       " mean: -0.44760, std: 1.01051, params: {'colsample_bytree': 0.61092310601954025, 'gamma': 0.9324922573143859, 'learning_rate': 0.01063904550277496, 'max_delta_step': 0, 'max_depth': 14, 'min_child_weight': 3, 'n_estimators': 60, 'subsample': 0.7470879836888632},\n",
       " mean: -0.46400, std: 1.09981, params: {'colsample_bytree': 0.90569906627487995, 'gamma': 0.54697545018134974, 'learning_rate': 0.009937265572788602, 'max_delta_step': 1, 'max_depth': 13, 'min_child_weight': 4, 'n_estimators': 60, 'subsample': 0.72905329267890007},\n",
       " mean: -0.34039, std: 0.70525, params: {'colsample_bytree': 0.8783419389510021, 'gamma': 1.2918263949647744, 'learning_rate': 0.010247240059542136, 'max_delta_step': 3, 'max_depth': 9, 'min_child_weight': 0, 'n_estimators': 50, 'subsample': 0.80078411573947661},\n",
       " mean: -0.51258, std: 1.13003, params: {'colsample_bytree': 0.61482327990591989, 'gamma': 0.65080962789521268, 'learning_rate': 0.0085464321701647951, 'max_delta_step': 1, 'max_depth': 14, 'min_child_weight': 2, 'n_estimators': 60, 'subsample': 0.89359452021046748},\n",
       " mean: -0.40283, std: 0.50861, params: {'colsample_bytree': 0.72123190275476545, 'gamma': 1.7101639640112827, 'learning_rate': 0.0010571522457366537, 'max_delta_step': 3, 'max_depth': 21, 'min_child_weight': 2, 'n_estimators': 50, 'subsample': 0.95710722983272156},\n",
       " mean: -0.36619, std: 0.53577, params: {'colsample_bytree': 0.60342305673909158, 'gamma': 1.6616123512268262, 'learning_rate': 0.0057463065569207895, 'max_delta_step': 0, 'max_depth': 4, 'min_child_weight': 3, 'n_estimators': 40, 'subsample': 0.77643198954369774},\n",
       " mean: -0.41504, std: 0.51225, params: {'colsample_bytree': 0.6434774645679443, 'gamma': 1.7984974299818459, 'learning_rate': 0.0017746681198117977, 'max_delta_step': 3, 'max_depth': 18, 'min_child_weight': 3, 'n_estimators': 60, 'subsample': 0.70970983082044514},\n",
       " mean: -0.36187, std: 0.58024, params: {'colsample_bytree': 0.62336703048477593, 'gamma': 1.6261593181393288, 'learning_rate': 0.0079990293462062871, 'max_delta_step': 0, 'max_depth': 26, 'min_child_weight': 0, 'n_estimators': 50, 'subsample': 0.75144464113415821},\n",
       " mean: -0.39268, std: 0.88843, params: {'colsample_bytree': 0.94001551228581204, 'gamma': 1.0178014962141562, 'learning_rate': 0.010217260445603196, 'max_delta_step': 4, 'max_depth': 8, 'min_child_weight': 0, 'n_estimators': 50, 'subsample': 0.93923437711168201},\n",
       " mean: -0.32821, std: 0.69189, params: {'colsample_bytree': 0.95490733791777072, 'gamma': 1.1695031618038636, 'learning_rate': 0.007423104679892544, 'max_delta_step': 2, 'max_depth': 18, 'min_child_weight': 4, 'n_estimators': 60, 'subsample': 0.80729513590976365},\n",
       " mean: -0.38047, std: 0.53451, params: {'colsample_bytree': 0.81700657812676192, 'gamma': 1.7444216692187258, 'learning_rate': 0.0032601028798699841, 'max_delta_step': 4, 'max_depth': 8, 'min_child_weight': 5, 'n_estimators': 50, 'subsample': 0.89596990769733598},\n",
       " mean: -0.44919, std: 0.88092, params: {'colsample_bytree': 0.64584830210541699, 'gamma': 0.46198866655618487, 'learning_rate': 0.0083164068567079634, 'max_delta_step': 1, 'max_depth': 5, 'min_child_weight': 4, 'n_estimators': 40, 'subsample': 0.89111191065931461},\n",
       " mean: -0.37349, std: 0.56194, params: {'colsample_bytree': 0.97412864766498908, 'gamma': 1.3777656782129839, 'learning_rate': 0.0030542916116743871, 'max_delta_step': 4, 'max_depth': 5, 'min_child_weight': 2, 'n_estimators': 50, 'subsample': 0.82222049787529983},\n",
       " mean: -0.40491, std: 0.89577, params: {'colsample_bytree': 0.78229459776762411, 'gamma': 1.0392766626835228, 'learning_rate': 0.010641103310755597, 'max_delta_step': 4, 'max_depth': 24, 'min_child_weight': 5, 'n_estimators': 60, 'subsample': 0.79904833801261399},\n",
       " mean: -0.36758, std: 0.59739, params: {'colsample_bytree': 0.74831231142558186, 'gamma': 1.0655545337716343, 'learning_rate': 0.0034720240041912014, 'max_delta_step': 2, 'max_depth': 12, 'min_child_weight': 1, 'n_estimators': 50, 'subsample': 0.79512241680008167},\n",
       " mean: -0.38352, std: 0.68042, params: {'colsample_bytree': 0.77559930188662352, 'gamma': 0.38462364046924269, 'learning_rate': 0.0044117732735695567, 'max_delta_step': 2, 'max_depth': 7, 'min_child_weight': 5, 'n_estimators': 50, 'subsample': 0.83474544394438177},\n",
       " mean: -0.40011, std: 0.89621, params: {'colsample_bytree': 0.77784248170944204, 'gamma': 0.88133220843948235, 'learning_rate': 0.010793872696224085, 'max_delta_step': 3, 'max_depth': 12, 'min_child_weight': 3, 'n_estimators': 60, 'subsample': 0.73620767363777473},\n",
       " mean: -0.35759, std: 0.66758, params: {'colsample_bytree': 0.83712577876439931, 'gamma': 1.5255573939206879, 'learning_rate': 0.010242490347311145, 'max_delta_step': 4, 'max_depth': 17, 'min_child_weight': 1, 'n_estimators': 50, 'subsample': 0.81232180178500513},\n",
       " mean: -0.35316, std: 0.60750, params: {'colsample_bytree': 0.99190649688054533, 'gamma': 1.1982499290484039, 'learning_rate': 0.0041135564337009926, 'max_delta_step': 3, 'max_depth': 29, 'min_child_weight': 0, 'n_estimators': 60, 'subsample': 0.75581625058797042},\n",
       " mean: -0.50424, std: 1.09501, params: {'colsample_bytree': 0.74669159789349415, 'gamma': 0.44965243747904182, 'learning_rate': 0.010837956511731753, 'max_delta_step': 1, 'max_depth': 25, 'min_child_weight': 1, 'n_estimators': 40, 'subsample': 0.87469441660249925},\n",
       " mean: -0.39444, std: 0.51692, params: {'colsample_bytree': 0.62761850798868135, 'gamma': 1.379783949848338, 'learning_rate': 0.0014131946373680394, 'max_delta_step': 4, 'max_depth': 19, 'min_child_weight': 1, 'n_estimators': 60, 'subsample': 0.76649674781655897},\n",
       " mean: -0.47252, std: 1.05198, params: {'colsample_bytree': 0.87814722014284508, 'gamma': 0.60093743430436197, 'learning_rate': 0.007500918540172037, 'max_delta_step': 2, 'max_depth': 13, 'min_child_weight': 2, 'n_estimators': 60, 'subsample': 0.88153381561799904},\n",
       " mean: -0.38198, std: 0.62522, params: {'colsample_bytree': 0.80724111521930375, 'gamma': 1.2064617857043127, 'learning_rate': 0.003675064531736058, 'max_delta_step': 4, 'max_depth': 16, 'min_child_weight': 1, 'n_estimators': 40, 'subsample': 0.9879734023180351},\n",
       " mean: -0.39157, std: 0.52175, params: {'colsample_bytree': 0.92294664793309389, 'gamma': 1.1027665793847523, 'learning_rate': 0.0011772072113832557, 'max_delta_step': 4, 'max_depth': 6, 'min_child_weight': 1, 'n_estimators': 50, 'subsample': 0.88688371463297444},\n",
       " mean: -0.39155, std: 0.51441, params: {'colsample_bytree': 0.61202287705771996, 'gamma': 1.101874783096195, 'learning_rate': 0.0016059698752195518, 'max_delta_step': 1, 'max_depth': 23, 'min_child_weight': 4, 'n_estimators': 40, 'subsample': 0.72927723098648956},\n",
       " mean: -0.43342, std: 0.94473, params: {'colsample_bytree': 0.91506515975776792, 'gamma': 0.74349852359965984, 'learning_rate': 0.0096390386472065791, 'max_delta_step': 0, 'max_depth': 16, 'min_child_weight': 2, 'n_estimators': 40, 'subsample': 0.93410982927264119},\n",
       " mean: -0.34511, std: 0.71489, params: {'colsample_bytree': 0.96777731211496898, 'gamma': 0.87968994752792318, 'learning_rate': 0.0098992945042147458, 'max_delta_step': 2, 'max_depth': 12, 'min_child_weight': 3, 'n_estimators': 40, 'subsample': 0.75041551142475638},\n",
       " mean: -0.38311, std: 0.75989, params: {'colsample_bytree': 0.79373805193585345, 'gamma': 0.69349531761954286, 'learning_rate': 0.0052688709586200602, 'max_delta_step': 3, 'max_depth': 8, 'min_child_weight': 3, 'n_estimators': 60, 'subsample': 0.74599872261020406},\n",
       " mean: -0.45404, std: 1.04931, params: {'colsample_bytree': 0.8330570364888561, 'gamma': 0.81113503649309893, 'learning_rate': 0.010664078002270407, 'max_delta_step': 3, 'max_depth': 4, 'min_child_weight': 1, 'n_estimators': 50, 'subsample': 0.87191987030187301},\n",
       " mean: -0.38581, std: 0.51377, params: {'colsample_bytree': 0.85957050040059813, 'gamma': 1.2191855554093434, 'learning_rate': 0.0012916836318066507, 'max_delta_step': 4, 'max_depth': 8, 'min_child_weight': 3, 'n_estimators': 50, 'subsample': 0.76839243008296043},\n",
       " mean: -0.40082, std: 0.52783, params: {'colsample_bytree': 0.62766216665236818, 'gamma': 0.6759932680286993, 'learning_rate': 0.0014487454252390367, 'max_delta_step': 3, 'max_depth': 5, 'min_child_weight': 5, 'n_estimators': 40, 'subsample': 0.80863242220899767},\n",
       " mean: -0.52316, std: 1.25965, params: {'colsample_bytree': 0.62566766216805647, 'gamma': 0.64825148015451273, 'learning_rate': 0.010562326771662148, 'max_delta_step': 3, 'max_depth': 19, 'min_child_weight': 4, 'n_estimators': 60, 'subsample': 0.80633493254273236},\n",
       " mean: -0.33378, std: 0.61816, params: {'colsample_bytree': 0.76202339382514572, 'gamma': 1.4777828929481391, 'learning_rate': 0.010742036423284185, 'max_delta_step': 4, 'max_depth': 28, 'min_child_weight': 1, 'n_estimators': 40, 'subsample': 0.85181814001994161},\n",
       " mean: -0.39374, std: 0.83582, params: {'colsample_bytree': 0.69024082542687748, 'gamma': 0.72429547088718405, 'learning_rate': 0.0095433217753336103, 'max_delta_step': 0, 'max_depth': 17, 'min_child_weight': 5, 'n_estimators': 40, 'subsample': 0.8480549949381655},\n",
       " mean: -0.36819, std: 0.51975, params: {'colsample_bytree': 0.63712289336402916, 'gamma': 1.4794441720309937, 'learning_rate': 0.0029875138359245646, 'max_delta_step': 0, 'max_depth': 4, 'min_child_weight': 5, 'n_estimators': 40, 'subsample': 0.88940976168878683},\n",
       " mean: -0.50474, std: 1.15024, params: {'colsample_bytree': 0.66614433723339062, 'gamma': 0.67099523190694266, 'learning_rate': 0.010835072601139101, 'max_delta_step': 2, 'max_depth': 11, 'min_child_weight': 5, 'n_estimators': 50, 'subsample': 0.8572220871218732},\n",
       " mean: -0.38102, std: 0.72784, params: {'colsample_bytree': 0.60420560908696841, 'gamma': 1.4923645132175076, 'learning_rate': 0.009164135544108578, 'max_delta_step': 1, 'max_depth': 22, 'min_child_weight': 1, 'n_estimators': 50, 'subsample': 0.98992624508070537},\n",
       " mean: -0.36172, std: 0.63060, params: {'colsample_bytree': 0.95128500800681326, 'gamma': 0.60224493628901832, 'learning_rate': 0.0046716672546144146, 'max_delta_step': 4, 'max_depth': 25, 'min_child_weight': 0, 'n_estimators': 40, 'subsample': 0.90380425215762905},\n",
       " mean: -0.36061, std: 0.58973, params: {'colsample_bytree': 0.82358611208116894, 'gamma': 1.7372548933218364, 'learning_rate': 0.0070372632792412215, 'max_delta_step': 2, 'max_depth': 13, 'min_child_weight': 0, 'n_estimators': 50, 'subsample': 0.85694621573936491},\n",
       " mean: -0.41832, std: 0.91722, params: {'colsample_bytree': 0.84077165918224894, 'gamma': 0.67964870791069709, 'learning_rate': 0.0096576434041947788, 'max_delta_step': 3, 'max_depth': 4, 'min_child_weight': 1, 'n_estimators': 40, 'subsample': 0.8230117599003578},\n",
       " mean: -0.43377, std: 0.95480, params: {'colsample_bytree': 0.60288473010964283, 'gamma': 0.50478526464184759, 'learning_rate': 0.010287604632739051, 'max_delta_step': 1, 'max_depth': 22, 'min_child_weight': 0, 'n_estimators': 40, 'subsample': 0.8265268247816947},\n",
       " mean: -0.41737, std: 0.92672, params: {'colsample_bytree': 0.77180565602265405, 'gamma': 0.89072924498521822, 'learning_rate': 0.0074570901281849483, 'max_delta_step': 4, 'max_depth': 25, 'min_child_weight': 1, 'n_estimators': 60, 'subsample': 0.94581527807298116},\n",
       " mean: -0.37794, std: 0.56447, params: {'colsample_bytree': 0.84288556411375959, 'gamma': 1.3249725702973472, 'learning_rate': 0.0020652564167541435, 'max_delta_step': 2, 'max_depth': 16, 'min_child_weight': 1, 'n_estimators': 50, 'subsample': 0.95581029778445403},\n",
       " mean: -0.36698, std: 0.53556, params: {'colsample_bytree': 0.69454950417636907, 'gamma': 1.4809254698365022, 'learning_rate': 0.0031773959455511495, 'max_delta_step': 3, 'max_depth': 22, 'min_child_weight': 2, 'n_estimators': 50, 'subsample': 0.86913897524086592},\n",
       " mean: -0.48932, std: 1.01769, params: {'colsample_bytree': 0.61208363730613136, 'gamma': 0.23956926767419606, 'learning_rate': 0.0082613894355249365, 'max_delta_step': 3, 'max_depth': 19, 'min_child_weight': 2, 'n_estimators': 60, 'subsample': 0.92721797461733646},\n",
       " mean: -0.38212, std: 0.63349, params: {'colsample_bytree': 0.80198176444367741, 'gamma': 1.3951652928474196, 'learning_rate': 0.0036477559584351064, 'max_delta_step': 1, 'max_depth': 10, 'min_child_weight': 1, 'n_estimators': 50, 'subsample': 0.97200125325317321},\n",
       " mean: -0.35734, std: 0.68295, params: {'colsample_bytree': 0.88969907418701943, 'gamma': 1.0430275129869897, 'learning_rate': 0.007366296421918956, 'max_delta_step': 3, 'max_depth': 14, 'min_child_weight': 0, 'n_estimators': 40, 'subsample': 0.79890559890133428},\n",
       " mean: -0.35290, std: 0.55829, params: {'colsample_bytree': 0.70027876317865156, 'gamma': 1.6918399809201983, 'learning_rate': 0.005904055789621299, 'max_delta_step': 1, 'max_depth': 28, 'min_child_weight': 0, 'n_estimators': 50, 'subsample': 0.9198586929922844},\n",
       " mean: -0.39034, std: 0.52383, params: {'colsample_bytree': 0.62738184643711647, 'gamma': 1.5637472098847576, 'learning_rate': 0.0014959377002703436, 'max_delta_step': 0, 'max_depth': 5, 'min_child_weight': 3, 'n_estimators': 60, 'subsample': 0.95415509503122875},\n",
       " mean: -0.46652, std: 1.02269, params: {'colsample_bytree': 0.73358997874559917, 'gamma': 0.20317257704306346, 'learning_rate': 0.0079005062916213051, 'max_delta_step': 2, 'max_depth': 9, 'min_child_weight': 5, 'n_estimators': 60, 'subsample': 0.85444606850387017},\n",
       " mean: -0.51605, std: 1.10123, params: {'colsample_bytree': 0.74459437640920956, 'gamma': 0.30136383254372368, 'learning_rate': 0.0097629582155622924, 'max_delta_step': 1, 'max_depth': 4, 'min_child_weight': 5, 'n_estimators': 50, 'subsample': 0.9544542207632889},\n",
       " mean: -0.38967, std: 0.56535, params: {'colsample_bytree': 0.66745440211833984, 'gamma': 1.7966114701750457, 'learning_rate': 0.006149877952656293, 'max_delta_step': 3, 'max_depth': 29, 'min_child_weight': 3, 'n_estimators': 60, 'subsample': 0.76125205950274244},\n",
       " mean: -0.36613, std: 0.71695, params: {'colsample_bytree': 0.96079370661174757, 'gamma': 0.28588054299313531, 'learning_rate': 0.0058755105197699402, 'max_delta_step': 4, 'max_depth': 24, 'min_child_weight': 5, 'n_estimators': 50, 'subsample': 0.72128493392802417},\n",
       " mean: -0.38177, std: 0.51601, params: {'colsample_bytree': 0.98498569100804612, 'gamma': 1.2815795741713223, 'learning_rate': 0.0013823123004438279, 'max_delta_step': 4, 'max_depth': 14, 'min_child_weight': 1, 'n_estimators': 50, 'subsample': 0.8320449083963064},\n",
       " mean: -0.36830, std: 0.54277, params: {'colsample_bytree': 0.90653501809710368, 'gamma': 1.3589528291495587, 'learning_rate': 0.0040322004070226566, 'max_delta_step': 4, 'max_depth': 22, 'min_child_weight': 0, 'n_estimators': 40, 'subsample': 0.75900474673769691},\n",
       " mean: -0.37559, std: 0.53425, params: {'colsample_bytree': 0.93320762417728076, 'gamma': 0.61798956122232651, 'learning_rate': 0.0022430743453627946, 'max_delta_step': 1, 'max_depth': 11, 'min_child_weight': 3, 'n_estimators': 40, 'subsample': 0.80760962076737963},\n",
       " mean: -0.37600, std: 0.62593, params: {'colsample_bytree': 0.73123325239663606, 'gamma': 1.3578654576848277, 'learning_rate': 0.003915713102164862, 'max_delta_step': 1, 'max_depth': 17, 'min_child_weight': 5, 'n_estimators': 60, 'subsample': 0.83895697998184593},\n",
       " mean: -0.42007, std: 0.86690, params: {'colsample_bytree': 0.74724838262944959, 'gamma': 0.39095336015132748, 'learning_rate': 0.0076186189781572971, 'max_delta_step': 3, 'max_depth': 24, 'min_child_weight': 5, 'n_estimators': 50, 'subsample': 0.84145056523812456},\n",
       " mean: -0.35976, std: 0.67462, params: {'colsample_bytree': 0.79222488463503926, 'gamma': 1.0167211815486337, 'learning_rate': 0.0053700462941710199, 'max_delta_step': 4, 'max_depth': 3, 'min_child_weight': 0, 'n_estimators': 50, 'subsample': 0.76009714293889852},\n",
       " mean: -0.39717, std: 0.58303, params: {'colsample_bytree': 0.72611275522411733, 'gamma': 0.66437757671516229, 'learning_rate': 0.0021784586482216928, 'max_delta_step': 0, 'max_depth': 4, 'min_child_weight': 1, 'n_estimators': 50, 'subsample': 0.80659438335504496},\n",
       " mean: -0.40227, std: 0.80791, params: {'colsample_bytree': 0.79761485494710682, 'gamma': 1.3681818664861125, 'learning_rate': 0.0073707812268257612, 'max_delta_step': 2, 'max_depth': 26, 'min_child_weight': 4, 'n_estimators': 50, 'subsample': 0.97895748879397138},\n",
       " mean: -0.34945, std: 0.68417, params: {'colsample_bytree': 0.74356691242199102, 'gamma': 1.4408814941224801, 'learning_rate': 0.0096905745527383347, 'max_delta_step': 1, 'max_depth': 22, 'min_child_weight': 3, 'n_estimators': 50, 'subsample': 0.85664250544417608},\n",
       " mean: -0.44641, std: 1.00327, params: {'colsample_bytree': 0.78296077935202035, 'gamma': 0.98930369691949083, 'learning_rate': 0.010444345016966394, 'max_delta_step': 3, 'max_depth': 13, 'min_child_weight': 1, 'n_estimators': 50, 'subsample': 0.85730995256577114},\n",
       " mean: -0.41920, std: 0.51506, params: {'colsample_bytree': 0.98360309221363629, 'gamma': 1.7867201182971921, 'learning_rate': 0.0015060523661163797, 'max_delta_step': 1, 'max_depth': 9, 'min_child_weight': 1, 'n_estimators': 50, 'subsample': 0.72991252643398141},\n",
       " mean: -0.35097, std: 0.70573, params: {'colsample_bytree': 0.79568241799141193, 'gamma': 1.3499547197259114, 'learning_rate': 0.007784638820792447, 'max_delta_step': 3, 'max_depth': 16, 'min_child_weight': 5, 'n_estimators': 60, 'subsample': 0.84752268893155625},\n",
       " mean: -0.35300, std: 0.58555, params: {'colsample_bytree': 0.82349176276149694, 'gamma': 1.172799624103336, 'learning_rate': 0.0051521839904394243, 'max_delta_step': 4, 'max_depth': 22, 'min_child_weight': 1, 'n_estimators': 40, 'subsample': 0.73184837131458469},\n",
       " mean: -0.43375, std: 0.92700, params: {'colsample_bytree': 0.62288359186680242, 'gamma': 0.83119952940149178, 'learning_rate': 0.0069786594503431438, 'max_delta_step': 3, 'max_depth': 19, 'min_child_weight': 4, 'n_estimators': 60, 'subsample': 0.80075423397123024},\n",
       " mean: -0.35098, std: 0.58450, params: {'colsample_bytree': 0.8677830455273301, 'gamma': 1.38188392728705, 'learning_rate': 0.0041297312109759635, 'max_delta_step': 4, 'max_depth': 21, 'min_child_weight': 1, 'n_estimators': 60, 'subsample': 0.7941280509511357},\n",
       " mean: -0.41186, std: 0.78068, params: {'colsample_bytree': 0.70631544696425641, 'gamma': 1.217237315045093, 'learning_rate': 0.0055210411843669852, 'max_delta_step': 0, 'max_depth': 8, 'min_child_weight': 0, 'n_estimators': 60, 'subsample': 0.87029719101903147},\n",
       " mean: -0.39174, std: 0.58124, params: {'colsample_bytree': 0.73391443136015622, 'gamma': 1.7249577167127765, 'learning_rate': 0.0088347311079459111, 'max_delta_step': 1, 'max_depth': 17, 'min_child_weight': 0, 'n_estimators': 50, 'subsample': 0.72514575581044138},\n",
       " mean: -0.38133, std: 0.60339, params: {'colsample_bytree': 0.74162651244751621, 'gamma': 0.37736197585313302, 'learning_rate': 0.0030076923801184955, 'max_delta_step': 4, 'max_depth': 13, 'min_child_weight': 4, 'n_estimators': 50, 'subsample': 0.80044673492088558},\n",
       " mean: -0.39049, std: 0.54210, params: {'colsample_bytree': 0.85142288235254471, 'gamma': 0.83396668812994568, 'learning_rate': 0.0018930529782385411, 'max_delta_step': 2, 'max_depth': 26, 'min_child_weight': 1, 'n_estimators': 40, 'subsample': 0.92042791600007834},\n",
       " mean: -0.34228, std: 0.57952, params: {'colsample_bytree': 0.60305645737906832, 'gamma': 1.4579704421497266, 'learning_rate': 0.0077364414614327021, 'max_delta_step': 3, 'max_depth': 13, 'min_child_weight': 2, 'n_estimators': 40, 'subsample': 0.77741816518942208},\n",
       " mean: -0.34896, std: 0.71773, params: {'colsample_bytree': 0.91856810036978676, 'gamma': 1.004832437009862, 'learning_rate': 0.0066770796356413675, 'max_delta_step': 4, 'max_depth': 26, 'min_child_weight': 3, 'n_estimators': 60, 'subsample': 0.7802445481550494},\n",
       " mean: -0.37431, std: 0.66743, params: {'colsample_bytree': 0.67577123219391411, 'gamma': 1.3334824759911761, 'learning_rate': 0.0055832704262821446, 'max_delta_step': 4, 'max_depth': 10, 'min_child_weight': 1, 'n_estimators': 40, 'subsample': 0.96907570294360235},\n",
       " mean: -0.43964, std: 0.91467, params: {'colsample_bytree': 0.74667220399255774, 'gamma': 0.31181666983007938, 'learning_rate': 0.0066505766964974769, 'max_delta_step': 2, 'max_depth': 19, 'min_child_weight': 0, 'n_estimators': 60, 'subsample': 0.90080883337235962},\n",
       " mean: -0.33146, std: 0.58574, params: {'colsample_bytree': 0.89015197412231195, 'gamma': 1.0069506568365032, 'learning_rate': 0.0044551358624146959, 'max_delta_step': 2, 'max_depth': 9, 'min_child_weight': 1, 'n_estimators': 50, 'subsample': 0.72671111048424974},\n",
       " mean: -0.38722, std: 0.56346, params: {'colsample_bytree': 0.6257396120676354, 'gamma': 1.2475883553654128, 'learning_rate': 0.0023518027120198459, 'max_delta_step': 1, 'max_depth': 16, 'min_child_weight': 5, 'n_estimators': 50, 'subsample': 0.84803010188782435},\n",
       " mean: -0.39349, std: 0.76701, params: {'colsample_bytree': 0.85790832598273836, 'gamma': 0.76187762274789361, 'learning_rate': 0.0048555605957163218, 'max_delta_step': 0, 'max_depth': 22, 'min_child_weight': 4, 'n_estimators': 60, 'subsample': 0.83068995814632929},\n",
       " mean: -0.41226, std: 0.76825, params: {'colsample_bytree': 0.77001203497089088, 'gamma': 0.52351663332631637, 'learning_rate': 0.0058532659134001913, 'max_delta_step': 3, 'max_depth': 27, 'min_child_weight': 0, 'n_estimators': 40, 'subsample': 0.89038029435691346},\n",
       " mean: -0.39479, std: 0.52970, params: {'colsample_bytree': 0.6424517230639456, 'gamma': 1.5487883227366115, 'learning_rate': 0.0013056456437869782, 'max_delta_step': 4, 'max_depth': 8, 'min_child_weight': 2, 'n_estimators': 60, 'subsample': 0.96205561602985679},\n",
       " mean: -0.41715, std: 0.77980, params: {'colsample_bytree': 0.6966855144535643, 'gamma': 0.34081816198616932, 'learning_rate': 0.0047814126716411408, 'max_delta_step': 4, 'max_depth': 4, 'min_child_weight': 1, 'n_estimators': 60, 'subsample': 0.74919687711378624},\n",
       " mean: -0.38768, std: 0.51922, params: {'colsample_bytree': 0.76672419127647629, 'gamma': 1.2672281838889765, 'learning_rate': 0.0014160093151355526, 'max_delta_step': 3, 'max_depth': 23, 'min_child_weight': 1, 'n_estimators': 50, 'subsample': 0.79545640209523627},\n",
       " mean: -0.45617, std: 1.03354, params: {'colsample_bytree': 0.87159260440902564, 'gamma': 0.65002061758327989, 'learning_rate': 0.007395342231850093, 'max_delta_step': 2, 'max_depth': 4, 'min_child_weight': 3, 'n_estimators': 60, 'subsample': 0.93431395510412762},\n",
       " mean: -0.40643, std: 0.56084, params: {'colsample_bytree': 0.95095639678698585, 'gamma': 1.714785176199908, 'learning_rate': 0.0051731059277803472, 'max_delta_step': 1, 'max_depth': 15, 'min_child_weight': 3, 'n_estimators': 50, 'subsample': 0.72871231237900436},\n",
       " mean: -0.50218, std: 1.17445, params: {'colsample_bytree': 0.79311048608439838, 'gamma': 0.69110865185469761, 'learning_rate': 0.010631867524717582, 'max_delta_step': 1, 'max_depth': 9, 'min_child_weight': 1, 'n_estimators': 60, 'subsample': 0.81030626584351417},\n",
       " mean: -0.42080, std: 0.93555, params: {'colsample_bytree': 0.75816651869342333, 'gamma': 0.52893223178648952, 'learning_rate': 0.0080500668989598109, 'max_delta_step': 1, 'max_depth': 11, 'min_child_weight': 1, 'n_estimators': 60, 'subsample': 0.71340800370395963},\n",
       " mean: -0.34093, std: 0.57240, params: {'colsample_bytree': 0.81269595492251312, 'gamma': 1.3101662062925805, 'learning_rate': 0.0060863858460020875, 'max_delta_step': 0, 'max_depth': 10, 'min_child_weight': 5, 'n_estimators': 50, 'subsample': 0.72424226486510856},\n",
       " mean: -0.39866, std: 0.51169, params: {'colsample_bytree': 0.96434700959012776, 'gamma': 1.5673212444668525, 'learning_rate': 0.0016854331727542519, 'max_delta_step': 2, 'max_depth': 26, 'min_child_weight': 0, 'n_estimators': 40, 'subsample': 0.81882237562498139},\n",
       " mean: -0.39592, std: 0.56748, params: {'colsample_bytree': 0.73848740337484686, 'gamma': 1.1621823940987985, 'learning_rate': 0.0015759505353643401, 'max_delta_step': 0, 'max_depth': 14, 'min_child_weight': 3, 'n_estimators': 60, 'subsample': 0.86184978011302049},\n",
       " mean: -0.39415, std: 0.52485, params: {'colsample_bytree': 0.63502203427824333, 'gamma': 1.7624816610892882, 'learning_rate': 0.0029474672309385509, 'max_delta_step': 3, 'max_depth': 18, 'min_child_weight': 0, 'n_estimators': 50, 'subsample': 0.77337548365119435},\n",
       " mean: -0.42901, std: 0.93714, params: {'colsample_bytree': 0.83496132228215547, 'gamma': 1.1240209618169579, 'learning_rate': 0.0096808173630895632, 'max_delta_step': 0, 'max_depth': 13, 'min_child_weight': 5, 'n_estimators': 60, 'subsample': 0.97415564772333374},\n",
       " mean: -0.36481, std: 0.58419, params: {'colsample_bytree': 0.84318792670538534, 'gamma': 0.22408022870078081, 'learning_rate': 0.0035141649418705635, 'max_delta_step': 0, 'max_depth': 18, 'min_child_weight': 0, 'n_estimators': 40, 'subsample': 0.7691309542603143},\n",
       " mean: -0.36608, std: 0.53696, params: {'colsample_bytree': 0.60896616076523491, 'gamma': 1.4732463473488404, 'learning_rate': 0.0051156485043094358, 'max_delta_step': 1, 'max_depth': 9, 'min_child_weight': 4, 'n_estimators': 40, 'subsample': 0.71369491799925477},\n",
       " mean: -0.38182, std: 0.55519, params: {'colsample_bytree': 0.91609656370382342, 'gamma': 1.7319165819398561, 'learning_rate': 0.0047049635371611397, 'max_delta_step': 3, 'max_depth': 22, 'min_child_weight': 0, 'n_estimators': 50, 'subsample': 0.78889646735509589},\n",
       " mean: -0.36937, std: 0.68362, params: {'colsample_bytree': 0.764903509754151, 'gamma': 1.1102169047333872, 'learning_rate': 0.005728533773055558, 'max_delta_step': 4, 'max_depth': 29, 'min_child_weight': 0, 'n_estimators': 50, 'subsample': 0.77722747699936878},\n",
       " mean: -0.40184, std: 0.82402, params: {'colsample_bytree': 0.7254279890338593, 'gamma': 0.80588270433852904, 'learning_rate': 0.0081595321110215155, 'max_delta_step': 0, 'max_depth': 26, 'min_child_weight': 0, 'n_estimators': 40, 'subsample': 0.8455936963222449},\n",
       " mean: -0.40241, std: 0.84636, params: {'colsample_bytree': 0.6105378177640467, 'gamma': 0.75803707900888306, 'learning_rate': 0.0092468952824935648, 'max_delta_step': 4, 'max_depth': 29, 'min_child_weight': 0, 'n_estimators': 40, 'subsample': 0.90462533953646096},\n",
       " mean: -0.44057, std: 0.96980, params: {'colsample_bytree': 0.63905054265494754, 'gamma': 0.80130692079290244, 'learning_rate': 0.0095338629149611803, 'max_delta_step': 1, 'max_depth': 22, 'min_child_weight': 2, 'n_estimators': 50, 'subsample': 0.77819105040160075},\n",
       " mean: -0.44295, std: 0.95917, params: {'colsample_bytree': 0.76473025814395901, 'gamma': 0.75901900435351699, 'learning_rate': 0.0098877424208759328, 'max_delta_step': 2, 'max_depth': 20, 'min_child_weight': 1, 'n_estimators': 40, 'subsample': 0.86098439865912635},\n",
       " mean: -0.38988, std: 0.52719, params: {'colsample_bytree': 0.86789132133331948, 'gamma': 1.1231678993918917, 'learning_rate': 0.0016552204450099187, 'max_delta_step': 0, 'max_depth': 20, 'min_child_weight': 3, 'n_estimators': 40, 'subsample': 0.8109954270440497},\n",
       " mean: -0.44395, std: 0.86844, params: {'colsample_bytree': 0.64170329105366719, 'gamma': 0.30758332216163642, 'learning_rate': 0.0056473773692713699, 'max_delta_step': 2, 'max_depth': 10, 'min_child_weight': 2, 'n_estimators': 60, 'subsample': 0.85765699768181791},\n",
       " mean: -0.37511, std: 0.76993, params: {'colsample_bytree': 0.82613955723007415, 'gamma': 1.3191077706732486, 'learning_rate': 0.0067635265183036367, 'max_delta_step': 1, 'max_depth': 6, 'min_child_weight': 0, 'n_estimators': 60, 'subsample': 0.93484210492164632},\n",
       " mean: -0.41858, std: 0.78835, params: {'colsample_bytree': 0.60019944423702176, 'gamma': 0.41660623921036727, 'learning_rate': 0.0073489131088308518, 'max_delta_step': 0, 'max_depth': 17, 'min_child_weight': 1, 'n_estimators': 40, 'subsample': 0.98205050543952788},\n",
       " mean: -0.36315, std: 0.61837, params: {'colsample_bytree': 0.77680681935905638, 'gamma': 1.322689939207526, 'learning_rate': 0.0036734767768816026, 'max_delta_step': 0, 'max_depth': 23, 'min_child_weight': 3, 'n_estimators': 60, 'subsample': 0.85334428187362055},\n",
       " mean: -0.35111, std: 0.63689, params: {'colsample_bytree': 0.60820820879644399, 'gamma': 1.4359648475574156, 'learning_rate': 0.010064257759030259, 'max_delta_step': 2, 'max_depth': 17, 'min_child_weight': 1, 'n_estimators': 50, 'subsample': 0.71741434242757673},\n",
       " mean: -0.38130, std: 0.52133, params: {'colsample_bytree': 0.7045391262769074, 'gamma': 1.4443560087554963, 'learning_rate': 0.001987029941873482, 'max_delta_step': 2, 'max_depth': 18, 'min_child_weight': 1, 'n_estimators': 50, 'subsample': 0.87759695385971215},\n",
       " mean: -0.38865, std: 0.78984, params: {'colsample_bytree': 0.90987114788354861, 'gamma': 0.42500774411239245, 'learning_rate': 0.0059896191251783137, 'max_delta_step': 4, 'max_depth': 19, 'min_child_weight': 1, 'n_estimators': 50, 'subsample': 0.79015193601340961},\n",
       " mean: -0.34430, std: 0.69539, params: {'colsample_bytree': 0.90051510471216234, 'gamma': 0.88902682460215776, 'learning_rate': 0.0055422873405540102, 'max_delta_step': 4, 'max_depth': 27, 'min_child_weight': 5, 'n_estimators': 60, 'subsample': 0.71805197726123959},\n",
       " mean: -0.34531, std: 0.53857, params: {'colsample_bytree': 0.73709131295878261, 'gamma': 1.3352164103402695, 'learning_rate': 0.0048117577708640877, 'max_delta_step': 0, 'max_depth': 20, 'min_child_weight': 1, 'n_estimators': 50, 'subsample': 0.72284774385226058},\n",
       " mean: -0.38524, std: 0.76004, params: {'colsample_bytree': 0.67300962784470431, 'gamma': 1.0291061678730429, 'learning_rate': 0.0085733767075813865, 'max_delta_step': 1, 'max_depth': 14, 'min_child_weight': 0, 'n_estimators': 40, 'subsample': 0.77642023906291024},\n",
       " mean: -0.43381, std: 0.97546, params: {'colsample_bytree': 0.95375685008521072, 'gamma': 1.1504275898792045, 'learning_rate': 0.010977196226500004, 'max_delta_step': 1, 'max_depth': 28, 'min_child_weight': 5, 'n_estimators': 60, 'subsample': 0.99803931122205625},\n",
       " mean: -0.38376, std: 0.80357, params: {'colsample_bytree': 0.75882747214836721, 'gamma': 0.67299070110440307, 'learning_rate': 0.0069878270781718555, 'max_delta_step': 0, 'max_depth': 16, 'min_child_weight': 5, 'n_estimators': 50, 'subsample': 0.75181675112005608},\n",
       " mean: -0.39185, std: 0.95054, params: {'colsample_bytree': 0.81243356630187835, 'gamma': 0.21214055330146789, 'learning_rate': 0.010675047076209306, 'max_delta_step': 2, 'max_depth': 6, 'min_child_weight': 3, 'n_estimators': 50, 'subsample': 0.75962432715535499},\n",
       " mean: -0.35912, std: 0.61138, params: {'colsample_bytree': 0.94817695190805296, 'gamma': 0.69591703541643013, 'learning_rate': 0.0028053139492435078, 'max_delta_step': 4, 'max_depth': 27, 'min_child_weight': 5, 'n_estimators': 60, 'subsample': 0.97256131584837324},\n",
       " mean: -0.42829, std: 0.82810, params: {'colsample_bytree': 0.69163565942457816, 'gamma': 0.85165877553805713, 'learning_rate': 0.0051295371115407063, 'max_delta_step': 4, 'max_depth': 12, 'min_child_weight': 3, 'n_estimators': 60, 'subsample': 0.87870193287716214},\n",
       " mean: -0.37787, std: 0.56897, params: {'colsample_bytree': 0.84719297133687554, 'gamma': 1.7218150543884836, 'learning_rate': 0.0056810773341364595, 'max_delta_step': 3, 'max_depth': 18, 'min_child_weight': 2, 'n_estimators': 50, 'subsample': 0.78760355847021701},\n",
       " mean: -0.36973, std: 0.70148, params: {'colsample_bytree': 0.83780491527181877, 'gamma': 0.28107922926243456, 'learning_rate': 0.0058284550502842531, 'max_delta_step': 3, 'max_depth': 29, 'min_child_weight': 2, 'n_estimators': 40, 'subsample': 0.93673848389760006},\n",
       " mean: -0.37928, std: 0.76298, params: {'colsample_bytree': 0.75833561849860509, 'gamma': 0.99022269549598829, 'learning_rate': 0.0092476991143949951, 'max_delta_step': 1, 'max_depth': 28, 'min_child_weight': 1, 'n_estimators': 40, 'subsample': 0.75594120106279727},\n",
       " mean: -0.36993, std: 0.58238, params: {'colsample_bytree': 0.86671923654895777, 'gamma': 1.1399479601113744, 'learning_rate': 0.0026692902628404546, 'max_delta_step': 3, 'max_depth': 7, 'min_child_weight': 2, 'n_estimators': 50, 'subsample': 0.83906204103504956},\n",
       " mean: -0.36498, std: 0.60960, params: {'colsample_bytree': 0.82998123009910318, 'gamma': 0.31796617641655589, 'learning_rate': 0.0042248670316932793, 'max_delta_step': 2, 'max_depth': 20, 'min_child_weight': 4, 'n_estimators': 40, 'subsample': 0.81547733208632223},\n",
       " mean: -0.41130, std: 0.79014, params: {'colsample_bytree': 0.80642934904238905, 'gamma': 0.43080717603699875, 'learning_rate': 0.004440317695220181, 'max_delta_step': 1, 'max_depth': 15, 'min_child_weight': 1, 'n_estimators': 60, 'subsample': 0.89602146336313104},\n",
       " mean: -0.35349, std: 0.60343, params: {'colsample_bytree': 0.95833091672650716, 'gamma': 1.2097242041379555, 'learning_rate': 0.0045290889899104354, 'max_delta_step': 3, 'max_depth': 8, 'min_child_weight': 3, 'n_estimators': 60, 'subsample': 0.70488541847425745},\n",
       " mean: -0.35976, std: 0.68400, params: {'colsample_bytree': 0.71269755996859141, 'gamma': 1.2965093552727458, 'learning_rate': 0.0091067081270473534, 'max_delta_step': 4, 'max_depth': 23, 'min_child_weight': 2, 'n_estimators': 50, 'subsample': 0.77623660487886081},\n",
       " mean: -0.39442, std: 0.72398, params: {'colsample_bytree': 0.72689931536583696, 'gamma': 0.92118288693400419, 'learning_rate': 0.0056095141770496982, 'max_delta_step': 4, 'max_depth': 9, 'min_child_weight': 2, 'n_estimators': 40, 'subsample': 0.86575607434148927},\n",
       " mean: -0.37234, std: 0.72005, params: {'colsample_bytree': 0.77140120507440513, 'gamma': 1.051900551205873, 'learning_rate': 0.0061617108845604318, 'max_delta_step': 1, 'max_depth': 24, 'min_child_weight': 0, 'n_estimators': 50, 'subsample': 0.79104732134408917},\n",
       " mean: -0.34741, std: 0.63425, params: {'colsample_bytree': 0.7418922711972511, 'gamma': 1.5646315515755407, 'learning_rate': 0.0075938574177346774, 'max_delta_step': 0, 'max_depth': 24, 'min_child_weight': 4, 'n_estimators': 50, 'subsample': 0.93695999174219202},\n",
       " mean: -0.35268, std: 0.63933, params: {'colsample_bytree': 0.6434370274593747, 'gamma': 1.6776804180477027, 'learning_rate': 0.0087119147384725724, 'max_delta_step': 0, 'max_depth': 20, 'min_child_weight': 4, 'n_estimators': 60, 'subsample': 0.88010416029771077},\n",
       " mean: -0.39473, std: 0.78298, params: {'colsample_bytree': 0.84417272086017348, 'gamma': 0.59846523661587803, 'learning_rate': 0.0074949156926452411, 'max_delta_step': 1, 'max_depth': 16, 'min_child_weight': 1, 'n_estimators': 40, 'subsample': 0.83903748650735299},\n",
       " mean: -0.47563, std: 1.03669, params: {'colsample_bytree': 0.77040260447907472, 'gamma': 0.38270371827485478, 'learning_rate': 0.0093817904903495813, 'max_delta_step': 4, 'max_depth': 7, 'min_child_weight': 2, 'n_estimators': 50, 'subsample': 0.88438967128338275},\n",
       " mean: -0.37771, std: 0.80315, params: {'colsample_bytree': 0.87244266732156839, 'gamma': 1.1482860798899084, 'learning_rate': 0.0079850634815018147, 'max_delta_step': 1, 'max_depth': 16, 'min_child_weight': 0, 'n_estimators': 50, 'subsample': 0.89394564158479384},\n",
       " mean: -0.49559, std: 1.20069, params: {'colsample_bytree': 0.84714833167038817, 'gamma': 0.72957412773350039, 'learning_rate': 0.010235397193772689, 'max_delta_step': 0, 'max_depth': 4, 'min_child_weight': 4, 'n_estimators': 60, 'subsample': 0.93151634421393548},\n",
       " mean: -0.31422, std: 0.68892, params: {'colsample_bytree': 0.90588512433677293, 'gamma': 1.0666023199652226, 'learning_rate': 0.0101695378395695, 'max_delta_step': 2, 'max_depth': 24, 'min_child_weight': 2, 'n_estimators': 50, 'subsample': 0.72883173054940587},\n",
       " mean: -0.37356, std: 0.77013, params: {'colsample_bytree': 0.939176549393409, 'gamma': 0.44891989505149932, 'learning_rate': 0.0073866035628003439, 'max_delta_step': 3, 'max_depth': 20, 'min_child_weight': 3, 'n_estimators': 40, 'subsample': 0.76018671312802133},\n",
       " mean: -0.36377, std: 0.66411, params: {'colsample_bytree': 0.77077355935797676, 'gamma': 0.33712222997892416, 'learning_rate': 0.0061287306453979302, 'max_delta_step': 4, 'max_depth': 22, 'min_child_weight': 4, 'n_estimators': 40, 'subsample': 0.73818655066165184},\n",
       " mean: -0.34109, std: 0.60121, params: {'colsample_bytree': 0.82591507418797094, 'gamma': 0.9800285191806688, 'learning_rate': 0.0054118846683052484, 'max_delta_step': 2, 'max_depth': 6, 'min_child_weight': 1, 'n_estimators': 40, 'subsample': 0.72670326257543394},\n",
       " mean: -0.39775, std: 0.60205, params: {'colsample_bytree': 0.6034162862584842, 'gamma': 0.4022121803748947, 'learning_rate': 0.0025828707642927043, 'max_delta_step': 1, 'max_depth': 28, 'min_child_weight': 2, 'n_estimators': 50, 'subsample': 0.80942538930366359},\n",
       " mean: -0.34680, std: 0.67957, params: {'colsample_bytree': 0.80070392588147343, 'gamma': 1.3931227250577414, 'learning_rate': 0.010810908313334113, 'max_delta_step': 3, 'max_depth': 25, 'min_child_weight': 1, 'n_estimators': 50, 'subsample': 0.79472869616675079},\n",
       " mean: -0.45729, std: 0.91150, params: {'colsample_bytree': 0.65775416571630774, 'gamma': 0.30337466888540182, 'learning_rate': 0.0057194168229550172, 'max_delta_step': 4, 'max_depth': 15, 'min_child_weight': 3, 'n_estimators': 60, 'subsample': 0.7944043434227237},\n",
       " mean: -0.38104, std: 0.66342, params: {'colsample_bytree': 0.73146302220249027, 'gamma': 1.363565987818971, 'learning_rate': 0.0040964832218224169, 'max_delta_step': 4, 'max_depth': 13, 'min_child_weight': 5, 'n_estimators': 60, 'subsample': 0.91015830322768621},\n",
       " mean: -0.42702, std: 0.88893, params: {'colsample_bytree': 0.76211389134647001, 'gamma': 0.26731302406369334, 'learning_rate': 0.0092481946519664023, 'max_delta_step': 2, 'max_depth': 13, 'min_child_weight': 2, 'n_estimators': 40, 'subsample': 0.97725795202409205},\n",
       " mean: -0.34838, std: 0.78380, params: {'colsample_bytree': 0.95200093343057623, 'gamma': 0.97626284307843125, 'learning_rate': 0.010973362952160861, 'max_delta_step': 2, 'max_depth': 15, 'min_child_weight': 0, 'n_estimators': 60, 'subsample': 0.7658518415716371},\n",
       " mean: -0.39399, std: 0.53621, params: {'colsample_bytree': 0.86759872687952777, 'gamma': 0.37108999491234584, 'learning_rate': 0.0012050291356538326, 'max_delta_step': 1, 'max_depth': 12, 'min_child_weight': 0, 'n_estimators': 60, 'subsample': 0.83299570449560556},\n",
       " mean: -0.33795, std: 0.54772, params: {'colsample_bytree': 0.64206278262682925, 'gamma': 1.6303168506531671, 'learning_rate': 0.0063959818164281016, 'max_delta_step': 3, 'max_depth': 9, 'min_child_weight': 3, 'n_estimators': 40, 'subsample': 0.99435321734653348},\n",
       " mean: -0.40303, std: 0.54323, params: {'colsample_bytree': 0.72309164384665936, 'gamma': 0.30435338248204913, 'learning_rate': 0.0012131844641276026, 'max_delta_step': 1, 'max_depth': 15, 'min_child_weight': 3, 'n_estimators': 60, 'subsample': 0.82751289408012485},\n",
       " mean: -0.36805, std: 0.56772, params: {'colsample_bytree': 0.90502654163687768, 'gamma': 1.5285242090481252, 'learning_rate': 0.0030789028650841811, 'max_delta_step': 0, 'max_depth': 14, 'min_child_weight': 3, 'n_estimators': 60, 'subsample': 0.89997758105001058},\n",
       " mean: -0.45718, std: 0.96870, params: {'colsample_bytree': 0.74791637921465937, 'gamma': 0.98735399445448113, 'learning_rate': 0.0081124832143791396, 'max_delta_step': 0, 'max_depth': 23, 'min_child_weight': 3, 'n_estimators': 50, 'subsample': 0.93983996445995377},\n",
       " mean: -0.36028, std: 0.61634, params: {'colsample_bytree': 0.9853100094385645, 'gamma': 0.71470471397136204, 'learning_rate': 0.0037780131333044345, 'max_delta_step': 4, 'max_depth': 25, 'min_child_weight': 1, 'n_estimators': 50, 'subsample': 0.89640534552663942},\n",
       " mean: -0.35913, std: 0.71142, params: {'colsample_bytree': 0.67133902220784558, 'gamma': 1.4482624025827391, 'learning_rate': 0.010829750294477608, 'max_delta_step': 2, 'max_depth': 16, 'min_child_weight': 2, 'n_estimators': 60, 'subsample': 0.8565730391430515},\n",
       " mean: -0.35466, std: 0.67280, params: {'colsample_bytree': 0.84480615041465412, 'gamma': 1.616407023825964, 'learning_rate': 0.01067161702040411, 'max_delta_step': 3, 'max_depth': 8, 'min_child_weight': 0, 'n_estimators': 50, 'subsample': 0.91650465607305753},\n",
       " mean: -0.36645, std: 0.58007, params: {'colsample_bytree': 0.68785423065431106, 'gamma': 1.1650605470776736, 'learning_rate': 0.0030810128084117288, 'max_delta_step': 0, 'max_depth': 28, 'min_child_weight': 4, 'n_estimators': 60, 'subsample': 0.7730623281766752},\n",
       " mean: -0.35515, std: 0.53550, params: {'colsample_bytree': 0.60594763008256103, 'gamma': 1.4103669098166907, 'learning_rate': 0.0052813182547456457, 'max_delta_step': 3, 'max_depth': 27, 'min_child_weight': 2, 'n_estimators': 40, 'subsample': 0.72352758289065999},\n",
       " mean: -0.38232, std: 0.80267, params: {'colsample_bytree': 0.73440628090197557, 'gamma': 0.90862262451890063, 'learning_rate': 0.008137839083599073, 'max_delta_step': 3, 'max_depth': 13, 'min_child_weight': 0, 'n_estimators': 50, 'subsample': 0.71445024589001638},\n",
       " mean: -0.38728, std: 0.58594, params: {'colsample_bytree': 0.96700423012162118, 'gamma': 1.6443634082480079, 'learning_rate': 0.0072923800413476026, 'max_delta_step': 2, 'max_depth': 4, 'min_child_weight': 4, 'n_estimators': 40, 'subsample': 0.75462493949385556},\n",
       " mean: -0.37856, std: 0.54760, params: {'colsample_bytree': 0.94519366343137667, 'gamma': 0.92465513573657487, 'learning_rate': 0.0016627049176228595, 'max_delta_step': 0, 'max_depth': 5, 'min_child_weight': 5, 'n_estimators': 60, 'subsample': 0.85209500547994288}]"
      ]
     },
     "execution_count": 65,
     "metadata": {},
     "output_type": "execute_result"
    }
   ],
   "source": [
    "gs.grid_scores_"
   ]
  },
  {
   "cell_type": "code",
   "execution_count": 213,
   "metadata": {},
   "outputs": [
    {
     "data": {
      "text/plain": [
       "{'colsample_bytree': 0.72354792937343382,\n",
       " 'gamma': 0.93450310230643563,\n",
       " 'learning_rate': 0.0073858407201836465,\n",
       " 'max_delta_step': 3,\n",
       " 'max_depth': 25,\n",
       " 'min_child_weight': 0,\n",
       " 'n_estimators': 50,\n",
       " 'subsample': 0.96619603436441204}"
      ]
     },
     "execution_count": 213,
     "metadata": {},
     "output_type": "execute_result"
    }
   ],
   "source": [
    "gs.best_params_"
   ]
  },
  {
   "cell_type": "code",
   "execution_count": 13,
   "metadata": {
    "collapsed": true
   },
   "outputs": [],
   "source": [
    "# This is the winner setting that produced 0.08891 score.\n",
    "best_model = XGBRegressor(\n",
    "    colsample_bytree = 0.9900243815567773,\n",
    "    gamma = 0.42560064902898453,\n",
    "    learning_rate = 0.010976497428325942,\n",
    "    max_depth = 26,\n",
    "    n_estimators = 50,\n",
    "    subsample = 0.72772456173363298,\n",
    "    min_child_weight = 2,\n",
    "    max_delta_step = 2,\n",
    "    n_jobs = -1    \n",
    ")"
   ]
  },
  {
   "cell_type": "code",
   "execution_count": 21,
   "metadata": {
    "collapsed": true
   },
   "outputs": [],
   "source": [
    "# This is the loser setting from 3 fold CV fine tuned.\n",
    "best_model = XGBRegressor(\n",
    "    colsample_bytree = 0.983780377,\n",
    "    gamma = 0.205634573,\n",
    "    learning_rate = 0.009908466,\n",
    "    max_depth = 28,\n",
    "    n_estimators = 60,\n",
    "    subsample = 0.81693462,\n",
    "    min_child_weight = 3,\n",
    "    max_delta_step = 4,\n",
    "    n_jobs = -1    \n",
    ")"
   ]
  },
  {
   "cell_type": "code",
   "execution_count": 49,
   "metadata": {
    "collapsed": true
   },
   "outputs": [],
   "source": [
    "# This is the winner from 10 fold CV.\n",
    "best_model = XGBRegressor(\n",
    "    colsample_bytree = 0.981181319,\n",
    "    gamma = 1.296090886,\n",
    "    learning_rate = 0.010996929,\n",
    "    max_depth = 16,\n",
    "    n_estimators = 60,\n",
    "    subsample = 0.93320205,\n",
    "    min_child_weight = 5,\n",
    "    max_delta_step = 1,\n",
    "    n_jobs = -1    \n",
    ")"
   ]
  },
  {
   "cell_type": "code",
   "execution_count": 63,
   "metadata": {},
   "outputs": [
    {
     "data": {
      "text/plain": [
       "XGBRegressor(base_score=0.5, booster='gbtree', colsample_bylevel=1,\n",
       "       colsample_bytree=0.981181319, gamma=1.296090886,\n",
       "       learning_rate=0.010996929, max_delta_step=1, max_depth=16,\n",
       "       min_child_weight=5, missing=None, n_estimators=60, n_jobs=-1,\n",
       "       nthread=None, objective='reg:linear', random_state=0, reg_alpha=0,\n",
       "       reg_lambda=1, scale_pos_weight=1, seed=None, silent=True,\n",
       "       subsample=0.93320205)"
      ]
     },
     "execution_count": 63,
     "metadata": {},
     "output_type": "execute_result"
    }
   ],
   "source": [
    "best_model.fit(data.train_feature_df, data.train_outcome_df.iloc[:,0])"
   ]
  },
  {
   "cell_type": "code",
   "execution_count": 26,
   "metadata": {
    "collapsed": true
   },
   "outputs": [],
   "source": [
    "train_prediction = best_model.predict(data.train_feature_df)"
   ]
  },
  {
   "cell_type": "code",
   "execution_count": 229,
   "metadata": {
    "scrolled": false
   },
   "outputs": [
    {
     "data": {
      "image/png": "[encoded data removed]",
      "text/plain": [
       "<matplotlib.figure.Figure at 0x2287320de80>"
      ]
     },
     "metadata": {},
     "output_type": "display_data"
    }
   ],
   "source": [
    "plt.figure(figsize=(20, 20))\n",
    "\n",
    "plt.scatter(data.train_outcome_df, train_prediction, alpha= 0.5)\n",
    "\n",
    "plt.plot([0, 1], [0, 1], color='k', linestyle='-', linewidth=1)\n",
    "plt.show()"
   ]
  },
  {
   "cell_type": "code",
   "execution_count": 27,
   "metadata": {},
   "outputs": [
    {
     "data": {
      "image/png": "[encoded data removed]",
      "text/plain": [
       "<matplotlib.figure.Figure at 0x1a2f5e26438>"
      ]
     },
     "metadata": {},
     "output_type": "display_data"
    }
   ],
   "source": [
    "plt.figure(figsize=(20, 20))\n",
    "\n",
    "plt.scatter(data.train_outcome_df, train_prediction, alpha= 0.5)\n",
    "\n",
    "plt.plot([0, 1], [0, 1], color='k', linestyle='-', linewidth=1)\n",
    "plt.show()"
   ]
  },
  {
   "cell_type": "code",
   "execution_count": 231,
   "metadata": {},
   "outputs": [
    {
     "data": {
      "text/plain": [
       "0.083830669705594663"
      ]
     },
     "execution_count": 231,
     "metadata": {},
     "output_type": "execute_result"
    }
   ],
   "source": [
    "MSE = mean_squared_error(data.train_outcome_df, train_prediction)\n",
    "MSE ** 0.5"
   ]
  },
  {
   "cell_type": "code",
   "execution_count": 28,
   "metadata": {},
   "outputs": [
    {
     "data": {
      "text/plain": [
       "0.075812171452828578"
      ]
     },
     "execution_count": 28,
     "metadata": {},
     "output_type": "execute_result"
    }
   ],
   "source": [
    "MSE = mean_squared_error(data.train_outcome_df, train_prediction)\n",
    "MSE ** 0.5"
   ]
  },
  {
   "cell_type": "code",
   "execution_count": 51,
   "metadata": {
    "collapsed": true
   },
   "outputs": [],
   "source": [
    "prediction = best_model.predict(data.test_feature_df)\n",
    "pd.DataFrame(prediction).to_csv('result.csv', sep='\\t', index = False)"
   ]
  },
  {
   "cell_type": "code",
   "execution_count": null,
   "metadata": {
    "collapsed": true
   },
   "outputs": [],
   "source": []
  },
  {
   "cell_type": "code",
   "execution_count": null,
   "metadata": {
    "collapsed": true
   },
   "outputs": [],
   "source": []
  },
  {
   "cell_type": "markdown",
   "metadata": {},
   "source": [
    "# XGBOOST TREE WITH FILLED DATA"
   ]
  },
  {
   "cell_type": "code",
   "execution_count": 276,
   "metadata": {},
   "outputs": [
    {
     "data": {
      "text/plain": [
       "RandomizedSearchCV(cv=None, error_score='raise',\n",
       "          estimator=XGBRegressor(base_score=0.5, booster='gbtree', colsample_bylevel=1,\n",
       "       colsample_bytree=1, gamma=0, learning_rate=0.1, max_delta_step=0,\n",
       "       max_depth=3, min_child_weight=1, missing=None, n_estimators=100,\n",
       "       n_jobs=-1, nthread=None, objective='reg:linear', random_state=0,\n",
       "       reg_alpha=0, reg_lambda=1, scale_pos_weight=1, seed=None,\n",
       "       silent=True, subsample=1),\n",
       "          fit_params=None, iid=True, n_iter=100, n_jobs=-1,\n",
       "          param_distributions={'n_estimators': [100], 'max_depth': <scipy.stats._distn_infrastructure.rv_frozen object at 0x00000228741782E8>, 'learning_rate': <scipy.stats._distn_infrastructure.rv_frozen object at 0x00000228741784E0>, 'colsample_bytree': <scipy.stats._distn_infrastructure.rv_frozen object at... object at 0x0000022874648828>, 'min_child_weight': [0, 1, 2, 3, 4], 'max_delta_step': [0, 1, 2, 3]},\n",
       "          pre_dispatch='2*n_jobs', random_state=None, refit=True,\n",
       "          return_train_score=True, scoring=None, verbose=0)"
      ]
     },
     "execution_count": 276,
     "metadata": {},
     "output_type": "execute_result"
    }
   ],
   "source": [
    "params = {\n",
    "    \"n_estimators\": [100],\n",
    "    \"max_depth\": st.randint(3, 30),\n",
    "    \"learning_rate\": st.uniform(0.001, 0.015),\n",
    "    \"colsample_bytree\": st.uniform(0.60, 0.40),\n",
    "    \"subsample\": st.uniform(0.7, 0.3),\n",
    "    \"gamma\": st.uniform(0.01, 0.2),\n",
    "    \"min_child_weight\": [0,1,2,3,4],\n",
    "    \"max_delta_step\": [0, 1, 2, 3]\n",
    "}\n",
    "\n",
    "model = XGBRegressor(n_jobs = -1) # nthread deprecated\n",
    "\n",
    "gs = RandomizedSearchCV(model, params, n_jobs=-1, n_iter=100)\n",
    "\n",
    "gs.fit(data.train_feature_df, data.train_outcome_df.iloc[:,0])"
   ]
  },
  {
   "cell_type": "code",
   "execution_count": null,
   "metadata": {
    "collapsed": true
   },
   "outputs": [],
   "source": []
  },
  {
   "cell_type": "code",
   "execution_count": 272,
   "metadata": {},
   "outputs": [
    {
     "data": {
      "text/plain": [
       "RandomizedSearchCV(cv=None, error_score='raise',\n",
       "          estimator=XGBRegressor(base_score=0.5, booster='gbtree', colsample_bylevel=1,\n",
       "       colsample_bytree=1, gamma=0, learning_rate=0.1, max_delta_step=0,\n",
       "       max_depth=3, min_child_weight=1, missing=None, n_estimators=100,\n",
       "       n_jobs=-1, nthread=None, objective='reg:linear', random_state=0,\n",
       "       reg_alpha=0, reg_lambda=1, scale_pos_weight=1, seed=None,\n",
       "       silent=True, subsample=1),\n",
       "          fit_params=None, iid=True, n_iter=50, n_jobs=-1,\n",
       "          param_distributions={'n_estimators': [50], 'max_depth': <scipy.stats._distn_infrastructure.rv_frozen object at 0x000002287476BEB8>, 'learning_rate': <scipy.stats._distn_infrastructure.rv_frozen object at 0x000002287476B080>, 'colsample_bytree': <scipy.stats._distn_infrastructure.rv_frozen object at ... object at 0x0000022874195C18>, 'min_child_weight': [0, 1, 2, 3, 4], 'max_delta_step': [0, 1, 2, 3]},\n",
       "          pre_dispatch='2*n_jobs', random_state=None, refit=True,\n",
       "          return_train_score=True, scoring=None, verbose=0)"
      ]
     },
     "execution_count": 272,
     "metadata": {},
     "output_type": "execute_result"
    }
   ],
   "source": [
    "params = {\n",
    "    \"n_estimators\": [50],\n",
    "    \"max_depth\": st.randint(3, 30),\n",
    "    \"learning_rate\": st.uniform(0.006, 0.015),\n",
    "    \"colsample_bytree\": st.uniform(0.60, 0.40),\n",
    "    \"subsample\": st.uniform(0.7, 0.3),\n",
    "    \"gamma\": st.uniform(0.05, 0.3),\n",
    "    \"min_child_weight\": [0,1,2,3,4],\n",
    "    \"max_delta_step\": [0, 1, 2, 3]\n",
    "}\n",
    "\n",
    "model = XGBRegressor(n_jobs = -1) # nthread deprecated\n",
    "\n",
    "gs = RandomizedSearchCV(model, params, n_jobs=-1, n_iter=50)\n",
    "\n",
    "gs.fit(data.train_feature_df, data.train_outcome_df.iloc[:,0])"
   ]
  },
  {
   "cell_type": "code",
   "execution_count": null,
   "metadata": {
    "collapsed": true
   },
   "outputs": [],
   "source": [
    "gs.grid_scores_"
   ]
  },
  {
   "cell_type": "code",
   "execution_count": null,
   "metadata": {
    "collapsed": true
   },
   "outputs": [],
   "source": []
  },
  {
   "cell_type": "code",
   "execution_count": 278,
   "metadata": {
    "collapsed": true
   },
   "outputs": [],
   "source": [
    "# Best tune for 100 trees\n",
    "best_model = XGBRegressor(\n",
    "    colsample_bytree = 0.92582933,\n",
    "    gamma = 0.07147378,\n",
    "    learning_rate = 0.007187103,\n",
    "    max_depth = 15,\n",
    "    n_estimators = 100,\n",
    "    subsample = 0.758763799,\n",
    "    min_child_weight = 1,\n",
    "    max_delta_step = 0,\n",
    "    n_jobs = -1    \n",
    ")"
   ]
  },
  {
   "cell_type": "code",
   "execution_count": 297,
   "metadata": {
    "collapsed": true
   },
   "outputs": [],
   "source": [
    "# Best tune for 50 trees\n",
    "best_model = XGBRegressor(\n",
    "    colsample_bytree = 0.859649548,\n",
    "    gamma = 0.16621314,\n",
    "    learning_rate = 0.011236507,\n",
    "    max_depth = 24,\n",
    "    n_estimators = 50,\n",
    "    subsample = 0.728027392,\n",
    "    min_child_weight = 1,\n",
    "    max_delta_step = 1,\n",
    "    n_jobs = -1    \n",
    ")"
   ]
  },
  {
   "cell_type": "code",
   "execution_count": 66,
   "metadata": {
    "collapsed": true
   },
   "outputs": [],
   "source": [
    "# Best tune from 10 CV\n",
    "best_model = XGBRegressor(\n",
    "    colsample_bytree = 0.905885124,\n",
    "    gamma = 1.06660232,\n",
    "    learning_rate = 0.010169538,\n",
    "    max_depth = 24,\n",
    "    n_estimators = 50,\n",
    "    subsample = 0.728831731,\n",
    "    min_child_weight = 2,\n",
    "    max_delta_step = 2,\n",
    "    n_jobs = -1    \n",
    ")"
   ]
  },
  {
   "cell_type": "code",
   "execution_count": null,
   "metadata": {
    "collapsed": true
   },
   "outputs": [],
   "source": []
  },
  {
   "cell_type": "code",
   "execution_count": 67,
   "metadata": {},
   "outputs": [
    {
     "data": {
      "text/plain": [
       "XGBRegressor(base_score=0.5, booster='gbtree', colsample_bylevel=1,\n",
       "       colsample_bytree=0.905885124, gamma=1.06660232,\n",
       "       learning_rate=0.010169538, max_delta_step=2, max_depth=24,\n",
       "       min_child_weight=2, missing=None, n_estimators=50, n_jobs=-1,\n",
       "       nthread=None, objective='reg:linear', random_state=0, reg_alpha=0,\n",
       "       reg_lambda=1, scale_pos_weight=1, seed=None, silent=True,\n",
       "       subsample=0.728831731)"
      ]
     },
     "execution_count": 67,
     "metadata": {},
     "output_type": "execute_result"
    }
   ],
   "source": [
    "best_model.fit(data.train_feature_df, data.train_outcome_df.iloc[:,0])"
   ]
  },
  {
   "cell_type": "code",
   "execution_count": 68,
   "metadata": {
    "collapsed": true
   },
   "outputs": [],
   "source": [
    "prediction = best_model.predict(data.test_feature_df)\n",
    "pd.DataFrame(prediction).to_csv('result.csv', sep='\\t', index = False)"
   ]
  },
  {
   "cell_type": "code",
   "execution_count": null,
   "metadata": {
    "collapsed": true
   },
   "outputs": [],
   "source": []
  },
  {
   "cell_type": "code",
   "execution_count": 69,
   "metadata": {},
   "outputs": [
    {
     "data": {
      "text/plain": [
       "<matplotlib.text.Text at 0x1a2f6604390>"
      ]
     },
     "execution_count": 69,
     "metadata": {},
     "output_type": "execute_result"
    },
    {
     "data": {
      "image/png": "[encoded data removed]",
      "text/plain": [
       "<matplotlib.figure.Figure at 0x1a2f65b09e8>"
      ]
     },
     "metadata": {},
     "output_type": "display_data"
    }
   ],
   "source": [
    "import matplotlib.pylab as plt\n",
    "%matplotlib inline\n",
    "from matplotlib.pylab import rcParams\n",
    "rcParams['figure.figsize'] = 12, 4\n",
    "\n",
    "feat_imp = pd.Series(best_model._Booster.get_fscore()).sort_values(ascending=False)\n",
    "feat_imp.plot(kind='bar', title='Feature Importances')\n",
    "plt.ylabel('Feature Importance Score')"
   ]
  },
  {
   "cell_type": "code",
   "execution_count": 70,
   "metadata": {},
   "outputs": [
    {
     "data": {
      "text/plain": [
       "Energy intensity level of primary energy (MJ/2011 USD PPP) 6.1_PRIMARY.ENERGY.INTENSITY    31\n",
       "Renewable electricity share of total electricity output (%) 4.1_SHARE.RE.IN.ELECTRICITY    24\n",
       "GNI per capita Atlas method (current US$)                                                  22\n",
       "Renewable energy share of TFEC (%) 2.1_SHARE.TOTAL.RE.IN.TFEC                              11\n",
       "Total electricity output (GWh) 4.1.1_TOTAL.ELECTRICITY.OUTPUT                               3\n",
       "Renewable energy consumption (TJ) 3.1_RE.CONSUMPTION                                        3\n",
       "Total final energy consumption (TFEC) (TJ) 1.1_TOTAL.FINAL.ENERGY.CONSUM                    2\n",
       "Population ages 00-04 (as % of specified gender population)                                 1\n",
       "dtype: int64"
      ]
     },
     "execution_count": 70,
     "metadata": {},
     "output_type": "execute_result"
    }
   ],
   "source": [
    "feat_imp.head(200)"
   ]
  },
  {
   "cell_type": "code",
   "execution_count": 71,
   "metadata": {},
   "outputs": [
    {
     "data": {
      "text/plain": [
       "8"
      ]
     },
     "execution_count": 71,
     "metadata": {},
     "output_type": "execute_result"
    }
   ],
   "source": [
    "len(best_model._Booster.get_score())"
   ]
  },
  {
   "cell_type": "code",
   "execution_count": 72,
   "metadata": {},
   "outputs": [
    {
     "data": {
      "text/plain": [
       "8"
      ]
     },
     "execution_count": 72,
     "metadata": {},
     "output_type": "execute_result"
    }
   ],
   "source": [
    "len(best_model._Booster.get_fscore())"
   ]
  },
  {
   "cell_type": "code",
   "execution_count": 317,
   "metadata": {},
   "outputs": [
    {
     "data": {
      "text/plain": [
       "2016.0"
      ]
     },
     "execution_count": 317,
     "metadata": {},
     "output_type": "execute_result"
    }
   ],
   "source": [
    "data.train_feature_df['TIME'].max()"
   ]
  },
  {
   "cell_type": "code",
   "execution_count": null,
   "metadata": {
    "collapsed": true
   },
   "outputs": [],
   "source": [
    "# Get the ratio data or per capita, so no need to normalise\n",
    "# How to create country happiness \"intercept\"?\n",
    "# How about the trend someone experienced?"
   ]
  },
  {
   "cell_type": "code",
   "execution_count": null,
   "metadata": {
    "collapsed": true
   },
   "outputs": [],
   "source": [
    "# Can unfilled data trained model (0.08891) be finer tuned?\n",
    "# Answer: Although the RMSE on the total training (this is cheating) dropped from 0.0838 to 0.0758, the test score\n",
    "# of finer tuned model got worsen. I consider this as too much tuning resulted in a setting that seemed good,\n",
    "# but suffer from \"p-value hacking\" related problems.\n",
    "# \n",
    "# Can more than 3 fold CV help to resolve the previous problem?\n",
    "# Answer: Did 10 fold CV. A big jump in test accuracy. Refreshed my record.\n",
    "#\n",
    "# Can missing value filled test/train data do any good?\n",
    "# Answer: If fill test only: in submission NO 3, filled test data won. In submission NO 2, they tied.\n",
    "#         If fill both test and train: if 10 fold CV not 3 fold CV, slightly better result (RMSE from 0.0826 to 0.08209)\n"
   ]
  }
 ],
 "metadata": {
  "kernelspec": {
   "display_name": "Python 3",
   "language": "python",
   "name": "python3"
  },
  "language_info": {
   "codemirror_mode": {
    "name": "ipython",
    "version": 3
   },
   "file_extension": ".py",
   "mimetype": "text/x-python",
   "name": "python",
   "nbconvert_exporter": "python",
   "pygments_lexer": "ipython3",
   "version": "3.6.2"
  }
 },
 "nbformat": 4,
 "nbformat_minor": 2
}
